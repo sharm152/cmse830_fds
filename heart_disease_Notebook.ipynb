{
 "cells": [
  {
   "cell_type": "markdown",
   "id": "b2957263",
   "metadata": {},
   "source": [
    "# Health Data Analysis\n",
    "**Aryan Sharma**"
   ]
  },
  {
   "cell_type": "code",
   "execution_count": 1,
   "id": "b1c15e93-0f00-4794-86c0-76fd7a31cfa9",
   "metadata": {},
   "outputs": [],
   "source": [
    "# import streamlit as st\n",
    "import pandas as pd\n",
    "import numpy as np\n",
    "import matplotlib.pyplot as plt\n",
    "import seaborn as sns\n",
    "from sklearn.preprocessing import LabelEncoder\n",
    "from sklearn.model_selection import train_test_split\n",
    "from sklearn.experimental import enable_iterative_imputer # \"IterativeImputer\" is Dependent on This\n",
    "from sklearn.impute import IterativeImputer, KNNImputer\n",
    "from sklearn.preprocessing import RobustScaler, StandardScaler\n",
    "import plotly.express as px\n",
    "import plotly.figure_factory as ff\n",
    "import plotly.graph_objs as go\n"
   ]
  },
  {
   "cell_type": "markdown",
   "id": "7a3464d4-bba0-4073-9a80-f5621f56838f",
   "metadata": {},
   "source": [
    "## Data Summary\n",
    "\n",
    "**Variables**\n",
    "\n",
    "0. `age` (Ratio): Age in years\n",
    "1. `sex` (Nominal):\n",
    "   - 0: female\n",
    "   - 1: male\n",
    "2. `cp` (Nominal): Chest pain type\n",
    "   - 1: typical angina\n",
    "   - 2: atypical angina\n",
    "   - 3: non-anginal pain\n",
    "   - 4: asymptomatic\n",
    "3. `trestbps` (Ratio): Resting blood pressure (in mm Hg on admission to the hospital)\n",
    "4. `chol` (Ratio): Serum cholestoral in mg/dl\n",
    "5. `fbs` (Nominal): Fasting blood sugar > 120 mg/dl\n",
    "   - 0: false\n",
    "   - 1: true\n",
    "6. `restecg` (Nominal): Resting electrocardiographic results\n",
    "   - 0: normal\n",
    "   - 1: having ST-T wave abnormality (T wave inversions and/or ST elevation or depression of > 0.05 mV)\n",
    "   - 2: showing probable or definite left ventricular hypertrophy by Estes' criteria\n",
    "7. `thalach` (Ratio): Maximum heart rate achieved\n",
    "8. `exang` (Nominal): Exercise induced angina\n",
    "   - 0: no\n",
    "   - 1: yes\n",
    "9. `oldpeak` (Ratio): ST depression induced by exercise relative to rest\n",
    "10. `slope` (Ordinal): Slope of the peak exercise ST segment\n",
    "    - 1: upsloping\n",
    "    - 2: flat\n",
    "    - 3: downsloping\n",
    "11. `ca` (Ratio): Number of major vessels (0-3) colored by fluoroscopy\n",
    "12. `thal` (Nominal): Results of a thallium stress test\n",
    "    - 3: normal\n",
    "    - 6: fixed defect\n",
    "    - 7: reversable defect\n",
    "13. `num` (Ordinal): Diagnosis of heart disease (angiographic disease status)\n",
    "    - 0: *no heart disease*\n",
    "    - 1: *stage A* involves risk factors but no structural heart damage\n",
    "    - 2: *stage B* includes structural damage without symptoms\n",
    "    - 3: *stage C* involves structural damage and the presence of symptoms\n",
    "    - 4: *stage D* is end-stage heart failure with severe symptoms that interfere with daily life"
   ]
  },
  {
   "cell_type": "markdown",
   "id": "f8fa65dc-966d-470b-b6fd-b0b43ecd754a",
   "metadata": {},
   "source": [
    "## Individual Datasets\n",
    "\n",
    "- Added `location` variable that tracks where each record originates from."
   ]
  },
  {
   "cell_type": "code",
   "execution_count": 2,
   "id": "ce2a4bd0",
   "metadata": {},
   "outputs": [],
   "source": [
    "col_names = [\"age\", \"sex\", \"cp\", \"trestbps\", \"chol\", \n",
    "             \"fbs\", \"restecg\", \"thalach\", \"exang\", \"oldpeak\", \n",
    "             \"slope\", \"ca\", \"thal\", \"num\"]"
   ]
  },
  {
   "cell_type": "code",
   "execution_count": 3,
   "id": "980ee163-24ed-437a-9b04-e953be91723b",
   "metadata": {},
   "outputs": [
    {
     "data": {
      "text/html": [
       "<div>\n",
       "<style scoped>\n",
       "    .dataframe tbody tr th:only-of-type {\n",
       "        vertical-align: middle;\n",
       "    }\n",
       "\n",
       "    .dataframe tbody tr th {\n",
       "        vertical-align: top;\n",
       "    }\n",
       "\n",
       "    .dataframe thead th {\n",
       "        text-align: right;\n",
       "    }\n",
       "</style>\n",
       "<table border=\"1\" class=\"dataframe\">\n",
       "  <thead>\n",
       "    <tr style=\"text-align: right;\">\n",
       "      <th></th>\n",
       "      <th>age</th>\n",
       "      <th>sex</th>\n",
       "      <th>cp</th>\n",
       "      <th>trestbps</th>\n",
       "      <th>chol</th>\n",
       "      <th>fbs</th>\n",
       "      <th>restecg</th>\n",
       "      <th>thalach</th>\n",
       "      <th>exang</th>\n",
       "      <th>oldpeak</th>\n",
       "      <th>slope</th>\n",
       "      <th>ca</th>\n",
       "      <th>thal</th>\n",
       "      <th>num</th>\n",
       "      <th>location</th>\n",
       "    </tr>\n",
       "  </thead>\n",
       "  <tbody>\n",
       "    <tr>\n",
       "      <th>0</th>\n",
       "      <td>67.0</td>\n",
       "      <td>1.0</td>\n",
       "      <td>4.0</td>\n",
       "      <td>160.0</td>\n",
       "      <td>286.0</td>\n",
       "      <td>0.0</td>\n",
       "      <td>2.0</td>\n",
       "      <td>108.0</td>\n",
       "      <td>1.0</td>\n",
       "      <td>1.5</td>\n",
       "      <td>2.0</td>\n",
       "      <td>3.0</td>\n",
       "      <td>3.0</td>\n",
       "      <td>2</td>\n",
       "      <td>Cleveland</td>\n",
       "    </tr>\n",
       "    <tr>\n",
       "      <th>1</th>\n",
       "      <td>67.0</td>\n",
       "      <td>1.0</td>\n",
       "      <td>4.0</td>\n",
       "      <td>120.0</td>\n",
       "      <td>229.0</td>\n",
       "      <td>0.0</td>\n",
       "      <td>2.0</td>\n",
       "      <td>129.0</td>\n",
       "      <td>1.0</td>\n",
       "      <td>2.6</td>\n",
       "      <td>2.0</td>\n",
       "      <td>2.0</td>\n",
       "      <td>7.0</td>\n",
       "      <td>1</td>\n",
       "      <td>Cleveland</td>\n",
       "    </tr>\n",
       "    <tr>\n",
       "      <th>2</th>\n",
       "      <td>37.0</td>\n",
       "      <td>1.0</td>\n",
       "      <td>3.0</td>\n",
       "      <td>130.0</td>\n",
       "      <td>250.0</td>\n",
       "      <td>0.0</td>\n",
       "      <td>0.0</td>\n",
       "      <td>187.0</td>\n",
       "      <td>0.0</td>\n",
       "      <td>3.5</td>\n",
       "      <td>3.0</td>\n",
       "      <td>0.0</td>\n",
       "      <td>3.0</td>\n",
       "      <td>0</td>\n",
       "      <td>Cleveland</td>\n",
       "    </tr>\n",
       "    <tr>\n",
       "      <th>3</th>\n",
       "      <td>41.0</td>\n",
       "      <td>0.0</td>\n",
       "      <td>2.0</td>\n",
       "      <td>130.0</td>\n",
       "      <td>204.0</td>\n",
       "      <td>0.0</td>\n",
       "      <td>2.0</td>\n",
       "      <td>172.0</td>\n",
       "      <td>0.0</td>\n",
       "      <td>1.4</td>\n",
       "      <td>1.0</td>\n",
       "      <td>0.0</td>\n",
       "      <td>3.0</td>\n",
       "      <td>0</td>\n",
       "      <td>Cleveland</td>\n",
       "    </tr>\n",
       "    <tr>\n",
       "      <th>4</th>\n",
       "      <td>56.0</td>\n",
       "      <td>1.0</td>\n",
       "      <td>2.0</td>\n",
       "      <td>120.0</td>\n",
       "      <td>236.0</td>\n",
       "      <td>0.0</td>\n",
       "      <td>0.0</td>\n",
       "      <td>178.0</td>\n",
       "      <td>0.0</td>\n",
       "      <td>0.8</td>\n",
       "      <td>1.0</td>\n",
       "      <td>0.0</td>\n",
       "      <td>3.0</td>\n",
       "      <td>0</td>\n",
       "      <td>Cleveland</td>\n",
       "    </tr>\n",
       "  </tbody>\n",
       "</table>\n",
       "</div>"
      ],
      "text/plain": [
       "    age  sex   cp  trestbps   chol  fbs  restecg  thalach  exang  oldpeak  \\\n",
       "0  67.0  1.0  4.0     160.0  286.0  0.0      2.0    108.0    1.0      1.5   \n",
       "1  67.0  1.0  4.0     120.0  229.0  0.0      2.0    129.0    1.0      2.6   \n",
       "2  37.0  1.0  3.0     130.0  250.0  0.0      0.0    187.0    0.0      3.5   \n",
       "3  41.0  0.0  2.0     130.0  204.0  0.0      2.0    172.0    0.0      1.4   \n",
       "4  56.0  1.0  2.0     120.0  236.0  0.0      0.0    178.0    0.0      0.8   \n",
       "\n",
       "   slope   ca thal  num   location  \n",
       "0    2.0  3.0  3.0    2  Cleveland  \n",
       "1    2.0  2.0  7.0    1  Cleveland  \n",
       "2    3.0  0.0  3.0    0  Cleveland  \n",
       "3    1.0  0.0  3.0    0  Cleveland  \n",
       "4    1.0  0.0  3.0    0  Cleveland  "
      ]
     },
     "execution_count": 3,
     "metadata": {},
     "output_type": "execute_result"
    }
   ],
   "source": [
    "df_cleveland = pd.read_csv(\"heart_disease/cleveland.data\", sep=',')\n",
    "df_cleveland.columns = col_names\n",
    "df_cleveland.replace(\"?\", np.nan, inplace=True)\n",
    "df_cleveland[\"ca\"].replace(9.0, np.nan, inplace=True)\n",
    "df_cleveland[\"location\"] = \"Cleveland\"\n",
    "df_cleveland.head(5)"
   ]
  },
  {
   "cell_type": "code",
   "execution_count": 4,
   "id": "be5d1a9f",
   "metadata": {},
   "outputs": [
    {
     "data": {
      "text/html": [
       "<div>\n",
       "<style scoped>\n",
       "    .dataframe tbody tr th:only-of-type {\n",
       "        vertical-align: middle;\n",
       "    }\n",
       "\n",
       "    .dataframe tbody tr th {\n",
       "        vertical-align: top;\n",
       "    }\n",
       "\n",
       "    .dataframe thead th {\n",
       "        text-align: right;\n",
       "    }\n",
       "</style>\n",
       "<table border=\"1\" class=\"dataframe\">\n",
       "  <thead>\n",
       "    <tr style=\"text-align: right;\">\n",
       "      <th></th>\n",
       "      <th>age</th>\n",
       "      <th>sex</th>\n",
       "      <th>cp</th>\n",
       "      <th>trestbps</th>\n",
       "      <th>chol</th>\n",
       "      <th>fbs</th>\n",
       "      <th>restecg</th>\n",
       "      <th>thalach</th>\n",
       "      <th>exang</th>\n",
       "      <th>oldpeak</th>\n",
       "      <th>slope</th>\n",
       "      <th>ca</th>\n",
       "      <th>thal</th>\n",
       "      <th>num</th>\n",
       "      <th>location</th>\n",
       "    </tr>\n",
       "  </thead>\n",
       "  <tbody>\n",
       "    <tr>\n",
       "      <th>0</th>\n",
       "      <td>44</td>\n",
       "      <td>1</td>\n",
       "      <td>4</td>\n",
       "      <td>130</td>\n",
       "      <td>209</td>\n",
       "      <td>0</td>\n",
       "      <td>1</td>\n",
       "      <td>127</td>\n",
       "      <td>0</td>\n",
       "      <td>0</td>\n",
       "      <td>NaN</td>\n",
       "      <td>NaN</td>\n",
       "      <td>NaN</td>\n",
       "      <td>0</td>\n",
       "      <td>Long Beach</td>\n",
       "    </tr>\n",
       "    <tr>\n",
       "      <th>1</th>\n",
       "      <td>60</td>\n",
       "      <td>1</td>\n",
       "      <td>4</td>\n",
       "      <td>132</td>\n",
       "      <td>218</td>\n",
       "      <td>0</td>\n",
       "      <td>1</td>\n",
       "      <td>140</td>\n",
       "      <td>1</td>\n",
       "      <td>1.5</td>\n",
       "      <td>3</td>\n",
       "      <td>NaN</td>\n",
       "      <td>NaN</td>\n",
       "      <td>2</td>\n",
       "      <td>Long Beach</td>\n",
       "    </tr>\n",
       "    <tr>\n",
       "      <th>2</th>\n",
       "      <td>55</td>\n",
       "      <td>1</td>\n",
       "      <td>4</td>\n",
       "      <td>142</td>\n",
       "      <td>228</td>\n",
       "      <td>0</td>\n",
       "      <td>1</td>\n",
       "      <td>149</td>\n",
       "      <td>1</td>\n",
       "      <td>2.5</td>\n",
       "      <td>1</td>\n",
       "      <td>NaN</td>\n",
       "      <td>NaN</td>\n",
       "      <td>1</td>\n",
       "      <td>Long Beach</td>\n",
       "    </tr>\n",
       "    <tr>\n",
       "      <th>3</th>\n",
       "      <td>66</td>\n",
       "      <td>1</td>\n",
       "      <td>3</td>\n",
       "      <td>110</td>\n",
       "      <td>213</td>\n",
       "      <td>1</td>\n",
       "      <td>2</td>\n",
       "      <td>99</td>\n",
       "      <td>1</td>\n",
       "      <td>1.3</td>\n",
       "      <td>2</td>\n",
       "      <td>NaN</td>\n",
       "      <td>NaN</td>\n",
       "      <td>0</td>\n",
       "      <td>Long Beach</td>\n",
       "    </tr>\n",
       "    <tr>\n",
       "      <th>4</th>\n",
       "      <td>66</td>\n",
       "      <td>1</td>\n",
       "      <td>3</td>\n",
       "      <td>120</td>\n",
       "      <td>0</td>\n",
       "      <td>0</td>\n",
       "      <td>1</td>\n",
       "      <td>120</td>\n",
       "      <td>0</td>\n",
       "      <td>-0.5</td>\n",
       "      <td>1</td>\n",
       "      <td>NaN</td>\n",
       "      <td>NaN</td>\n",
       "      <td>0</td>\n",
       "      <td>Long Beach</td>\n",
       "    </tr>\n",
       "  </tbody>\n",
       "</table>\n",
       "</div>"
      ],
      "text/plain": [
       "   age  sex  cp trestbps chol fbs  restecg thalach exang oldpeak slope   ca  \\\n",
       "0   44    1   4      130  209   0        1     127     0       0   NaN  NaN   \n",
       "1   60    1   4      132  218   0        1     140     1     1.5     3  NaN   \n",
       "2   55    1   4      142  228   0        1     149     1     2.5     1  NaN   \n",
       "3   66    1   3      110  213   1        2      99     1     1.3     2  NaN   \n",
       "4   66    1   3      120    0   0        1     120     0    -0.5     1  NaN   \n",
       "\n",
       "  thal  num    location  \n",
       "0  NaN    0  Long Beach  \n",
       "1  NaN    2  Long Beach  \n",
       "2  NaN    1  Long Beach  \n",
       "3  NaN    0  Long Beach  \n",
       "4  NaN    0  Long Beach  "
      ]
     },
     "execution_count": 4,
     "metadata": {},
     "output_type": "execute_result"
    }
   ],
   "source": [
    "df_long_beach = pd.read_csv(\"heart_disease/long_beach.data\", sep=',')\n",
    "df_long_beach.columns = col_names\n",
    "df_long_beach.replace(\"?\", np.nan, inplace=True)\n",
    "df_long_beach[\"ca\"].replace(9.0, np.nan, inplace=True)\n",
    "df_long_beach[\"location\"] = \"Long Beach\"\n",
    "df_long_beach.head(5)"
   ]
  },
  {
   "cell_type": "code",
   "execution_count": 5,
   "id": "db23eb6e-0efe-4bb3-b4c9-ac54d6fa0806",
   "metadata": {},
   "outputs": [
    {
     "data": {
      "text/html": [
       "<div>\n",
       "<style scoped>\n",
       "    .dataframe tbody tr th:only-of-type {\n",
       "        vertical-align: middle;\n",
       "    }\n",
       "\n",
       "    .dataframe tbody tr th {\n",
       "        vertical-align: top;\n",
       "    }\n",
       "\n",
       "    .dataframe thead th {\n",
       "        text-align: right;\n",
       "    }\n",
       "</style>\n",
       "<table border=\"1\" class=\"dataframe\">\n",
       "  <thead>\n",
       "    <tr style=\"text-align: right;\">\n",
       "      <th></th>\n",
       "      <th>age</th>\n",
       "      <th>sex</th>\n",
       "      <th>cp</th>\n",
       "      <th>trestbps</th>\n",
       "      <th>chol</th>\n",
       "      <th>fbs</th>\n",
       "      <th>restecg</th>\n",
       "      <th>thalach</th>\n",
       "      <th>exang</th>\n",
       "      <th>oldpeak</th>\n",
       "      <th>slope</th>\n",
       "      <th>ca</th>\n",
       "      <th>thal</th>\n",
       "      <th>num</th>\n",
       "      <th>location</th>\n",
       "    </tr>\n",
       "  </thead>\n",
       "  <tbody>\n",
       "    <tr>\n",
       "      <th>0</th>\n",
       "      <td>49</td>\n",
       "      <td>0</td>\n",
       "      <td>3</td>\n",
       "      <td>160.0</td>\n",
       "      <td>180.0</td>\n",
       "      <td>0.0</td>\n",
       "      <td>0.0</td>\n",
       "      <td>156.0</td>\n",
       "      <td>0.0</td>\n",
       "      <td>1.0</td>\n",
       "      <td>2.0</td>\n",
       "      <td>NaN</td>\n",
       "      <td>NaN</td>\n",
       "      <td>1</td>\n",
       "      <td>Hungary</td>\n",
       "    </tr>\n",
       "    <tr>\n",
       "      <th>1</th>\n",
       "      <td>37</td>\n",
       "      <td>1</td>\n",
       "      <td>2</td>\n",
       "      <td>130.0</td>\n",
       "      <td>283.0</td>\n",
       "      <td>0.0</td>\n",
       "      <td>1.0</td>\n",
       "      <td>98.0</td>\n",
       "      <td>0.0</td>\n",
       "      <td>0.0</td>\n",
       "      <td>NaN</td>\n",
       "      <td>NaN</td>\n",
       "      <td>NaN</td>\n",
       "      <td>0</td>\n",
       "      <td>Hungary</td>\n",
       "    </tr>\n",
       "    <tr>\n",
       "      <th>2</th>\n",
       "      <td>48</td>\n",
       "      <td>0</td>\n",
       "      <td>4</td>\n",
       "      <td>138.0</td>\n",
       "      <td>214.0</td>\n",
       "      <td>0.0</td>\n",
       "      <td>0.0</td>\n",
       "      <td>108.0</td>\n",
       "      <td>1.0</td>\n",
       "      <td>1.5</td>\n",
       "      <td>2.0</td>\n",
       "      <td>NaN</td>\n",
       "      <td>NaN</td>\n",
       "      <td>3</td>\n",
       "      <td>Hungary</td>\n",
       "    </tr>\n",
       "    <tr>\n",
       "      <th>3</th>\n",
       "      <td>54</td>\n",
       "      <td>1</td>\n",
       "      <td>3</td>\n",
       "      <td>150.0</td>\n",
       "      <td>NaN</td>\n",
       "      <td>0.0</td>\n",
       "      <td>0.0</td>\n",
       "      <td>122.0</td>\n",
       "      <td>0.0</td>\n",
       "      <td>0.0</td>\n",
       "      <td>NaN</td>\n",
       "      <td>NaN</td>\n",
       "      <td>NaN</td>\n",
       "      <td>0</td>\n",
       "      <td>Hungary</td>\n",
       "    </tr>\n",
       "    <tr>\n",
       "      <th>4</th>\n",
       "      <td>39</td>\n",
       "      <td>1</td>\n",
       "      <td>3</td>\n",
       "      <td>120.0</td>\n",
       "      <td>339.0</td>\n",
       "      <td>0.0</td>\n",
       "      <td>0.0</td>\n",
       "      <td>170.0</td>\n",
       "      <td>0.0</td>\n",
       "      <td>0.0</td>\n",
       "      <td>NaN</td>\n",
       "      <td>NaN</td>\n",
       "      <td>NaN</td>\n",
       "      <td>0</td>\n",
       "      <td>Hungary</td>\n",
       "    </tr>\n",
       "  </tbody>\n",
       "</table>\n",
       "</div>"
      ],
      "text/plain": [
       "   age  sex  cp  trestbps   chol  fbs  restecg  thalach  exang  oldpeak  \\\n",
       "0   49    0   3     160.0  180.0  0.0      0.0    156.0    0.0      1.0   \n",
       "1   37    1   2     130.0  283.0  0.0      1.0     98.0    0.0      0.0   \n",
       "2   48    0   4     138.0  214.0  0.0      0.0    108.0    1.0      1.5   \n",
       "3   54    1   3     150.0    NaN  0.0      0.0    122.0    0.0      0.0   \n",
       "4   39    1   3     120.0  339.0  0.0      0.0    170.0    0.0      0.0   \n",
       "\n",
       "   slope  ca  thal  num location  \n",
       "0    2.0 NaN   NaN    1  Hungary  \n",
       "1    NaN NaN   NaN    0  Hungary  \n",
       "2    2.0 NaN   NaN    3  Hungary  \n",
       "3    NaN NaN   NaN    0  Hungary  \n",
       "4    NaN NaN   NaN    0  Hungary  "
      ]
     },
     "execution_count": 5,
     "metadata": {},
     "output_type": "execute_result"
    }
   ],
   "source": [
    "df_hungarian = pd.read_csv(\"heart_disease/hungarian.data\", sep='\\s+')\n",
    "df_hungarian.columns = col_names\n",
    "df_hungarian.replace(-9.0, np.nan, inplace=True)\n",
    "df_hungarian[\"ca\"].replace(9.0, np.nan, inplace=True)\n",
    "df_hungarian[\"location\"] = \"Hungary\"\n",
    "df_hungarian.head(5)"
   ]
  },
  {
   "cell_type": "code",
   "execution_count": 6,
   "id": "d6e11771-600e-47d4-8915-553b6a75281d",
   "metadata": {},
   "outputs": [
    {
     "data": {
      "text/html": [
       "<div>\n",
       "<style scoped>\n",
       "    .dataframe tbody tr th:only-of-type {\n",
       "        vertical-align: middle;\n",
       "    }\n",
       "\n",
       "    .dataframe tbody tr th {\n",
       "        vertical-align: top;\n",
       "    }\n",
       "\n",
       "    .dataframe thead th {\n",
       "        text-align: right;\n",
       "    }\n",
       "</style>\n",
       "<table border=\"1\" class=\"dataframe\">\n",
       "  <thead>\n",
       "    <tr style=\"text-align: right;\">\n",
       "      <th></th>\n",
       "      <th>age</th>\n",
       "      <th>sex</th>\n",
       "      <th>cp</th>\n",
       "      <th>trestbps</th>\n",
       "      <th>chol</th>\n",
       "      <th>fbs</th>\n",
       "      <th>restecg</th>\n",
       "      <th>thalach</th>\n",
       "      <th>exang</th>\n",
       "      <th>oldpeak</th>\n",
       "      <th>slope</th>\n",
       "      <th>ca</th>\n",
       "      <th>thal</th>\n",
       "      <th>num</th>\n",
       "      <th>location</th>\n",
       "    </tr>\n",
       "  </thead>\n",
       "  <tbody>\n",
       "    <tr>\n",
       "      <th>0</th>\n",
       "      <td>34</td>\n",
       "      <td>1</td>\n",
       "      <td>4</td>\n",
       "      <td>115</td>\n",
       "      <td>0</td>\n",
       "      <td>NaN</td>\n",
       "      <td>NaN</td>\n",
       "      <td>154</td>\n",
       "      <td>0</td>\n",
       "      <td>.2</td>\n",
       "      <td>1</td>\n",
       "      <td>NaN</td>\n",
       "      <td>NaN</td>\n",
       "      <td>1</td>\n",
       "      <td>Switzerland</td>\n",
       "    </tr>\n",
       "    <tr>\n",
       "      <th>1</th>\n",
       "      <td>35</td>\n",
       "      <td>1</td>\n",
       "      <td>4</td>\n",
       "      <td>NaN</td>\n",
       "      <td>0</td>\n",
       "      <td>NaN</td>\n",
       "      <td>0</td>\n",
       "      <td>130</td>\n",
       "      <td>1</td>\n",
       "      <td>NaN</td>\n",
       "      <td>NaN</td>\n",
       "      <td>NaN</td>\n",
       "      <td>7</td>\n",
       "      <td>3</td>\n",
       "      <td>Switzerland</td>\n",
       "    </tr>\n",
       "    <tr>\n",
       "      <th>2</th>\n",
       "      <td>36</td>\n",
       "      <td>1</td>\n",
       "      <td>4</td>\n",
       "      <td>110</td>\n",
       "      <td>0</td>\n",
       "      <td>NaN</td>\n",
       "      <td>0</td>\n",
       "      <td>125</td>\n",
       "      <td>1</td>\n",
       "      <td>1</td>\n",
       "      <td>2</td>\n",
       "      <td>NaN</td>\n",
       "      <td>6</td>\n",
       "      <td>1</td>\n",
       "      <td>Switzerland</td>\n",
       "    </tr>\n",
       "    <tr>\n",
       "      <th>3</th>\n",
       "      <td>38</td>\n",
       "      <td>0</td>\n",
       "      <td>4</td>\n",
       "      <td>105</td>\n",
       "      <td>0</td>\n",
       "      <td>NaN</td>\n",
       "      <td>0</td>\n",
       "      <td>166</td>\n",
       "      <td>0</td>\n",
       "      <td>2.8</td>\n",
       "      <td>1</td>\n",
       "      <td>NaN</td>\n",
       "      <td>NaN</td>\n",
       "      <td>2</td>\n",
       "      <td>Switzerland</td>\n",
       "    </tr>\n",
       "    <tr>\n",
       "      <th>4</th>\n",
       "      <td>38</td>\n",
       "      <td>0</td>\n",
       "      <td>4</td>\n",
       "      <td>110</td>\n",
       "      <td>0</td>\n",
       "      <td>0</td>\n",
       "      <td>0</td>\n",
       "      <td>156</td>\n",
       "      <td>0</td>\n",
       "      <td>0</td>\n",
       "      <td>2</td>\n",
       "      <td>NaN</td>\n",
       "      <td>3</td>\n",
       "      <td>1</td>\n",
       "      <td>Switzerland</td>\n",
       "    </tr>\n",
       "  </tbody>\n",
       "</table>\n",
       "</div>"
      ],
      "text/plain": [
       "   age  sex  cp trestbps  chol  fbs restecg thalach exang oldpeak slope   ca  \\\n",
       "0   34    1   4      115     0  NaN     NaN     154     0      .2     1  NaN   \n",
       "1   35    1   4      NaN     0  NaN       0     130     1     NaN   NaN  NaN   \n",
       "2   36    1   4      110     0  NaN       0     125     1       1     2  NaN   \n",
       "3   38    0   4      105     0  NaN       0     166     0     2.8     1  NaN   \n",
       "4   38    0   4      110     0    0       0     156     0       0     2  NaN   \n",
       "\n",
       "  thal  num     location  \n",
       "0  NaN    1  Switzerland  \n",
       "1    7    3  Switzerland  \n",
       "2    6    1  Switzerland  \n",
       "3  NaN    2  Switzerland  \n",
       "4    3    1  Switzerland  "
      ]
     },
     "execution_count": 6,
     "metadata": {},
     "output_type": "execute_result"
    }
   ],
   "source": [
    "df_switzerland = pd.read_csv(\"heart_disease/switzerland.data\", sep=',')\n",
    "df_switzerland.columns = col_names\n",
    "df_switzerland.replace(\"?\", np.nan, inplace=True)\n",
    "df_switzerland[\"ca\"].replace(9.0, np.nan, inplace=True)\n",
    "df_switzerland[\"location\"] = \"Switzerland\"\n",
    "df_switzerland.head(5)"
   ]
  },
  {
   "cell_type": "markdown",
   "id": "74429ae0-fda8-45e7-8013-6492b90bc368",
   "metadata": {},
   "source": [
    "## Combined Dataset"
   ]
  },
  {
   "cell_type": "code",
   "execution_count": 7,
   "id": "d941a89f-24a2-4113-8f4d-91a6b2adb4c7",
   "metadata": {},
   "outputs": [
    {
     "data": {
      "text/html": [
       "<div>\n",
       "<style scoped>\n",
       "    .dataframe tbody tr th:only-of-type {\n",
       "        vertical-align: middle;\n",
       "    }\n",
       "\n",
       "    .dataframe tbody tr th {\n",
       "        vertical-align: top;\n",
       "    }\n",
       "\n",
       "    .dataframe thead th {\n",
       "        text-align: right;\n",
       "    }\n",
       "</style>\n",
       "<table border=\"1\" class=\"dataframe\">\n",
       "  <thead>\n",
       "    <tr style=\"text-align: right;\">\n",
       "      <th></th>\n",
       "      <th>age</th>\n",
       "      <th>sex</th>\n",
       "      <th>cp</th>\n",
       "      <th>trestbps</th>\n",
       "      <th>chol</th>\n",
       "      <th>fbs</th>\n",
       "      <th>restecg</th>\n",
       "      <th>thalach</th>\n",
       "      <th>exang</th>\n",
       "      <th>oldpeak</th>\n",
       "      <th>slope</th>\n",
       "      <th>ca</th>\n",
       "      <th>thal</th>\n",
       "      <th>num</th>\n",
       "      <th>location</th>\n",
       "    </tr>\n",
       "  </thead>\n",
       "  <tbody>\n",
       "    <tr>\n",
       "      <th>0</th>\n",
       "      <td>67.0</td>\n",
       "      <td>1.0</td>\n",
       "      <td>4.0</td>\n",
       "      <td>160.0</td>\n",
       "      <td>286.0</td>\n",
       "      <td>0.0</td>\n",
       "      <td>2.0</td>\n",
       "      <td>108.0</td>\n",
       "      <td>1.0</td>\n",
       "      <td>1.5</td>\n",
       "      <td>2.0</td>\n",
       "      <td>3.0</td>\n",
       "      <td>3.0</td>\n",
       "      <td>2</td>\n",
       "      <td>Cleveland</td>\n",
       "    </tr>\n",
       "    <tr>\n",
       "      <th>1</th>\n",
       "      <td>67.0</td>\n",
       "      <td>1.0</td>\n",
       "      <td>4.0</td>\n",
       "      <td>120.0</td>\n",
       "      <td>229.0</td>\n",
       "      <td>0.0</td>\n",
       "      <td>2.0</td>\n",
       "      <td>129.0</td>\n",
       "      <td>1.0</td>\n",
       "      <td>2.6</td>\n",
       "      <td>2.0</td>\n",
       "      <td>2.0</td>\n",
       "      <td>7.0</td>\n",
       "      <td>1</td>\n",
       "      <td>Cleveland</td>\n",
       "    </tr>\n",
       "    <tr>\n",
       "      <th>2</th>\n",
       "      <td>37.0</td>\n",
       "      <td>1.0</td>\n",
       "      <td>3.0</td>\n",
       "      <td>130.0</td>\n",
       "      <td>250.0</td>\n",
       "      <td>0.0</td>\n",
       "      <td>0.0</td>\n",
       "      <td>187.0</td>\n",
       "      <td>0.0</td>\n",
       "      <td>3.5</td>\n",
       "      <td>3.0</td>\n",
       "      <td>0.0</td>\n",
       "      <td>3.0</td>\n",
       "      <td>0</td>\n",
       "      <td>Cleveland</td>\n",
       "    </tr>\n",
       "    <tr>\n",
       "      <th>3</th>\n",
       "      <td>41.0</td>\n",
       "      <td>0.0</td>\n",
       "      <td>2.0</td>\n",
       "      <td>130.0</td>\n",
       "      <td>204.0</td>\n",
       "      <td>0.0</td>\n",
       "      <td>2.0</td>\n",
       "      <td>172.0</td>\n",
       "      <td>0.0</td>\n",
       "      <td>1.4</td>\n",
       "      <td>1.0</td>\n",
       "      <td>0.0</td>\n",
       "      <td>3.0</td>\n",
       "      <td>0</td>\n",
       "      <td>Cleveland</td>\n",
       "    </tr>\n",
       "    <tr>\n",
       "      <th>4</th>\n",
       "      <td>56.0</td>\n",
       "      <td>1.0</td>\n",
       "      <td>2.0</td>\n",
       "      <td>120.0</td>\n",
       "      <td>236.0</td>\n",
       "      <td>0.0</td>\n",
       "      <td>0.0</td>\n",
       "      <td>178.0</td>\n",
       "      <td>0.0</td>\n",
       "      <td>0.8</td>\n",
       "      <td>1.0</td>\n",
       "      <td>0.0</td>\n",
       "      <td>3.0</td>\n",
       "      <td>0</td>\n",
       "      <td>Cleveland</td>\n",
       "    </tr>\n",
       "    <tr>\n",
       "      <th>...</th>\n",
       "      <td>...</td>\n",
       "      <td>...</td>\n",
       "      <td>...</td>\n",
       "      <td>...</td>\n",
       "      <td>...</td>\n",
       "      <td>...</td>\n",
       "      <td>...</td>\n",
       "      <td>...</td>\n",
       "      <td>...</td>\n",
       "      <td>...</td>\n",
       "      <td>...</td>\n",
       "      <td>...</td>\n",
       "      <td>...</td>\n",
       "      <td>...</td>\n",
       "      <td>...</td>\n",
       "    </tr>\n",
       "    <tr>\n",
       "      <th>911</th>\n",
       "      <td>70.0</td>\n",
       "      <td>1.0</td>\n",
       "      <td>4.0</td>\n",
       "      <td>115</td>\n",
       "      <td>0</td>\n",
       "      <td>0</td>\n",
       "      <td>1</td>\n",
       "      <td>92</td>\n",
       "      <td>1</td>\n",
       "      <td>0</td>\n",
       "      <td>2</td>\n",
       "      <td>NaN</td>\n",
       "      <td>7</td>\n",
       "      <td>1</td>\n",
       "      <td>Switzerland</td>\n",
       "    </tr>\n",
       "    <tr>\n",
       "      <th>912</th>\n",
       "      <td>70.0</td>\n",
       "      <td>1.0</td>\n",
       "      <td>4.0</td>\n",
       "      <td>140</td>\n",
       "      <td>0</td>\n",
       "      <td>1</td>\n",
       "      <td>0</td>\n",
       "      <td>157</td>\n",
       "      <td>1</td>\n",
       "      <td>2</td>\n",
       "      <td>2</td>\n",
       "      <td>NaN</td>\n",
       "      <td>7</td>\n",
       "      <td>3</td>\n",
       "      <td>Switzerland</td>\n",
       "    </tr>\n",
       "    <tr>\n",
       "      <th>913</th>\n",
       "      <td>72.0</td>\n",
       "      <td>1.0</td>\n",
       "      <td>3.0</td>\n",
       "      <td>160</td>\n",
       "      <td>0</td>\n",
       "      <td>NaN</td>\n",
       "      <td>2</td>\n",
       "      <td>114</td>\n",
       "      <td>0</td>\n",
       "      <td>1.6</td>\n",
       "      <td>2</td>\n",
       "      <td>2</td>\n",
       "      <td>NaN</td>\n",
       "      <td>0</td>\n",
       "      <td>Switzerland</td>\n",
       "    </tr>\n",
       "    <tr>\n",
       "      <th>914</th>\n",
       "      <td>73.0</td>\n",
       "      <td>0.0</td>\n",
       "      <td>3.0</td>\n",
       "      <td>160</td>\n",
       "      <td>0</td>\n",
       "      <td>0</td>\n",
       "      <td>1</td>\n",
       "      <td>121</td>\n",
       "      <td>0</td>\n",
       "      <td>0</td>\n",
       "      <td>1</td>\n",
       "      <td>NaN</td>\n",
       "      <td>3</td>\n",
       "      <td>1</td>\n",
       "      <td>Switzerland</td>\n",
       "    </tr>\n",
       "    <tr>\n",
       "      <th>915</th>\n",
       "      <td>74.0</td>\n",
       "      <td>1.0</td>\n",
       "      <td>2.0</td>\n",
       "      <td>145</td>\n",
       "      <td>0</td>\n",
       "      <td>NaN</td>\n",
       "      <td>1</td>\n",
       "      <td>123</td>\n",
       "      <td>0</td>\n",
       "      <td>1.3</td>\n",
       "      <td>1</td>\n",
       "      <td>NaN</td>\n",
       "      <td>NaN</td>\n",
       "      <td>1</td>\n",
       "      <td>Switzerland</td>\n",
       "    </tr>\n",
       "  </tbody>\n",
       "</table>\n",
       "<p>916 rows × 15 columns</p>\n",
       "</div>"
      ],
      "text/plain": [
       "      age  sex   cp trestbps   chol  fbs restecg thalach exang oldpeak slope  \\\n",
       "0    67.0  1.0  4.0    160.0  286.0  0.0     2.0   108.0   1.0     1.5   2.0   \n",
       "1    67.0  1.0  4.0    120.0  229.0  0.0     2.0   129.0   1.0     2.6   2.0   \n",
       "2    37.0  1.0  3.0    130.0  250.0  0.0     0.0   187.0   0.0     3.5   3.0   \n",
       "3    41.0  0.0  2.0    130.0  204.0  0.0     2.0   172.0   0.0     1.4   1.0   \n",
       "4    56.0  1.0  2.0    120.0  236.0  0.0     0.0   178.0   0.0     0.8   1.0   \n",
       "..    ...  ...  ...      ...    ...  ...     ...     ...   ...     ...   ...   \n",
       "911  70.0  1.0  4.0      115      0    0       1      92     1       0     2   \n",
       "912  70.0  1.0  4.0      140      0    1       0     157     1       2     2   \n",
       "913  72.0  1.0  3.0      160      0  NaN       2     114     0     1.6     2   \n",
       "914  73.0  0.0  3.0      160      0    0       1     121     0       0     1   \n",
       "915  74.0  1.0  2.0      145      0  NaN       1     123     0     1.3     1   \n",
       "\n",
       "      ca thal  num     location  \n",
       "0    3.0  3.0    2    Cleveland  \n",
       "1    2.0  7.0    1    Cleveland  \n",
       "2    0.0  3.0    0    Cleveland  \n",
       "3    0.0  3.0    0    Cleveland  \n",
       "4    0.0  3.0    0    Cleveland  \n",
       "..   ...  ...  ...          ...  \n",
       "911  NaN    7    1  Switzerland  \n",
       "912  NaN    7    3  Switzerland  \n",
       "913    2  NaN    0  Switzerland  \n",
       "914  NaN    3    1  Switzerland  \n",
       "915  NaN  NaN    1  Switzerland  \n",
       "\n",
       "[916 rows x 15 columns]"
      ]
     },
     "execution_count": 7,
     "metadata": {},
     "output_type": "execute_result"
    }
   ],
   "source": [
    "df_combine = pd.concat([df_cleveland, df_long_beach, df_hungarian, df_switzerland])\n",
    "df_combine.reset_index(inplace=True)\n",
    "df_combine.drop(\"index\", axis=1, inplace=True)\n",
    "df_combine"
   ]
  },
  {
   "cell_type": "code",
   "execution_count": 8,
   "id": "a1a72d19",
   "metadata": {},
   "outputs": [
    {
     "name": "stdout",
     "output_type": "stream",
     "text": [
      "<class 'pandas.core.frame.DataFrame'>\n",
      "RangeIndex: 916 entries, 0 to 915\n",
      "Data columns (total 15 columns):\n",
      " #   Column    Non-Null Count  Dtype  \n",
      "---  ------    --------------  -----  \n",
      " 0   age       916 non-null    float64\n",
      " 1   sex       916 non-null    float64\n",
      " 2   cp        916 non-null    float64\n",
      " 3   trestbps  857 non-null    object \n",
      " 4   chol      886 non-null    object \n",
      " 5   fbs       827 non-null    object \n",
      " 6   restecg   914 non-null    object \n",
      " 7   thalach   861 non-null    object \n",
      " 8   exang     861 non-null    object \n",
      " 9   oldpeak   854 non-null    object \n",
      " 10  slope     608 non-null    object \n",
      " 11  ca        308 non-null    object \n",
      " 12  thal      433 non-null    object \n",
      " 13  num       916 non-null    int64  \n",
      " 14  location  916 non-null    object \n",
      "dtypes: float64(3), int64(1), object(11)\n",
      "memory usage: 107.5+ KB\n"
     ]
    }
   ],
   "source": [
    "df_combine.info() # Inital Data Types"
   ]
  },
  {
   "cell_type": "code",
   "execution_count": 9,
   "id": "e4c9be43",
   "metadata": {},
   "outputs": [
    {
     "name": "stdout",
     "output_type": "stream",
     "text": [
      "<class 'pandas.core.frame.DataFrame'>\n",
      "RangeIndex: 916 entries, 0 to 915\n",
      "Data columns (total 15 columns):\n",
      " #   Column    Non-Null Count  Dtype  \n",
      "---  ------    --------------  -----  \n",
      " 0   age       916 non-null    float64\n",
      " 1   sex       916 non-null    int64  \n",
      " 2   cp        916 non-null    int64  \n",
      " 3   trestbps  857 non-null    float64\n",
      " 4   chol      886 non-null    float64\n",
      " 5   fbs       827 non-null    float64\n",
      " 6   restecg   914 non-null    float64\n",
      " 7   thalach   861 non-null    float64\n",
      " 8   exang     861 non-null    float64\n",
      " 9   oldpeak   854 non-null    float64\n",
      " 10  slope     608 non-null    float64\n",
      " 11  ca        308 non-null    float64\n",
      " 12  thal      433 non-null    float64\n",
      " 13  num       916 non-null    int64  \n",
      " 14  location  916 non-null    object \n",
      "dtypes: float64(11), int64(3), object(1)\n",
      "memory usage: 107.5+ KB\n"
     ]
    }
   ],
   "source": [
    "df_combine = df_combine.astype({\"age\": float, \"sex\": int, \"cp\": int, \"trestbps\": float, \"chol\": float, \n",
    "                                \"fbs\": float, \"restecg\": float, \"thalach\": float, \"exang\": float, \"oldpeak\": float, \n",
    "                                \"slope\": float, \"ca\": float, \"thal\": float, \"num\": int, \"location\": str})\n",
    "\n",
    "df_combine.info() # New Data Types"
   ]
  },
  {
   "cell_type": "code",
   "execution_count": 10,
   "id": "d0a9d299",
   "metadata": {},
   "outputs": [
    {
     "data": {
      "text/html": [
       "<div>\n",
       "<style scoped>\n",
       "    .dataframe tbody tr th:only-of-type {\n",
       "        vertical-align: middle;\n",
       "    }\n",
       "\n",
       "    .dataframe tbody tr th {\n",
       "        vertical-align: top;\n",
       "    }\n",
       "\n",
       "    .dataframe thead th {\n",
       "        text-align: right;\n",
       "    }\n",
       "</style>\n",
       "<table border=\"1\" class=\"dataframe\">\n",
       "  <thead>\n",
       "    <tr style=\"text-align: right;\">\n",
       "      <th></th>\n",
       "      <th>age</th>\n",
       "      <th>sex</th>\n",
       "      <th>cp</th>\n",
       "      <th>trestbps</th>\n",
       "      <th>chol</th>\n",
       "      <th>fbs</th>\n",
       "      <th>restecg</th>\n",
       "      <th>thalach</th>\n",
       "      <th>exang</th>\n",
       "      <th>oldpeak</th>\n",
       "      <th>slope</th>\n",
       "      <th>ca</th>\n",
       "      <th>thal</th>\n",
       "      <th>num</th>\n",
       "    </tr>\n",
       "  </thead>\n",
       "  <tbody>\n",
       "    <tr>\n",
       "      <th>count</th>\n",
       "      <td>916.000000</td>\n",
       "      <td>916.00000</td>\n",
       "      <td>916.000000</td>\n",
       "      <td>857.000000</td>\n",
       "      <td>886.000000</td>\n",
       "      <td>827.000000</td>\n",
       "      <td>914.000000</td>\n",
       "      <td>861.000000</td>\n",
       "      <td>861.000000</td>\n",
       "      <td>854.000000</td>\n",
       "      <td>608.000000</td>\n",
       "      <td>308.000000</td>\n",
       "      <td>433.000000</td>\n",
       "      <td>916.000000</td>\n",
       "    </tr>\n",
       "    <tr>\n",
       "      <th>mean</th>\n",
       "      <td>53.528384</td>\n",
       "      <td>0.78821</td>\n",
       "      <td>3.255459</td>\n",
       "      <td>132.142357</td>\n",
       "      <td>199.146727</td>\n",
       "      <td>0.165659</td>\n",
       "      <td>0.603939</td>\n",
       "      <td>137.533101</td>\n",
       "      <td>0.390244</td>\n",
       "      <td>0.875878</td>\n",
       "      <td>1.769737</td>\n",
       "      <td>0.678571</td>\n",
       "      <td>5.085450</td>\n",
       "      <td>1.135371</td>\n",
       "    </tr>\n",
       "    <tr>\n",
       "      <th>std</th>\n",
       "      <td>9.397376</td>\n",
       "      <td>0.40880</td>\n",
       "      <td>0.925783</td>\n",
       "      <td>19.059506</td>\n",
       "      <td>110.762998</td>\n",
       "      <td>0.371999</td>\n",
       "      <td>0.805666</td>\n",
       "      <td>25.939337</td>\n",
       "      <td>0.488088</td>\n",
       "      <td>1.089846</td>\n",
       "      <td>0.617914</td>\n",
       "      <td>0.936378</td>\n",
       "      <td>1.920792</td>\n",
       "      <td>1.260243</td>\n",
       "    </tr>\n",
       "    <tr>\n",
       "      <th>min</th>\n",
       "      <td>28.000000</td>\n",
       "      <td>0.00000</td>\n",
       "      <td>1.000000</td>\n",
       "      <td>0.000000</td>\n",
       "      <td>0.000000</td>\n",
       "      <td>0.000000</td>\n",
       "      <td>0.000000</td>\n",
       "      <td>60.000000</td>\n",
       "      <td>0.000000</td>\n",
       "      <td>-2.600000</td>\n",
       "      <td>1.000000</td>\n",
       "      <td>0.000000</td>\n",
       "      <td>3.000000</td>\n",
       "      <td>0.000000</td>\n",
       "    </tr>\n",
       "    <tr>\n",
       "      <th>25%</th>\n",
       "      <td>47.000000</td>\n",
       "      <td>1.00000</td>\n",
       "      <td>3.000000</td>\n",
       "      <td>120.000000</td>\n",
       "      <td>175.000000</td>\n",
       "      <td>0.000000</td>\n",
       "      <td>0.000000</td>\n",
       "      <td>120.000000</td>\n",
       "      <td>0.000000</td>\n",
       "      <td>0.000000</td>\n",
       "      <td>1.000000</td>\n",
       "      <td>0.000000</td>\n",
       "      <td>3.000000</td>\n",
       "      <td>0.000000</td>\n",
       "    </tr>\n",
       "    <tr>\n",
       "      <th>50%</th>\n",
       "      <td>54.000000</td>\n",
       "      <td>1.00000</td>\n",
       "      <td>4.000000</td>\n",
       "      <td>130.000000</td>\n",
       "      <td>223.000000</td>\n",
       "      <td>0.000000</td>\n",
       "      <td>0.000000</td>\n",
       "      <td>140.000000</td>\n",
       "      <td>0.000000</td>\n",
       "      <td>0.500000</td>\n",
       "      <td>2.000000</td>\n",
       "      <td>0.000000</td>\n",
       "      <td>6.000000</td>\n",
       "      <td>1.000000</td>\n",
       "    </tr>\n",
       "    <tr>\n",
       "      <th>75%</th>\n",
       "      <td>60.000000</td>\n",
       "      <td>1.00000</td>\n",
       "      <td>4.000000</td>\n",
       "      <td>140.000000</td>\n",
       "      <td>268.000000</td>\n",
       "      <td>0.000000</td>\n",
       "      <td>1.000000</td>\n",
       "      <td>157.000000</td>\n",
       "      <td>1.000000</td>\n",
       "      <td>1.500000</td>\n",
       "      <td>2.000000</td>\n",
       "      <td>1.000000</td>\n",
       "      <td>7.000000</td>\n",
       "      <td>2.000000</td>\n",
       "    </tr>\n",
       "    <tr>\n",
       "      <th>max</th>\n",
       "      <td>77.000000</td>\n",
       "      <td>1.00000</td>\n",
       "      <td>4.000000</td>\n",
       "      <td>200.000000</td>\n",
       "      <td>603.000000</td>\n",
       "      <td>1.000000</td>\n",
       "      <td>2.000000</td>\n",
       "      <td>202.000000</td>\n",
       "      <td>1.000000</td>\n",
       "      <td>6.200000</td>\n",
       "      <td>3.000000</td>\n",
       "      <td>3.000000</td>\n",
       "      <td>7.000000</td>\n",
       "      <td>4.000000</td>\n",
       "    </tr>\n",
       "  </tbody>\n",
       "</table>\n",
       "</div>"
      ],
      "text/plain": [
       "              age        sex          cp    trestbps        chol         fbs  \\\n",
       "count  916.000000  916.00000  916.000000  857.000000  886.000000  827.000000   \n",
       "mean    53.528384    0.78821    3.255459  132.142357  199.146727    0.165659   \n",
       "std      9.397376    0.40880    0.925783   19.059506  110.762998    0.371999   \n",
       "min     28.000000    0.00000    1.000000    0.000000    0.000000    0.000000   \n",
       "25%     47.000000    1.00000    3.000000  120.000000  175.000000    0.000000   \n",
       "50%     54.000000    1.00000    4.000000  130.000000  223.000000    0.000000   \n",
       "75%     60.000000    1.00000    4.000000  140.000000  268.000000    0.000000   \n",
       "max     77.000000    1.00000    4.000000  200.000000  603.000000    1.000000   \n",
       "\n",
       "          restecg     thalach       exang     oldpeak       slope          ca  \\\n",
       "count  914.000000  861.000000  861.000000  854.000000  608.000000  308.000000   \n",
       "mean     0.603939  137.533101    0.390244    0.875878    1.769737    0.678571   \n",
       "std      0.805666   25.939337    0.488088    1.089846    0.617914    0.936378   \n",
       "min      0.000000   60.000000    0.000000   -2.600000    1.000000    0.000000   \n",
       "25%      0.000000  120.000000    0.000000    0.000000    1.000000    0.000000   \n",
       "50%      0.000000  140.000000    0.000000    0.500000    2.000000    0.000000   \n",
       "75%      1.000000  157.000000    1.000000    1.500000    2.000000    1.000000   \n",
       "max      2.000000  202.000000    1.000000    6.200000    3.000000    3.000000   \n",
       "\n",
       "             thal         num  \n",
       "count  433.000000  916.000000  \n",
       "mean     5.085450    1.135371  \n",
       "std      1.920792    1.260243  \n",
       "min      3.000000    0.000000  \n",
       "25%      3.000000    0.000000  \n",
       "50%      6.000000    1.000000  \n",
       "75%      7.000000    2.000000  \n",
       "max      7.000000    4.000000  "
      ]
     },
     "execution_count": 10,
     "metadata": {},
     "output_type": "execute_result"
    }
   ],
   "source": [
    "df_combine.describe()"
   ]
  },
  {
   "cell_type": "markdown",
   "id": "8303ad84-05a3-484e-87ca-8dd0f7851980",
   "metadata": {},
   "source": [
    "## Check Duplicates"
   ]
  },
  {
   "cell_type": "code",
   "execution_count": 11,
   "id": "50cec830-b006-4091-b5ce-f94b31143bed",
   "metadata": {},
   "outputs": [
    {
     "data": {
      "text/html": [
       "<div>\n",
       "<style scoped>\n",
       "    .dataframe tbody tr th:only-of-type {\n",
       "        vertical-align: middle;\n",
       "    }\n",
       "\n",
       "    .dataframe tbody tr th {\n",
       "        vertical-align: top;\n",
       "    }\n",
       "\n",
       "    .dataframe thead th {\n",
       "        text-align: right;\n",
       "    }\n",
       "</style>\n",
       "<table border=\"1\" class=\"dataframe\">\n",
       "  <thead>\n",
       "    <tr style=\"text-align: right;\">\n",
       "      <th></th>\n",
       "      <th>age</th>\n",
       "      <th>sex</th>\n",
       "      <th>cp</th>\n",
       "      <th>trestbps</th>\n",
       "      <th>chol</th>\n",
       "      <th>fbs</th>\n",
       "      <th>restecg</th>\n",
       "      <th>thalach</th>\n",
       "      <th>exang</th>\n",
       "      <th>oldpeak</th>\n",
       "      <th>slope</th>\n",
       "      <th>ca</th>\n",
       "      <th>thal</th>\n",
       "      <th>num</th>\n",
       "      <th>location</th>\n",
       "    </tr>\n",
       "  </thead>\n",
       "  <tbody>\n",
       "    <tr>\n",
       "      <th>488</th>\n",
       "      <td>58.0</td>\n",
       "      <td>1</td>\n",
       "      <td>3</td>\n",
       "      <td>150.0</td>\n",
       "      <td>219.0</td>\n",
       "      <td>0.0</td>\n",
       "      <td>1.0</td>\n",
       "      <td>118.0</td>\n",
       "      <td>1.0</td>\n",
       "      <td>0.0</td>\n",
       "      <td>NaN</td>\n",
       "      <td>NaN</td>\n",
       "      <td>NaN</td>\n",
       "      <td>2</td>\n",
       "      <td>Long Beach</td>\n",
       "    </tr>\n",
       "    <tr>\n",
       "      <th>663</th>\n",
       "      <td>49.0</td>\n",
       "      <td>0</td>\n",
       "      <td>2</td>\n",
       "      <td>110.0</td>\n",
       "      <td>NaN</td>\n",
       "      <td>0.0</td>\n",
       "      <td>0.0</td>\n",
       "      <td>160.0</td>\n",
       "      <td>0.0</td>\n",
       "      <td>0.0</td>\n",
       "      <td>NaN</td>\n",
       "      <td>NaN</td>\n",
       "      <td>NaN</td>\n",
       "      <td>0</td>\n",
       "      <td>Hungary</td>\n",
       "    </tr>\n",
       "  </tbody>\n",
       "</table>\n",
       "</div>"
      ],
      "text/plain": [
       "      age  sex  cp  trestbps   chol  fbs  restecg  thalach  exang  oldpeak  \\\n",
       "488  58.0    1   3     150.0  219.0  0.0      1.0    118.0    1.0      0.0   \n",
       "663  49.0    0   2     110.0    NaN  0.0      0.0    160.0    0.0      0.0   \n",
       "\n",
       "     slope  ca  thal  num    location  \n",
       "488    NaN NaN   NaN    2  Long Beach  \n",
       "663    NaN NaN   NaN    0     Hungary  "
      ]
     },
     "execution_count": 11,
     "metadata": {},
     "output_type": "execute_result"
    }
   ],
   "source": [
    "duplicate_rows = df_combine.duplicated()\n",
    "df_duplicates = df_combine[duplicate_rows] # Only two duplicate rows in combined dataset\n",
    "df_duplicates"
   ]
  },
  {
   "cell_type": "code",
   "execution_count": 12,
   "id": "28569567",
   "metadata": {},
   "outputs": [
    {
     "data": {
      "text/html": [
       "<div>\n",
       "<style scoped>\n",
       "    .dataframe tbody tr th:only-of-type {\n",
       "        vertical-align: middle;\n",
       "    }\n",
       "\n",
       "    .dataframe tbody tr th {\n",
       "        vertical-align: top;\n",
       "    }\n",
       "\n",
       "    .dataframe thead th {\n",
       "        text-align: right;\n",
       "    }\n",
       "</style>\n",
       "<table border=\"1\" class=\"dataframe\">\n",
       "  <thead>\n",
       "    <tr style=\"text-align: right;\">\n",
       "      <th></th>\n",
       "      <th>age</th>\n",
       "      <th>sex</th>\n",
       "      <th>cp</th>\n",
       "      <th>trestbps</th>\n",
       "      <th>chol</th>\n",
       "      <th>fbs</th>\n",
       "      <th>restecg</th>\n",
       "      <th>thalach</th>\n",
       "      <th>exang</th>\n",
       "      <th>oldpeak</th>\n",
       "      <th>slope</th>\n",
       "      <th>ca</th>\n",
       "      <th>thal</th>\n",
       "      <th>num</th>\n",
       "      <th>location</th>\n",
       "    </tr>\n",
       "  </thead>\n",
       "  <tbody>\n",
       "    <tr>\n",
       "      <th>440</th>\n",
       "      <td>58.0</td>\n",
       "      <td>1</td>\n",
       "      <td>3</td>\n",
       "      <td>150.0</td>\n",
       "      <td>219.0</td>\n",
       "      <td>0.0</td>\n",
       "      <td>1.0</td>\n",
       "      <td>118.0</td>\n",
       "      <td>1.0</td>\n",
       "      <td>0.0</td>\n",
       "      <td>NaN</td>\n",
       "      <td>NaN</td>\n",
       "      <td>NaN</td>\n",
       "      <td>2</td>\n",
       "      <td>Long Beach</td>\n",
       "    </tr>\n",
       "    <tr>\n",
       "      <th>488</th>\n",
       "      <td>58.0</td>\n",
       "      <td>1</td>\n",
       "      <td>3</td>\n",
       "      <td>150.0</td>\n",
       "      <td>219.0</td>\n",
       "      <td>0.0</td>\n",
       "      <td>1.0</td>\n",
       "      <td>118.0</td>\n",
       "      <td>1.0</td>\n",
       "      <td>0.0</td>\n",
       "      <td>NaN</td>\n",
       "      <td>NaN</td>\n",
       "      <td>NaN</td>\n",
       "      <td>2</td>\n",
       "      <td>Long Beach</td>\n",
       "    </tr>\n",
       "  </tbody>\n",
       "</table>\n",
       "</div>"
      ],
      "text/plain": [
       "      age  sex  cp  trestbps   chol  fbs  restecg  thalach  exang  oldpeak  \\\n",
       "440  58.0    1   3     150.0  219.0  0.0      1.0    118.0    1.0      0.0   \n",
       "488  58.0    1   3     150.0  219.0  0.0      1.0    118.0    1.0      0.0   \n",
       "\n",
       "     slope  ca  thal  num    location  \n",
       "440    NaN NaN   NaN    2  Long Beach  \n",
       "488    NaN NaN   NaN    2  Long Beach  "
      ]
     },
     "execution_count": 12,
     "metadata": {},
     "output_type": "execute_result"
    }
   ],
   "source": [
    "df_combine[(df_combine[\"age\"] == 58.0) & (df_combine[\"cp\"] == 3) & (df_combine[\"trestbps\"] == 150.0)] \n",
    "# Need to remove row at index 490"
   ]
  },
  {
   "cell_type": "code",
   "execution_count": 13,
   "id": "284a494f-ecba-4eec-afab-a01ee6ea163d",
   "metadata": {},
   "outputs": [
    {
     "data": {
      "text/html": [
       "<div>\n",
       "<style scoped>\n",
       "    .dataframe tbody tr th:only-of-type {\n",
       "        vertical-align: middle;\n",
       "    }\n",
       "\n",
       "    .dataframe tbody tr th {\n",
       "        vertical-align: top;\n",
       "    }\n",
       "\n",
       "    .dataframe thead th {\n",
       "        text-align: right;\n",
       "    }\n",
       "</style>\n",
       "<table border=\"1\" class=\"dataframe\">\n",
       "  <thead>\n",
       "    <tr style=\"text-align: right;\">\n",
       "      <th></th>\n",
       "      <th>age</th>\n",
       "      <th>sex</th>\n",
       "      <th>cp</th>\n",
       "      <th>trestbps</th>\n",
       "      <th>chol</th>\n",
       "      <th>fbs</th>\n",
       "      <th>restecg</th>\n",
       "      <th>thalach</th>\n",
       "      <th>exang</th>\n",
       "      <th>oldpeak</th>\n",
       "      <th>slope</th>\n",
       "      <th>ca</th>\n",
       "      <th>thal</th>\n",
       "      <th>num</th>\n",
       "      <th>location</th>\n",
       "    </tr>\n",
       "  </thead>\n",
       "  <tbody>\n",
       "    <tr>\n",
       "      <th>590</th>\n",
       "      <td>49.0</td>\n",
       "      <td>0</td>\n",
       "      <td>2</td>\n",
       "      <td>110.0</td>\n",
       "      <td>NaN</td>\n",
       "      <td>0.0</td>\n",
       "      <td>0.0</td>\n",
       "      <td>160.0</td>\n",
       "      <td>0.0</td>\n",
       "      <td>0.0</td>\n",
       "      <td>NaN</td>\n",
       "      <td>NaN</td>\n",
       "      <td>NaN</td>\n",
       "      <td>0</td>\n",
       "      <td>Hungary</td>\n",
       "    </tr>\n",
       "    <tr>\n",
       "      <th>663</th>\n",
       "      <td>49.0</td>\n",
       "      <td>0</td>\n",
       "      <td>2</td>\n",
       "      <td>110.0</td>\n",
       "      <td>NaN</td>\n",
       "      <td>0.0</td>\n",
       "      <td>0.0</td>\n",
       "      <td>160.0</td>\n",
       "      <td>0.0</td>\n",
       "      <td>0.0</td>\n",
       "      <td>NaN</td>\n",
       "      <td>NaN</td>\n",
       "      <td>NaN</td>\n",
       "      <td>0</td>\n",
       "      <td>Hungary</td>\n",
       "    </tr>\n",
       "  </tbody>\n",
       "</table>\n",
       "</div>"
      ],
      "text/plain": [
       "      age  sex  cp  trestbps  chol  fbs  restecg  thalach  exang  oldpeak  \\\n",
       "590  49.0    0   2     110.0   NaN  0.0      0.0    160.0    0.0      0.0   \n",
       "663  49.0    0   2     110.0   NaN  0.0      0.0    160.0    0.0      0.0   \n",
       "\n",
       "     slope  ca  thal  num location  \n",
       "590    NaN NaN   NaN    0  Hungary  \n",
       "663    NaN NaN   NaN    0  Hungary  "
      ]
     },
     "execution_count": 13,
     "metadata": {},
     "output_type": "execute_result"
    }
   ],
   "source": [
    "df_combine[(df_combine[\"age\"] == 49.0) & (df_combine[\"cp\"] == 2) & (df_combine[\"trestbps\"] == 110.0)]\n",
    "# Need to remove row at index 666"
   ]
  },
  {
   "cell_type": "code",
   "execution_count": 14,
   "id": "4903f4e2-de0f-44f6-9043-8890e5ad2847",
   "metadata": {},
   "outputs": [],
   "source": [
    "df_no_dup = df_combine.drop_duplicates() # Keep first appearance of the duplicate row and remove the second"
   ]
  },
  {
   "cell_type": "code",
   "execution_count": 15,
   "id": "af393823-9708-483b-9663-6a5940bca5b9",
   "metadata": {},
   "outputs": [
    {
     "data": {
      "text/html": [
       "<div>\n",
       "<style scoped>\n",
       "    .dataframe tbody tr th:only-of-type {\n",
       "        vertical-align: middle;\n",
       "    }\n",
       "\n",
       "    .dataframe tbody tr th {\n",
       "        vertical-align: top;\n",
       "    }\n",
       "\n",
       "    .dataframe thead th {\n",
       "        text-align: right;\n",
       "    }\n",
       "</style>\n",
       "<table border=\"1\" class=\"dataframe\">\n",
       "  <thead>\n",
       "    <tr style=\"text-align: right;\">\n",
       "      <th></th>\n",
       "      <th>age</th>\n",
       "      <th>sex</th>\n",
       "      <th>cp</th>\n",
       "      <th>trestbps</th>\n",
       "      <th>chol</th>\n",
       "      <th>fbs</th>\n",
       "      <th>restecg</th>\n",
       "      <th>thalach</th>\n",
       "      <th>exang</th>\n",
       "      <th>oldpeak</th>\n",
       "      <th>slope</th>\n",
       "      <th>ca</th>\n",
       "      <th>thal</th>\n",
       "      <th>num</th>\n",
       "      <th>location</th>\n",
       "    </tr>\n",
       "  </thead>\n",
       "  <tbody>\n",
       "  </tbody>\n",
       "</table>\n",
       "</div>"
      ],
      "text/plain": [
       "Empty DataFrame\n",
       "Columns: [age, sex, cp, trestbps, chol, fbs, restecg, thalach, exang, oldpeak, slope, ca, thal, num, location]\n",
       "Index: []"
      ]
     },
     "execution_count": 15,
     "metadata": {},
     "output_type": "execute_result"
    }
   ],
   "source": [
    "duplicate_rows = df_no_dup.duplicated()\n",
    "df_no_dup[duplicate_rows] # Now no duplicate rows exist in combined dataset"
   ]
  },
  {
   "cell_type": "markdown",
   "id": "57baadd0",
   "metadata": {},
   "source": [
    "## Encoding"
   ]
  },
  {
   "cell_type": "code",
   "execution_count": 16,
   "id": "6bdc12c3",
   "metadata": {},
   "outputs": [],
   "source": [
    "location_encode = pd.DataFrame(df_no_dup[\"location\"])\n",
    "location_encode.rename(columns={\"location\":\"location_str\"}, inplace=True)"
   ]
  },
  {
   "cell_type": "code",
   "execution_count": 17,
   "id": "6be8766e",
   "metadata": {},
   "outputs": [
    {
     "data": {
      "text/html": [
       "<div>\n",
       "<style scoped>\n",
       "    .dataframe tbody tr th:only-of-type {\n",
       "        vertical-align: middle;\n",
       "    }\n",
       "\n",
       "    .dataframe tbody tr th {\n",
       "        vertical-align: top;\n",
       "    }\n",
       "\n",
       "    .dataframe thead th {\n",
       "        text-align: right;\n",
       "    }\n",
       "</style>\n",
       "<table border=\"1\" class=\"dataframe\">\n",
       "  <thead>\n",
       "    <tr style=\"text-align: right;\">\n",
       "      <th></th>\n",
       "      <th>age</th>\n",
       "      <th>sex</th>\n",
       "      <th>cp</th>\n",
       "      <th>trestbps</th>\n",
       "      <th>chol</th>\n",
       "      <th>fbs</th>\n",
       "      <th>restecg</th>\n",
       "      <th>thalach</th>\n",
       "      <th>exang</th>\n",
       "      <th>oldpeak</th>\n",
       "      <th>slope</th>\n",
       "      <th>ca</th>\n",
       "      <th>thal</th>\n",
       "      <th>num</th>\n",
       "      <th>location</th>\n",
       "    </tr>\n",
       "  </thead>\n",
       "  <tbody>\n",
       "    <tr>\n",
       "      <th>0</th>\n",
       "      <td>67.0</td>\n",
       "      <td>1</td>\n",
       "      <td>4</td>\n",
       "      <td>160.0</td>\n",
       "      <td>286.0</td>\n",
       "      <td>0.0</td>\n",
       "      <td>2.0</td>\n",
       "      <td>108.0</td>\n",
       "      <td>1.0</td>\n",
       "      <td>1.5</td>\n",
       "      <td>2.0</td>\n",
       "      <td>3.0</td>\n",
       "      <td>3.0</td>\n",
       "      <td>2</td>\n",
       "      <td>0</td>\n",
       "    </tr>\n",
       "    <tr>\n",
       "      <th>1</th>\n",
       "      <td>67.0</td>\n",
       "      <td>1</td>\n",
       "      <td>4</td>\n",
       "      <td>120.0</td>\n",
       "      <td>229.0</td>\n",
       "      <td>0.0</td>\n",
       "      <td>2.0</td>\n",
       "      <td>129.0</td>\n",
       "      <td>1.0</td>\n",
       "      <td>2.6</td>\n",
       "      <td>2.0</td>\n",
       "      <td>2.0</td>\n",
       "      <td>7.0</td>\n",
       "      <td>1</td>\n",
       "      <td>0</td>\n",
       "    </tr>\n",
       "    <tr>\n",
       "      <th>2</th>\n",
       "      <td>37.0</td>\n",
       "      <td>1</td>\n",
       "      <td>3</td>\n",
       "      <td>130.0</td>\n",
       "      <td>250.0</td>\n",
       "      <td>0.0</td>\n",
       "      <td>0.0</td>\n",
       "      <td>187.0</td>\n",
       "      <td>0.0</td>\n",
       "      <td>3.5</td>\n",
       "      <td>3.0</td>\n",
       "      <td>0.0</td>\n",
       "      <td>3.0</td>\n",
       "      <td>0</td>\n",
       "      <td>0</td>\n",
       "    </tr>\n",
       "    <tr>\n",
       "      <th>3</th>\n",
       "      <td>41.0</td>\n",
       "      <td>0</td>\n",
       "      <td>2</td>\n",
       "      <td>130.0</td>\n",
       "      <td>204.0</td>\n",
       "      <td>0.0</td>\n",
       "      <td>2.0</td>\n",
       "      <td>172.0</td>\n",
       "      <td>0.0</td>\n",
       "      <td>1.4</td>\n",
       "      <td>1.0</td>\n",
       "      <td>0.0</td>\n",
       "      <td>3.0</td>\n",
       "      <td>0</td>\n",
       "      <td>0</td>\n",
       "    </tr>\n",
       "    <tr>\n",
       "      <th>4</th>\n",
       "      <td>56.0</td>\n",
       "      <td>1</td>\n",
       "      <td>2</td>\n",
       "      <td>120.0</td>\n",
       "      <td>236.0</td>\n",
       "      <td>0.0</td>\n",
       "      <td>0.0</td>\n",
       "      <td>178.0</td>\n",
       "      <td>0.0</td>\n",
       "      <td>0.8</td>\n",
       "      <td>1.0</td>\n",
       "      <td>0.0</td>\n",
       "      <td>3.0</td>\n",
       "      <td>0</td>\n",
       "      <td>0</td>\n",
       "    </tr>\n",
       "    <tr>\n",
       "      <th>...</th>\n",
       "      <td>...</td>\n",
       "      <td>...</td>\n",
       "      <td>...</td>\n",
       "      <td>...</td>\n",
       "      <td>...</td>\n",
       "      <td>...</td>\n",
       "      <td>...</td>\n",
       "      <td>...</td>\n",
       "      <td>...</td>\n",
       "      <td>...</td>\n",
       "      <td>...</td>\n",
       "      <td>...</td>\n",
       "      <td>...</td>\n",
       "      <td>...</td>\n",
       "      <td>...</td>\n",
       "    </tr>\n",
       "    <tr>\n",
       "      <th>911</th>\n",
       "      <td>70.0</td>\n",
       "      <td>1</td>\n",
       "      <td>4</td>\n",
       "      <td>115.0</td>\n",
       "      <td>0.0</td>\n",
       "      <td>0.0</td>\n",
       "      <td>1.0</td>\n",
       "      <td>92.0</td>\n",
       "      <td>1.0</td>\n",
       "      <td>0.0</td>\n",
       "      <td>2.0</td>\n",
       "      <td>NaN</td>\n",
       "      <td>7.0</td>\n",
       "      <td>1</td>\n",
       "      <td>3</td>\n",
       "    </tr>\n",
       "    <tr>\n",
       "      <th>912</th>\n",
       "      <td>70.0</td>\n",
       "      <td>1</td>\n",
       "      <td>4</td>\n",
       "      <td>140.0</td>\n",
       "      <td>0.0</td>\n",
       "      <td>1.0</td>\n",
       "      <td>0.0</td>\n",
       "      <td>157.0</td>\n",
       "      <td>1.0</td>\n",
       "      <td>2.0</td>\n",
       "      <td>2.0</td>\n",
       "      <td>NaN</td>\n",
       "      <td>7.0</td>\n",
       "      <td>3</td>\n",
       "      <td>3</td>\n",
       "    </tr>\n",
       "    <tr>\n",
       "      <th>913</th>\n",
       "      <td>72.0</td>\n",
       "      <td>1</td>\n",
       "      <td>3</td>\n",
       "      <td>160.0</td>\n",
       "      <td>0.0</td>\n",
       "      <td>NaN</td>\n",
       "      <td>2.0</td>\n",
       "      <td>114.0</td>\n",
       "      <td>0.0</td>\n",
       "      <td>1.6</td>\n",
       "      <td>2.0</td>\n",
       "      <td>2.0</td>\n",
       "      <td>NaN</td>\n",
       "      <td>0</td>\n",
       "      <td>3</td>\n",
       "    </tr>\n",
       "    <tr>\n",
       "      <th>914</th>\n",
       "      <td>73.0</td>\n",
       "      <td>0</td>\n",
       "      <td>3</td>\n",
       "      <td>160.0</td>\n",
       "      <td>0.0</td>\n",
       "      <td>0.0</td>\n",
       "      <td>1.0</td>\n",
       "      <td>121.0</td>\n",
       "      <td>0.0</td>\n",
       "      <td>0.0</td>\n",
       "      <td>1.0</td>\n",
       "      <td>NaN</td>\n",
       "      <td>3.0</td>\n",
       "      <td>1</td>\n",
       "      <td>3</td>\n",
       "    </tr>\n",
       "    <tr>\n",
       "      <th>915</th>\n",
       "      <td>74.0</td>\n",
       "      <td>1</td>\n",
       "      <td>2</td>\n",
       "      <td>145.0</td>\n",
       "      <td>0.0</td>\n",
       "      <td>NaN</td>\n",
       "      <td>1.0</td>\n",
       "      <td>123.0</td>\n",
       "      <td>0.0</td>\n",
       "      <td>1.3</td>\n",
       "      <td>1.0</td>\n",
       "      <td>NaN</td>\n",
       "      <td>NaN</td>\n",
       "      <td>1</td>\n",
       "      <td>3</td>\n",
       "    </tr>\n",
       "  </tbody>\n",
       "</table>\n",
       "<p>914 rows × 15 columns</p>\n",
       "</div>"
      ],
      "text/plain": [
       "      age  sex  cp  trestbps   chol  fbs  restecg  thalach  exang  oldpeak  \\\n",
       "0    67.0    1   4     160.0  286.0  0.0      2.0    108.0    1.0      1.5   \n",
       "1    67.0    1   4     120.0  229.0  0.0      2.0    129.0    1.0      2.6   \n",
       "2    37.0    1   3     130.0  250.0  0.0      0.0    187.0    0.0      3.5   \n",
       "3    41.0    0   2     130.0  204.0  0.0      2.0    172.0    0.0      1.4   \n",
       "4    56.0    1   2     120.0  236.0  0.0      0.0    178.0    0.0      0.8   \n",
       "..    ...  ...  ..       ...    ...  ...      ...      ...    ...      ...   \n",
       "911  70.0    1   4     115.0    0.0  0.0      1.0     92.0    1.0      0.0   \n",
       "912  70.0    1   4     140.0    0.0  1.0      0.0    157.0    1.0      2.0   \n",
       "913  72.0    1   3     160.0    0.0  NaN      2.0    114.0    0.0      1.6   \n",
       "914  73.0    0   3     160.0    0.0  0.0      1.0    121.0    0.0      0.0   \n",
       "915  74.0    1   2     145.0    0.0  NaN      1.0    123.0    0.0      1.3   \n",
       "\n",
       "     slope   ca  thal  num  location  \n",
       "0      2.0  3.0   3.0    2         0  \n",
       "1      2.0  2.0   7.0    1         0  \n",
       "2      3.0  0.0   3.0    0         0  \n",
       "3      1.0  0.0   3.0    0         0  \n",
       "4      1.0  0.0   3.0    0         0  \n",
       "..     ...  ...   ...  ...       ...  \n",
       "911    2.0  NaN   7.0    1         3  \n",
       "912    2.0  NaN   7.0    3         3  \n",
       "913    2.0  2.0   NaN    0         3  \n",
       "914    1.0  NaN   3.0    1         3  \n",
       "915    1.0  NaN   NaN    1         3  \n",
       "\n",
       "[914 rows x 15 columns]"
      ]
     },
     "execution_count": 17,
     "metadata": {},
     "output_type": "execute_result"
    }
   ],
   "source": [
    "le = LabelEncoder()\n",
    "df_no_dup[\"location\"] = le.fit_transform(df_no_dup[\"location\"])\n",
    "\n",
    "df_no_dup # \"location\" variable should be Label Encoded"
   ]
  },
  {
   "cell_type": "code",
   "execution_count": 18,
   "id": "66fe7e03",
   "metadata": {},
   "outputs": [
    {
     "name": "stdout",
     "output_type": "stream",
     "text": [
      "location_str        object\n",
      "location_encoded     int64\n",
      "dtype: object\n"
     ]
    },
    {
     "data": {
      "text/html": [
       "<div>\n",
       "<style scoped>\n",
       "    .dataframe tbody tr th:only-of-type {\n",
       "        vertical-align: middle;\n",
       "    }\n",
       "\n",
       "    .dataframe tbody tr th {\n",
       "        vertical-align: top;\n",
       "    }\n",
       "\n",
       "    .dataframe thead th {\n",
       "        text-align: right;\n",
       "    }\n",
       "</style>\n",
       "<table border=\"1\" class=\"dataframe\">\n",
       "  <thead>\n",
       "    <tr style=\"text-align: right;\">\n",
       "      <th></th>\n",
       "      <th>location_str</th>\n",
       "      <th>location_encoded</th>\n",
       "    </tr>\n",
       "  </thead>\n",
       "  <tbody>\n",
       "    <tr>\n",
       "      <th>0</th>\n",
       "      <td>Cleveland</td>\n",
       "      <td>0</td>\n",
       "    </tr>\n",
       "    <tr>\n",
       "      <th>1</th>\n",
       "      <td>Long Beach</td>\n",
       "      <td>2</td>\n",
       "    </tr>\n",
       "    <tr>\n",
       "      <th>2</th>\n",
       "      <td>Hungary</td>\n",
       "      <td>1</td>\n",
       "    </tr>\n",
       "    <tr>\n",
       "      <th>3</th>\n",
       "      <td>Switzerland</td>\n",
       "      <td>3</td>\n",
       "    </tr>\n",
       "  </tbody>\n",
       "</table>\n",
       "</div>"
      ],
      "text/plain": [
       "  location_str  location_encoded\n",
       "0    Cleveland                 0\n",
       "1   Long Beach                 2\n",
       "2      Hungary                 1\n",
       "3  Switzerland                 3"
      ]
     },
     "execution_count": 18,
     "metadata": {},
     "output_type": "execute_result"
    }
   ],
   "source": [
    "location_encode[\"location_encoded\"] = df_no_dup[\"location\"]\n",
    "location_encode.drop_duplicates(inplace=True)\n",
    "location_encode.reset_index(inplace=True)\n",
    "location_encode.drop(\"index\", axis=1, inplace=True)\n",
    "\n",
    "print(location_encode.dtypes)\n",
    "location_encode"
   ]
  },
  {
   "cell_type": "markdown",
   "id": "a876c2a4-e0e3-4192-bdac-6911a48763b9",
   "metadata": {},
   "source": [
    "## Check Missingness"
   ]
  },
  {
   "cell_type": "code",
   "execution_count": 19,
   "id": "81784ceb-fdc8-436b-819e-f823017d5a4e",
   "metadata": {},
   "outputs": [
    {
     "data": {
      "image/png": "[encoded data removed]",
      "text/plain": [
       "<Figure size 1200x800 with 2 Axes>"
      ]
     },
     "metadata": {},
     "output_type": "display_data"
    }
   ],
   "source": [
    "plt.figure(figsize=(12, 8))\n",
    "sns.heatmap(df_no_dup.isna(), cmap=\"magma\")\n",
    "plt.show()"
   ]
  },
  {
   "cell_type": "code",
   "execution_count": 20,
   "id": "dcfe0e82",
   "metadata": {},
   "outputs": [
    {
     "data": {
      "text/html": [
       "<div>\n",
       "<style scoped>\n",
       "    .dataframe tbody tr th:only-of-type {\n",
       "        vertical-align: middle;\n",
       "    }\n",
       "\n",
       "    .dataframe tbody tr th {\n",
       "        vertical-align: top;\n",
       "    }\n",
       "\n",
       "    .dataframe thead th {\n",
       "        text-align: right;\n",
       "    }\n",
       "</style>\n",
       "<table border=\"1\" class=\"dataframe\">\n",
       "  <thead>\n",
       "    <tr style=\"text-align: right;\">\n",
       "      <th></th>\n",
       "      <th>NaN_Count</th>\n",
       "      <th>NaN_Percent</th>\n",
       "    </tr>\n",
       "  </thead>\n",
       "  <tbody>\n",
       "    <tr>\n",
       "      <th>age</th>\n",
       "      <td>0</td>\n",
       "      <td>0.0%</td>\n",
       "    </tr>\n",
       "    <tr>\n",
       "      <th>sex</th>\n",
       "      <td>0</td>\n",
       "      <td>0.0%</td>\n",
       "    </tr>\n",
       "    <tr>\n",
       "      <th>cp</th>\n",
       "      <td>0</td>\n",
       "      <td>0.0%</td>\n",
       "    </tr>\n",
       "    <tr>\n",
       "      <th>trestbps</th>\n",
       "      <td>59</td>\n",
       "      <td>6.460000000000001%</td>\n",
       "    </tr>\n",
       "    <tr>\n",
       "      <th>chol</th>\n",
       "      <td>29</td>\n",
       "      <td>3.17%</td>\n",
       "    </tr>\n",
       "    <tr>\n",
       "      <th>fbs</th>\n",
       "      <td>89</td>\n",
       "      <td>9.74%</td>\n",
       "    </tr>\n",
       "    <tr>\n",
       "      <th>restecg</th>\n",
       "      <td>2</td>\n",
       "      <td>0.22%</td>\n",
       "    </tr>\n",
       "    <tr>\n",
       "      <th>thalach</th>\n",
       "      <td>55</td>\n",
       "      <td>6.02%</td>\n",
       "    </tr>\n",
       "    <tr>\n",
       "      <th>exang</th>\n",
       "      <td>55</td>\n",
       "      <td>6.02%</td>\n",
       "    </tr>\n",
       "    <tr>\n",
       "      <th>oldpeak</th>\n",
       "      <td>62</td>\n",
       "      <td>6.78%</td>\n",
       "    </tr>\n",
       "    <tr>\n",
       "      <th>slope</th>\n",
       "      <td>306</td>\n",
       "      <td>33.48%</td>\n",
       "    </tr>\n",
       "    <tr>\n",
       "      <th>ca</th>\n",
       "      <td>606</td>\n",
       "      <td>66.3%</td>\n",
       "    </tr>\n",
       "    <tr>\n",
       "      <th>thal</th>\n",
       "      <td>481</td>\n",
       "      <td>52.629999999999995%</td>\n",
       "    </tr>\n",
       "    <tr>\n",
       "      <th>num</th>\n",
       "      <td>0</td>\n",
       "      <td>0.0%</td>\n",
       "    </tr>\n",
       "    <tr>\n",
       "      <th>location</th>\n",
       "      <td>0</td>\n",
       "      <td>0.0%</td>\n",
       "    </tr>\n",
       "  </tbody>\n",
       "</table>\n",
       "</div>"
      ],
      "text/plain": [
       "          NaN_Count          NaN_Percent\n",
       "age               0                 0.0%\n",
       "sex               0                 0.0%\n",
       "cp                0                 0.0%\n",
       "trestbps         59   6.460000000000001%\n",
       "chol             29                3.17%\n",
       "fbs              89                9.74%\n",
       "restecg           2                0.22%\n",
       "thalach          55                6.02%\n",
       "exang            55                6.02%\n",
       "oldpeak          62                6.78%\n",
       "slope           306               33.48%\n",
       "ca              606                66.3%\n",
       "thal            481  52.629999999999995%\n",
       "num               0                 0.0%\n",
       "location          0                 0.0%"
      ]
     },
     "execution_count": 20,
     "metadata": {},
     "output_type": "execute_result"
    }
   ],
   "source": [
    "nan_stats = pd.DataFrame(df_no_dup.isna().sum(), columns=[\"NaN_Count\"])\n",
    "nan_stats[\"NaN_Percent\"] = np.round(nan_stats[\"NaN_Count\"]/df_no_dup.shape[0], 4)*100\n",
    "nan_stats[\"NaN_Percent\"] = nan_stats[\"NaN_Percent\"].astype(str) + \"%\"\n",
    "nan_stats"
   ]
  },
  {
   "cell_type": "markdown",
   "id": "5146d2f0-cb61-497d-a6cf-c60ca2233092",
   "metadata": {},
   "source": [
    "## Cleaning Dataset"
   ]
  },
  {
   "cell_type": "code",
   "execution_count": 21,
   "id": "618dd886",
   "metadata": {},
   "outputs": [],
   "source": [
    "# Columns to impute\n",
    "continuous_cols  = [\"trestbps\", \"chol\", \"thalach\", \"oldpeak\"] # Continuous variables will be imputed using MICE\n",
    "categorical_cols = [\"fbs\", \"restecg\", \"exang\", \"slope\", \"ca\", \"thal\"] # Categorical variables will be imputed using KNN\n",
    "\n",
    "df_half_clean = df_no_dup.copy()"
   ]
  },
  {
   "cell_type": "markdown",
   "id": "6954e6e6",
   "metadata": {},
   "source": [
    "#### MICE (For Continuous Columns)"
   ]
  },
  {
   "cell_type": "code",
   "execution_count": 22,
   "id": "604253ff",
   "metadata": {},
   "outputs": [],
   "source": [
    "df_before_MICE = df_half_clean.copy()\n",
    "\n",
    "# Utilize continuous variables and columns with no missing values\n",
    "df_after_MICE = df_before_MICE[continuous_cols + [\"age\", \"sex\", \"cp\", \"num\", \"location\"]]\n",
    "\n",
    "# Scale features using RobustScaler\n",
    "rob_scaler = RobustScaler()\n",
    "X_rob_scaled = pd.DataFrame(rob_scaler.fit_transform(df_before_MICE), columns=df_before_MICE.columns, index=df_before_MICE.index)\n",
    "\n",
    "# Perform MICE imputation\n",
    "mice_imputer = IterativeImputer(random_state=42, max_iter=50)\n",
    "X_scaled_mice = pd.DataFrame(mice_imputer.fit_transform(X_rob_scaled), \n",
    "                             columns=X_rob_scaled.columns, index=X_rob_scaled.index)\n",
    "\n",
    "# Function to inverse the scale transform of the data\n",
    "def inverse_scale(data):\n",
    "    return pd.DataFrame(rob_scaler.inverse_transform(data), columns=data.columns, index=data.index)\n",
    "\n",
    "# Replace original missing (continuous) values with imputed values\n",
    "df_after_MICE.loc[X_rob_scaled.index, continuous_cols] = inverse_scale(X_scaled_mice)"
   ]
  },
  {
   "cell_type": "code",
   "execution_count": 23,
   "id": "452755ff",
   "metadata": {},
   "outputs": [
    {
     "name": "stdout",
     "output_type": "stream",
     "text": [
      "Statistical Summary of Continuous Columns Missing Values BEFORE MICE Imputation:\n",
      "\n"
     ]
    },
    {
     "data": {
      "text/html": [
       "<div>\n",
       "<style scoped>\n",
       "    .dataframe tbody tr th:only-of-type {\n",
       "        vertical-align: middle;\n",
       "    }\n",
       "\n",
       "    .dataframe tbody tr th {\n",
       "        vertical-align: top;\n",
       "    }\n",
       "\n",
       "    .dataframe thead th {\n",
       "        text-align: right;\n",
       "    }\n",
       "</style>\n",
       "<table border=\"1\" class=\"dataframe\">\n",
       "  <thead>\n",
       "    <tr style=\"text-align: right;\">\n",
       "      <th></th>\n",
       "      <th>trestbps</th>\n",
       "      <th>chol</th>\n",
       "      <th>thalach</th>\n",
       "      <th>oldpeak</th>\n",
       "    </tr>\n",
       "  </thead>\n",
       "  <tbody>\n",
       "    <tr>\n",
       "      <th>count</th>\n",
       "      <td>855.000000</td>\n",
       "      <td>885.000000</td>\n",
       "      <td>859.000000</td>\n",
       "      <td>852.000000</td>\n",
       "    </tr>\n",
       "    <tr>\n",
       "      <th>mean</th>\n",
       "      <td>132.147368</td>\n",
       "      <td>199.124294</td>\n",
       "      <td>137.529686</td>\n",
       "      <td>0.877934</td>\n",
       "    </tr>\n",
       "    <tr>\n",
       "      <th>std</th>\n",
       "      <td>19.056966</td>\n",
       "      <td>110.823615</td>\n",
       "      <td>25.949655</td>\n",
       "      <td>1.090298</td>\n",
       "    </tr>\n",
       "    <tr>\n",
       "      <th>min</th>\n",
       "      <td>0.000000</td>\n",
       "      <td>0.000000</td>\n",
       "      <td>60.000000</td>\n",
       "      <td>-2.600000</td>\n",
       "    </tr>\n",
       "    <tr>\n",
       "      <th>25%</th>\n",
       "      <td>120.000000</td>\n",
       "      <td>175.000000</td>\n",
       "      <td>120.000000</td>\n",
       "      <td>0.000000</td>\n",
       "    </tr>\n",
       "    <tr>\n",
       "      <th>50%</th>\n",
       "      <td>130.000000</td>\n",
       "      <td>223.000000</td>\n",
       "      <td>140.000000</td>\n",
       "      <td>0.500000</td>\n",
       "    </tr>\n",
       "    <tr>\n",
       "      <th>75%</th>\n",
       "      <td>140.000000</td>\n",
       "      <td>268.000000</td>\n",
       "      <td>157.000000</td>\n",
       "      <td>1.500000</td>\n",
       "    </tr>\n",
       "    <tr>\n",
       "      <th>max</th>\n",
       "      <td>200.000000</td>\n",
       "      <td>603.000000</td>\n",
       "      <td>202.000000</td>\n",
       "      <td>6.200000</td>\n",
       "    </tr>\n",
       "  </tbody>\n",
       "</table>\n",
       "</div>"
      ],
      "text/plain": [
       "         trestbps        chol     thalach     oldpeak\n",
       "count  855.000000  885.000000  859.000000  852.000000\n",
       "mean   132.147368  199.124294  137.529686    0.877934\n",
       "std     19.056966  110.823615   25.949655    1.090298\n",
       "min      0.000000    0.000000   60.000000   -2.600000\n",
       "25%    120.000000  175.000000  120.000000    0.000000\n",
       "50%    130.000000  223.000000  140.000000    0.500000\n",
       "75%    140.000000  268.000000  157.000000    1.500000\n",
       "max    200.000000  603.000000  202.000000    6.200000"
      ]
     },
     "execution_count": 23,
     "metadata": {},
     "output_type": "execute_result"
    }
   ],
   "source": [
    "# Statistical summary of the pre-imputed data\n",
    "summary_before_MICE = df_before_MICE[continuous_cols].describe()\n",
    "print(\"Statistical Summary of Continuous Columns Missing Values BEFORE MICE Imputation:\\n\")\n",
    "summary_before_MICE"
   ]
  },
  {
   "cell_type": "code",
   "execution_count": 24,
   "id": "4a37a721",
   "metadata": {},
   "outputs": [
    {
     "name": "stdout",
     "output_type": "stream",
     "text": [
      "Statistical Summary of Continuous Columns Missing Values AFTER MICE Imputation:\n",
      "\n"
     ]
    },
    {
     "data": {
      "text/html": [
       "<div>\n",
       "<style scoped>\n",
       "    .dataframe tbody tr th:only-of-type {\n",
       "        vertical-align: middle;\n",
       "    }\n",
       "\n",
       "    .dataframe tbody tr th {\n",
       "        vertical-align: top;\n",
       "    }\n",
       "\n",
       "    .dataframe thead th {\n",
       "        text-align: right;\n",
       "    }\n",
       "</style>\n",
       "<table border=\"1\" class=\"dataframe\">\n",
       "  <thead>\n",
       "    <tr style=\"text-align: right;\">\n",
       "      <th></th>\n",
       "      <th>trestbps</th>\n",
       "      <th>chol</th>\n",
       "      <th>thalach</th>\n",
       "      <th>oldpeak</th>\n",
       "    </tr>\n",
       "  </thead>\n",
       "  <tbody>\n",
       "    <tr>\n",
       "      <th>count</th>\n",
       "      <td>914.000000</td>\n",
       "      <td>914.000000</td>\n",
       "      <td>914.000000</td>\n",
       "      <td>914.000000</td>\n",
       "    </tr>\n",
       "    <tr>\n",
       "      <th>mean</th>\n",
       "      <td>132.431687</td>\n",
       "      <td>198.952517</td>\n",
       "      <td>136.849689</td>\n",
       "      <td>0.878186</td>\n",
       "    </tr>\n",
       "    <tr>\n",
       "      <th>std</th>\n",
       "      <td>18.520503</td>\n",
       "      <td>109.228563</td>\n",
       "      <td>25.440402</td>\n",
       "      <td>1.061222</td>\n",
       "    </tr>\n",
       "    <tr>\n",
       "      <th>min</th>\n",
       "      <td>0.000000</td>\n",
       "      <td>0.000000</td>\n",
       "      <td>60.000000</td>\n",
       "      <td>-2.600000</td>\n",
       "    </tr>\n",
       "    <tr>\n",
       "      <th>25%</th>\n",
       "      <td>120.000000</td>\n",
       "      <td>175.000000</td>\n",
       "      <td>120.000000</td>\n",
       "      <td>0.000000</td>\n",
       "    </tr>\n",
       "    <tr>\n",
       "      <th>50%</th>\n",
       "      <td>130.000000</td>\n",
       "      <td>222.000000</td>\n",
       "      <td>138.000000</td>\n",
       "      <td>0.593185</td>\n",
       "    </tr>\n",
       "    <tr>\n",
       "      <th>75%</th>\n",
       "      <td>140.000000</td>\n",
       "      <td>267.000000</td>\n",
       "      <td>156.000000</td>\n",
       "      <td>1.500000</td>\n",
       "    </tr>\n",
       "    <tr>\n",
       "      <th>max</th>\n",
       "      <td>200.000000</td>\n",
       "      <td>603.000000</td>\n",
       "      <td>202.000000</td>\n",
       "      <td>6.200000</td>\n",
       "    </tr>\n",
       "  </tbody>\n",
       "</table>\n",
       "</div>"
      ],
      "text/plain": [
       "         trestbps        chol     thalach     oldpeak\n",
       "count  914.000000  914.000000  914.000000  914.000000\n",
       "mean   132.431687  198.952517  136.849689    0.878186\n",
       "std     18.520503  109.228563   25.440402    1.061222\n",
       "min      0.000000    0.000000   60.000000   -2.600000\n",
       "25%    120.000000  175.000000  120.000000    0.000000\n",
       "50%    130.000000  222.000000  138.000000    0.593185\n",
       "75%    140.000000  267.000000  156.000000    1.500000\n",
       "max    200.000000  603.000000  202.000000    6.200000"
      ]
     },
     "execution_count": 24,
     "metadata": {},
     "output_type": "execute_result"
    }
   ],
   "source": [
    "# Statistical summary of the MICE-imputed data\n",
    "summary_after_MICE = df_after_MICE[continuous_cols].describe()\n",
    "print(\"Statistical Summary of Continuous Columns Missing Values AFTER MICE Imputation:\\n\")\n",
    "summary_after_MICE"
   ]
  },
  {
   "cell_type": "code",
   "execution_count": 25,
   "id": "2b2cf741",
   "metadata": {},
   "outputs": [
    {
     "data": {
      "text/html": [
       "<div>\n",
       "<style scoped>\n",
       "    .dataframe tbody tr th:only-of-type {\n",
       "        vertical-align: middle;\n",
       "    }\n",
       "\n",
       "    .dataframe tbody tr th {\n",
       "        vertical-align: top;\n",
       "    }\n",
       "\n",
       "    .dataframe thead th {\n",
       "        text-align: right;\n",
       "    }\n",
       "</style>\n",
       "<table border=\"1\" class=\"dataframe\">\n",
       "  <thead>\n",
       "    <tr style=\"text-align: right;\">\n",
       "      <th></th>\n",
       "      <th>NaN_Count</th>\n",
       "      <th>NaN_Percent</th>\n",
       "    </tr>\n",
       "  </thead>\n",
       "  <tbody>\n",
       "    <tr>\n",
       "      <th>age</th>\n",
       "      <td>0</td>\n",
       "      <td>0.0%</td>\n",
       "    </tr>\n",
       "    <tr>\n",
       "      <th>sex</th>\n",
       "      <td>0</td>\n",
       "      <td>0.0%</td>\n",
       "    </tr>\n",
       "    <tr>\n",
       "      <th>cp</th>\n",
       "      <td>0</td>\n",
       "      <td>0.0%</td>\n",
       "    </tr>\n",
       "    <tr>\n",
       "      <th>trestbps</th>\n",
       "      <td>0</td>\n",
       "      <td>0.0%</td>\n",
       "    </tr>\n",
       "    <tr>\n",
       "      <th>chol</th>\n",
       "      <td>0</td>\n",
       "      <td>0.0%</td>\n",
       "    </tr>\n",
       "    <tr>\n",
       "      <th>fbs</th>\n",
       "      <td>89</td>\n",
       "      <td>9.74%</td>\n",
       "    </tr>\n",
       "    <tr>\n",
       "      <th>restecg</th>\n",
       "      <td>2</td>\n",
       "      <td>0.22%</td>\n",
       "    </tr>\n",
       "    <tr>\n",
       "      <th>thalach</th>\n",
       "      <td>0</td>\n",
       "      <td>0.0%</td>\n",
       "    </tr>\n",
       "    <tr>\n",
       "      <th>exang</th>\n",
       "      <td>55</td>\n",
       "      <td>6.02%</td>\n",
       "    </tr>\n",
       "    <tr>\n",
       "      <th>oldpeak</th>\n",
       "      <td>0</td>\n",
       "      <td>0.0%</td>\n",
       "    </tr>\n",
       "    <tr>\n",
       "      <th>slope</th>\n",
       "      <td>306</td>\n",
       "      <td>33.48%</td>\n",
       "    </tr>\n",
       "    <tr>\n",
       "      <th>ca</th>\n",
       "      <td>606</td>\n",
       "      <td>66.3%</td>\n",
       "    </tr>\n",
       "    <tr>\n",
       "      <th>thal</th>\n",
       "      <td>481</td>\n",
       "      <td>52.629999999999995%</td>\n",
       "    </tr>\n",
       "    <tr>\n",
       "      <th>num</th>\n",
       "      <td>0</td>\n",
       "      <td>0.0%</td>\n",
       "    </tr>\n",
       "    <tr>\n",
       "      <th>location</th>\n",
       "      <td>0</td>\n",
       "      <td>0.0%</td>\n",
       "    </tr>\n",
       "  </tbody>\n",
       "</table>\n",
       "</div>"
      ],
      "text/plain": [
       "          NaN_Count          NaN_Percent\n",
       "age               0                 0.0%\n",
       "sex               0                 0.0%\n",
       "cp                0                 0.0%\n",
       "trestbps          0                 0.0%\n",
       "chol              0                 0.0%\n",
       "fbs              89                9.74%\n",
       "restecg           2                0.22%\n",
       "thalach           0                 0.0%\n",
       "exang            55                6.02%\n",
       "oldpeak           0                 0.0%\n",
       "slope           306               33.48%\n",
       "ca              606                66.3%\n",
       "thal            481  52.629999999999995%\n",
       "num               0                 0.0%\n",
       "location          0                 0.0%"
      ]
     },
     "execution_count": 25,
     "metadata": {},
     "output_type": "execute_result"
    }
   ],
   "source": [
    "df_half_clean[continuous_cols] = df_after_MICE[continuous_cols]\n",
    "\n",
    "nan_stats = pd.DataFrame(df_half_clean.isna().sum(), columns=[\"NaN_Count\"])\n",
    "nan_stats[\"NaN_Percent\"] = np.round(nan_stats[\"NaN_Count\"]/df_half_clean.shape[0], 4)*100\n",
    "nan_stats[\"NaN_Percent\"] = nan_stats[\"NaN_Percent\"].astype(str) + \"%\"\n",
    "nan_stats"
   ]
  },
  {
   "cell_type": "markdown",
   "id": "7adc14a0",
   "metadata": {},
   "source": [
    "#### KNN"
   ]
  },
  {
   "cell_type": "code",
   "execution_count": 26,
   "id": "00076eb1",
   "metadata": {},
   "outputs": [],
   "source": [
    "df_before_KNN = df_half_clean.copy()\n",
    "\n",
    "# Utilize the entire dataset\n",
    "df_after_KNN = df_before_KNN.copy()\n",
    "\n",
    "# Scale features using StandardScaler\n",
    "std_scaler = StandardScaler()\n",
    "X_std_scaled = pd.DataFrame(std_scaler.fit_transform(df_before_KNN), columns=df_before_KNN.columns, index=df_before_KNN.index)\n",
    "\n",
    "# Perform KNN imputation\n",
    "knn_imputer = KNNImputer(n_neighbors=1)\n",
    "X_scaled_knn = pd.DataFrame(knn_imputer.fit_transform(X_std_scaled), \n",
    "                            columns=X_std_scaled.columns, index=X_std_scaled.index)\n",
    "\n",
    "# Function to inverse the scale transform of the data\n",
    "def inverse_scale(data):\n",
    "    return pd.DataFrame(std_scaler.inverse_transform(data), columns=data.columns, index=data.index)\n",
    "\n",
    "# Replace original missing (categorical) values with imputed values\n",
    "df_after_KNN = inverse_scale(X_scaled_knn)"
   ]
  },
  {
   "cell_type": "code",
   "execution_count": 27,
   "id": "85f888fc",
   "metadata": {},
   "outputs": [
    {
     "name": "stdout",
     "output_type": "stream",
     "text": [
      "Statistical Summary of Continuous Columns Missing Values BEFORE KNN Imputation:\n",
      "\n"
     ]
    },
    {
     "data": {
      "text/html": [
       "<div>\n",
       "<style scoped>\n",
       "    .dataframe tbody tr th:only-of-type {\n",
       "        vertical-align: middle;\n",
       "    }\n",
       "\n",
       "    .dataframe tbody tr th {\n",
       "        vertical-align: top;\n",
       "    }\n",
       "\n",
       "    .dataframe thead th {\n",
       "        text-align: right;\n",
       "    }\n",
       "</style>\n",
       "<table border=\"1\" class=\"dataframe\">\n",
       "  <thead>\n",
       "    <tr style=\"text-align: right;\">\n",
       "      <th></th>\n",
       "      <th>fbs</th>\n",
       "      <th>restecg</th>\n",
       "      <th>exang</th>\n",
       "      <th>slope</th>\n",
       "      <th>ca</th>\n",
       "      <th>thal</th>\n",
       "    </tr>\n",
       "  </thead>\n",
       "  <tbody>\n",
       "    <tr>\n",
       "      <th>count</th>\n",
       "      <td>825.000000</td>\n",
       "      <td>912.000000</td>\n",
       "      <td>859.000000</td>\n",
       "      <td>608.000000</td>\n",
       "      <td>308.000000</td>\n",
       "      <td>433.000000</td>\n",
       "    </tr>\n",
       "    <tr>\n",
       "      <th>mean</th>\n",
       "      <td>0.166061</td>\n",
       "      <td>0.604167</td>\n",
       "      <td>0.389988</td>\n",
       "      <td>1.769737</td>\n",
       "      <td>0.678571</td>\n",
       "      <td>5.085450</td>\n",
       "    </tr>\n",
       "    <tr>\n",
       "      <th>std</th>\n",
       "      <td>0.372361</td>\n",
       "      <td>0.806195</td>\n",
       "      <td>0.488031</td>\n",
       "      <td>0.617914</td>\n",
       "      <td>0.936378</td>\n",
       "      <td>1.920792</td>\n",
       "    </tr>\n",
       "    <tr>\n",
       "      <th>min</th>\n",
       "      <td>0.000000</td>\n",
       "      <td>0.000000</td>\n",
       "      <td>0.000000</td>\n",
       "      <td>1.000000</td>\n",
       "      <td>0.000000</td>\n",
       "      <td>3.000000</td>\n",
       "    </tr>\n",
       "    <tr>\n",
       "      <th>25%</th>\n",
       "      <td>0.000000</td>\n",
       "      <td>0.000000</td>\n",
       "      <td>0.000000</td>\n",
       "      <td>1.000000</td>\n",
       "      <td>0.000000</td>\n",
       "      <td>3.000000</td>\n",
       "    </tr>\n",
       "    <tr>\n",
       "      <th>50%</th>\n",
       "      <td>0.000000</td>\n",
       "      <td>0.000000</td>\n",
       "      <td>0.000000</td>\n",
       "      <td>2.000000</td>\n",
       "      <td>0.000000</td>\n",
       "      <td>6.000000</td>\n",
       "    </tr>\n",
       "    <tr>\n",
       "      <th>75%</th>\n",
       "      <td>0.000000</td>\n",
       "      <td>1.000000</td>\n",
       "      <td>1.000000</td>\n",
       "      <td>2.000000</td>\n",
       "      <td>1.000000</td>\n",
       "      <td>7.000000</td>\n",
       "    </tr>\n",
       "    <tr>\n",
       "      <th>max</th>\n",
       "      <td>1.000000</td>\n",
       "      <td>2.000000</td>\n",
       "      <td>1.000000</td>\n",
       "      <td>3.000000</td>\n",
       "      <td>3.000000</td>\n",
       "      <td>7.000000</td>\n",
       "    </tr>\n",
       "  </tbody>\n",
       "</table>\n",
       "</div>"
      ],
      "text/plain": [
       "              fbs     restecg       exang       slope          ca        thal\n",
       "count  825.000000  912.000000  859.000000  608.000000  308.000000  433.000000\n",
       "mean     0.166061    0.604167    0.389988    1.769737    0.678571    5.085450\n",
       "std      0.372361    0.806195    0.488031    0.617914    0.936378    1.920792\n",
       "min      0.000000    0.000000    0.000000    1.000000    0.000000    3.000000\n",
       "25%      0.000000    0.000000    0.000000    1.000000    0.000000    3.000000\n",
       "50%      0.000000    0.000000    0.000000    2.000000    0.000000    6.000000\n",
       "75%      0.000000    1.000000    1.000000    2.000000    1.000000    7.000000\n",
       "max      1.000000    2.000000    1.000000    3.000000    3.000000    7.000000"
      ]
     },
     "execution_count": 27,
     "metadata": {},
     "output_type": "execute_result"
    }
   ],
   "source": [
    "# Statistical summary of the pre-imputed data\n",
    "summary_before_KNN = df_before_KNN[categorical_cols].describe()\n",
    "print(\"Statistical Summary of Continuous Columns Missing Values BEFORE KNN Imputation:\\n\")\n",
    "summary_before_KNN"
   ]
  },
  {
   "cell_type": "code",
   "execution_count": 28,
   "id": "88fe1839",
   "metadata": {},
   "outputs": [
    {
     "name": "stdout",
     "output_type": "stream",
     "text": [
      "Statistical Summary of Continuous Columns Missing Values AFTER KNN Imputation:\n",
      "\n"
     ]
    },
    {
     "data": {
      "text/html": [
       "<div>\n",
       "<style scoped>\n",
       "    .dataframe tbody tr th:only-of-type {\n",
       "        vertical-align: middle;\n",
       "    }\n",
       "\n",
       "    .dataframe tbody tr th {\n",
       "        vertical-align: top;\n",
       "    }\n",
       "\n",
       "    .dataframe thead th {\n",
       "        text-align: right;\n",
       "    }\n",
       "</style>\n",
       "<table border=\"1\" class=\"dataframe\">\n",
       "  <thead>\n",
       "    <tr style=\"text-align: right;\">\n",
       "      <th></th>\n",
       "      <th>fbs</th>\n",
       "      <th>restecg</th>\n",
       "      <th>exang</th>\n",
       "      <th>slope</th>\n",
       "      <th>ca</th>\n",
       "      <th>thal</th>\n",
       "    </tr>\n",
       "  </thead>\n",
       "  <tbody>\n",
       "    <tr>\n",
       "      <th>count</th>\n",
       "      <td>914.000000</td>\n",
       "      <td>914.000000</td>\n",
       "      <td>914.000000</td>\n",
       "      <td>914.000000</td>\n",
       "      <td>914.000000</td>\n",
       "      <td>914.000000</td>\n",
       "    </tr>\n",
       "    <tr>\n",
       "      <th>mean</th>\n",
       "      <td>0.170678</td>\n",
       "      <td>0.603939</td>\n",
       "      <td>0.404814</td>\n",
       "      <td>1.723195</td>\n",
       "      <td>0.622538</td>\n",
       "      <td>5.344639</td>\n",
       "    </tr>\n",
       "    <tr>\n",
       "      <th>std</th>\n",
       "      <td>0.376434</td>\n",
       "      <td>0.805666</td>\n",
       "      <td>0.491125</td>\n",
       "      <td>0.602085</td>\n",
       "      <td>0.874850</td>\n",
       "      <td>1.849910</td>\n",
       "    </tr>\n",
       "    <tr>\n",
       "      <th>min</th>\n",
       "      <td>0.000000</td>\n",
       "      <td>0.000000</td>\n",
       "      <td>0.000000</td>\n",
       "      <td>1.000000</td>\n",
       "      <td>0.000000</td>\n",
       "      <td>3.000000</td>\n",
       "    </tr>\n",
       "    <tr>\n",
       "      <th>25%</th>\n",
       "      <td>0.000000</td>\n",
       "      <td>0.000000</td>\n",
       "      <td>0.000000</td>\n",
       "      <td>1.000000</td>\n",
       "      <td>0.000000</td>\n",
       "      <td>3.000000</td>\n",
       "    </tr>\n",
       "    <tr>\n",
       "      <th>50%</th>\n",
       "      <td>0.000000</td>\n",
       "      <td>0.000000</td>\n",
       "      <td>0.000000</td>\n",
       "      <td>2.000000</td>\n",
       "      <td>0.000000</td>\n",
       "      <td>6.000000</td>\n",
       "    </tr>\n",
       "    <tr>\n",
       "      <th>75%</th>\n",
       "      <td>0.000000</td>\n",
       "      <td>1.000000</td>\n",
       "      <td>1.000000</td>\n",
       "      <td>2.000000</td>\n",
       "      <td>1.000000</td>\n",
       "      <td>7.000000</td>\n",
       "    </tr>\n",
       "    <tr>\n",
       "      <th>max</th>\n",
       "      <td>1.000000</td>\n",
       "      <td>2.000000</td>\n",
       "      <td>1.000000</td>\n",
       "      <td>3.000000</td>\n",
       "      <td>3.000000</td>\n",
       "      <td>7.000000</td>\n",
       "    </tr>\n",
       "  </tbody>\n",
       "</table>\n",
       "</div>"
      ],
      "text/plain": [
       "              fbs     restecg       exang       slope          ca        thal\n",
       "count  914.000000  914.000000  914.000000  914.000000  914.000000  914.000000\n",
       "mean     0.170678    0.603939    0.404814    1.723195    0.622538    5.344639\n",
       "std      0.376434    0.805666    0.491125    0.602085    0.874850    1.849910\n",
       "min      0.000000    0.000000    0.000000    1.000000    0.000000    3.000000\n",
       "25%      0.000000    0.000000    0.000000    1.000000    0.000000    3.000000\n",
       "50%      0.000000    0.000000    0.000000    2.000000    0.000000    6.000000\n",
       "75%      0.000000    1.000000    1.000000    2.000000    1.000000    7.000000\n",
       "max      1.000000    2.000000    1.000000    3.000000    3.000000    7.000000"
      ]
     },
     "execution_count": 28,
     "metadata": {},
     "output_type": "execute_result"
    }
   ],
   "source": [
    "# Statistical summary of the KNN-imputed data\n",
    "summary_after_KNN = df_after_KNN[categorical_cols].describe()\n",
    "print(\"Statistical Summary of Continuous Columns Missing Values AFTER KNN Imputation:\\n\")\n",
    "summary_after_KNN"
   ]
  },
  {
   "cell_type": "code",
   "execution_count": 29,
   "id": "73d2904e",
   "metadata": {},
   "outputs": [
    {
     "data": {
      "text/html": [
       "<div>\n",
       "<style scoped>\n",
       "    .dataframe tbody tr th:only-of-type {\n",
       "        vertical-align: middle;\n",
       "    }\n",
       "\n",
       "    .dataframe tbody tr th {\n",
       "        vertical-align: top;\n",
       "    }\n",
       "\n",
       "    .dataframe thead th {\n",
       "        text-align: right;\n",
       "    }\n",
       "</style>\n",
       "<table border=\"1\" class=\"dataframe\">\n",
       "  <thead>\n",
       "    <tr style=\"text-align: right;\">\n",
       "      <th></th>\n",
       "      <th>NaN_Count</th>\n",
       "      <th>NaN_Percent</th>\n",
       "    </tr>\n",
       "  </thead>\n",
       "  <tbody>\n",
       "    <tr>\n",
       "      <th>age</th>\n",
       "      <td>0</td>\n",
       "      <td>0.0%</td>\n",
       "    </tr>\n",
       "    <tr>\n",
       "      <th>sex</th>\n",
       "      <td>0</td>\n",
       "      <td>0.0%</td>\n",
       "    </tr>\n",
       "    <tr>\n",
       "      <th>cp</th>\n",
       "      <td>0</td>\n",
       "      <td>0.0%</td>\n",
       "    </tr>\n",
       "    <tr>\n",
       "      <th>trestbps</th>\n",
       "      <td>0</td>\n",
       "      <td>0.0%</td>\n",
       "    </tr>\n",
       "    <tr>\n",
       "      <th>chol</th>\n",
       "      <td>0</td>\n",
       "      <td>0.0%</td>\n",
       "    </tr>\n",
       "    <tr>\n",
       "      <th>fbs</th>\n",
       "      <td>0</td>\n",
       "      <td>0.0%</td>\n",
       "    </tr>\n",
       "    <tr>\n",
       "      <th>restecg</th>\n",
       "      <td>0</td>\n",
       "      <td>0.0%</td>\n",
       "    </tr>\n",
       "    <tr>\n",
       "      <th>thalach</th>\n",
       "      <td>0</td>\n",
       "      <td>0.0%</td>\n",
       "    </tr>\n",
       "    <tr>\n",
       "      <th>exang</th>\n",
       "      <td>0</td>\n",
       "      <td>0.0%</td>\n",
       "    </tr>\n",
       "    <tr>\n",
       "      <th>oldpeak</th>\n",
       "      <td>0</td>\n",
       "      <td>0.0%</td>\n",
       "    </tr>\n",
       "    <tr>\n",
       "      <th>slope</th>\n",
       "      <td>0</td>\n",
       "      <td>0.0%</td>\n",
       "    </tr>\n",
       "    <tr>\n",
       "      <th>ca</th>\n",
       "      <td>0</td>\n",
       "      <td>0.0%</td>\n",
       "    </tr>\n",
       "    <tr>\n",
       "      <th>thal</th>\n",
       "      <td>0</td>\n",
       "      <td>0.0%</td>\n",
       "    </tr>\n",
       "    <tr>\n",
       "      <th>num</th>\n",
       "      <td>0</td>\n",
       "      <td>0.0%</td>\n",
       "    </tr>\n",
       "    <tr>\n",
       "      <th>location</th>\n",
       "      <td>0</td>\n",
       "      <td>0.0%</td>\n",
       "    </tr>\n",
       "  </tbody>\n",
       "</table>\n",
       "</div>"
      ],
      "text/plain": [
       "          NaN_Count NaN_Percent\n",
       "age               0        0.0%\n",
       "sex               0        0.0%\n",
       "cp                0        0.0%\n",
       "trestbps          0        0.0%\n",
       "chol              0        0.0%\n",
       "fbs               0        0.0%\n",
       "restecg           0        0.0%\n",
       "thalach           0        0.0%\n",
       "exang             0        0.0%\n",
       "oldpeak           0        0.0%\n",
       "slope             0        0.0%\n",
       "ca                0        0.0%\n",
       "thal              0        0.0%\n",
       "num               0        0.0%\n",
       "location          0        0.0%"
      ]
     },
     "execution_count": 29,
     "metadata": {},
     "output_type": "execute_result"
    }
   ],
   "source": [
    "df_clean = df_after_KNN.copy()\n",
    "\n",
    "nan_stats = pd.DataFrame(df_clean.isna().sum(), columns=[\"NaN_Count\"])\n",
    "nan_stats[\"NaN_Percent\"] = np.round(nan_stats[\"NaN_Count\"]/df_clean.shape[0], 4)*100\n",
    "nan_stats[\"NaN_Percent\"] = nan_stats[\"NaN_Percent\"].astype(str) + \"%\"\n",
    "nan_stats"
   ]
  },
  {
   "cell_type": "code",
   "execution_count": 30,
   "id": "53af2ada",
   "metadata": {},
   "outputs": [
    {
     "name": "stdout",
     "output_type": "stream",
     "text": [
      "All Categorical Variables Were Imputed Correctly (No Decimals and Within Respective Range of Values)\n",
      "Unique Values of \"fbs\" Variable: [0. 1.]\n",
      "Unique Values of \"restecg\" Variable: [0. 1. 2.]\n",
      "Unique Values of \"exang\" Variable: [0. 1.]\n",
      "Unique Values of \"slope\" Variable: [1. 2. 3.]\n",
      "Unique Values of \"ca\" Variable: [0. 1. 2. 3.]\n",
      "Unique Values of \"thal\" Variable: [3. 6. 7.]\n"
     ]
    }
   ],
   "source": [
    "print(\"All Categorical Variables Were Imputed Correctly (No Decimals and Within Respective Range of Values)\")\n",
    "print(f\"Unique Values of \\\"fbs\\\" Variable: {np.sort(df_clean['fbs'].unique())}\")\n",
    "print(f\"Unique Values of \\\"restecg\\\" Variable: {np.sort(df_clean['restecg'].unique())}\")\n",
    "print(f\"Unique Values of \\\"exang\\\" Variable: {np.sort(df_clean['exang'].unique())}\")\n",
    "print(f\"Unique Values of \\\"slope\\\" Variable: {np.sort(df_clean['slope'].unique())}\")\n",
    "print(f\"Unique Values of \\\"ca\\\" Variable: {np.sort(df_clean['ca'].unique())}\")\n",
    "print(f\"Unique Values of \\\"thal\\\" Variable: {np.sort(df_clean['thal'].unique())}\")"
   ]
  },
  {
   "cell_type": "markdown",
   "id": "1b19f0f1",
   "metadata": {},
   "source": [
    "## Assigning Proper Data Types"
   ]
  },
  {
   "cell_type": "code",
   "execution_count": 31,
   "id": "338c9857",
   "metadata": {},
   "outputs": [
    {
     "name": "stdout",
     "output_type": "stream",
     "text": [
      "<class 'pandas.core.frame.DataFrame'>\n",
      "Index: 914 entries, 0 to 915\n",
      "Data columns (total 15 columns):\n",
      " #   Column    Non-Null Count  Dtype  \n",
      "---  ------    --------------  -----  \n",
      " 0   age       914 non-null    float64\n",
      " 1   sex       914 non-null    int64  \n",
      " 2   cp        914 non-null    int64  \n",
      " 3   trestbps  914 non-null    float64\n",
      " 4   chol      914 non-null    float64\n",
      " 5   fbs       914 non-null    int64  \n",
      " 6   restecg   914 non-null    int64  \n",
      " 7   thalach   914 non-null    float64\n",
      " 8   exang     914 non-null    int64  \n",
      " 9   oldpeak   914 non-null    float64\n",
      " 10  slope     914 non-null    int64  \n",
      " 11  ca        914 non-null    int64  \n",
      " 12  thal      914 non-null    int64  \n",
      " 13  num       914 non-null    int64  \n",
      " 14  location  914 non-null    int64  \n",
      "dtypes: float64(5), int64(10)\n",
      "memory usage: 146.5 KB\n"
     ]
    }
   ],
   "source": [
    "df_clean = df_clean.astype({\"age\": float, \"sex\": int, \"cp\": int, \"trestbps\": float, \"chol\": float, \n",
    "                            \"fbs\": int, \"restecg\": int, \"thalach\": float, \"exang\": int, \"oldpeak\": float, \n",
    "                            \"slope\": int, \"ca\": int, \"thal\": int, \"num\": int, \"location\": int})\n",
    "\n",
    "df_clean.info() # Appropriate Data Types"
   ]
  },
  {
   "cell_type": "markdown",
   "id": "4c1f7f4f-6474-4635-8ffb-e75516237fa9",
   "metadata": {},
   "source": [
    "## Correlation and Outliers"
   ]
  },
  {
   "cell_type": "code",
   "execution_count": 32,
   "id": "3135472a-7be8-4fe3-a9b0-93ab2bbef08b",
   "metadata": {},
   "outputs": [
    {
     "data": {
      "application/vnd.plotly.v1+json": {
       "config": {
        "plotlyServerURL": "https://plot.ly"
       },
       "data": [
        {
         "colorscale": [
          [
           0,
           "rgb(0,0,255)"
          ],
          [
           1,
           "rgb(255,0,0)"
          ]
         ],
         "reversescale": false,
         "showscale": false,
         "type": "heatmap",
         "x": [
          "age",
          "sex",
          "cp",
          "trestbps",
          "chol",
          "fbs",
          "restecg",
          "thalach",
          "exang",
          "oldpeak",
          "slope",
          "ca",
          "thal",
          "num",
          "location"
         ],
         "y": [
          "age",
          "sex",
          "cp",
          "trestbps",
          "chol",
          "fbs",
          "restecg",
          "thalach",
          "exang",
          "oldpeak",
          "slope",
          "ca",
          "thal",
          "num",
          "location"
         ],
         "z": {
          "bdata": "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",
          "dtype": "f8",
          "shape": "15, 15"
         }
        }
       ],
       "layout": {
        "annotations": [
         {
          "font": {
           "color": "#FFFFFF"
          },
          "showarrow": false,
          "text": "1.0",
          "x": "age",
          "xref": "x",
          "y": "age",
          "yref": "y"
         },
         {
          "font": {
           "color": "#FFFFFF"
          },
          "showarrow": false,
          "text": "0.06",
          "x": "sex",
          "xref": "x",
          "y": "age",
          "yref": "y"
         },
         {
          "font": {
           "color": "#FFFFFF"
          },
          "showarrow": false,
          "text": "0.16",
          "x": "cp",
          "xref": "x",
          "y": "age",
          "yref": "y"
         },
         {
          "font": {
           "color": "#FFFFFF"
          },
          "showarrow": false,
          "text": "0.24",
          "x": "trestbps",
          "xref": "x",
          "y": "age",
          "yref": "y"
         },
         {
          "font": {
           "color": "#FFFFFF"
          },
          "showarrow": false,
          "text": "-0.09",
          "x": "chol",
          "xref": "x",
          "y": "age",
          "yref": "y"
         },
         {
          "font": {
           "color": "#FFFFFF"
          },
          "showarrow": false,
          "text": "0.23",
          "x": "fbs",
          "xref": "x",
          "y": "age",
          "yref": "y"
         },
         {
          "font": {
           "color": "#FFFFFF"
          },
          "showarrow": false,
          "text": "0.21",
          "x": "restecg",
          "xref": "x",
          "y": "age",
          "yref": "y"
         },
         {
          "font": {
           "color": "#FFFFFF"
          },
          "showarrow": false,
          "text": "-0.37",
          "x": "thalach",
          "xref": "x",
          "y": "age",
          "yref": "y"
         },
         {
          "font": {
           "color": "#FFFFFF"
          },
          "showarrow": false,
          "text": "0.2",
          "x": "exang",
          "xref": "x",
          "y": "age",
          "yref": "y"
         },
         {
          "font": {
           "color": "#FFFFFF"
          },
          "showarrow": false,
          "text": "0.26",
          "x": "oldpeak",
          "xref": "x",
          "y": "age",
          "yref": "y"
         },
         {
          "font": {
           "color": "#FFFFFF"
          },
          "showarrow": false,
          "text": "0.15",
          "x": "slope",
          "xref": "x",
          "y": "age",
          "yref": "y"
         },
         {
          "font": {
           "color": "#FFFFFF"
          },
          "showarrow": false,
          "text": "0.37",
          "x": "ca",
          "xref": "x",
          "y": "age",
          "yref": "y"
         },
         {
          "font": {
           "color": "#FFFFFF"
          },
          "showarrow": false,
          "text": "0.14",
          "x": "thal",
          "xref": "x",
          "y": "age",
          "yref": "y"
         },
         {
          "font": {
           "color": "#FFFFFF"
          },
          "showarrow": false,
          "text": "0.28",
          "x": "num",
          "xref": "x",
          "y": "age",
          "yref": "y"
         },
         {
          "font": {
           "color": "#FFFFFF"
          },
          "showarrow": false,
          "text": "0.15",
          "x": "location",
          "xref": "x",
          "y": "age",
          "yref": "y"
         },
         {
          "font": {
           "color": "#FFFFFF"
          },
          "showarrow": false,
          "text": "0.06",
          "x": "age",
          "xref": "x",
          "y": "sex",
          "yref": "y"
         },
         {
          "font": {
           "color": "#FFFFFF"
          },
          "showarrow": false,
          "text": "1.0",
          "x": "sex",
          "xref": "x",
          "y": "sex",
          "yref": "y"
         },
         {
          "font": {
           "color": "#FFFFFF"
          },
          "showarrow": false,
          "text": "0.17",
          "x": "cp",
          "xref": "x",
          "y": "sex",
          "yref": "y"
         },
         {
          "font": {
           "color": "#FFFFFF"
          },
          "showarrow": false,
          "text": "-0.0",
          "x": "trestbps",
          "xref": "x",
          "y": "sex",
          "yref": "y"
         },
         {
          "font": {
           "color": "#FFFFFF"
          },
          "showarrow": false,
          "text": "-0.2",
          "x": "chol",
          "xref": "x",
          "y": "sex",
          "yref": "y"
         },
         {
          "font": {
           "color": "#FFFFFF"
          },
          "showarrow": false,
          "text": "0.09",
          "x": "fbs",
          "xref": "x",
          "y": "sex",
          "yref": "y"
         },
         {
          "font": {
           "color": "#FFFFFF"
          },
          "showarrow": false,
          "text": "-0.02",
          "x": "restecg",
          "xref": "x",
          "y": "sex",
          "yref": "y"
         },
         {
          "font": {
           "color": "#FFFFFF"
          },
          "showarrow": false,
          "text": "-0.18",
          "x": "thalach",
          "xref": "x",
          "y": "sex",
          "yref": "y"
         },
         {
          "font": {
           "color": "#FFFFFF"
          },
          "showarrow": false,
          "text": "0.18",
          "x": "exang",
          "xref": "x",
          "y": "sex",
          "yref": "y"
         },
         {
          "font": {
           "color": "#FFFFFF"
          },
          "showarrow": false,
          "text": "0.1",
          "x": "oldpeak",
          "xref": "x",
          "y": "sex",
          "yref": "y"
         },
         {
          "font": {
           "color": "#FFFFFF"
          },
          "showarrow": false,
          "text": "0.12",
          "x": "slope",
          "xref": "x",
          "y": "sex",
          "yref": "y"
         },
         {
          "font": {
           "color": "#FFFFFF"
          },
          "showarrow": false,
          "text": "0.1",
          "x": "ca",
          "xref": "x",
          "y": "sex",
          "yref": "y"
         },
         {
          "font": {
           "color": "#FFFFFF"
          },
          "showarrow": false,
          "text": "0.37",
          "x": "thal",
          "xref": "x",
          "y": "sex",
          "yref": "y"
         },
         {
          "font": {
           "color": "#FFFFFF"
          },
          "showarrow": false,
          "text": "0.26",
          "x": "num",
          "xref": "x",
          "y": "sex",
          "yref": "y"
         },
         {
          "font": {
           "color": "#FFFFFF"
          },
          "showarrow": false,
          "text": "0.26",
          "x": "location",
          "xref": "x",
          "y": "sex",
          "yref": "y"
         },
         {
          "font": {
           "color": "#FFFFFF"
          },
          "showarrow": false,
          "text": "0.16",
          "x": "age",
          "xref": "x",
          "y": "cp",
          "yref": "y"
         },
         {
          "font": {
           "color": "#FFFFFF"
          },
          "showarrow": false,
          "text": "0.17",
          "x": "sex",
          "xref": "x",
          "y": "cp",
          "yref": "y"
         },
         {
          "font": {
           "color": "#FFFFFF"
          },
          "showarrow": false,
          "text": "1.0",
          "x": "cp",
          "xref": "x",
          "y": "cp",
          "yref": "y"
         },
         {
          "font": {
           "color": "#FFFFFF"
          },
          "showarrow": false,
          "text": "0.02",
          "x": "trestbps",
          "xref": "x",
          "y": "cp",
          "yref": "y"
         },
         {
          "font": {
           "color": "#FFFFFF"
          },
          "showarrow": false,
          "text": "-0.14",
          "x": "chol",
          "xref": "x",
          "y": "cp",
          "yref": "y"
         },
         {
          "font": {
           "color": "#FFFFFF"
          },
          "showarrow": false,
          "text": "0.05",
          "x": "fbs",
          "xref": "x",
          "y": "cp",
          "yref": "y"
         },
         {
          "font": {
           "color": "#FFFFFF"
          },
          "showarrow": false,
          "text": "0.03",
          "x": "restecg",
          "xref": "x",
          "y": "cp",
          "yref": "y"
         },
         {
          "font": {
           "color": "#FFFFFF"
          },
          "showarrow": false,
          "text": "-0.35",
          "x": "thalach",
          "xref": "x",
          "y": "cp",
          "yref": "y"
         },
         {
          "font": {
           "color": "#FFFFFF"
          },
          "showarrow": false,
          "text": "0.42",
          "x": "exang",
          "xref": "x",
          "y": "cp",
          "yref": "y"
         },
         {
          "font": {
           "color": "#FFFFFF"
          },
          "showarrow": false,
          "text": "0.25",
          "x": "oldpeak",
          "xref": "x",
          "y": "cp",
          "yref": "y"
         },
         {
          "font": {
           "color": "#FFFFFF"
          },
          "showarrow": false,
          "text": "0.21",
          "x": "slope",
          "xref": "x",
          "y": "cp",
          "yref": "y"
         },
         {
          "font": {
           "color": "#FFFFFF"
          },
          "showarrow": false,
          "text": "0.21",
          "x": "ca",
          "xref": "x",
          "y": "cp",
          "yref": "y"
         },
         {
          "font": {
           "color": "#FFFFFF"
          },
          "showarrow": false,
          "text": "0.32",
          "x": "thal",
          "xref": "x",
          "y": "cp",
          "yref": "y"
         },
         {
          "font": {
           "color": "#FFFFFF"
          },
          "showarrow": false,
          "text": "0.4",
          "x": "num",
          "xref": "x",
          "y": "cp",
          "yref": "y"
         },
         {
          "font": {
           "color": "#FFFFFF"
          },
          "showarrow": false,
          "text": "0.22",
          "x": "location",
          "xref": "x",
          "y": "cp",
          "yref": "y"
         },
         {
          "font": {
           "color": "#FFFFFF"
          },
          "showarrow": false,
          "text": "0.24",
          "x": "age",
          "xref": "x",
          "y": "trestbps",
          "yref": "y"
         },
         {
          "font": {
           "color": "#FFFFFF"
          },
          "showarrow": false,
          "text": "-0.0",
          "x": "sex",
          "xref": "x",
          "y": "trestbps",
          "yref": "y"
         },
         {
          "font": {
           "color": "#FFFFFF"
          },
          "showarrow": false,
          "text": "0.02",
          "x": "cp",
          "xref": "x",
          "y": "trestbps",
          "yref": "y"
         },
         {
          "font": {
           "color": "#FFFFFF"
          },
          "showarrow": false,
          "text": "1.0",
          "x": "trestbps",
          "xref": "x",
          "y": "trestbps",
          "yref": "y"
         },
         {
          "font": {
           "color": "#FFFFFF"
          },
          "showarrow": false,
          "text": "0.09",
          "x": "chol",
          "xref": "x",
          "y": "trestbps",
          "yref": "y"
         },
         {
          "font": {
           "color": "#FFFFFF"
          },
          "showarrow": false,
          "text": "0.16",
          "x": "fbs",
          "xref": "x",
          "y": "trestbps",
          "yref": "y"
         },
         {
          "font": {
           "color": "#FFFFFF"
          },
          "showarrow": false,
          "text": "0.1",
          "x": "restecg",
          "xref": "x",
          "y": "trestbps",
          "yref": "y"
         },
         {
          "font": {
           "color": "#FFFFFF"
          },
          "showarrow": false,
          "text": "-0.11",
          "x": "thalach",
          "xref": "x",
          "y": "trestbps",
          "yref": "y"
         },
         {
          "font": {
           "color": "#FFFFFF"
          },
          "showarrow": false,
          "text": "0.15",
          "x": "exang",
          "xref": "x",
          "y": "trestbps",
          "yref": "y"
         },
         {
          "font": {
           "color": "#FFFFFF"
          },
          "showarrow": false,
          "text": "0.16",
          "x": "oldpeak",
          "xref": "x",
          "y": "trestbps",
          "yref": "y"
         },
         {
          "font": {
           "color": "#FFFFFF"
          },
          "showarrow": false,
          "text": "0.06",
          "x": "slope",
          "xref": "x",
          "y": "trestbps",
          "yref": "y"
         },
         {
          "font": {
           "color": "#FFFFFF"
          },
          "showarrow": false,
          "text": "0.1",
          "x": "ca",
          "xref": "x",
          "y": "trestbps",
          "yref": "y"
         },
         {
          "font": {
           "color": "#FFFFFF"
          },
          "showarrow": false,
          "text": "0.11",
          "x": "thal",
          "xref": "x",
          "y": "trestbps",
          "yref": "y"
         },
         {
          "font": {
           "color": "#FFFFFF"
          },
          "showarrow": false,
          "text": "0.16",
          "x": "num",
          "xref": "x",
          "y": "trestbps",
          "yref": "y"
         },
         {
          "font": {
           "color": "#FFFFFF"
          },
          "showarrow": false,
          "text": "-0.0",
          "x": "location",
          "xref": "x",
          "y": "trestbps",
          "yref": "y"
         },
         {
          "font": {
           "color": "#FFFFFF"
          },
          "showarrow": false,
          "text": "-0.09",
          "x": "age",
          "xref": "x",
          "y": "chol",
          "yref": "y"
         },
         {
          "font": {
           "color": "#FFFFFF"
          },
          "showarrow": false,
          "text": "-0.2",
          "x": "sex",
          "xref": "x",
          "y": "chol",
          "yref": "y"
         },
         {
          "font": {
           "color": "#FFFFFF"
          },
          "showarrow": false,
          "text": "-0.14",
          "x": "cp",
          "xref": "x",
          "y": "chol",
          "yref": "y"
         },
         {
          "font": {
           "color": "#FFFFFF"
          },
          "showarrow": false,
          "text": "0.09",
          "x": "trestbps",
          "xref": "x",
          "y": "chol",
          "yref": "y"
         },
         {
          "font": {
           "color": "#FFFFFF"
          },
          "showarrow": false,
          "text": "1.0",
          "x": "chol",
          "xref": "x",
          "y": "chol",
          "yref": "y"
         },
         {
          "font": {
           "color": "#FFFFFF"
          },
          "showarrow": false,
          "text": "0.03",
          "x": "fbs",
          "xref": "x",
          "y": "chol",
          "yref": "y"
         },
         {
          "font": {
           "color": "#FFFFFF"
          },
          "showarrow": false,
          "text": "0.12",
          "x": "restecg",
          "xref": "x",
          "y": "chol",
          "yref": "y"
         },
         {
          "font": {
           "color": "#FFFFFF"
          },
          "showarrow": false,
          "text": "0.24",
          "x": "thalach",
          "xref": "x",
          "y": "chol",
          "yref": "y"
         },
         {
          "font": {
           "color": "#FFFFFF"
          },
          "showarrow": false,
          "text": "-0.04",
          "x": "exang",
          "xref": "x",
          "y": "chol",
          "yref": "y"
         },
         {
          "font": {
           "color": "#FFFFFF"
          },
          "showarrow": false,
          "text": "0.05",
          "x": "oldpeak",
          "xref": "x",
          "y": "chol",
          "yref": "y"
         },
         {
          "font": {
           "color": "#FFFFFF"
          },
          "showarrow": false,
          "text": "-0.06",
          "x": "slope",
          "xref": "x",
          "y": "chol",
          "yref": "y"
         },
         {
          "font": {
           "color": "#FFFFFF"
          },
          "showarrow": false,
          "text": "0.05",
          "x": "ca",
          "xref": "x",
          "y": "chol",
          "yref": "y"
         },
         {
          "font": {
           "color": "#FFFFFF"
          },
          "showarrow": false,
          "text": "-0.18",
          "x": "thal",
          "xref": "x",
          "y": "chol",
          "yref": "y"
         },
         {
          "font": {
           "color": "#FFFFFF"
          },
          "showarrow": false,
          "text": "-0.13",
          "x": "num",
          "xref": "x",
          "y": "chol",
          "yref": "y"
         },
         {
          "font": {
           "color": "#FFFFFF"
          },
          "showarrow": false,
          "text": "-0.66",
          "x": "location",
          "xref": "x",
          "y": "chol",
          "yref": "y"
         },
         {
          "font": {
           "color": "#FFFFFF"
          },
          "showarrow": false,
          "text": "0.23",
          "x": "age",
          "xref": "x",
          "y": "fbs",
          "yref": "y"
         },
         {
          "font": {
           "color": "#FFFFFF"
          },
          "showarrow": false,
          "text": "0.09",
          "x": "sex",
          "xref": "x",
          "y": "fbs",
          "yref": "y"
         },
         {
          "font": {
           "color": "#FFFFFF"
          },
          "showarrow": false,
          "text": "0.05",
          "x": "cp",
          "xref": "x",
          "y": "fbs",
          "yref": "y"
         },
         {
          "font": {
           "color": "#FFFFFF"
          },
          "showarrow": false,
          "text": "0.16",
          "x": "trestbps",
          "xref": "x",
          "y": "fbs",
          "yref": "y"
         },
         {
          "font": {
           "color": "#FFFFFF"
          },
          "showarrow": false,
          "text": "0.03",
          "x": "chol",
          "xref": "x",
          "y": "fbs",
          "yref": "y"
         },
         {
          "font": {
           "color": "#FFFFFF"
          },
          "showarrow": false,
          "text": "1.0",
          "x": "fbs",
          "xref": "x",
          "y": "fbs",
          "yref": "y"
         },
         {
          "font": {
           "color": "#FFFFFF"
          },
          "showarrow": false,
          "text": "0.13",
          "x": "restecg",
          "xref": "x",
          "y": "fbs",
          "yref": "y"
         },
         {
          "font": {
           "color": "#FFFFFF"
          },
          "showarrow": false,
          "text": "-0.05",
          "x": "thalach",
          "xref": "x",
          "y": "fbs",
          "yref": "y"
         },
         {
          "font": {
           "color": "#FFFFFF"
          },
          "showarrow": false,
          "text": "0.03",
          "x": "exang",
          "xref": "x",
          "y": "fbs",
          "yref": "y"
         },
         {
          "font": {
           "color": "#FFFFFF"
          },
          "showarrow": false,
          "text": "0.05",
          "x": "oldpeak",
          "xref": "x",
          "y": "fbs",
          "yref": "y"
         },
         {
          "font": {
           "color": "#FFFFFF"
          },
          "showarrow": false,
          "text": "0.08",
          "x": "slope",
          "xref": "x",
          "y": "fbs",
          "yref": "y"
         },
         {
          "font": {
           "color": "#FFFFFF"
          },
          "showarrow": false,
          "text": "0.16",
          "x": "ca",
          "xref": "x",
          "y": "fbs",
          "yref": "y"
         },
         {
          "font": {
           "color": "#FFFFFF"
          },
          "showarrow": false,
          "text": "0.1",
          "x": "thal",
          "xref": "x",
          "y": "fbs",
          "yref": "y"
         },
         {
          "font": {
           "color": "#FFFFFF"
          },
          "showarrow": false,
          "text": "0.13",
          "x": "num",
          "xref": "x",
          "y": "fbs",
          "yref": "y"
         },
         {
          "font": {
           "color": "#FFFFFF"
          },
          "showarrow": false,
          "text": "0.13",
          "x": "location",
          "xref": "x",
          "y": "fbs",
          "yref": "y"
         },
         {
          "font": {
           "color": "#FFFFFF"
          },
          "showarrow": false,
          "text": "0.21",
          "x": "age",
          "xref": "x",
          "y": "restecg",
          "yref": "y"
         },
         {
          "font": {
           "color": "#FFFFFF"
          },
          "showarrow": false,
          "text": "-0.02",
          "x": "sex",
          "xref": "x",
          "y": "restecg",
          "yref": "y"
         },
         {
          "font": {
           "color": "#FFFFFF"
          },
          "showarrow": false,
          "text": "0.03",
          "x": "cp",
          "xref": "x",
          "y": "restecg",
          "yref": "y"
         },
         {
          "font": {
           "color": "#FFFFFF"
          },
          "showarrow": false,
          "text": "0.1",
          "x": "trestbps",
          "xref": "x",
          "y": "restecg",
          "yref": "y"
         },
         {
          "font": {
           "color": "#FFFFFF"
          },
          "showarrow": false,
          "text": "0.12",
          "x": "chol",
          "xref": "x",
          "y": "restecg",
          "yref": "y"
         },
         {
          "font": {
           "color": "#FFFFFF"
          },
          "showarrow": false,
          "text": "0.13",
          "x": "fbs",
          "xref": "x",
          "y": "restecg",
          "yref": "y"
         },
         {
          "font": {
           "color": "#FFFFFF"
          },
          "showarrow": false,
          "text": "1.0",
          "x": "restecg",
          "xref": "x",
          "y": "restecg",
          "yref": "y"
         },
         {
          "font": {
           "color": "#FFFFFF"
          },
          "showarrow": false,
          "text": "0.05",
          "x": "thalach",
          "xref": "x",
          "y": "restecg",
          "yref": "y"
         },
         {
          "font": {
           "color": "#FFFFFF"
          },
          "showarrow": false,
          "text": "0.03",
          "x": "exang",
          "xref": "x",
          "y": "restecg",
          "yref": "y"
         },
         {
          "font": {
           "color": "#FFFFFF"
          },
          "showarrow": false,
          "text": "0.11",
          "x": "oldpeak",
          "xref": "x",
          "y": "restecg",
          "yref": "y"
         },
         {
          "font": {
           "color": "#FFFFFF"
          },
          "showarrow": false,
          "text": "-0.02",
          "x": "slope",
          "xref": "x",
          "y": "restecg",
          "yref": "y"
         },
         {
          "font": {
           "color": "#FFFFFF"
          },
          "showarrow": false,
          "text": "0.14",
          "x": "ca",
          "xref": "x",
          "y": "restecg",
          "yref": "y"
         },
         {
          "font": {
           "color": "#FFFFFF"
          },
          "showarrow": false,
          "text": "-0.04",
          "x": "thal",
          "xref": "x",
          "y": "restecg",
          "yref": "y"
         },
         {
          "font": {
           "color": "#FFFFFF"
          },
          "showarrow": false,
          "text": "0.09",
          "x": "num",
          "xref": "x",
          "y": "restecg",
          "yref": "y"
         },
         {
          "font": {
           "color": "#FFFFFF"
          },
          "showarrow": false,
          "text": "-0.2",
          "x": "location",
          "xref": "x",
          "y": "restecg",
          "yref": "y"
         },
         {
          "font": {
           "color": "#FFFFFF"
          },
          "showarrow": false,
          "text": "-0.37",
          "x": "age",
          "xref": "x",
          "y": "thalach",
          "yref": "y"
         },
         {
          "font": {
           "color": "#FFFFFF"
          },
          "showarrow": false,
          "text": "-0.18",
          "x": "sex",
          "xref": "x",
          "y": "thalach",
          "yref": "y"
         },
         {
          "font": {
           "color": "#FFFFFF"
          },
          "showarrow": false,
          "text": "-0.35",
          "x": "cp",
          "xref": "x",
          "y": "thalach",
          "yref": "y"
         },
         {
          "font": {
           "color": "#FFFFFF"
          },
          "showarrow": false,
          "text": "-0.11",
          "x": "trestbps",
          "xref": "x",
          "y": "thalach",
          "yref": "y"
         },
         {
          "font": {
           "color": "#FFFFFF"
          },
          "showarrow": false,
          "text": "0.24",
          "x": "chol",
          "xref": "x",
          "y": "thalach",
          "yref": "y"
         },
         {
          "font": {
           "color": "#FFFFFF"
          },
          "showarrow": false,
          "text": "-0.05",
          "x": "fbs",
          "xref": "x",
          "y": "thalach",
          "yref": "y"
         },
         {
          "font": {
           "color": "#FFFFFF"
          },
          "showarrow": false,
          "text": "0.05",
          "x": "restecg",
          "xref": "x",
          "y": "thalach",
          "yref": "y"
         },
         {
          "font": {
           "color": "#FFFFFF"
          },
          "showarrow": false,
          "text": "1.0",
          "x": "thalach",
          "xref": "x",
          "y": "thalach",
          "yref": "y"
         },
         {
          "font": {
           "color": "#FFFFFF"
          },
          "showarrow": false,
          "text": "-0.35",
          "x": "exang",
          "xref": "x",
          "y": "thalach",
          "yref": "y"
         },
         {
          "font": {
           "color": "#FFFFFF"
          },
          "showarrow": false,
          "text": "-0.15",
          "x": "oldpeak",
          "xref": "x",
          "y": "thalach",
          "yref": "y"
         },
         {
          "font": {
           "color": "#FFFFFF"
          },
          "showarrow": false,
          "text": "-0.36",
          "x": "slope",
          "xref": "x",
          "y": "thalach",
          "yref": "y"
         },
         {
          "font": {
           "color": "#FFFFFF"
          },
          "showarrow": false,
          "text": "-0.26",
          "x": "ca",
          "xref": "x",
          "y": "thalach",
          "yref": "y"
         },
         {
          "font": {
           "color": "#FFFFFF"
          },
          "showarrow": false,
          "text": "-0.33",
          "x": "thal",
          "xref": "x",
          "y": "thalach",
          "yref": "y"
         },
         {
          "font": {
           "color": "#FFFFFF"
          },
          "showarrow": false,
          "text": "-0.39",
          "x": "num",
          "xref": "x",
          "y": "thalach",
          "yref": "y"
         },
         {
          "font": {
           "color": "#FFFFFF"
          },
          "showarrow": false,
          "text": "-0.42",
          "x": "location",
          "xref": "x",
          "y": "thalach",
          "yref": "y"
         },
         {
          "font": {
           "color": "#FFFFFF"
          },
          "showarrow": false,
          "text": "0.2",
          "x": "age",
          "xref": "x",
          "y": "exang",
          "yref": "y"
         },
         {
          "font": {
           "color": "#FFFFFF"
          },
          "showarrow": false,
          "text": "0.18",
          "x": "sex",
          "xref": "x",
          "y": "exang",
          "yref": "y"
         },
         {
          "font": {
           "color": "#FFFFFF"
          },
          "showarrow": false,
          "text": "0.42",
          "x": "cp",
          "xref": "x",
          "y": "exang",
          "yref": "y"
         },
         {
          "font": {
           "color": "#FFFFFF"
          },
          "showarrow": false,
          "text": "0.15",
          "x": "trestbps",
          "xref": "x",
          "y": "exang",
          "yref": "y"
         },
         {
          "font": {
           "color": "#FFFFFF"
          },
          "showarrow": false,
          "text": "-0.04",
          "x": "chol",
          "xref": "x",
          "y": "exang",
          "yref": "y"
         },
         {
          "font": {
           "color": "#FFFFFF"
          },
          "showarrow": false,
          "text": "0.03",
          "x": "fbs",
          "xref": "x",
          "y": "exang",
          "yref": "y"
         },
         {
          "font": {
           "color": "#FFFFFF"
          },
          "showarrow": false,
          "text": "0.03",
          "x": "restecg",
          "xref": "x",
          "y": "exang",
          "yref": "y"
         },
         {
          "font": {
           "color": "#FFFFFF"
          },
          "showarrow": false,
          "text": "-0.35",
          "x": "thalach",
          "xref": "x",
          "y": "exang",
          "yref": "y"
         },
         {
          "font": {
           "color": "#FFFFFF"
          },
          "showarrow": false,
          "text": "1.0",
          "x": "exang",
          "xref": "x",
          "y": "exang",
          "yref": "y"
         },
         {
          "font": {
           "color": "#FFFFFF"
          },
          "showarrow": false,
          "text": "0.39",
          "x": "oldpeak",
          "xref": "x",
          "y": "exang",
          "yref": "y"
         },
         {
          "font": {
           "color": "#FFFFFF"
          },
          "showarrow": false,
          "text": "0.32",
          "x": "slope",
          "xref": "x",
          "y": "exang",
          "yref": "y"
         },
         {
          "font": {
           "color": "#FFFFFF"
          },
          "showarrow": false,
          "text": "0.13",
          "x": "ca",
          "xref": "x",
          "y": "exang",
          "yref": "y"
         },
         {
          "font": {
           "color": "#FFFFFF"
          },
          "showarrow": false,
          "text": "0.34",
          "x": "thal",
          "xref": "x",
          "y": "exang",
          "yref": "y"
         },
         {
          "font": {
           "color": "#FFFFFF"
          },
          "showarrow": false,
          "text": "0.43",
          "x": "num",
          "xref": "x",
          "y": "exang",
          "yref": "y"
         },
         {
          "font": {
           "color": "#FFFFFF"
          },
          "showarrow": false,
          "text": "0.16",
          "x": "location",
          "xref": "x",
          "y": "exang",
          "yref": "y"
         },
         {
          "font": {
           "color": "#FFFFFF"
          },
          "showarrow": false,
          "text": "0.26",
          "x": "age",
          "xref": "x",
          "y": "oldpeak",
          "yref": "y"
         },
         {
          "font": {
           "color": "#FFFFFF"
          },
          "showarrow": false,
          "text": "0.1",
          "x": "sex",
          "xref": "x",
          "y": "oldpeak",
          "yref": "y"
         },
         {
          "font": {
           "color": "#FFFFFF"
          },
          "showarrow": false,
          "text": "0.25",
          "x": "cp",
          "xref": "x",
          "y": "oldpeak",
          "yref": "y"
         },
         {
          "font": {
           "color": "#FFFFFF"
          },
          "showarrow": false,
          "text": "0.16",
          "x": "trestbps",
          "xref": "x",
          "y": "oldpeak",
          "yref": "y"
         },
         {
          "font": {
           "color": "#FFFFFF"
          },
          "showarrow": false,
          "text": "0.05",
          "x": "chol",
          "xref": "x",
          "y": "oldpeak",
          "yref": "y"
         },
         {
          "font": {
           "color": "#FFFFFF"
          },
          "showarrow": false,
          "text": "0.05",
          "x": "fbs",
          "xref": "x",
          "y": "oldpeak",
          "yref": "y"
         },
         {
          "font": {
           "color": "#FFFFFF"
          },
          "showarrow": false,
          "text": "0.11",
          "x": "restecg",
          "xref": "x",
          "y": "oldpeak",
          "yref": "y"
         },
         {
          "font": {
           "color": "#FFFFFF"
          },
          "showarrow": false,
          "text": "-0.15",
          "x": "thalach",
          "xref": "x",
          "y": "oldpeak",
          "yref": "y"
         },
         {
          "font": {
           "color": "#FFFFFF"
          },
          "showarrow": false,
          "text": "0.39",
          "x": "exang",
          "xref": "x",
          "y": "oldpeak",
          "yref": "y"
         },
         {
          "font": {
           "color": "#FFFFFF"
          },
          "showarrow": false,
          "text": "1.0",
          "x": "oldpeak",
          "xref": "x",
          "y": "oldpeak",
          "yref": "y"
         },
         {
          "font": {
           "color": "#FFFFFF"
          },
          "showarrow": false,
          "text": "0.42",
          "x": "slope",
          "xref": "x",
          "y": "oldpeak",
          "yref": "y"
         },
         {
          "font": {
           "color": "#FFFFFF"
          },
          "showarrow": false,
          "text": "0.29",
          "x": "ca",
          "xref": "x",
          "y": "oldpeak",
          "yref": "y"
         },
         {
          "font": {
           "color": "#FFFFFF"
          },
          "showarrow": false,
          "text": "0.25",
          "x": "thal",
          "xref": "x",
          "y": "oldpeak",
          "yref": "y"
         },
         {
          "font": {
           "color": "#FFFFFF"
          },
          "showarrow": false,
          "text": "0.47",
          "x": "num",
          "xref": "x",
          "y": "oldpeak",
          "yref": "y"
         },
         {
          "font": {
           "color": "#FFFFFF"
          },
          "showarrow": false,
          "text": "-0.04",
          "x": "location",
          "xref": "x",
          "y": "oldpeak",
          "yref": "y"
         },
         {
          "font": {
           "color": "#FFFFFF"
          },
          "showarrow": false,
          "text": "0.15",
          "x": "age",
          "xref": "x",
          "y": "slope",
          "yref": "y"
         },
         {
          "font": {
           "color": "#FFFFFF"
          },
          "showarrow": false,
          "text": "0.12",
          "x": "sex",
          "xref": "x",
          "y": "slope",
          "yref": "y"
         },
         {
          "font": {
           "color": "#FFFFFF"
          },
          "showarrow": false,
          "text": "0.21",
          "x": "cp",
          "xref": "x",
          "y": "slope",
          "yref": "y"
         },
         {
          "font": {
           "color": "#FFFFFF"
          },
          "showarrow": false,
          "text": "0.06",
          "x": "trestbps",
          "xref": "x",
          "y": "slope",
          "yref": "y"
         },
         {
          "font": {
           "color": "#FFFFFF"
          },
          "showarrow": false,
          "text": "-0.06",
          "x": "chol",
          "xref": "x",
          "y": "slope",
          "yref": "y"
         },
         {
          "font": {
           "color": "#FFFFFF"
          },
          "showarrow": false,
          "text": "0.08",
          "x": "fbs",
          "xref": "x",
          "y": "slope",
          "yref": "y"
         },
         {
          "font": {
           "color": "#FFFFFF"
          },
          "showarrow": false,
          "text": "-0.02",
          "x": "restecg",
          "xref": "x",
          "y": "slope",
          "yref": "y"
         },
         {
          "font": {
           "color": "#FFFFFF"
          },
          "showarrow": false,
          "text": "-0.36",
          "x": "thalach",
          "xref": "x",
          "y": "slope",
          "yref": "y"
         },
         {
          "font": {
           "color": "#FFFFFF"
          },
          "showarrow": false,
          "text": "0.32",
          "x": "exang",
          "xref": "x",
          "y": "slope",
          "yref": "y"
         },
         {
          "font": {
           "color": "#FFFFFF"
          },
          "showarrow": false,
          "text": "0.42",
          "x": "oldpeak",
          "xref": "x",
          "y": "slope",
          "yref": "y"
         },
         {
          "font": {
           "color": "#FFFFFF"
          },
          "showarrow": false,
          "text": "1.0",
          "x": "slope",
          "xref": "x",
          "y": "slope",
          "yref": "y"
         },
         {
          "font": {
           "color": "#FFFFFF"
          },
          "showarrow": false,
          "text": "0.11",
          "x": "ca",
          "xref": "x",
          "y": "slope",
          "yref": "y"
         },
         {
          "font": {
           "color": "#FFFFFF"
          },
          "showarrow": false,
          "text": "0.29",
          "x": "thal",
          "xref": "x",
          "y": "slope",
          "yref": "y"
         },
         {
          "font": {
           "color": "#FFFFFF"
          },
          "showarrow": false,
          "text": "0.33",
          "x": "num",
          "xref": "x",
          "y": "slope",
          "yref": "y"
         },
         {
          "font": {
           "color": "#FFFFFF"
          },
          "showarrow": false,
          "text": "0.22",
          "x": "location",
          "xref": "x",
          "y": "slope",
          "yref": "y"
         },
         {
          "font": {
           "color": "#FFFFFF"
          },
          "showarrow": false,
          "text": "0.37",
          "x": "age",
          "xref": "x",
          "y": "ca",
          "yref": "y"
         },
         {
          "font": {
           "color": "#FFFFFF"
          },
          "showarrow": false,
          "text": "0.1",
          "x": "sex",
          "xref": "x",
          "y": "ca",
          "yref": "y"
         },
         {
          "font": {
           "color": "#FFFFFF"
          },
          "showarrow": false,
          "text": "0.21",
          "x": "cp",
          "xref": "x",
          "y": "ca",
          "yref": "y"
         },
         {
          "font": {
           "color": "#FFFFFF"
          },
          "showarrow": false,
          "text": "0.1",
          "x": "trestbps",
          "xref": "x",
          "y": "ca",
          "yref": "y"
         },
         {
          "font": {
           "color": "#FFFFFF"
          },
          "showarrow": false,
          "text": "0.05",
          "x": "chol",
          "xref": "x",
          "y": "ca",
          "yref": "y"
         },
         {
          "font": {
           "color": "#FFFFFF"
          },
          "showarrow": false,
          "text": "0.16",
          "x": "fbs",
          "xref": "x",
          "y": "ca",
          "yref": "y"
         },
         {
          "font": {
           "color": "#FFFFFF"
          },
          "showarrow": false,
          "text": "0.14",
          "x": "restecg",
          "xref": "x",
          "y": "ca",
          "yref": "y"
         },
         {
          "font": {
           "color": "#FFFFFF"
          },
          "showarrow": false,
          "text": "-0.26",
          "x": "thalach",
          "xref": "x",
          "y": "ca",
          "yref": "y"
         },
         {
          "font": {
           "color": "#FFFFFF"
          },
          "showarrow": false,
          "text": "0.13",
          "x": "exang",
          "xref": "x",
          "y": "ca",
          "yref": "y"
         },
         {
          "font": {
           "color": "#FFFFFF"
          },
          "showarrow": false,
          "text": "0.29",
          "x": "oldpeak",
          "xref": "x",
          "y": "ca",
          "yref": "y"
         },
         {
          "font": {
           "color": "#FFFFFF"
          },
          "showarrow": false,
          "text": "0.11",
          "x": "slope",
          "xref": "x",
          "y": "ca",
          "yref": "y"
         },
         {
          "font": {
           "color": "#FFFFFF"
          },
          "showarrow": false,
          "text": "1.0",
          "x": "ca",
          "xref": "x",
          "y": "ca",
          "yref": "y"
         },
         {
          "font": {
           "color": "#FFFFFF"
          },
          "showarrow": false,
          "text": "0.25",
          "x": "thal",
          "xref": "x",
          "y": "ca",
          "yref": "y"
         },
         {
          "font": {
           "color": "#FFFFFF"
          },
          "showarrow": false,
          "text": "0.52",
          "x": "num",
          "xref": "x",
          "y": "ca",
          "yref": "y"
         },
         {
          "font": {
           "color": "#FFFFFF"
          },
          "showarrow": false,
          "text": "0.07",
          "x": "location",
          "xref": "x",
          "y": "ca",
          "yref": "y"
         },
         {
          "font": {
           "color": "#FFFFFF"
          },
          "showarrow": false,
          "text": "0.14",
          "x": "age",
          "xref": "x",
          "y": "thal",
          "yref": "y"
         },
         {
          "font": {
           "color": "#FFFFFF"
          },
          "showarrow": false,
          "text": "0.37",
          "x": "sex",
          "xref": "x",
          "y": "thal",
          "yref": "y"
         },
         {
          "font": {
           "color": "#FFFFFF"
          },
          "showarrow": false,
          "text": "0.32",
          "x": "cp",
          "xref": "x",
          "y": "thal",
          "yref": "y"
         },
         {
          "font": {
           "color": "#FFFFFF"
          },
          "showarrow": false,
          "text": "0.11",
          "x": "trestbps",
          "xref": "x",
          "y": "thal",
          "yref": "y"
         },
         {
          "font": {
           "color": "#FFFFFF"
          },
          "showarrow": false,
          "text": "-0.18",
          "x": "chol",
          "xref": "x",
          "y": "thal",
          "yref": "y"
         },
         {
          "font": {
           "color": "#FFFFFF"
          },
          "showarrow": false,
          "text": "0.1",
          "x": "fbs",
          "xref": "x",
          "y": "thal",
          "yref": "y"
         },
         {
          "font": {
           "color": "#FFFFFF"
          },
          "showarrow": false,
          "text": "-0.04",
          "x": "restecg",
          "xref": "x",
          "y": "thal",
          "yref": "y"
         },
         {
          "font": {
           "color": "#FFFFFF"
          },
          "showarrow": false,
          "text": "-0.33",
          "x": "thalach",
          "xref": "x",
          "y": "thal",
          "yref": "y"
         },
         {
          "font": {
           "color": "#FFFFFF"
          },
          "showarrow": false,
          "text": "0.34",
          "x": "exang",
          "xref": "x",
          "y": "thal",
          "yref": "y"
         },
         {
          "font": {
           "color": "#FFFFFF"
          },
          "showarrow": false,
          "text": "0.25",
          "x": "oldpeak",
          "xref": "x",
          "y": "thal",
          "yref": "y"
         },
         {
          "font": {
           "color": "#FFFFFF"
          },
          "showarrow": false,
          "text": "0.29",
          "x": "slope",
          "xref": "x",
          "y": "thal",
          "yref": "y"
         },
         {
          "font": {
           "color": "#FFFFFF"
          },
          "showarrow": false,
          "text": "0.25",
          "x": "ca",
          "xref": "x",
          "y": "thal",
          "yref": "y"
         },
         {
          "font": {
           "color": "#FFFFFF"
          },
          "showarrow": false,
          "text": "1.0",
          "x": "thal",
          "xref": "x",
          "y": "thal",
          "yref": "y"
         },
         {
          "font": {
           "color": "#FFFFFF"
          },
          "showarrow": false,
          "text": "0.45",
          "x": "num",
          "xref": "x",
          "y": "thal",
          "yref": "y"
         },
         {
          "font": {
           "color": "#FFFFFF"
          },
          "showarrow": false,
          "text": "0.26",
          "x": "location",
          "xref": "x",
          "y": "thal",
          "yref": "y"
         },
         {
          "font": {
           "color": "#FFFFFF"
          },
          "showarrow": false,
          "text": "0.28",
          "x": "age",
          "xref": "x",
          "y": "num",
          "yref": "y"
         },
         {
          "font": {
           "color": "#FFFFFF"
          },
          "showarrow": false,
          "text": "0.26",
          "x": "sex",
          "xref": "x",
          "y": "num",
          "yref": "y"
         },
         {
          "font": {
           "color": "#FFFFFF"
          },
          "showarrow": false,
          "text": "0.4",
          "x": "cp",
          "xref": "x",
          "y": "num",
          "yref": "y"
         },
         {
          "font": {
           "color": "#FFFFFF"
          },
          "showarrow": false,
          "text": "0.16",
          "x": "trestbps",
          "xref": "x",
          "y": "num",
          "yref": "y"
         },
         {
          "font": {
           "color": "#FFFFFF"
          },
          "showarrow": false,
          "text": "-0.13",
          "x": "chol",
          "xref": "x",
          "y": "num",
          "yref": "y"
         },
         {
          "font": {
           "color": "#FFFFFF"
          },
          "showarrow": false,
          "text": "0.13",
          "x": "fbs",
          "xref": "x",
          "y": "num",
          "yref": "y"
         },
         {
          "font": {
           "color": "#FFFFFF"
          },
          "showarrow": false,
          "text": "0.09",
          "x": "restecg",
          "xref": "x",
          "y": "num",
          "yref": "y"
         },
         {
          "font": {
           "color": "#FFFFFF"
          },
          "showarrow": false,
          "text": "-0.39",
          "x": "thalach",
          "xref": "x",
          "y": "num",
          "yref": "y"
         },
         {
          "font": {
           "color": "#FFFFFF"
          },
          "showarrow": false,
          "text": "0.43",
          "x": "exang",
          "xref": "x",
          "y": "num",
          "yref": "y"
         },
         {
          "font": {
           "color": "#FFFFFF"
          },
          "showarrow": false,
          "text": "0.47",
          "x": "oldpeak",
          "xref": "x",
          "y": "num",
          "yref": "y"
         },
         {
          "font": {
           "color": "#FFFFFF"
          },
          "showarrow": false,
          "text": "0.33",
          "x": "slope",
          "xref": "x",
          "y": "num",
          "yref": "y"
         },
         {
          "font": {
           "color": "#FFFFFF"
          },
          "showarrow": false,
          "text": "0.52",
          "x": "ca",
          "xref": "x",
          "y": "num",
          "yref": "y"
         },
         {
          "font": {
           "color": "#FFFFFF"
          },
          "showarrow": false,
          "text": "0.45",
          "x": "thal",
          "xref": "x",
          "y": "num",
          "yref": "y"
         },
         {
          "font": {
           "color": "#FFFFFF"
          },
          "showarrow": false,
          "text": "1.0",
          "x": "num",
          "xref": "x",
          "y": "num",
          "yref": "y"
         },
         {
          "font": {
           "color": "#FFFFFF"
          },
          "showarrow": false,
          "text": "0.25",
          "x": "location",
          "xref": "x",
          "y": "num",
          "yref": "y"
         },
         {
          "font": {
           "color": "#FFFFFF"
          },
          "showarrow": false,
          "text": "0.15",
          "x": "age",
          "xref": "x",
          "y": "location",
          "yref": "y"
         },
         {
          "font": {
           "color": "#FFFFFF"
          },
          "showarrow": false,
          "text": "0.26",
          "x": "sex",
          "xref": "x",
          "y": "location",
          "yref": "y"
         },
         {
          "font": {
           "color": "#FFFFFF"
          },
          "showarrow": false,
          "text": "0.22",
          "x": "cp",
          "xref": "x",
          "y": "location",
          "yref": "y"
         },
         {
          "font": {
           "color": "#FFFFFF"
          },
          "showarrow": false,
          "text": "-0.0",
          "x": "trestbps",
          "xref": "x",
          "y": "location",
          "yref": "y"
         },
         {
          "font": {
           "color": "#FFFFFF"
          },
          "showarrow": false,
          "text": "-0.66",
          "x": "chol",
          "xref": "x",
          "y": "location",
          "yref": "y"
         },
         {
          "font": {
           "color": "#FFFFFF"
          },
          "showarrow": false,
          "text": "0.13",
          "x": "fbs",
          "xref": "x",
          "y": "location",
          "yref": "y"
         },
         {
          "font": {
           "color": "#FFFFFF"
          },
          "showarrow": false,
          "text": "-0.2",
          "x": "restecg",
          "xref": "x",
          "y": "location",
          "yref": "y"
         },
         {
          "font": {
           "color": "#FFFFFF"
          },
          "showarrow": false,
          "text": "-0.42",
          "x": "thalach",
          "xref": "x",
          "y": "location",
          "yref": "y"
         },
         {
          "font": {
           "color": "#FFFFFF"
          },
          "showarrow": false,
          "text": "0.16",
          "x": "exang",
          "xref": "x",
          "y": "location",
          "yref": "y"
         },
         {
          "font": {
           "color": "#FFFFFF"
          },
          "showarrow": false,
          "text": "-0.04",
          "x": "oldpeak",
          "xref": "x",
          "y": "location",
          "yref": "y"
         },
         {
          "font": {
           "color": "#FFFFFF"
          },
          "showarrow": false,
          "text": "0.22",
          "x": "slope",
          "xref": "x",
          "y": "location",
          "yref": "y"
         },
         {
          "font": {
           "color": "#FFFFFF"
          },
          "showarrow": false,
          "text": "0.07",
          "x": "ca",
          "xref": "x",
          "y": "location",
          "yref": "y"
         },
         {
          "font": {
           "color": "#FFFFFF"
          },
          "showarrow": false,
          "text": "0.26",
          "x": "thal",
          "xref": "x",
          "y": "location",
          "yref": "y"
         },
         {
          "font": {
           "color": "#FFFFFF"
          },
          "showarrow": false,
          "text": "0.25",
          "x": "num",
          "xref": "x",
          "y": "location",
          "yref": "y"
         },
         {
          "font": {
           "color": "#FFFFFF"
          },
          "showarrow": false,
          "text": "1.0",
          "x": "location",
          "xref": "x",
          "y": "location",
          "yref": "y"
         }
        ],
        "template": {
         "data": {
          "bar": [
           {
            "error_x": {
             "color": "#2a3f5f"
            },
            "error_y": {
             "color": "#2a3f5f"
            },
            "marker": {
             "line": {
              "color": "#E5ECF6",
              "width": 0.5
             },
             "pattern": {
              "fillmode": "overlay",
              "size": 10,
              "solidity": 0.2
             }
            },
            "type": "bar"
           }
          ],
          "barpolar": [
           {
            "marker": {
             "line": {
              "color": "#E5ECF6",
              "width": 0.5
             },
             "pattern": {
              "fillmode": "overlay",
              "size": 10,
              "solidity": 0.2
             }
            },
            "type": "barpolar"
           }
          ],
          "carpet": [
           {
            "aaxis": {
             "endlinecolor": "#2a3f5f",
             "gridcolor": "white",
             "linecolor": "white",
             "minorgridcolor": "white",
             "startlinecolor": "#2a3f5f"
            },
            "baxis": {
             "endlinecolor": "#2a3f5f",
             "gridcolor": "white",
             "linecolor": "white",
             "minorgridcolor": "white",
             "startlinecolor": "#2a3f5f"
            },
            "type": "carpet"
           }
          ],
          "choropleth": [
           {
            "colorbar": {
             "outlinewidth": 0,
             "ticks": ""
            },
            "type": "choropleth"
           }
          ],
          "contour": [
           {
            "colorbar": {
             "outlinewidth": 0,
             "ticks": ""
            },
            "colorscale": [
             [
              0,
              "#0d0887"
             ],
             [
              0.1111111111111111,
              "#46039f"
             ],
             [
              0.2222222222222222,
              "#7201a8"
             ],
             [
              0.3333333333333333,
              "#9c179e"
             ],
             [
              0.4444444444444444,
              "#bd3786"
             ],
             [
              0.5555555555555556,
              "#d8576b"
             ],
             [
              0.6666666666666666,
              "#ed7953"
             ],
             [
              0.7777777777777778,
              "#fb9f3a"
             ],
             [
              0.8888888888888888,
              "#fdca26"
             ],
             [
              1,
              "#f0f921"
             ]
            ],
            "type": "contour"
           }
          ],
          "contourcarpet": [
           {
            "colorbar": {
             "outlinewidth": 0,
             "ticks": ""
            },
            "type": "contourcarpet"
           }
          ],
          "heatmap": [
           {
            "colorbar": {
             "outlinewidth": 0,
             "ticks": ""
            },
            "colorscale": [
             [
              0,
              "#0d0887"
             ],
             [
              0.1111111111111111,
              "#46039f"
             ],
             [
              0.2222222222222222,
              "#7201a8"
             ],
             [
              0.3333333333333333,
              "#9c179e"
             ],
             [
              0.4444444444444444,
              "#bd3786"
             ],
             [
              0.5555555555555556,
              "#d8576b"
             ],
             [
              0.6666666666666666,
              "#ed7953"
             ],
             [
              0.7777777777777778,
              "#fb9f3a"
             ],
             [
              0.8888888888888888,
              "#fdca26"
             ],
             [
              1,
              "#f0f921"
             ]
            ],
            "type": "heatmap"
           }
          ],
          "histogram": [
           {
            "marker": {
             "pattern": {
              "fillmode": "overlay",
              "size": 10,
              "solidity": 0.2
             }
            },
            "type": "histogram"
           }
          ],
          "histogram2d": [
           {
            "colorbar": {
             "outlinewidth": 0,
             "ticks": ""
            },
            "colorscale": [
             [
              0,
              "#0d0887"
             ],
             [
              0.1111111111111111,
              "#46039f"
             ],
             [
              0.2222222222222222,
              "#7201a8"
             ],
             [
              0.3333333333333333,
              "#9c179e"
             ],
             [
              0.4444444444444444,
              "#bd3786"
             ],
             [
              0.5555555555555556,
              "#d8576b"
             ],
             [
              0.6666666666666666,
              "#ed7953"
             ],
             [
              0.7777777777777778,
              "#fb9f3a"
             ],
             [
              0.8888888888888888,
              "#fdca26"
             ],
             [
              1,
              "#f0f921"
             ]
            ],
            "type": "histogram2d"
           }
          ],
          "histogram2dcontour": [
           {
            "colorbar": {
             "outlinewidth": 0,
             "ticks": ""
            },
            "colorscale": [
             [
              0,
              "#0d0887"
             ],
             [
              0.1111111111111111,
              "#46039f"
             ],
             [
              0.2222222222222222,
              "#7201a8"
             ],
             [
              0.3333333333333333,
              "#9c179e"
             ],
             [
              0.4444444444444444,
              "#bd3786"
             ],
             [
              0.5555555555555556,
              "#d8576b"
             ],
             [
              0.6666666666666666,
              "#ed7953"
             ],
             [
              0.7777777777777778,
              "#fb9f3a"
             ],
             [
              0.8888888888888888,
              "#fdca26"
             ],
             [
              1,
              "#f0f921"
             ]
            ],
            "type": "histogram2dcontour"
           }
          ],
          "mesh3d": [
           {
            "colorbar": {
             "outlinewidth": 0,
             "ticks": ""
            },
            "type": "mesh3d"
           }
          ],
          "parcoords": [
           {
            "line": {
             "colorbar": {
              "outlinewidth": 0,
              "ticks": ""
             }
            },
            "type": "parcoords"
           }
          ],
          "pie": [
           {
            "automargin": true,
            "type": "pie"
           }
          ],
          "scatter": [
           {
            "fillpattern": {
             "fillmode": "overlay",
             "size": 10,
             "solidity": 0.2
            },
            "type": "scatter"
           }
          ],
          "scatter3d": [
           {
            "line": {
             "colorbar": {
              "outlinewidth": 0,
              "ticks": ""
             }
            },
            "marker": {
             "colorbar": {
              "outlinewidth": 0,
              "ticks": ""
             }
            },
            "type": "scatter3d"
           }
          ],
          "scattercarpet": [
           {
            "marker": {
             "colorbar": {
              "outlinewidth": 0,
              "ticks": ""
             }
            },
            "type": "scattercarpet"
           }
          ],
          "scattergeo": [
           {
            "marker": {
             "colorbar": {
              "outlinewidth": 0,
              "ticks": ""
             }
            },
            "type": "scattergeo"
           }
          ],
          "scattergl": [
           {
            "marker": {
             "colorbar": {
              "outlinewidth": 0,
              "ticks": ""
             }
            },
            "type": "scattergl"
           }
          ],
          "scattermap": [
           {
            "marker": {
             "colorbar": {
              "outlinewidth": 0,
              "ticks": ""
             }
            },
            "type": "scattermap"
           }
          ],
          "scattermapbox": [
           {
            "marker": {
             "colorbar": {
              "outlinewidth": 0,
              "ticks": ""
             }
            },
            "type": "scattermapbox"
           }
          ],
          "scatterpolar": [
           {
            "marker": {
             "colorbar": {
              "outlinewidth": 0,
              "ticks": ""
             }
            },
            "type": "scatterpolar"
           }
          ],
          "scatterpolargl": [
           {
            "marker": {
             "colorbar": {
              "outlinewidth": 0,
              "ticks": ""
             }
            },
            "type": "scatterpolargl"
           }
          ],
          "scatterternary": [
           {
            "marker": {
             "colorbar": {
              "outlinewidth": 0,
              "ticks": ""
             }
            },
            "type": "scatterternary"
           }
          ],
          "surface": [
           {
            "colorbar": {
             "outlinewidth": 0,
             "ticks": ""
            },
            "colorscale": [
             [
              0,
              "#0d0887"
             ],
             [
              0.1111111111111111,
              "#46039f"
             ],
             [
              0.2222222222222222,
              "#7201a8"
             ],
             [
              0.3333333333333333,
              "#9c179e"
             ],
             [
              0.4444444444444444,
              "#bd3786"
             ],
             [
              0.5555555555555556,
              "#d8576b"
             ],
             [
              0.6666666666666666,
              "#ed7953"
             ],
             [
              0.7777777777777778,
              "#fb9f3a"
             ],
             [
              0.8888888888888888,
              "#fdca26"
             ],
             [
              1,
              "#f0f921"
             ]
            ],
            "type": "surface"
           }
          ],
          "table": [
           {
            "cells": {
             "fill": {
              "color": "#EBF0F8"
             },
             "line": {
              "color": "white"
             }
            },
            "header": {
             "fill": {
              "color": "#C8D4E3"
             },
             "line": {
              "color": "white"
             }
            },
            "type": "table"
           }
          ]
         },
         "layout": {
          "annotationdefaults": {
           "arrowcolor": "#2a3f5f",
           "arrowhead": 0,
           "arrowwidth": 1
          },
          "autotypenumbers": "strict",
          "coloraxis": {
           "colorbar": {
            "outlinewidth": 0,
            "ticks": ""
           }
          },
          "colorscale": {
           "diverging": [
            [
             0,
             "#8e0152"
            ],
            [
             0.1,
             "#c51b7d"
            ],
            [
             0.2,
             "#de77ae"
            ],
            [
             0.3,
             "#f1b6da"
            ],
            [
             0.4,
             "#fde0ef"
            ],
            [
             0.5,
             "#f7f7f7"
            ],
            [
             0.6,
             "#e6f5d0"
            ],
            [
             0.7,
             "#b8e186"
            ],
            [
             0.8,
             "#7fbc41"
            ],
            [
             0.9,
             "#4d9221"
            ],
            [
             1,
             "#276419"
            ]
           ],
           "sequential": [
            [
             0,
             "#0d0887"
            ],
            [
             0.1111111111111111,
             "#46039f"
            ],
            [
             0.2222222222222222,
             "#7201a8"
            ],
            [
             0.3333333333333333,
             "#9c179e"
            ],
            [
             0.4444444444444444,
             "#bd3786"
            ],
            [
             0.5555555555555556,
             "#d8576b"
            ],
            [
             0.6666666666666666,
             "#ed7953"
            ],
            [
             0.7777777777777778,
             "#fb9f3a"
            ],
            [
             0.8888888888888888,
             "#fdca26"
            ],
            [
             1,
             "#f0f921"
            ]
           ],
           "sequentialminus": [
            [
             0,
             "#0d0887"
            ],
            [
             0.1111111111111111,
             "#46039f"
            ],
            [
             0.2222222222222222,
             "#7201a8"
            ],
            [
             0.3333333333333333,
             "#9c179e"
            ],
            [
             0.4444444444444444,
             "#bd3786"
            ],
            [
             0.5555555555555556,
             "#d8576b"
            ],
            [
             0.6666666666666666,
             "#ed7953"
            ],
            [
             0.7777777777777778,
             "#fb9f3a"
            ],
            [
             0.8888888888888888,
             "#fdca26"
            ],
            [
             1,
             "#f0f921"
            ]
           ]
          },
          "colorway": [
           "#636efa",
           "#EF553B",
           "#00cc96",
           "#ab63fa",
           "#FFA15A",
           "#19d3f3",
           "#FF6692",
           "#B6E880",
           "#FF97FF",
           "#FECB52"
          ],
          "font": {
           "color": "#2a3f5f"
          },
          "geo": {
           "bgcolor": "white",
           "lakecolor": "white",
           "landcolor": "#E5ECF6",
           "showlakes": true,
           "showland": true,
           "subunitcolor": "white"
          },
          "hoverlabel": {
           "align": "left"
          },
          "hovermode": "closest",
          "mapbox": {
           "style": "light"
          },
          "paper_bgcolor": "white",
          "plot_bgcolor": "#E5ECF6",
          "polar": {
           "angularaxis": {
            "gridcolor": "white",
            "linecolor": "white",
            "ticks": ""
           },
           "bgcolor": "#E5ECF6",
           "radialaxis": {
            "gridcolor": "white",
            "linecolor": "white",
            "ticks": ""
           }
          },
          "scene": {
           "xaxis": {
            "backgroundcolor": "#E5ECF6",
            "gridcolor": "white",
            "gridwidth": 2,
            "linecolor": "white",
            "showbackground": true,
            "ticks": "",
            "zerolinecolor": "white"
           },
           "yaxis": {
            "backgroundcolor": "#E5ECF6",
            "gridcolor": "white",
            "gridwidth": 2,
            "linecolor": "white",
            "showbackground": true,
            "ticks": "",
            "zerolinecolor": "white"
           },
           "zaxis": {
            "backgroundcolor": "#E5ECF6",
            "gridcolor": "white",
            "gridwidth": 2,
            "linecolor": "white",
            "showbackground": true,
            "ticks": "",
            "zerolinecolor": "white"
           }
          },
          "shapedefaults": {
           "line": {
            "color": "#2a3f5f"
           }
          },
          "ternary": {
           "aaxis": {
            "gridcolor": "white",
            "linecolor": "white",
            "ticks": ""
           },
           "baxis": {
            "gridcolor": "white",
            "linecolor": "white",
            "ticks": ""
           },
           "bgcolor": "#E5ECF6",
           "caxis": {
            "gridcolor": "white",
            "linecolor": "white",
            "ticks": ""
           }
          },
          "title": {
           "x": 0.05
          },
          "xaxis": {
           "automargin": true,
           "gridcolor": "white",
           "linecolor": "white",
           "ticks": "",
           "title": {
            "standoff": 15
           },
           "zerolinecolor": "white",
           "zerolinewidth": 2
          },
          "yaxis": {
           "automargin": true,
           "gridcolor": "white",
           "linecolor": "white",
           "ticks": "",
           "title": {
            "standoff": 15
           },
           "zerolinecolor": "white",
           "zerolinewidth": 2
          }
         }
        },
        "title": {
         "text": "Correlation Heatmap Before MICE and KNN Imputation"
        },
        "xaxis": {
         "dtick": 1,
         "gridcolor": "rgb(0, 0, 0)",
         "side": "top",
         "ticks": ""
        },
        "yaxis": {
         "dtick": 1,
         "ticks": "",
         "ticksuffix": "  "
        }
       }
      }
     },
     "metadata": {},
     "output_type": "display_data"
    }
   ],
   "source": [
    "col_names = list(df_no_dup.columns)\n",
    "corr_matrix = np.round(df_no_dup.corr().values, 2)\n",
    "\n",
    "fig_heatmap = ff.create_annotated_heatmap(\n",
    "    z=corr_matrix,\n",
    "    x=col_names,\n",
    "    y=col_names,\n",
    "    colorscale=\"bluered\"\n",
    ")\n",
    "fig_heatmap.update_layout(\n",
    "    title=\"Correlation Heatmap Before MICE and KNN Imputation\",\n",
    ")\n",
    "fig_heatmap.show()"
   ]
  },
  {
   "cell_type": "code",
   "execution_count": 33,
   "id": "4c35343a",
   "metadata": {},
   "outputs": [
    {
     "data": {
      "application/vnd.plotly.v1+json": {
       "config": {
        "plotlyServerURL": "https://plot.ly"
       },
       "data": [
        {
         "colorscale": [
          [
           0,
           "rgb(0,0,255)"
          ],
          [
           1,
           "rgb(255,0,0)"
          ]
         ],
         "reversescale": false,
         "showscale": false,
         "type": "heatmap",
         "x": [
          "age",
          "sex",
          "cp",
          "trestbps",
          "chol",
          "fbs",
          "restecg",
          "thalach",
          "exang",
          "oldpeak",
          "slope",
          "ca",
          "thal",
          "num",
          "location"
         ],
         "y": [
          "age",
          "sex",
          "cp",
          "trestbps",
          "chol",
          "fbs",
          "restecg",
          "thalach",
          "exang",
          "oldpeak",
          "slope",
          "ca",
          "thal",
          "num",
          "location"
         ],
         "z": {
          "bdata": "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",
          "dtype": "f8",
          "shape": "15, 15"
         }
        }
       ],
       "layout": {
        "annotations": [
         {
          "font": {
           "color": "#FFFFFF"
          },
          "showarrow": false,
          "text": "1.0",
          "x": "age",
          "xref": "x",
          "y": "age",
          "yref": "y"
         },
         {
          "font": {
           "color": "#FFFFFF"
          },
          "showarrow": false,
          "text": "0.06",
          "x": "sex",
          "xref": "x",
          "y": "age",
          "yref": "y"
         },
         {
          "font": {
           "color": "#FFFFFF"
          },
          "showarrow": false,
          "text": "0.16",
          "x": "cp",
          "xref": "x",
          "y": "age",
          "yref": "y"
         },
         {
          "font": {
           "color": "#FFFFFF"
          },
          "showarrow": false,
          "text": "0.25",
          "x": "trestbps",
          "xref": "x",
          "y": "age",
          "yref": "y"
         },
         {
          "font": {
           "color": "#FFFFFF"
          },
          "showarrow": false,
          "text": "-0.1",
          "x": "chol",
          "xref": "x",
          "y": "age",
          "yref": "y"
         },
         {
          "font": {
           "color": "#FFFFFF"
          },
          "showarrow": false,
          "text": "0.22",
          "x": "fbs",
          "xref": "x",
          "y": "age",
          "yref": "y"
         },
         {
          "font": {
           "color": "#FFFFFF"
          },
          "showarrow": false,
          "text": "0.21",
          "x": "restecg",
          "xref": "x",
          "y": "age",
          "yref": "y"
         },
         {
          "font": {
           "color": "#FFFFFF"
          },
          "showarrow": false,
          "text": "-0.38",
          "x": "thalach",
          "xref": "x",
          "y": "age",
          "yref": "y"
         },
         {
          "font": {
           "color": "#FFFFFF"
          },
          "showarrow": false,
          "text": "0.21",
          "x": "exang",
          "xref": "x",
          "y": "age",
          "yref": "y"
         },
         {
          "font": {
           "color": "#FFFFFF"
          },
          "showarrow": false,
          "text": "0.25",
          "x": "oldpeak",
          "xref": "x",
          "y": "age",
          "yref": "y"
         },
         {
          "font": {
           "color": "#FFFFFF"
          },
          "showarrow": false,
          "text": "0.23",
          "x": "slope",
          "xref": "x",
          "y": "age",
          "yref": "y"
         },
         {
          "font": {
           "color": "#FFFFFF"
          },
          "showarrow": false,
          "text": "0.31",
          "x": "ca",
          "xref": "x",
          "y": "age",
          "yref": "y"
         },
         {
          "font": {
           "color": "#FFFFFF"
          },
          "showarrow": false,
          "text": "0.26",
          "x": "thal",
          "xref": "x",
          "y": "age",
          "yref": "y"
         },
         {
          "font": {
           "color": "#FFFFFF"
          },
          "showarrow": false,
          "text": "0.28",
          "x": "num",
          "xref": "x",
          "y": "age",
          "yref": "y"
         },
         {
          "font": {
           "color": "#FFFFFF"
          },
          "showarrow": false,
          "text": "0.15",
          "x": "location",
          "xref": "x",
          "y": "age",
          "yref": "y"
         },
         {
          "font": {
           "color": "#FFFFFF"
          },
          "showarrow": false,
          "text": "0.06",
          "x": "age",
          "xref": "x",
          "y": "sex",
          "yref": "y"
         },
         {
          "font": {
           "color": "#FFFFFF"
          },
          "showarrow": false,
          "text": "1.0",
          "x": "sex",
          "xref": "x",
          "y": "sex",
          "yref": "y"
         },
         {
          "font": {
           "color": "#FFFFFF"
          },
          "showarrow": false,
          "text": "0.17",
          "x": "cp",
          "xref": "x",
          "y": "sex",
          "yref": "y"
         },
         {
          "font": {
           "color": "#FFFFFF"
          },
          "showarrow": false,
          "text": "0.01",
          "x": "trestbps",
          "xref": "x",
          "y": "sex",
          "yref": "y"
         },
         {
          "font": {
           "color": "#FFFFFF"
          },
          "showarrow": false,
          "text": "-0.2",
          "x": "chol",
          "xref": "x",
          "y": "sex",
          "yref": "y"
         },
         {
          "font": {
           "color": "#FFFFFF"
          },
          "showarrow": false,
          "text": "0.09",
          "x": "fbs",
          "xref": "x",
          "y": "sex",
          "yref": "y"
         },
         {
          "font": {
           "color": "#FFFFFF"
          },
          "showarrow": false,
          "text": "-0.02",
          "x": "restecg",
          "xref": "x",
          "y": "sex",
          "yref": "y"
         },
         {
          "font": {
           "color": "#FFFFFF"
          },
          "showarrow": false,
          "text": "-0.19",
          "x": "thalach",
          "xref": "x",
          "y": "sex",
          "yref": "y"
         },
         {
          "font": {
           "color": "#FFFFFF"
          },
          "showarrow": false,
          "text": "0.19",
          "x": "exang",
          "xref": "x",
          "y": "sex",
          "yref": "y"
         },
         {
          "font": {
           "color": "#FFFFFF"
          },
          "showarrow": false,
          "text": "0.1",
          "x": "oldpeak",
          "xref": "x",
          "y": "sex",
          "yref": "y"
         },
         {
          "font": {
           "color": "#FFFFFF"
          },
          "showarrow": false,
          "text": "0.14",
          "x": "slope",
          "xref": "x",
          "y": "sex",
          "yref": "y"
         },
         {
          "font": {
           "color": "#FFFFFF"
          },
          "showarrow": false,
          "text": "0.11",
          "x": "ca",
          "xref": "x",
          "y": "sex",
          "yref": "y"
         },
         {
          "font": {
           "color": "#FFFFFF"
          },
          "showarrow": false,
          "text": "0.39",
          "x": "thal",
          "xref": "x",
          "y": "sex",
          "yref": "y"
         },
         {
          "font": {
           "color": "#FFFFFF"
          },
          "showarrow": false,
          "text": "0.26",
          "x": "num",
          "xref": "x",
          "y": "sex",
          "yref": "y"
         },
         {
          "font": {
           "color": "#FFFFFF"
          },
          "showarrow": false,
          "text": "0.26",
          "x": "location",
          "xref": "x",
          "y": "sex",
          "yref": "y"
         },
         {
          "font": {
           "color": "#FFFFFF"
          },
          "showarrow": false,
          "text": "0.16",
          "x": "age",
          "xref": "x",
          "y": "cp",
          "yref": "y"
         },
         {
          "font": {
           "color": "#FFFFFF"
          },
          "showarrow": false,
          "text": "0.17",
          "x": "sex",
          "xref": "x",
          "y": "cp",
          "yref": "y"
         },
         {
          "font": {
           "color": "#FFFFFF"
          },
          "showarrow": false,
          "text": "1.0",
          "x": "cp",
          "xref": "x",
          "y": "cp",
          "yref": "y"
         },
         {
          "font": {
           "color": "#FFFFFF"
          },
          "showarrow": false,
          "text": "0.02",
          "x": "trestbps",
          "xref": "x",
          "y": "cp",
          "yref": "y"
         },
         {
          "font": {
           "color": "#FFFFFF"
          },
          "showarrow": false,
          "text": "-0.14",
          "x": "chol",
          "xref": "x",
          "y": "cp",
          "yref": "y"
         },
         {
          "font": {
           "color": "#FFFFFF"
          },
          "showarrow": false,
          "text": "0.05",
          "x": "fbs",
          "xref": "x",
          "y": "cp",
          "yref": "y"
         },
         {
          "font": {
           "color": "#FFFFFF"
          },
          "showarrow": false,
          "text": "0.03",
          "x": "restecg",
          "xref": "x",
          "y": "cp",
          "yref": "y"
         },
         {
          "font": {
           "color": "#FFFFFF"
          },
          "showarrow": false,
          "text": "-0.34",
          "x": "thalach",
          "xref": "x",
          "y": "cp",
          "yref": "y"
         },
         {
          "font": {
           "color": "#FFFFFF"
          },
          "showarrow": false,
          "text": "0.42",
          "x": "exang",
          "xref": "x",
          "y": "cp",
          "yref": "y"
         },
         {
          "font": {
           "color": "#FFFFFF"
          },
          "showarrow": false,
          "text": "0.25",
          "x": "oldpeak",
          "xref": "x",
          "y": "cp",
          "yref": "y"
         },
         {
          "font": {
           "color": "#FFFFFF"
          },
          "showarrow": false,
          "text": "0.25",
          "x": "slope",
          "xref": "x",
          "y": "cp",
          "yref": "y"
         },
         {
          "font": {
           "color": "#FFFFFF"
          },
          "showarrow": false,
          "text": "0.19",
          "x": "ca",
          "xref": "x",
          "y": "cp",
          "yref": "y"
         },
         {
          "font": {
           "color": "#FFFFFF"
          },
          "showarrow": false,
          "text": "0.34",
          "x": "thal",
          "xref": "x",
          "y": "cp",
          "yref": "y"
         },
         {
          "font": {
           "color": "#FFFFFF"
          },
          "showarrow": false,
          "text": "0.4",
          "x": "num",
          "xref": "x",
          "y": "cp",
          "yref": "y"
         },
         {
          "font": {
           "color": "#FFFFFF"
          },
          "showarrow": false,
          "text": "0.22",
          "x": "location",
          "xref": "x",
          "y": "cp",
          "yref": "y"
         },
         {
          "font": {
           "color": "#FFFFFF"
          },
          "showarrow": false,
          "text": "0.25",
          "x": "age",
          "xref": "x",
          "y": "trestbps",
          "yref": "y"
         },
         {
          "font": {
           "color": "#FFFFFF"
          },
          "showarrow": false,
          "text": "0.01",
          "x": "sex",
          "xref": "x",
          "y": "trestbps",
          "yref": "y"
         },
         {
          "font": {
           "color": "#FFFFFF"
          },
          "showarrow": false,
          "text": "0.02",
          "x": "cp",
          "xref": "x",
          "y": "trestbps",
          "yref": "y"
         },
         {
          "font": {
           "color": "#FFFFFF"
          },
          "showarrow": false,
          "text": "1.0",
          "x": "trestbps",
          "xref": "x",
          "y": "trestbps",
          "yref": "y"
         },
         {
          "font": {
           "color": "#FFFFFF"
          },
          "showarrow": false,
          "text": "0.09",
          "x": "chol",
          "xref": "x",
          "y": "trestbps",
          "yref": "y"
         },
         {
          "font": {
           "color": "#FFFFFF"
          },
          "showarrow": false,
          "text": "0.16",
          "x": "fbs",
          "xref": "x",
          "y": "trestbps",
          "yref": "y"
         },
         {
          "font": {
           "color": "#FFFFFF"
          },
          "showarrow": false,
          "text": "0.1",
          "x": "restecg",
          "xref": "x",
          "y": "trestbps",
          "yref": "y"
         },
         {
          "font": {
           "color": "#FFFFFF"
          },
          "showarrow": false,
          "text": "-0.11",
          "x": "thalach",
          "xref": "x",
          "y": "trestbps",
          "yref": "y"
         },
         {
          "font": {
           "color": "#FFFFFF"
          },
          "showarrow": false,
          "text": "0.15",
          "x": "exang",
          "xref": "x",
          "y": "trestbps",
          "yref": "y"
         },
         {
          "font": {
           "color": "#FFFFFF"
          },
          "showarrow": false,
          "text": "0.16",
          "x": "oldpeak",
          "xref": "x",
          "y": "trestbps",
          "yref": "y"
         },
         {
          "font": {
           "color": "#FFFFFF"
          },
          "showarrow": false,
          "text": "0.06",
          "x": "slope",
          "xref": "x",
          "y": "trestbps",
          "yref": "y"
         },
         {
          "font": {
           "color": "#FFFFFF"
          },
          "showarrow": false,
          "text": "0.04",
          "x": "ca",
          "xref": "x",
          "y": "trestbps",
          "yref": "y"
         },
         {
          "font": {
           "color": "#FFFFFF"
          },
          "showarrow": false,
          "text": "0.11",
          "x": "thal",
          "xref": "x",
          "y": "trestbps",
          "yref": "y"
         },
         {
          "font": {
           "color": "#FFFFFF"
          },
          "showarrow": false,
          "text": "0.17",
          "x": "num",
          "xref": "x",
          "y": "trestbps",
          "yref": "y"
         },
         {
          "font": {
           "color": "#FFFFFF"
          },
          "showarrow": false,
          "text": "0.01",
          "x": "location",
          "xref": "x",
          "y": "trestbps",
          "yref": "y"
         },
         {
          "font": {
           "color": "#FFFFFF"
          },
          "showarrow": false,
          "text": "-0.1",
          "x": "age",
          "xref": "x",
          "y": "chol",
          "yref": "y"
         },
         {
          "font": {
           "color": "#FFFFFF"
          },
          "showarrow": false,
          "text": "-0.2",
          "x": "sex",
          "xref": "x",
          "y": "chol",
          "yref": "y"
         },
         {
          "font": {
           "color": "#FFFFFF"
          },
          "showarrow": false,
          "text": "-0.14",
          "x": "cp",
          "xref": "x",
          "y": "chol",
          "yref": "y"
         },
         {
          "font": {
           "color": "#FFFFFF"
          },
          "showarrow": false,
          "text": "0.09",
          "x": "trestbps",
          "xref": "x",
          "y": "chol",
          "yref": "y"
         },
         {
          "font": {
           "color": "#FFFFFF"
          },
          "showarrow": false,
          "text": "1.0",
          "x": "chol",
          "xref": "x",
          "y": "chol",
          "yref": "y"
         },
         {
          "font": {
           "color": "#FFFFFF"
          },
          "showarrow": false,
          "text": "-0.02",
          "x": "fbs",
          "xref": "x",
          "y": "chol",
          "yref": "y"
         },
         {
          "font": {
           "color": "#FFFFFF"
          },
          "showarrow": false,
          "text": "0.11",
          "x": "restecg",
          "xref": "x",
          "y": "chol",
          "yref": "y"
         },
         {
          "font": {
           "color": "#FFFFFF"
          },
          "showarrow": false,
          "text": "0.22",
          "x": "thalach",
          "xref": "x",
          "y": "chol",
          "yref": "y"
         },
         {
          "font": {
           "color": "#FFFFFF"
          },
          "showarrow": false,
          "text": "-0.03",
          "x": "exang",
          "xref": "x",
          "y": "chol",
          "yref": "y"
         },
         {
          "font": {
           "color": "#FFFFFF"
          },
          "showarrow": false,
          "text": "0.04",
          "x": "oldpeak",
          "xref": "x",
          "y": "chol",
          "yref": "y"
         },
         {
          "font": {
           "color": "#FFFFFF"
          },
          "showarrow": false,
          "text": "-0.08",
          "x": "slope",
          "xref": "x",
          "y": "chol",
          "yref": "y"
         },
         {
          "font": {
           "color": "#FFFFFF"
          },
          "showarrow": false,
          "text": "-0.14",
          "x": "ca",
          "xref": "x",
          "y": "chol",
          "yref": "y"
         },
         {
          "font": {
           "color": "#FFFFFF"
          },
          "showarrow": false,
          "text": "-0.17",
          "x": "thal",
          "xref": "x",
          "y": "chol",
          "yref": "y"
         },
         {
          "font": {
           "color": "#FFFFFF"
          },
          "showarrow": false,
          "text": "-0.13",
          "x": "num",
          "xref": "x",
          "y": "chol",
          "yref": "y"
         },
         {
          "font": {
           "color": "#FFFFFF"
          },
          "showarrow": false,
          "text": "-0.66",
          "x": "location",
          "xref": "x",
          "y": "chol",
          "yref": "y"
         },
         {
          "font": {
           "color": "#FFFFFF"
          },
          "showarrow": false,
          "text": "0.22",
          "x": "age",
          "xref": "x",
          "y": "fbs",
          "yref": "y"
         },
         {
          "font": {
           "color": "#FFFFFF"
          },
          "showarrow": false,
          "text": "0.09",
          "x": "sex",
          "xref": "x",
          "y": "fbs",
          "yref": "y"
         },
         {
          "font": {
           "color": "#FFFFFF"
          },
          "showarrow": false,
          "text": "0.05",
          "x": "cp",
          "xref": "x",
          "y": "fbs",
          "yref": "y"
         },
         {
          "font": {
           "color": "#FFFFFF"
          },
          "showarrow": false,
          "text": "0.16",
          "x": "trestbps",
          "xref": "x",
          "y": "fbs",
          "yref": "y"
         },
         {
          "font": {
           "color": "#FFFFFF"
          },
          "showarrow": false,
          "text": "-0.02",
          "x": "chol",
          "xref": "x",
          "y": "fbs",
          "yref": "y"
         },
         {
          "font": {
           "color": "#FFFFFF"
          },
          "showarrow": false,
          "text": "1.0",
          "x": "fbs",
          "xref": "x",
          "y": "fbs",
          "yref": "y"
         },
         {
          "font": {
           "color": "#FFFFFF"
          },
          "showarrow": false,
          "text": "0.12",
          "x": "restecg",
          "xref": "x",
          "y": "fbs",
          "yref": "y"
         },
         {
          "font": {
           "color": "#FFFFFF"
          },
          "showarrow": false,
          "text": "-0.06",
          "x": "thalach",
          "xref": "x",
          "y": "fbs",
          "yref": "y"
         },
         {
          "font": {
           "color": "#FFFFFF"
          },
          "showarrow": false,
          "text": "0.03",
          "x": "exang",
          "xref": "x",
          "y": "fbs",
          "yref": "y"
         },
         {
          "font": {
           "color": "#FFFFFF"
          },
          "showarrow": false,
          "text": "0.07",
          "x": "oldpeak",
          "xref": "x",
          "y": "fbs",
          "yref": "y"
         },
         {
          "font": {
           "color": "#FFFFFF"
          },
          "showarrow": false,
          "text": "0.1",
          "x": "slope",
          "xref": "x",
          "y": "fbs",
          "yref": "y"
         },
         {
          "font": {
           "color": "#FFFFFF"
          },
          "showarrow": false,
          "text": "0.19",
          "x": "ca",
          "xref": "x",
          "y": "fbs",
          "yref": "y"
         },
         {
          "font": {
           "color": "#FFFFFF"
          },
          "showarrow": false,
          "text": "0.14",
          "x": "thal",
          "xref": "x",
          "y": "fbs",
          "yref": "y"
         },
         {
          "font": {
           "color": "#FFFFFF"
          },
          "showarrow": false,
          "text": "0.14",
          "x": "num",
          "xref": "x",
          "y": "fbs",
          "yref": "y"
         },
         {
          "font": {
           "color": "#FFFFFF"
          },
          "showarrow": false,
          "text": "0.13",
          "x": "location",
          "xref": "x",
          "y": "fbs",
          "yref": "y"
         },
         {
          "font": {
           "color": "#FFFFFF"
          },
          "showarrow": false,
          "text": "0.21",
          "x": "age",
          "xref": "x",
          "y": "restecg",
          "yref": "y"
         },
         {
          "font": {
           "color": "#FFFFFF"
          },
          "showarrow": false,
          "text": "-0.02",
          "x": "sex",
          "xref": "x",
          "y": "restecg",
          "yref": "y"
         },
         {
          "font": {
           "color": "#FFFFFF"
          },
          "showarrow": false,
          "text": "0.03",
          "x": "cp",
          "xref": "x",
          "y": "restecg",
          "yref": "y"
         },
         {
          "font": {
           "color": "#FFFFFF"
          },
          "showarrow": false,
          "text": "0.1",
          "x": "trestbps",
          "xref": "x",
          "y": "restecg",
          "yref": "y"
         },
         {
          "font": {
           "color": "#FFFFFF"
          },
          "showarrow": false,
          "text": "0.11",
          "x": "chol",
          "xref": "x",
          "y": "restecg",
          "yref": "y"
         },
         {
          "font": {
           "color": "#FFFFFF"
          },
          "showarrow": false,
          "text": "0.12",
          "x": "fbs",
          "xref": "x",
          "y": "restecg",
          "yref": "y"
         },
         {
          "font": {
           "color": "#FFFFFF"
          },
          "showarrow": false,
          "text": "1.0",
          "x": "restecg",
          "xref": "x",
          "y": "restecg",
          "yref": "y"
         },
         {
          "font": {
           "color": "#FFFFFF"
          },
          "showarrow": false,
          "text": "0.05",
          "x": "thalach",
          "xref": "x",
          "y": "restecg",
          "yref": "y"
         },
         {
          "font": {
           "color": "#FFFFFF"
          },
          "showarrow": false,
          "text": "0.05",
          "x": "exang",
          "xref": "x",
          "y": "restecg",
          "yref": "y"
         },
         {
          "font": {
           "color": "#FFFFFF"
          },
          "showarrow": false,
          "text": "0.11",
          "x": "oldpeak",
          "xref": "x",
          "y": "restecg",
          "yref": "y"
         },
         {
          "font": {
           "color": "#FFFFFF"
          },
          "showarrow": false,
          "text": "0.07",
          "x": "slope",
          "xref": "x",
          "y": "restecg",
          "yref": "y"
         },
         {
          "font": {
           "color": "#FFFFFF"
          },
          "showarrow": false,
          "text": "0.19",
          "x": "ca",
          "xref": "x",
          "y": "restecg",
          "yref": "y"
         },
         {
          "font": {
           "color": "#FFFFFF"
          },
          "showarrow": false,
          "text": "-0.02",
          "x": "thal",
          "xref": "x",
          "y": "restecg",
          "yref": "y"
         },
         {
          "font": {
           "color": "#FFFFFF"
          },
          "showarrow": false,
          "text": "0.09",
          "x": "num",
          "xref": "x",
          "y": "restecg",
          "yref": "y"
         },
         {
          "font": {
           "color": "#FFFFFF"
          },
          "showarrow": false,
          "text": "-0.2",
          "x": "location",
          "xref": "x",
          "y": "restecg",
          "yref": "y"
         },
         {
          "font": {
           "color": "#FFFFFF"
          },
          "showarrow": false,
          "text": "-0.38",
          "x": "age",
          "xref": "x",
          "y": "thalach",
          "yref": "y"
         },
         {
          "font": {
           "color": "#FFFFFF"
          },
          "showarrow": false,
          "text": "-0.19",
          "x": "sex",
          "xref": "x",
          "y": "thalach",
          "yref": "y"
         },
         {
          "font": {
           "color": "#FFFFFF"
          },
          "showarrow": false,
          "text": "-0.34",
          "x": "cp",
          "xref": "x",
          "y": "thalach",
          "yref": "y"
         },
         {
          "font": {
           "color": "#FFFFFF"
          },
          "showarrow": false,
          "text": "-0.11",
          "x": "trestbps",
          "xref": "x",
          "y": "thalach",
          "yref": "y"
         },
         {
          "font": {
           "color": "#FFFFFF"
          },
          "showarrow": false,
          "text": "0.22",
          "x": "chol",
          "xref": "x",
          "y": "thalach",
          "yref": "y"
         },
         {
          "font": {
           "color": "#FFFFFF"
          },
          "showarrow": false,
          "text": "-0.06",
          "x": "fbs",
          "xref": "x",
          "y": "thalach",
          "yref": "y"
         },
         {
          "font": {
           "color": "#FFFFFF"
          },
          "showarrow": false,
          "text": "0.05",
          "x": "restecg",
          "xref": "x",
          "y": "thalach",
          "yref": "y"
         },
         {
          "font": {
           "color": "#FFFFFF"
          },
          "showarrow": false,
          "text": "1.0",
          "x": "thalach",
          "xref": "x",
          "y": "thalach",
          "yref": "y"
         },
         {
          "font": {
           "color": "#FFFFFF"
          },
          "showarrow": false,
          "text": "-0.36",
          "x": "exang",
          "xref": "x",
          "y": "thalach",
          "yref": "y"
         },
         {
          "font": {
           "color": "#FFFFFF"
          },
          "showarrow": false,
          "text": "-0.16",
          "x": "oldpeak",
          "xref": "x",
          "y": "thalach",
          "yref": "y"
         },
         {
          "font": {
           "color": "#FFFFFF"
          },
          "showarrow": false,
          "text": "-0.38",
          "x": "slope",
          "xref": "x",
          "y": "thalach",
          "yref": "y"
         },
         {
          "font": {
           "color": "#FFFFFF"
          },
          "showarrow": false,
          "text": "-0.24",
          "x": "ca",
          "xref": "x",
          "y": "thalach",
          "yref": "y"
         },
         {
          "font": {
           "color": "#FFFFFF"
          },
          "showarrow": false,
          "text": "-0.37",
          "x": "thal",
          "xref": "x",
          "y": "thalach",
          "yref": "y"
         },
         {
          "font": {
           "color": "#FFFFFF"
          },
          "showarrow": false,
          "text": "-0.4",
          "x": "num",
          "xref": "x",
          "y": "thalach",
          "yref": "y"
         },
         {
          "font": {
           "color": "#FFFFFF"
          },
          "showarrow": false,
          "text": "-0.43",
          "x": "location",
          "xref": "x",
          "y": "thalach",
          "yref": "y"
         },
         {
          "font": {
           "color": "#FFFFFF"
          },
          "showarrow": false,
          "text": "0.21",
          "x": "age",
          "xref": "x",
          "y": "exang",
          "yref": "y"
         },
         {
          "font": {
           "color": "#FFFFFF"
          },
          "showarrow": false,
          "text": "0.19",
          "x": "sex",
          "xref": "x",
          "y": "exang",
          "yref": "y"
         },
         {
          "font": {
           "color": "#FFFFFF"
          },
          "showarrow": false,
          "text": "0.42",
          "x": "cp",
          "xref": "x",
          "y": "exang",
          "yref": "y"
         },
         {
          "font": {
           "color": "#FFFFFF"
          },
          "showarrow": false,
          "text": "0.15",
          "x": "trestbps",
          "xref": "x",
          "y": "exang",
          "yref": "y"
         },
         {
          "font": {
           "color": "#FFFFFF"
          },
          "showarrow": false,
          "text": "-0.03",
          "x": "chol",
          "xref": "x",
          "y": "exang",
          "yref": "y"
         },
         {
          "font": {
           "color": "#FFFFFF"
          },
          "showarrow": false,
          "text": "0.03",
          "x": "fbs",
          "xref": "x",
          "y": "exang",
          "yref": "y"
         },
         {
          "font": {
           "color": "#FFFFFF"
          },
          "showarrow": false,
          "text": "0.05",
          "x": "restecg",
          "xref": "x",
          "y": "exang",
          "yref": "y"
         },
         {
          "font": {
           "color": "#FFFFFF"
          },
          "showarrow": false,
          "text": "-0.36",
          "x": "thalach",
          "xref": "x",
          "y": "exang",
          "yref": "y"
         },
         {
          "font": {
           "color": "#FFFFFF"
          },
          "showarrow": false,
          "text": "1.0",
          "x": "exang",
          "xref": "x",
          "y": "exang",
          "yref": "y"
         },
         {
          "font": {
           "color": "#FFFFFF"
          },
          "showarrow": false,
          "text": "0.39",
          "x": "oldpeak",
          "xref": "x",
          "y": "exang",
          "yref": "y"
         },
         {
          "font": {
           "color": "#FFFFFF"
          },
          "showarrow": false,
          "text": "0.37",
          "x": "slope",
          "xref": "x",
          "y": "exang",
          "yref": "y"
         },
         {
          "font": {
           "color": "#FFFFFF"
          },
          "showarrow": false,
          "text": "0.04",
          "x": "ca",
          "xref": "x",
          "y": "exang",
          "yref": "y"
         },
         {
          "font": {
           "color": "#FFFFFF"
          },
          "showarrow": false,
          "text": "0.36",
          "x": "thal",
          "xref": "x",
          "y": "exang",
          "yref": "y"
         },
         {
          "font": {
           "color": "#FFFFFF"
          },
          "showarrow": false,
          "text": "0.44",
          "x": "num",
          "xref": "x",
          "y": "exang",
          "yref": "y"
         },
         {
          "font": {
           "color": "#FFFFFF"
          },
          "showarrow": false,
          "text": "0.17",
          "x": "location",
          "xref": "x",
          "y": "exang",
          "yref": "y"
         },
         {
          "font": {
           "color": "#FFFFFF"
          },
          "showarrow": false,
          "text": "0.25",
          "x": "age",
          "xref": "x",
          "y": "oldpeak",
          "yref": "y"
         },
         {
          "font": {
           "color": "#FFFFFF"
          },
          "showarrow": false,
          "text": "0.1",
          "x": "sex",
          "xref": "x",
          "y": "oldpeak",
          "yref": "y"
         },
         {
          "font": {
           "color": "#FFFFFF"
          },
          "showarrow": false,
          "text": "0.25",
          "x": "cp",
          "xref": "x",
          "y": "oldpeak",
          "yref": "y"
         },
         {
          "font": {
           "color": "#FFFFFF"
          },
          "showarrow": false,
          "text": "0.16",
          "x": "trestbps",
          "xref": "x",
          "y": "oldpeak",
          "yref": "y"
         },
         {
          "font": {
           "color": "#FFFFFF"
          },
          "showarrow": false,
          "text": "0.04",
          "x": "chol",
          "xref": "x",
          "y": "oldpeak",
          "yref": "y"
         },
         {
          "font": {
           "color": "#FFFFFF"
          },
          "showarrow": false,
          "text": "0.07",
          "x": "fbs",
          "xref": "x",
          "y": "oldpeak",
          "yref": "y"
         },
         {
          "font": {
           "color": "#FFFFFF"
          },
          "showarrow": false,
          "text": "0.11",
          "x": "restecg",
          "xref": "x",
          "y": "oldpeak",
          "yref": "y"
         },
         {
          "font": {
           "color": "#FFFFFF"
          },
          "showarrow": false,
          "text": "-0.16",
          "x": "thalach",
          "xref": "x",
          "y": "oldpeak",
          "yref": "y"
         },
         {
          "font": {
           "color": "#FFFFFF"
          },
          "showarrow": false,
          "text": "0.39",
          "x": "exang",
          "xref": "x",
          "y": "oldpeak",
          "yref": "y"
         },
         {
          "font": {
           "color": "#FFFFFF"
          },
          "showarrow": false,
          "text": "1.0",
          "x": "oldpeak",
          "xref": "x",
          "y": "oldpeak",
          "yref": "y"
         },
         {
          "font": {
           "color": "#FFFFFF"
          },
          "showarrow": false,
          "text": "0.41",
          "x": "slope",
          "xref": "x",
          "y": "oldpeak",
          "yref": "y"
         },
         {
          "font": {
           "color": "#FFFFFF"
          },
          "showarrow": false,
          "text": "0.19",
          "x": "ca",
          "xref": "x",
          "y": "oldpeak",
          "yref": "y"
         },
         {
          "font": {
           "color": "#FFFFFF"
          },
          "showarrow": false,
          "text": "0.3",
          "x": "thal",
          "xref": "x",
          "y": "oldpeak",
          "yref": "y"
         },
         {
          "font": {
           "color": "#FFFFFF"
          },
          "showarrow": false,
          "text": "0.48",
          "x": "num",
          "xref": "x",
          "y": "oldpeak",
          "yref": "y"
         },
         {
          "font": {
           "color": "#FFFFFF"
          },
          "showarrow": false,
          "text": "-0.04",
          "x": "location",
          "xref": "x",
          "y": "oldpeak",
          "yref": "y"
         },
         {
          "font": {
           "color": "#FFFFFF"
          },
          "showarrow": false,
          "text": "0.23",
          "x": "age",
          "xref": "x",
          "y": "slope",
          "yref": "y"
         },
         {
          "font": {
           "color": "#FFFFFF"
          },
          "showarrow": false,
          "text": "0.14",
          "x": "sex",
          "xref": "x",
          "y": "slope",
          "yref": "y"
         },
         {
          "font": {
           "color": "#FFFFFF"
          },
          "showarrow": false,
          "text": "0.25",
          "x": "cp",
          "xref": "x",
          "y": "slope",
          "yref": "y"
         },
         {
          "font": {
           "color": "#FFFFFF"
          },
          "showarrow": false,
          "text": "0.06",
          "x": "trestbps",
          "xref": "x",
          "y": "slope",
          "yref": "y"
         },
         {
          "font": {
           "color": "#FFFFFF"
          },
          "showarrow": false,
          "text": "-0.08",
          "x": "chol",
          "xref": "x",
          "y": "slope",
          "yref": "y"
         },
         {
          "font": {
           "color": "#FFFFFF"
          },
          "showarrow": false,
          "text": "0.1",
          "x": "fbs",
          "xref": "x",
          "y": "slope",
          "yref": "y"
         },
         {
          "font": {
           "color": "#FFFFFF"
          },
          "showarrow": false,
          "text": "0.07",
          "x": "restecg",
          "xref": "x",
          "y": "slope",
          "yref": "y"
         },
         {
          "font": {
           "color": "#FFFFFF"
          },
          "showarrow": false,
          "text": "-0.38",
          "x": "thalach",
          "xref": "x",
          "y": "slope",
          "yref": "y"
         },
         {
          "font": {
           "color": "#FFFFFF"
          },
          "showarrow": false,
          "text": "0.37",
          "x": "exang",
          "xref": "x",
          "y": "slope",
          "yref": "y"
         },
         {
          "font": {
           "color": "#FFFFFF"
          },
          "showarrow": false,
          "text": "0.41",
          "x": "oldpeak",
          "xref": "x",
          "y": "slope",
          "yref": "y"
         },
         {
          "font": {
           "color": "#FFFFFF"
          },
          "showarrow": false,
          "text": "1.0",
          "x": "slope",
          "xref": "x",
          "y": "slope",
          "yref": "y"
         },
         {
          "font": {
           "color": "#FFFFFF"
          },
          "showarrow": false,
          "text": "0.1",
          "x": "ca",
          "xref": "x",
          "y": "slope",
          "yref": "y"
         },
         {
          "font": {
           "color": "#FFFFFF"
          },
          "showarrow": false,
          "text": "0.31",
          "x": "thal",
          "xref": "x",
          "y": "slope",
          "yref": "y"
         },
         {
          "font": {
           "color": "#FFFFFF"
          },
          "showarrow": false,
          "text": "0.34",
          "x": "num",
          "xref": "x",
          "y": "slope",
          "yref": "y"
         },
         {
          "font": {
           "color": "#FFFFFF"
          },
          "showarrow": false,
          "text": "0.22",
          "x": "location",
          "xref": "x",
          "y": "slope",
          "yref": "y"
         },
         {
          "font": {
           "color": "#FFFFFF"
          },
          "showarrow": false,
          "text": "0.31",
          "x": "age",
          "xref": "x",
          "y": "ca",
          "yref": "y"
         },
         {
          "font": {
           "color": "#FFFFFF"
          },
          "showarrow": false,
          "text": "0.11",
          "x": "sex",
          "xref": "x",
          "y": "ca",
          "yref": "y"
         },
         {
          "font": {
           "color": "#FFFFFF"
          },
          "showarrow": false,
          "text": "0.19",
          "x": "cp",
          "xref": "x",
          "y": "ca",
          "yref": "y"
         },
         {
          "font": {
           "color": "#FFFFFF"
          },
          "showarrow": false,
          "text": "0.04",
          "x": "trestbps",
          "xref": "x",
          "y": "ca",
          "yref": "y"
         },
         {
          "font": {
           "color": "#FFFFFF"
          },
          "showarrow": false,
          "text": "-0.14",
          "x": "chol",
          "xref": "x",
          "y": "ca",
          "yref": "y"
         },
         {
          "font": {
           "color": "#FFFFFF"
          },
          "showarrow": false,
          "text": "0.19",
          "x": "fbs",
          "xref": "x",
          "y": "ca",
          "yref": "y"
         },
         {
          "font": {
           "color": "#FFFFFF"
          },
          "showarrow": false,
          "text": "0.19",
          "x": "restecg",
          "xref": "x",
          "y": "ca",
          "yref": "y"
         },
         {
          "font": {
           "color": "#FFFFFF"
          },
          "showarrow": false,
          "text": "-0.24",
          "x": "thalach",
          "xref": "x",
          "y": "ca",
          "yref": "y"
         },
         {
          "font": {
           "color": "#FFFFFF"
          },
          "showarrow": false,
          "text": "0.04",
          "x": "exang",
          "xref": "x",
          "y": "ca",
          "yref": "y"
         },
         {
          "font": {
           "color": "#FFFFFF"
          },
          "showarrow": false,
          "text": "0.19",
          "x": "oldpeak",
          "xref": "x",
          "y": "ca",
          "yref": "y"
         },
         {
          "font": {
           "color": "#FFFFFF"
          },
          "showarrow": false,
          "text": "0.1",
          "x": "slope",
          "xref": "x",
          "y": "ca",
          "yref": "y"
         },
         {
          "font": {
           "color": "#FFFFFF"
          },
          "showarrow": false,
          "text": "1.0",
          "x": "ca",
          "xref": "x",
          "y": "ca",
          "yref": "y"
         },
         {
          "font": {
           "color": "#FFFFFF"
          },
          "showarrow": false,
          "text": "0.18",
          "x": "thal",
          "xref": "x",
          "y": "ca",
          "yref": "y"
         },
         {
          "font": {
           "color": "#FFFFFF"
          },
          "showarrow": false,
          "text": "0.44",
          "x": "num",
          "xref": "x",
          "y": "ca",
          "yref": "y"
         },
         {
          "font": {
           "color": "#FFFFFF"
          },
          "showarrow": false,
          "text": "0.13",
          "x": "location",
          "xref": "x",
          "y": "ca",
          "yref": "y"
         },
         {
          "font": {
           "color": "#FFFFFF"
          },
          "showarrow": false,
          "text": "0.26",
          "x": "age",
          "xref": "x",
          "y": "thal",
          "yref": "y"
         },
         {
          "font": {
           "color": "#FFFFFF"
          },
          "showarrow": false,
          "text": "0.39",
          "x": "sex",
          "xref": "x",
          "y": "thal",
          "yref": "y"
         },
         {
          "font": {
           "color": "#FFFFFF"
          },
          "showarrow": false,
          "text": "0.34",
          "x": "cp",
          "xref": "x",
          "y": "thal",
          "yref": "y"
         },
         {
          "font": {
           "color": "#FFFFFF"
          },
          "showarrow": false,
          "text": "0.11",
          "x": "trestbps",
          "xref": "x",
          "y": "thal",
          "yref": "y"
         },
         {
          "font": {
           "color": "#FFFFFF"
          },
          "showarrow": false,
          "text": "-0.17",
          "x": "chol",
          "xref": "x",
          "y": "thal",
          "yref": "y"
         },
         {
          "font": {
           "color": "#FFFFFF"
          },
          "showarrow": false,
          "text": "0.14",
          "x": "fbs",
          "xref": "x",
          "y": "thal",
          "yref": "y"
         },
         {
          "font": {
           "color": "#FFFFFF"
          },
          "showarrow": false,
          "text": "-0.02",
          "x": "restecg",
          "xref": "x",
          "y": "thal",
          "yref": "y"
         },
         {
          "font": {
           "color": "#FFFFFF"
          },
          "showarrow": false,
          "text": "-0.37",
          "x": "thalach",
          "xref": "x",
          "y": "thal",
          "yref": "y"
         },
         {
          "font": {
           "color": "#FFFFFF"
          },
          "showarrow": false,
          "text": "0.36",
          "x": "exang",
          "xref": "x",
          "y": "thal",
          "yref": "y"
         },
         {
          "font": {
           "color": "#FFFFFF"
          },
          "showarrow": false,
          "text": "0.3",
          "x": "oldpeak",
          "xref": "x",
          "y": "thal",
          "yref": "y"
         },
         {
          "font": {
           "color": "#FFFFFF"
          },
          "showarrow": false,
          "text": "0.31",
          "x": "slope",
          "xref": "x",
          "y": "thal",
          "yref": "y"
         },
         {
          "font": {
           "color": "#FFFFFF"
          },
          "showarrow": false,
          "text": "0.18",
          "x": "ca",
          "xref": "x",
          "y": "thal",
          "yref": "y"
         },
         {
          "font": {
           "color": "#FFFFFF"
          },
          "showarrow": false,
          "text": "1.0",
          "x": "thal",
          "xref": "x",
          "y": "thal",
          "yref": "y"
         },
         {
          "font": {
           "color": "#FFFFFF"
          },
          "showarrow": false,
          "text": "0.4",
          "x": "num",
          "xref": "x",
          "y": "thal",
          "yref": "y"
         },
         {
          "font": {
           "color": "#FFFFFF"
          },
          "showarrow": false,
          "text": "0.29",
          "x": "location",
          "xref": "x",
          "y": "thal",
          "yref": "y"
         },
         {
          "font": {
           "color": "#FFFFFF"
          },
          "showarrow": false,
          "text": "0.28",
          "x": "age",
          "xref": "x",
          "y": "num",
          "yref": "y"
         },
         {
          "font": {
           "color": "#FFFFFF"
          },
          "showarrow": false,
          "text": "0.26",
          "x": "sex",
          "xref": "x",
          "y": "num",
          "yref": "y"
         },
         {
          "font": {
           "color": "#FFFFFF"
          },
          "showarrow": false,
          "text": "0.4",
          "x": "cp",
          "xref": "x",
          "y": "num",
          "yref": "y"
         },
         {
          "font": {
           "color": "#FFFFFF"
          },
          "showarrow": false,
          "text": "0.17",
          "x": "trestbps",
          "xref": "x",
          "y": "num",
          "yref": "y"
         },
         {
          "font": {
           "color": "#FFFFFF"
          },
          "showarrow": false,
          "text": "-0.13",
          "x": "chol",
          "xref": "x",
          "y": "num",
          "yref": "y"
         },
         {
          "font": {
           "color": "#FFFFFF"
          },
          "showarrow": false,
          "text": "0.14",
          "x": "fbs",
          "xref": "x",
          "y": "num",
          "yref": "y"
         },
         {
          "font": {
           "color": "#FFFFFF"
          },
          "showarrow": false,
          "text": "0.09",
          "x": "restecg",
          "xref": "x",
          "y": "num",
          "yref": "y"
         },
         {
          "font": {
           "color": "#FFFFFF"
          },
          "showarrow": false,
          "text": "-0.4",
          "x": "thalach",
          "xref": "x",
          "y": "num",
          "yref": "y"
         },
         {
          "font": {
           "color": "#FFFFFF"
          },
          "showarrow": false,
          "text": "0.44",
          "x": "exang",
          "xref": "x",
          "y": "num",
          "yref": "y"
         },
         {
          "font": {
           "color": "#FFFFFF"
          },
          "showarrow": false,
          "text": "0.48",
          "x": "oldpeak",
          "xref": "x",
          "y": "num",
          "yref": "y"
         },
         {
          "font": {
           "color": "#FFFFFF"
          },
          "showarrow": false,
          "text": "0.34",
          "x": "slope",
          "xref": "x",
          "y": "num",
          "yref": "y"
         },
         {
          "font": {
           "color": "#FFFFFF"
          },
          "showarrow": false,
          "text": "0.44",
          "x": "ca",
          "xref": "x",
          "y": "num",
          "yref": "y"
         },
         {
          "font": {
           "color": "#FFFFFF"
          },
          "showarrow": false,
          "text": "0.4",
          "x": "thal",
          "xref": "x",
          "y": "num",
          "yref": "y"
         },
         {
          "font": {
           "color": "#FFFFFF"
          },
          "showarrow": false,
          "text": "1.0",
          "x": "num",
          "xref": "x",
          "y": "num",
          "yref": "y"
         },
         {
          "font": {
           "color": "#FFFFFF"
          },
          "showarrow": false,
          "text": "0.25",
          "x": "location",
          "xref": "x",
          "y": "num",
          "yref": "y"
         },
         {
          "font": {
           "color": "#FFFFFF"
          },
          "showarrow": false,
          "text": "0.15",
          "x": "age",
          "xref": "x",
          "y": "location",
          "yref": "y"
         },
         {
          "font": {
           "color": "#FFFFFF"
          },
          "showarrow": false,
          "text": "0.26",
          "x": "sex",
          "xref": "x",
          "y": "location",
          "yref": "y"
         },
         {
          "font": {
           "color": "#FFFFFF"
          },
          "showarrow": false,
          "text": "0.22",
          "x": "cp",
          "xref": "x",
          "y": "location",
          "yref": "y"
         },
         {
          "font": {
           "color": "#FFFFFF"
          },
          "showarrow": false,
          "text": "0.01",
          "x": "trestbps",
          "xref": "x",
          "y": "location",
          "yref": "y"
         },
         {
          "font": {
           "color": "#FFFFFF"
          },
          "showarrow": false,
          "text": "-0.66",
          "x": "chol",
          "xref": "x",
          "y": "location",
          "yref": "y"
         },
         {
          "font": {
           "color": "#FFFFFF"
          },
          "showarrow": false,
          "text": "0.13",
          "x": "fbs",
          "xref": "x",
          "y": "location",
          "yref": "y"
         },
         {
          "font": {
           "color": "#FFFFFF"
          },
          "showarrow": false,
          "text": "-0.2",
          "x": "restecg",
          "xref": "x",
          "y": "location",
          "yref": "y"
         },
         {
          "font": {
           "color": "#FFFFFF"
          },
          "showarrow": false,
          "text": "-0.43",
          "x": "thalach",
          "xref": "x",
          "y": "location",
          "yref": "y"
         },
         {
          "font": {
           "color": "#FFFFFF"
          },
          "showarrow": false,
          "text": "0.17",
          "x": "exang",
          "xref": "x",
          "y": "location",
          "yref": "y"
         },
         {
          "font": {
           "color": "#FFFFFF"
          },
          "showarrow": false,
          "text": "-0.04",
          "x": "oldpeak",
          "xref": "x",
          "y": "location",
          "yref": "y"
         },
         {
          "font": {
           "color": "#FFFFFF"
          },
          "showarrow": false,
          "text": "0.22",
          "x": "slope",
          "xref": "x",
          "y": "location",
          "yref": "y"
         },
         {
          "font": {
           "color": "#FFFFFF"
          },
          "showarrow": false,
          "text": "0.13",
          "x": "ca",
          "xref": "x",
          "y": "location",
          "yref": "y"
         },
         {
          "font": {
           "color": "#FFFFFF"
          },
          "showarrow": false,
          "text": "0.29",
          "x": "thal",
          "xref": "x",
          "y": "location",
          "yref": "y"
         },
         {
          "font": {
           "color": "#FFFFFF"
          },
          "showarrow": false,
          "text": "0.25",
          "x": "num",
          "xref": "x",
          "y": "location",
          "yref": "y"
         },
         {
          "font": {
           "color": "#FFFFFF"
          },
          "showarrow": false,
          "text": "1.0",
          "x": "location",
          "xref": "x",
          "y": "location",
          "yref": "y"
         }
        ],
        "template": {
         "data": {
          "bar": [
           {
            "error_x": {
             "color": "#2a3f5f"
            },
            "error_y": {
             "color": "#2a3f5f"
            },
            "marker": {
             "line": {
              "color": "#E5ECF6",
              "width": 0.5
             },
             "pattern": {
              "fillmode": "overlay",
              "size": 10,
              "solidity": 0.2
             }
            },
            "type": "bar"
           }
          ],
          "barpolar": [
           {
            "marker": {
             "line": {
              "color": "#E5ECF6",
              "width": 0.5
             },
             "pattern": {
              "fillmode": "overlay",
              "size": 10,
              "solidity": 0.2
             }
            },
            "type": "barpolar"
           }
          ],
          "carpet": [
           {
            "aaxis": {
             "endlinecolor": "#2a3f5f",
             "gridcolor": "white",
             "linecolor": "white",
             "minorgridcolor": "white",
             "startlinecolor": "#2a3f5f"
            },
            "baxis": {
             "endlinecolor": "#2a3f5f",
             "gridcolor": "white",
             "linecolor": "white",
             "minorgridcolor": "white",
             "startlinecolor": "#2a3f5f"
            },
            "type": "carpet"
           }
          ],
          "choropleth": [
           {
            "colorbar": {
             "outlinewidth": 0,
             "ticks": ""
            },
            "type": "choropleth"
           }
          ],
          "contour": [
           {
            "colorbar": {
             "outlinewidth": 0,
             "ticks": ""
            },
            "colorscale": [
             [
              0,
              "#0d0887"
             ],
             [
              0.1111111111111111,
              "#46039f"
             ],
             [
              0.2222222222222222,
              "#7201a8"
             ],
             [
              0.3333333333333333,
              "#9c179e"
             ],
             [
              0.4444444444444444,
              "#bd3786"
             ],
             [
              0.5555555555555556,
              "#d8576b"
             ],
             [
              0.6666666666666666,
              "#ed7953"
             ],
             [
              0.7777777777777778,
              "#fb9f3a"
             ],
             [
              0.8888888888888888,
              "#fdca26"
             ],
             [
              1,
              "#f0f921"
             ]
            ],
            "type": "contour"
           }
          ],
          "contourcarpet": [
           {
            "colorbar": {
             "outlinewidth": 0,
             "ticks": ""
            },
            "type": "contourcarpet"
           }
          ],
          "heatmap": [
           {
            "colorbar": {
             "outlinewidth": 0,
             "ticks": ""
            },
            "colorscale": [
             [
              0,
              "#0d0887"
             ],
             [
              0.1111111111111111,
              "#46039f"
             ],
             [
              0.2222222222222222,
              "#7201a8"
             ],
             [
              0.3333333333333333,
              "#9c179e"
             ],
             [
              0.4444444444444444,
              "#bd3786"
             ],
             [
              0.5555555555555556,
              "#d8576b"
             ],
             [
              0.6666666666666666,
              "#ed7953"
             ],
             [
              0.7777777777777778,
              "#fb9f3a"
             ],
             [
              0.8888888888888888,
              "#fdca26"
             ],
             [
              1,
              "#f0f921"
             ]
            ],
            "type": "heatmap"
           }
          ],
          "histogram": [
           {
            "marker": {
             "pattern": {
              "fillmode": "overlay",
              "size": 10,
              "solidity": 0.2
             }
            },
            "type": "histogram"
           }
          ],
          "histogram2d": [
           {
            "colorbar": {
             "outlinewidth": 0,
             "ticks": ""
            },
            "colorscale": [
             [
              0,
              "#0d0887"
             ],
             [
              0.1111111111111111,
              "#46039f"
             ],
             [
              0.2222222222222222,
              "#7201a8"
             ],
             [
              0.3333333333333333,
              "#9c179e"
             ],
             [
              0.4444444444444444,
              "#bd3786"
             ],
             [
              0.5555555555555556,
              "#d8576b"
             ],
             [
              0.6666666666666666,
              "#ed7953"
             ],
             [
              0.7777777777777778,
              "#fb9f3a"
             ],
             [
              0.8888888888888888,
              "#fdca26"
             ],
             [
              1,
              "#f0f921"
             ]
            ],
            "type": "histogram2d"
           }
          ],
          "histogram2dcontour": [
           {
            "colorbar": {
             "outlinewidth": 0,
             "ticks": ""
            },
            "colorscale": [
             [
              0,
              "#0d0887"
             ],
             [
              0.1111111111111111,
              "#46039f"
             ],
             [
              0.2222222222222222,
              "#7201a8"
             ],
             [
              0.3333333333333333,
              "#9c179e"
             ],
             [
              0.4444444444444444,
              "#bd3786"
             ],
             [
              0.5555555555555556,
              "#d8576b"
             ],
             [
              0.6666666666666666,
              "#ed7953"
             ],
             [
              0.7777777777777778,
              "#fb9f3a"
             ],
             [
              0.8888888888888888,
              "#fdca26"
             ],
             [
              1,
              "#f0f921"
             ]
            ],
            "type": "histogram2dcontour"
           }
          ],
          "mesh3d": [
           {
            "colorbar": {
             "outlinewidth": 0,
             "ticks": ""
            },
            "type": "mesh3d"
           }
          ],
          "parcoords": [
           {
            "line": {
             "colorbar": {
              "outlinewidth": 0,
              "ticks": ""
             }
            },
            "type": "parcoords"
           }
          ],
          "pie": [
           {
            "automargin": true,
            "type": "pie"
           }
          ],
          "scatter": [
           {
            "fillpattern": {
             "fillmode": "overlay",
             "size": 10,
             "solidity": 0.2
            },
            "type": "scatter"
           }
          ],
          "scatter3d": [
           {
            "line": {
             "colorbar": {
              "outlinewidth": 0,
              "ticks": ""
             }
            },
            "marker": {
             "colorbar": {
              "outlinewidth": 0,
              "ticks": ""
             }
            },
            "type": "scatter3d"
           }
          ],
          "scattercarpet": [
           {
            "marker": {
             "colorbar": {
              "outlinewidth": 0,
              "ticks": ""
             }
            },
            "type": "scattercarpet"
           }
          ],
          "scattergeo": [
           {
            "marker": {
             "colorbar": {
              "outlinewidth": 0,
              "ticks": ""
             }
            },
            "type": "scattergeo"
           }
          ],
          "scattergl": [
           {
            "marker": {
             "colorbar": {
              "outlinewidth": 0,
              "ticks": ""
             }
            },
            "type": "scattergl"
           }
          ],
          "scattermap": [
           {
            "marker": {
             "colorbar": {
              "outlinewidth": 0,
              "ticks": ""
             }
            },
            "type": "scattermap"
           }
          ],
          "scattermapbox": [
           {
            "marker": {
             "colorbar": {
              "outlinewidth": 0,
              "ticks": ""
             }
            },
            "type": "scattermapbox"
           }
          ],
          "scatterpolar": [
           {
            "marker": {
             "colorbar": {
              "outlinewidth": 0,
              "ticks": ""
             }
            },
            "type": "scatterpolar"
           }
          ],
          "scatterpolargl": [
           {
            "marker": {
             "colorbar": {
              "outlinewidth": 0,
              "ticks": ""
             }
            },
            "type": "scatterpolargl"
           }
          ],
          "scatterternary": [
           {
            "marker": {
             "colorbar": {
              "outlinewidth": 0,
              "ticks": ""
             }
            },
            "type": "scatterternary"
           }
          ],
          "surface": [
           {
            "colorbar": {
             "outlinewidth": 0,
             "ticks": ""
            },
            "colorscale": [
             [
              0,
              "#0d0887"
             ],
             [
              0.1111111111111111,
              "#46039f"
             ],
             [
              0.2222222222222222,
              "#7201a8"
             ],
             [
              0.3333333333333333,
              "#9c179e"
             ],
             [
              0.4444444444444444,
              "#bd3786"
             ],
             [
              0.5555555555555556,
              "#d8576b"
             ],
             [
              0.6666666666666666,
              "#ed7953"
             ],
             [
              0.7777777777777778,
              "#fb9f3a"
             ],
             [
              0.8888888888888888,
              "#fdca26"
             ],
             [
              1,
              "#f0f921"
             ]
            ],
            "type": "surface"
           }
          ],
          "table": [
           {
            "cells": {
             "fill": {
              "color": "#EBF0F8"
             },
             "line": {
              "color": "white"
             }
            },
            "header": {
             "fill": {
              "color": "#C8D4E3"
             },
             "line": {
              "color": "white"
             }
            },
            "type": "table"
           }
          ]
         },
         "layout": {
          "annotationdefaults": {
           "arrowcolor": "#2a3f5f",
           "arrowhead": 0,
           "arrowwidth": 1
          },
          "autotypenumbers": "strict",
          "coloraxis": {
           "colorbar": {
            "outlinewidth": 0,
            "ticks": ""
           }
          },
          "colorscale": {
           "diverging": [
            [
             0,
             "#8e0152"
            ],
            [
             0.1,
             "#c51b7d"
            ],
            [
             0.2,
             "#de77ae"
            ],
            [
             0.3,
             "#f1b6da"
            ],
            [
             0.4,
             "#fde0ef"
            ],
            [
             0.5,
             "#f7f7f7"
            ],
            [
             0.6,
             "#e6f5d0"
            ],
            [
             0.7,
             "#b8e186"
            ],
            [
             0.8,
             "#7fbc41"
            ],
            [
             0.9,
             "#4d9221"
            ],
            [
             1,
             "#276419"
            ]
           ],
           "sequential": [
            [
             0,
             "#0d0887"
            ],
            [
             0.1111111111111111,
             "#46039f"
            ],
            [
             0.2222222222222222,
             "#7201a8"
            ],
            [
             0.3333333333333333,
             "#9c179e"
            ],
            [
             0.4444444444444444,
             "#bd3786"
            ],
            [
             0.5555555555555556,
             "#d8576b"
            ],
            [
             0.6666666666666666,
             "#ed7953"
            ],
            [
             0.7777777777777778,
             "#fb9f3a"
            ],
            [
             0.8888888888888888,
             "#fdca26"
            ],
            [
             1,
             "#f0f921"
            ]
           ],
           "sequentialminus": [
            [
             0,
             "#0d0887"
            ],
            [
             0.1111111111111111,
             "#46039f"
            ],
            [
             0.2222222222222222,
             "#7201a8"
            ],
            [
             0.3333333333333333,
             "#9c179e"
            ],
            [
             0.4444444444444444,
             "#bd3786"
            ],
            [
             0.5555555555555556,
             "#d8576b"
            ],
            [
             0.6666666666666666,
             "#ed7953"
            ],
            [
             0.7777777777777778,
             "#fb9f3a"
            ],
            [
             0.8888888888888888,
             "#fdca26"
            ],
            [
             1,
             "#f0f921"
            ]
           ]
          },
          "colorway": [
           "#636efa",
           "#EF553B",
           "#00cc96",
           "#ab63fa",
           "#FFA15A",
           "#19d3f3",
           "#FF6692",
           "#B6E880",
           "#FF97FF",
           "#FECB52"
          ],
          "font": {
           "color": "#2a3f5f"
          },
          "geo": {
           "bgcolor": "white",
           "lakecolor": "white",
           "landcolor": "#E5ECF6",
           "showlakes": true,
           "showland": true,
           "subunitcolor": "white"
          },
          "hoverlabel": {
           "align": "left"
          },
          "hovermode": "closest",
          "mapbox": {
           "style": "light"
          },
          "paper_bgcolor": "white",
          "plot_bgcolor": "#E5ECF6",
          "polar": {
           "angularaxis": {
            "gridcolor": "white",
            "linecolor": "white",
            "ticks": ""
           },
           "bgcolor": "#E5ECF6",
           "radialaxis": {
            "gridcolor": "white",
            "linecolor": "white",
            "ticks": ""
           }
          },
          "scene": {
           "xaxis": {
            "backgroundcolor": "#E5ECF6",
            "gridcolor": "white",
            "gridwidth": 2,
            "linecolor": "white",
            "showbackground": true,
            "ticks": "",
            "zerolinecolor": "white"
           },
           "yaxis": {
            "backgroundcolor": "#E5ECF6",
            "gridcolor": "white",
            "gridwidth": 2,
            "linecolor": "white",
            "showbackground": true,
            "ticks": "",
            "zerolinecolor": "white"
           },
           "zaxis": {
            "backgroundcolor": "#E5ECF6",
            "gridcolor": "white",
            "gridwidth": 2,
            "linecolor": "white",
            "showbackground": true,
            "ticks": "",
            "zerolinecolor": "white"
           }
          },
          "shapedefaults": {
           "line": {
            "color": "#2a3f5f"
           }
          },
          "ternary": {
           "aaxis": {
            "gridcolor": "white",
            "linecolor": "white",
            "ticks": ""
           },
           "baxis": {
            "gridcolor": "white",
            "linecolor": "white",
            "ticks": ""
           },
           "bgcolor": "#E5ECF6",
           "caxis": {
            "gridcolor": "white",
            "linecolor": "white",
            "ticks": ""
           }
          },
          "title": {
           "x": 0.05
          },
          "xaxis": {
           "automargin": true,
           "gridcolor": "white",
           "linecolor": "white",
           "ticks": "",
           "title": {
            "standoff": 15
           },
           "zerolinecolor": "white",
           "zerolinewidth": 2
          },
          "yaxis": {
           "automargin": true,
           "gridcolor": "white",
           "linecolor": "white",
           "ticks": "",
           "title": {
            "standoff": 15
           },
           "zerolinecolor": "white",
           "zerolinewidth": 2
          }
         }
        },
        "title": {
         "text": "Correlation Heatmap After MICE and KNN Imputation"
        },
        "xaxis": {
         "dtick": 1,
         "gridcolor": "rgb(0, 0, 0)",
         "side": "top",
         "ticks": ""
        },
        "yaxis": {
         "dtick": 1,
         "ticks": "",
         "ticksuffix": "  "
        }
       }
      }
     },
     "metadata": {},
     "output_type": "display_data"
    }
   ],
   "source": [
    "col_names = list(df_clean.columns)\n",
    "corr_matrix = np.round(df_clean.corr().values, 2)\n",
    "\n",
    "fig_heatmap = ff.create_annotated_heatmap(\n",
    "    z=corr_matrix,\n",
    "    x=col_names,\n",
    "    y=col_names,\n",
    "    colorscale=\"bluered\"\n",
    ")\n",
    "fig_heatmap.update_layout(\n",
    "    title=\"Correlation Heatmap After MICE and KNN Imputation\",\n",
    ")\n",
    "fig_heatmap.show()"
   ]
  },
  {
   "cell_type": "code",
   "execution_count": null,
   "id": "00789ae1",
   "metadata": {},
   "outputs": [
    {
     "data": {
      "application/vnd.plotly.v1+json": {
       "config": {
        "plotlyServerURL": "https://plot.ly"
       },
       "data": [
        {
         "alignmentgroup": "True",
         "hovertemplate": "variable=%{x}<br>value=%{y}<extra></extra>",
         "legendgroup": "",
         "marker": {
          "color": "#636efa"
         },
         "name": "",
         "notched": false,
         "offsetgroup": "",
         "orientation": "v",
         "showlegend": false,
         "type": "box",
         "x": [
          "age",
          "age",
          "age",
          "age",
          "age",
          "age",
          "age",
          "age",
          "age",
          "age",
          "age",
          "age",
          "age",
          "age",
          "age",
          "age",
          "age",
          "age",
          "age",
          "age",
          "age",
          "age",
          "age",
          "age",
          "age",
          "age",
          "age",
          "age",
          "age",
          "age",
          "age",
          "age",
          "age",
          "age",
          "age",
          "age",
          "age",
          "age",
          "age",
          "age",
          "age",
          "age",
          "age",
          "age",
          "age",
          "age",
          "age",
          "age",
          "age",
          "age",
          "age",
          "age",
          "age",
          "age",
          "age",
          "age",
          "age",
          "age",
          "age",
          "age",
          "age",
          "age",
          "age",
          "age",
          "age",
          "age",
          "age",
          "age",
          "age",
          "age",
          "age",
          "age",
          "age",
          "age",
          "age",
          "age",
          "age",
          "age",
          "age",
          "age",
          "age",
          "age",
          "age",
          "age",
          "age",
          "age",
          "age",
          "age",
          "age",
          "age",
          "age",
          "age",
          "age",
          "age",
          "age",
          "age",
          "age",
          "age",
          "age",
          "age",
          "age",
          "age",
          "age",
          "age",
          "age",
          "age",
          "age",
          "age",
          "age",
          "age",
          "age",
          "age",
          "age",
          "age",
          "age",
          "age",
          "age",
          "age",
          "age",
          "age",
          "age",
          "age",
          "age",
          "age",
          "age",
          "age",
          "age",
          "age",
          "age",
          "age",
          "age",
          "age",
          "age",
          "age",
          "age",
          "age",
          "age",
          "age",
          "age",
          "age",
          "age",
          "age",
          "age",
          "age",
          "age",
          "age",
          "age",
          "age",
          "age",
          "age",
          "age",
          "age",
          "age",
          "age",
          "age",
          "age",
          "age",
          "age",
          "age",
          "age",
          "age",
          "age",
          "age",
          "age",
          "age",
          "age",
          "age",
          "age",
          "age",
          "age",
          "age",
          "age",
          "age",
          "age",
          "age",
          "age",
          "age",
          "age",
          "age",
          "age",
          "age",
          "age",
          "age",
          "age",
          "age",
          "age",
          "age",
          "age",
          "age",
          "age",
          "age",
          "age",
          "age",
          "age",
          "age",
          "age",
          "age",
          "age",
          "age",
          "age",
          "age",
          "age",
          "age",
          "age",
          "age",
          "age",
          "age",
          "age",
          "age",
          "age",
          "age",
          "age",
          "age",
          "age",
          "age",
          "age",
          "age",
          "age",
          "age",
          "age",
          "age",
          "age",
          "age",
          "age",
          "age",
          "age",
          "age",
          "age",
          "age",
          "age",
          "age",
          "age",
          "age",
          "age",
          "age",
          "age",
          "age",
          "age",
          "age",
          "age",
          "age",
          "age",
          "age",
          "age",
          "age",
          "age",
          "age",
          "age",
          "age",
          "age",
          "age",
          "age",
          "age",
          "age",
          "age",
          "age",
          "age",
          "age",
          "age",
          "age",
          "age",
          "age",
          "age",
          "age",
          "age",
          "age",
          "age",
          "age",
          "age",
          "age",
          "age",
          "age",
          "age",
          "age",
          "age",
          "age",
          "age",
          "age",
          "age",
          "age",
          "age",
          "age",
          "age",
          "age",
          "age",
          "age",
          "age",
          "age",
          "age",
          "age",
          "age",
          "age",
          "age",
          "age",
          "age",
          "age",
          "age",
          "age",
          "age",
          "age",
          "age",
          "age",
          "age",
          "age",
          "age",
          "age",
          "age",
          "age",
          "age",
          "age",
          "age",
          "age",
          "age",
          "age",
          "age",
          "age",
          "age",
          "age",
          "age",
          "age",
          "age",
          "age",
          "age",
          "age",
          "age",
          "age",
          "age",
          "age",
          "age",
          "age",
          "age",
          "age",
          "age",
          "age",
          "age",
          "age",
          "age",
          "age",
          "age",
          "age",
          "age",
          "age",
          "age",
          "age",
          "age",
          "age",
          "age",
          "age",
          "age",
          "age",
          "age",
          "age",
          "age",
          "age",
          "age",
          "age",
          "age",
          "age",
          "age",
          "age",
          "age",
          "age",
          "age",
          "age",
          "age",
          "age",
          "age",
          "age",
          "age",
          "age",
          "age",
          "age",
          "age",
          "age",
          "age",
          "age",
          "age",
          "age",
          "age",
          "age",
          "age",
          "age",
          "age",
          "age",
          "age",
          "age",
          "age",
          "age",
          "age",
          "age",
          "age",
          "age",
          "age",
          "age",
          "age",
          "age",
          "age",
          "age",
          "age",
          "age",
          "age",
          "age",
          "age",
          "age",
          "age",
          "age",
          "age",
          "age",
          "age",
          "age",
          "age",
          "age",
          "age",
          "age",
          "age",
          "age",
          "age",
          "age",
          "age",
          "age",
          "age",
          "age",
          "age",
          "age",
          "age",
          "age",
          "age",
          "age",
          "age",
          "age",
          "age",
          "age",
          "age",
          "age",
          "age",
          "age",
          "age",
          "age",
          "age",
          "age",
          "age",
          "age",
          "age",
          "age",
          "age",
          "age",
          "age",
          "age",
          "age",
          "age",
          "age",
          "age",
          "age",
          "age",
          "age",
          "age",
          "age",
          "age",
          "age",
          "age",
          "age",
          "age",
          "age",
          "age",
          "age",
          "age",
          "age",
          "age",
          "age",
          "age",
          "age",
          "age",
          "age",
          "age",
          "age",
          "age",
          "age",
          "age",
          "age",
          "age",
          "age",
          "age",
          "age",
          "age",
          "age",
          "age",
          "age",
          "age",
          "age",
          "age",
          "age",
          "age",
          "age",
          "age",
          "age",
          "age",
          "age",
          "age",
          "age",
          "age",
          "age",
          "age",
          "age",
          "age",
          "age",
          "age",
          "age",
          "age",
          "age",
          "age",
          "age",
          "age",
          "age",
          "age",
          "age",
          "age",
          "age",
          "age",
          "age",
          "age",
          "age",
          "age",
          "age",
          "age",
          "age",
          "age",
          "age",
          "age",
          "age",
          "age",
          "age",
          "age",
          "age",
          "age",
          "age",
          "age",
          "age",
          "age",
          "age",
          "age",
          "age",
          "age",
          "age",
          "age",
          "age",
          "age",
          "age",
          "age",
          "age",
          "age",
          "age",
          "age",
          "age",
          "age",
          "age",
          "age",
          "age",
          "age",
          "age",
          "age",
          "age",
          "age",
          "age",
          "age",
          "age",
          "age",
          "age",
          "age",
          "age",
          "age",
          "age",
          "age",
          "age",
          "age",
          "age",
          "age",
          "age",
          "age",
          "age",
          "age",
          "age",
          "age",
          "age",
          "age",
          "age",
          "age",
          "age",
          "age",
          "age",
          "age",
          "age",
          "age",
          "age",
          "age",
          "age",
          "age",
          "age",
          "age",
          "age",
          "age",
          "age",
          "age",
          "age",
          "age",
          "age",
          "age",
          "age",
          "age",
          "age",
          "age",
          "age",
          "age",
          "age",
          "age",
          "age",
          "age",
          "age",
          "age",
          "age",
          "age",
          "age",
          "age",
          "age",
          "age",
          "age",
          "age",
          "age",
          "age",
          "age",
          "age",
          "age",
          "age",
          "age",
          "age",
          "age",
          "age",
          "age",
          "age",
          "age",
          "age",
          "age",
          "age",
          "age",
          "age",
          "age",
          "age",
          "age",
          "age",
          "age",
          "age",
          "age",
          "age",
          "age",
          "age",
          "age",
          "age",
          "age",
          "age",
          "age",
          "age",
          "age",
          "age",
          "age",
          "age",
          "age",
          "age",
          "age",
          "age",
          "age",
          "age",
          "age",
          "age",
          "age",
          "age",
          "age",
          "age",
          "age",
          "age",
          "age",
          "age",
          "age",
          "age",
          "age",
          "age",
          "age",
          "age",
          "age",
          "age",
          "age",
          "age",
          "age",
          "age",
          "age",
          "age",
          "age",
          "age",
          "age",
          "age",
          "age",
          "age",
          "age",
          "age",
          "age",
          "age",
          "age",
          "age",
          "age",
          "age",
          "age",
          "age",
          "age",
          "age",
          "age",
          "age",
          "age",
          "age",
          "age",
          "age",
          "age",
          "age",
          "age",
          "age",
          "age",
          "age",
          "age",
          "age",
          "age",
          "age",
          "age",
          "age",
          "age",
          "age",
          "age",
          "age",
          "age",
          "age",
          "age",
          "age",
          "age",
          "age",
          "age",
          "age",
          "age",
          "age",
          "age",
          "age",
          "age",
          "age",
          "age",
          "age",
          "age",
          "age",
          "age",
          "age",
          "age",
          "age",
          "age",
          "age",
          "age",
          "age",
          "age",
          "age",
          "age",
          "age",
          "age",
          "age",
          "age",
          "age",
          "age",
          "age",
          "age",
          "age",
          "age",
          "age",
          "age",
          "age",
          "age",
          "age",
          "age",
          "age",
          "age",
          "age",
          "age",
          "age",
          "age",
          "age",
          "age",
          "age",
          "age",
          "age",
          "age",
          "age",
          "age",
          "age",
          "age",
          "age",
          "age",
          "age",
          "age",
          "age",
          "age",
          "age",
          "age",
          "age",
          "age",
          "age",
          "age",
          "age",
          "age",
          "age",
          "age",
          "age",
          "age",
          "age",
          "age",
          "age",
          "age",
          "age",
          "age",
          "age",
          "age",
          "age",
          "age",
          "age",
          "age",
          "age",
          "age",
          "age",
          "age",
          "age",
          "age",
          "age",
          "age",
          "age",
          "age",
          "age",
          "age",
          "age",
          "age",
          "age",
          "age",
          "age",
          "age",
          "age",
          "age",
          "age",
          "age",
          "age",
          "age",
          "age",
          "age",
          "age",
          "age",
          "age",
          "age",
          "age",
          "age",
          "age",
          "age",
          "age",
          "age",
          "age",
          "age",
          "age",
          "age",
          "age",
          "age",
          "age",
          "age",
          "age",
          "age",
          "age",
          "age",
          "age",
          "age",
          "age",
          "age",
          "age",
          "age",
          "age",
          "age",
          "age",
          "age",
          "age",
          "age",
          "age",
          "age",
          "age",
          "age",
          "age",
          "age",
          "age",
          "age",
          "age",
          "age",
          "age",
          "age",
          "age",
          "age",
          "age",
          "age",
          "age",
          "age",
          "age",
          "age",
          "age",
          "age",
          "age",
          "age",
          "age",
          "age",
          "age",
          "age",
          "age",
          "trestbps",
          "trestbps",
          "trestbps",
          "trestbps",
          "trestbps",
          "trestbps",
          "trestbps",
          "trestbps",
          "trestbps",
          "trestbps",
          "trestbps",
          "trestbps",
          "trestbps",
          "trestbps",
          "trestbps",
          "trestbps",
          "trestbps",
          "trestbps",
          "trestbps",
          "trestbps",
          "trestbps",
          "trestbps",
          "trestbps",
          "trestbps",
          "trestbps",
          "trestbps",
          "trestbps",
          "trestbps",
          "trestbps",
          "trestbps",
          "trestbps",
          "trestbps",
          "trestbps",
          "trestbps",
          "trestbps",
          "trestbps",
          "trestbps",
          "trestbps",
          "trestbps",
          "trestbps",
          "trestbps",
          "trestbps",
          "trestbps",
          "trestbps",
          "trestbps",
          "trestbps",
          "trestbps",
          "trestbps",
          "trestbps",
          "trestbps",
          "trestbps",
          "trestbps",
          "trestbps",
          "trestbps",
          "trestbps",
          "trestbps",
          "trestbps",
          "trestbps",
          "trestbps",
          "trestbps",
          "trestbps",
          "trestbps",
          "trestbps",
          "trestbps",
          "trestbps",
          "trestbps",
          "trestbps",
          "trestbps",
          "trestbps",
          "trestbps",
          "trestbps",
          "trestbps",
          "trestbps",
          "trestbps",
          "trestbps",
          "trestbps",
          "trestbps",
          "trestbps",
          "trestbps",
          "trestbps",
          "trestbps",
          "trestbps",
          "trestbps",
          "trestbps",
          "trestbps",
          "trestbps",
          "trestbps",
          "trestbps",
          "trestbps",
          "trestbps",
          "trestbps",
          "trestbps",
          "trestbps",
          "trestbps",
          "trestbps",
          "trestbps",
          "trestbps",
          "trestbps",
          "trestbps",
          "trestbps",
          "trestbps",
          "trestbps",
          "trestbps",
          "trestbps",
          "trestbps",
          "trestbps",
          "trestbps",
          "trestbps",
          "trestbps",
          "trestbps",
          "trestbps",
          "trestbps",
          "trestbps",
          "trestbps",
          "trestbps",
          "trestbps",
          "trestbps",
          "trestbps",
          "trestbps",
          "trestbps",
          "trestbps",
          "trestbps",
          "trestbps",
          "trestbps",
          "trestbps",
          "trestbps",
          "trestbps",
          "trestbps",
          "trestbps",
          "trestbps",
          "trestbps",
          "trestbps",
          "trestbps",
          "trestbps",
          "trestbps",
          "trestbps",
          "trestbps",
          "trestbps",
          "trestbps",
          "trestbps",
          "trestbps",
          "trestbps",
          "trestbps",
          "trestbps",
          "trestbps",
          "trestbps",
          "trestbps",
          "trestbps",
          "trestbps",
          "trestbps",
          "trestbps",
          "trestbps",
          "trestbps",
          "trestbps",
          "trestbps",
          "trestbps",
          "trestbps",
          "trestbps",
          "trestbps",
          "trestbps",
          "trestbps",
          "trestbps",
          "trestbps",
          "trestbps",
          "trestbps",
          "trestbps",
          "trestbps",
          "trestbps",
          "trestbps",
          "trestbps",
          "trestbps",
          "trestbps",
          "trestbps",
          "trestbps",
          "trestbps",
          "trestbps",
          "trestbps",
          "trestbps",
          "trestbps",
          "trestbps",
          "trestbps",
          "trestbps",
          "trestbps",
          "trestbps",
          "trestbps",
          "trestbps",
          "trestbps",
          "trestbps",
          "trestbps",
          "trestbps",
          "trestbps",
          "trestbps",
          "trestbps",
          "trestbps",
          "trestbps",
          "trestbps",
          "trestbps",
          "trestbps",
          "trestbps",
          "trestbps",
          "trestbps",
          "trestbps",
          "trestbps",
          "trestbps",
          "trestbps",
          "trestbps",
          "trestbps",
          "trestbps",
          "trestbps",
          "trestbps",
          "trestbps",
          "trestbps",
          "trestbps",
          "trestbps",
          "trestbps",
          "trestbps",
          "trestbps",
          "trestbps",
          "trestbps",
          "trestbps",
          "trestbps",
          "trestbps",
          "trestbps",
          "trestbps",
          "trestbps",
          "trestbps",
          "trestbps",
          "trestbps",
          "trestbps",
          "trestbps",
          "trestbps",
          "trestbps",
          "trestbps",
          "trestbps",
          "trestbps",
          "trestbps",
          "trestbps",
          "trestbps",
          "trestbps",
          "trestbps",
          "trestbps",
          "trestbps",
          "trestbps",
          "trestbps",
          "trestbps",
          "trestbps",
          "trestbps",
          "trestbps",
          "trestbps",
          "trestbps",
          "trestbps",
          "trestbps",
          "trestbps",
          "trestbps",
          "trestbps",
          "trestbps",
          "trestbps",
          "trestbps",
          "trestbps",
          "trestbps",
          "trestbps",
          "trestbps",
          "trestbps",
          "trestbps",
          "trestbps",
          "trestbps",
          "trestbps",
          "trestbps",
          "trestbps",
          "trestbps",
          "trestbps",
          "trestbps",
          "trestbps",
          "trestbps",
          "trestbps",
          "trestbps",
          "trestbps",
          "trestbps",
          "trestbps",
          "trestbps",
          "trestbps",
          "trestbps",
          "trestbps",
          "trestbps",
          "trestbps",
          "trestbps",
          "trestbps",
          "trestbps",
          "trestbps",
          "trestbps",
          "trestbps",
          "trestbps",
          "trestbps",
          "trestbps",
          "trestbps",
          "trestbps",
          "trestbps",
          "trestbps",
          "trestbps",
          "trestbps",
          "trestbps",
          "trestbps",
          "trestbps",
          "trestbps",
          "trestbps",
          "trestbps",
          "trestbps",
          "trestbps",
          "trestbps",
          "trestbps",
          "trestbps",
          "trestbps",
          "trestbps",
          "trestbps",
          "trestbps",
          "trestbps",
          "trestbps",
          "trestbps",
          "trestbps",
          "trestbps",
          "trestbps",
          "trestbps",
          "trestbps",
          "trestbps",
          "trestbps",
          "trestbps",
          "trestbps",
          "trestbps",
          "trestbps",
          "trestbps",
          "trestbps",
          "trestbps",
          "trestbps",
          "trestbps",
          "trestbps",
          "trestbps",
          "trestbps",
          "trestbps",
          "trestbps",
          "trestbps",
          "trestbps",
          "trestbps",
          "trestbps",
          "trestbps",
          "trestbps",
          "trestbps",
          "trestbps",
          "trestbps",
          "trestbps",
          "trestbps",
          "trestbps",
          "trestbps",
          "trestbps",
          "trestbps",
          "trestbps",
          "trestbps",
          "trestbps",
          "trestbps",
          "trestbps",
          "trestbps",
          "trestbps",
          "trestbps",
          "trestbps",
          "trestbps",
          "trestbps",
          "trestbps",
          "trestbps",
          "trestbps",
          "trestbps",
          "trestbps",
          "trestbps",
          "trestbps",
          "trestbps",
          "trestbps",
          "trestbps",
          "trestbps",
          "trestbps",
          "trestbps",
          "trestbps",
          "trestbps",
          "trestbps",
          "trestbps",
          "trestbps",
          "trestbps",
          "trestbps",
          "trestbps",
          "trestbps",
          "trestbps",
          "trestbps",
          "trestbps",
          "trestbps",
          "trestbps",
          "trestbps",
          "trestbps",
          "trestbps",
          "trestbps",
          "trestbps",
          "trestbps",
          "trestbps",
          "trestbps",
          "trestbps",
          "trestbps",
          "trestbps",
          "trestbps",
          "trestbps",
          "trestbps",
          "trestbps",
          "trestbps",
          "trestbps",
          "trestbps",
          "trestbps",
          "trestbps",
          "trestbps",
          "trestbps",
          "trestbps",
          "trestbps",
          "trestbps",
          "trestbps",
          "trestbps",
          "trestbps",
          "trestbps",
          "trestbps",
          "trestbps",
          "trestbps",
          "trestbps",
          "trestbps",
          "trestbps",
          "trestbps",
          "trestbps",
          "trestbps",
          "trestbps",
          "trestbps",
          "trestbps",
          "trestbps",
          "trestbps",
          "trestbps",
          "trestbps",
          "trestbps",
          "trestbps",
          "trestbps",
          "trestbps",
          "trestbps",
          "trestbps",
          "trestbps",
          "trestbps",
          "trestbps",
          "trestbps",
          "trestbps",
          "trestbps",
          "trestbps",
          "trestbps",
          "trestbps",
          "trestbps",
          "trestbps",
          "trestbps",
          "trestbps",
          "trestbps",
          "trestbps",
          "trestbps",
          "trestbps",
          "trestbps",
          "trestbps",
          "trestbps",
          "trestbps",
          "trestbps",
          "trestbps",
          "trestbps",
          "trestbps",
          "trestbps",
          "trestbps",
          "trestbps",
          "trestbps",
          "trestbps",
          "trestbps",
          "trestbps",
          "trestbps",
          "trestbps",
          "trestbps",
          "trestbps",
          "trestbps",
          "trestbps",
          "trestbps",
          "trestbps",
          "trestbps",
          "trestbps",
          "trestbps",
          "trestbps",
          "trestbps",
          "trestbps",
          "trestbps",
          "trestbps",
          "trestbps",
          "trestbps",
          "trestbps",
          "trestbps",
          "trestbps",
          "trestbps",
          "trestbps",
          "trestbps",
          "trestbps",
          "trestbps",
          "trestbps",
          "trestbps",
          "trestbps",
          "trestbps",
          "trestbps",
          "trestbps",
          "trestbps",
          "trestbps",
          "trestbps",
          "trestbps",
          "trestbps",
          "trestbps",
          "trestbps",
          "trestbps",
          "trestbps",
          "trestbps",
          "trestbps",
          "trestbps",
          "trestbps",
          "trestbps",
          "trestbps",
          "trestbps",
          "trestbps",
          "trestbps",
          "trestbps",
          "trestbps",
          "trestbps",
          "trestbps",
          "trestbps",
          "trestbps",
          "trestbps",
          "trestbps",
          "trestbps",
          "trestbps",
          "trestbps",
          "trestbps",
          "trestbps",
          "trestbps",
          "trestbps",
          "trestbps",
          "trestbps",
          "trestbps",
          "trestbps",
          "trestbps",
          "trestbps",
          "trestbps",
          "trestbps",
          "trestbps",
          "trestbps",
          "trestbps",
          "trestbps",
          "trestbps",
          "trestbps",
          "trestbps",
          "trestbps",
          "trestbps",
          "trestbps",
          "trestbps",
          "trestbps",
          "trestbps",
          "trestbps",
          "trestbps",
          "trestbps",
          "trestbps",
          "trestbps",
          "trestbps",
          "trestbps",
          "trestbps",
          "trestbps",
          "trestbps",
          "trestbps",
          "trestbps",
          "trestbps",
          "trestbps",
          "trestbps",
          "trestbps",
          "trestbps",
          "trestbps",
          "trestbps",
          "trestbps",
          "trestbps",
          "trestbps",
          "trestbps",
          "trestbps",
          "trestbps",
          "trestbps",
          "trestbps",
          "trestbps",
          "trestbps",
          "trestbps",
          "trestbps",
          "trestbps",
          "trestbps",
          "trestbps",
          "trestbps",
          "trestbps",
          "trestbps",
          "trestbps",
          "trestbps",
          "trestbps",
          "trestbps",
          "trestbps",
          "trestbps",
          "trestbps",
          "trestbps",
          "trestbps",
          "trestbps",
          "trestbps",
          "trestbps",
          "trestbps",
          "trestbps",
          "trestbps",
          "trestbps",
          "trestbps",
          "trestbps",
          "trestbps",
          "trestbps",
          "trestbps",
          "trestbps",
          "trestbps",
          "trestbps",
          "trestbps",
          "trestbps",
          "trestbps",
          "trestbps",
          "trestbps",
          "trestbps",
          "trestbps",
          "trestbps",
          "trestbps",
          "trestbps",
          "trestbps",
          "trestbps",
          "trestbps",
          "trestbps",
          "trestbps",
          "trestbps",
          "trestbps",
          "trestbps",
          "trestbps",
          "trestbps",
          "trestbps",
          "trestbps",
          "trestbps",
          "trestbps",
          "trestbps",
          "trestbps",
          "trestbps",
          "trestbps",
          "trestbps",
          "trestbps",
          "trestbps",
          "trestbps",
          "trestbps",
          "trestbps",
          "trestbps",
          "trestbps",
          "trestbps",
          "trestbps",
          "trestbps",
          "trestbps",
          "trestbps",
          "trestbps",
          "trestbps",
          "trestbps",
          "trestbps",
          "trestbps",
          "trestbps",
          "trestbps",
          "trestbps",
          "trestbps",
          "trestbps",
          "trestbps",
          "trestbps",
          "trestbps",
          "trestbps",
          "trestbps",
          "trestbps",
          "trestbps",
          "trestbps",
          "trestbps",
          "trestbps",
          "trestbps",
          "trestbps",
          "trestbps",
          "trestbps",
          "trestbps",
          "trestbps",
          "trestbps",
          "trestbps",
          "trestbps",
          "trestbps",
          "trestbps",
          "trestbps",
          "trestbps",
          "trestbps",
          "trestbps",
          "trestbps",
          "trestbps",
          "trestbps",
          "trestbps",
          "trestbps",
          "trestbps",
          "trestbps",
          "trestbps",
          "trestbps",
          "trestbps",
          "trestbps",
          "trestbps",
          "trestbps",
          "trestbps",
          "trestbps",
          "trestbps",
          "trestbps",
          "trestbps",
          "trestbps",
          "trestbps",
          "trestbps",
          "trestbps",
          "trestbps",
          "trestbps",
          "trestbps",
          "trestbps",
          "trestbps",
          "trestbps",
          "trestbps",
          "trestbps",
          "trestbps",
          "trestbps",
          "trestbps",
          "trestbps",
          "trestbps",
          "trestbps",
          "trestbps",
          "trestbps",
          "trestbps",
          "trestbps",
          "trestbps",
          "trestbps",
          "trestbps",
          "trestbps",
          "trestbps",
          "trestbps",
          "trestbps",
          "trestbps",
          "trestbps",
          "trestbps",
          "trestbps",
          "trestbps",
          "trestbps",
          "trestbps",
          "trestbps",
          "trestbps",
          "trestbps",
          "trestbps",
          "trestbps",
          "trestbps",
          "trestbps",
          "trestbps",
          "trestbps",
          "trestbps",
          "trestbps",
          "trestbps",
          "trestbps",
          "trestbps",
          "trestbps",
          "trestbps",
          "trestbps",
          "trestbps",
          "trestbps",
          "trestbps",
          "trestbps",
          "trestbps",
          "trestbps",
          "trestbps",
          "trestbps",
          "trestbps",
          "trestbps",
          "trestbps",
          "trestbps",
          "trestbps",
          "trestbps",
          "trestbps",
          "trestbps",
          "trestbps",
          "trestbps",
          "trestbps",
          "trestbps",
          "trestbps",
          "trestbps",
          "trestbps",
          "trestbps",
          "trestbps",
          "trestbps",
          "trestbps",
          "trestbps",
          "trestbps",
          "trestbps",
          "trestbps",
          "trestbps",
          "trestbps",
          "trestbps",
          "trestbps",
          "trestbps",
          "trestbps",
          "trestbps",
          "trestbps",
          "trestbps",
          "trestbps",
          "trestbps",
          "trestbps",
          "trestbps",
          "trestbps",
          "trestbps",
          "trestbps",
          "trestbps",
          "trestbps",
          "trestbps",
          "trestbps",
          "trestbps",
          "trestbps",
          "trestbps",
          "trestbps",
          "trestbps",
          "trestbps",
          "trestbps",
          "trestbps",
          "trestbps",
          "trestbps",
          "trestbps",
          "trestbps",
          "trestbps",
          "trestbps",
          "trestbps",
          "trestbps",
          "trestbps",
          "trestbps",
          "trestbps",
          "trestbps",
          "trestbps",
          "trestbps",
          "trestbps",
          "trestbps",
          "trestbps",
          "trestbps",
          "trestbps",
          "trestbps",
          "trestbps",
          "trestbps",
          "trestbps",
          "trestbps",
          "trestbps",
          "trestbps",
          "trestbps",
          "trestbps",
          "trestbps",
          "trestbps",
          "trestbps",
          "trestbps",
          "trestbps",
          "trestbps",
          "trestbps",
          "trestbps",
          "trestbps",
          "trestbps",
          "trestbps",
          "trestbps",
          "trestbps",
          "trestbps",
          "trestbps",
          "trestbps",
          "trestbps",
          "trestbps",
          "trestbps",
          "trestbps",
          "trestbps",
          "trestbps",
          "trestbps",
          "trestbps",
          "trestbps",
          "trestbps",
          "trestbps",
          "trestbps",
          "trestbps",
          "trestbps",
          "trestbps",
          "trestbps",
          "trestbps",
          "trestbps",
          "trestbps",
          "trestbps",
          "trestbps",
          "trestbps",
          "trestbps",
          "trestbps",
          "trestbps",
          "trestbps",
          "trestbps",
          "trestbps",
          "trestbps",
          "trestbps",
          "trestbps",
          "trestbps",
          "trestbps",
          "trestbps",
          "trestbps",
          "trestbps",
          "trestbps",
          "trestbps",
          "trestbps",
          "trestbps",
          "trestbps",
          "trestbps",
          "chol",
          "chol",
          "chol",
          "chol",
          "chol",
          "chol",
          "chol",
          "chol",
          "chol",
          "chol",
          "chol",
          "chol",
          "chol",
          "chol",
          "chol",
          "chol",
          "chol",
          "chol",
          "chol",
          "chol",
          "chol",
          "chol",
          "chol",
          "chol",
          "chol",
          "chol",
          "chol",
          "chol",
          "chol",
          "chol",
          "chol",
          "chol",
          "chol",
          "chol",
          "chol",
          "chol",
          "chol",
          "chol",
          "chol",
          "chol",
          "chol",
          "chol",
          "chol",
          "chol",
          "chol",
          "chol",
          "chol",
          "chol",
          "chol",
          "chol",
          "chol",
          "chol",
          "chol",
          "chol",
          "chol",
          "chol",
          "chol",
          "chol",
          "chol",
          "chol",
          "chol",
          "chol",
          "chol",
          "chol",
          "chol",
          "chol",
          "chol",
          "chol",
          "chol",
          "chol",
          "chol",
          "chol",
          "chol",
          "chol",
          "chol",
          "chol",
          "chol",
          "chol",
          "chol",
          "chol",
          "chol",
          "chol",
          "chol",
          "chol",
          "chol",
          "chol",
          "chol",
          "chol",
          "chol",
          "chol",
          "chol",
          "chol",
          "chol",
          "chol",
          "chol",
          "chol",
          "chol",
          "chol",
          "chol",
          "chol",
          "chol",
          "chol",
          "chol",
          "chol",
          "chol",
          "chol",
          "chol",
          "chol",
          "chol",
          "chol",
          "chol",
          "chol",
          "chol",
          "chol",
          "chol",
          "chol",
          "chol",
          "chol",
          "chol",
          "chol",
          "chol",
          "chol",
          "chol",
          "chol",
          "chol",
          "chol",
          "chol",
          "chol",
          "chol",
          "chol",
          "chol",
          "chol",
          "chol",
          "chol",
          "chol",
          "chol",
          "chol",
          "chol",
          "chol",
          "chol",
          "chol",
          "chol",
          "chol",
          "chol",
          "chol",
          "chol",
          "chol",
          "chol",
          "chol",
          "chol",
          "chol",
          "chol",
          "chol",
          "chol",
          "chol",
          "chol",
          "chol",
          "chol",
          "chol",
          "chol",
          "chol",
          "chol",
          "chol",
          "chol",
          "chol",
          "chol",
          "chol",
          "chol",
          "chol",
          "chol",
          "chol",
          "chol",
          "chol",
          "chol",
          "chol",
          "chol",
          "chol",
          "chol",
          "chol",
          "chol",
          "chol",
          "chol",
          "chol",
          "chol",
          "chol",
          "chol",
          "chol",
          "chol",
          "chol",
          "chol",
          "chol",
          "chol",
          "chol",
          "chol",
          "chol",
          "chol",
          "chol",
          "chol",
          "chol",
          "chol",
          "chol",
          "chol",
          "chol",
          "chol",
          "chol",
          "chol",
          "chol",
          "chol",
          "chol",
          "chol",
          "chol",
          "chol",
          "chol",
          "chol",
          "chol",
          "chol",
          "chol",
          "chol",
          "chol",
          "chol",
          "chol",
          "chol",
          "chol",
          "chol",
          "chol",
          "chol",
          "chol",
          "chol",
          "chol",
          "chol",
          "chol",
          "chol",
          "chol",
          "chol",
          "chol",
          "chol",
          "chol",
          "chol",
          "chol",
          "chol",
          "chol",
          "chol",
          "chol",
          "chol",
          "chol",
          "chol",
          "chol",
          "chol",
          "chol",
          "chol",
          "chol",
          "chol",
          "chol",
          "chol",
          "chol",
          "chol",
          "chol",
          "chol",
          "chol",
          "chol",
          "chol",
          "chol",
          "chol",
          "chol",
          "chol",
          "chol",
          "chol",
          "chol",
          "chol",
          "chol",
          "chol",
          "chol",
          "chol",
          "chol",
          "chol",
          "chol",
          "chol",
          "chol",
          "chol",
          "chol",
          "chol",
          "chol",
          "chol",
          "chol",
          "chol",
          "chol",
          "chol",
          "chol",
          "chol",
          "chol",
          "chol",
          "chol",
          "chol",
          "chol",
          "chol",
          "chol",
          "chol",
          "chol",
          "chol",
          "chol",
          "chol",
          "chol",
          "chol",
          "chol",
          "chol",
          "chol",
          "chol",
          "chol",
          "chol",
          "chol",
          "chol",
          "chol",
          "chol",
          "chol",
          "chol",
          "chol",
          "chol",
          "chol",
          "chol",
          "chol",
          "chol",
          "chol",
          "chol",
          "chol",
          "chol",
          "chol",
          "chol",
          "chol",
          "chol",
          "chol",
          "chol",
          "chol",
          "chol",
          "chol",
          "chol",
          "chol",
          "chol",
          "chol",
          "chol",
          "chol",
          "chol",
          "chol",
          "chol",
          "chol",
          "chol",
          "chol",
          "chol",
          "chol",
          "chol",
          "chol",
          "chol",
          "chol",
          "chol",
          "chol",
          "chol",
          "chol",
          "chol",
          "chol",
          "chol",
          "chol",
          "chol",
          "chol",
          "chol",
          "chol",
          "chol",
          "chol",
          "chol",
          "chol",
          "chol",
          "chol",
          "chol",
          "chol",
          "chol",
          "chol",
          "chol",
          "chol",
          "chol",
          "chol",
          "chol",
          "chol",
          "chol",
          "chol",
          "chol",
          "chol",
          "chol",
          "chol",
          "chol",
          "chol",
          "chol",
          "chol",
          "chol",
          "chol",
          "chol",
          "chol",
          "chol",
          "chol",
          "chol",
          "chol",
          "chol",
          "chol",
          "chol",
          "chol",
          "chol",
          "chol",
          "chol",
          "chol",
          "chol",
          "chol",
          "chol",
          "chol",
          "chol",
          "chol",
          "chol",
          "chol",
          "chol",
          "chol",
          "chol",
          "chol",
          "chol",
          "chol",
          "chol",
          "chol",
          "chol",
          "chol",
          "chol",
          "chol",
          "chol",
          "chol",
          "chol",
          "chol",
          "chol",
          "chol",
          "chol",
          "chol",
          "chol",
          "chol",
          "chol",
          "chol",
          "chol",
          "chol",
          "chol",
          "chol",
          "chol",
          "chol",
          "chol",
          "chol",
          "chol",
          "chol",
          "chol",
          "chol",
          "chol",
          "chol",
          "chol",
          "chol",
          "chol",
          "chol",
          "chol",
          "chol",
          "chol",
          "chol",
          "chol",
          "chol",
          "chol",
          "chol",
          "chol",
          "chol",
          "chol",
          "chol",
          "chol",
          "chol",
          "chol",
          "chol",
          "chol",
          "chol",
          "chol",
          "chol",
          "chol",
          "chol",
          "chol",
          "chol",
          "chol",
          "chol",
          "chol",
          "chol",
          "chol",
          "chol",
          "chol",
          "chol",
          "chol",
          "chol",
          "chol",
          "chol",
          "chol",
          "chol",
          "chol",
          "chol",
          "chol",
          "chol",
          "chol",
          "chol",
          "chol",
          "chol",
          "chol",
          "chol",
          "chol",
          "chol",
          "chol",
          "chol",
          "chol",
          "chol",
          "chol",
          "chol",
          "chol",
          "chol",
          "chol",
          "chol",
          "chol",
          "chol",
          "chol",
          "chol",
          "chol",
          "chol",
          "chol",
          "chol",
          "chol",
          "chol",
          "chol",
          "chol",
          "chol",
          "chol",
          "chol",
          "chol",
          "chol",
          "chol",
          "chol",
          "chol",
          "chol",
          "chol",
          "chol",
          "chol",
          "chol",
          "chol",
          "chol",
          "chol",
          "chol",
          "chol",
          "chol",
          "chol",
          "chol",
          "chol",
          "chol",
          "chol",
          "chol",
          "chol",
          "chol",
          "chol",
          "chol",
          "chol",
          "chol",
          "chol",
          "chol",
          "chol",
          "chol",
          "chol",
          "chol",
          "chol",
          "chol",
          "chol",
          "chol",
          "chol",
          "chol",
          "chol",
          "chol",
          "chol",
          "chol",
          "chol",
          "chol",
          "chol",
          "chol",
          "chol",
          "chol",
          "chol",
          "chol",
          "chol",
          "chol",
          "chol",
          "chol",
          "chol",
          "chol",
          "chol",
          "chol",
          "chol",
          "chol",
          "chol",
          "chol",
          "chol",
          "chol",
          "chol",
          "chol",
          "chol",
          "chol",
          "chol",
          "chol",
          "chol",
          "chol",
          "chol",
          "chol",
          "chol",
          "chol",
          "chol",
          "chol",
          "chol",
          "chol",
          "chol",
          "chol",
          "chol",
          "chol",
          "chol",
          "chol",
          "chol",
          "chol",
          "chol",
          "chol",
          "chol",
          "chol",
          "chol",
          "chol",
          "chol",
          "chol",
          "chol",
          "chol",
          "chol",
          "chol",
          "chol",
          "chol",
          "chol",
          "chol",
          "chol",
          "chol",
          "chol",
          "chol",
          "chol",
          "chol",
          "chol",
          "chol",
          "chol",
          "chol",
          "chol",
          "chol",
          "chol",
          "chol",
          "chol",
          "chol",
          "chol",
          "chol",
          "chol",
          "chol",
          "chol",
          "chol",
          "chol",
          "chol",
          "chol",
          "chol",
          "chol",
          "chol",
          "chol",
          "chol",
          "chol",
          "chol",
          "chol",
          "chol",
          "chol",
          "chol",
          "chol",
          "chol",
          "chol",
          "chol",
          "chol",
          "chol",
          "chol",
          "chol",
          "chol",
          "chol",
          "chol",
          "chol",
          "chol",
          "chol",
          "chol",
          "chol",
          "chol",
          "chol",
          "chol",
          "chol",
          "chol",
          "chol",
          "chol",
          "chol",
          "chol",
          "chol",
          "chol",
          "chol",
          "chol",
          "chol",
          "chol",
          "chol",
          "chol",
          "chol",
          "chol",
          "chol",
          "chol",
          "chol",
          "chol",
          "chol",
          "chol",
          "chol",
          "chol",
          "chol",
          "chol",
          "chol",
          "chol",
          "chol",
          "chol",
          "chol",
          "chol",
          "chol",
          "chol",
          "chol",
          "chol",
          "chol",
          "chol",
          "chol",
          "chol",
          "chol",
          "chol",
          "chol",
          "chol",
          "chol",
          "chol",
          "chol",
          "chol",
          "chol",
          "chol",
          "chol",
          "chol",
          "chol",
          "chol",
          "chol",
          "chol",
          "chol",
          "chol",
          "chol",
          "chol",
          "chol",
          "chol",
          "chol",
          "chol",
          "chol",
          "chol",
          "chol",
          "chol",
          "chol",
          "chol",
          "chol",
          "chol",
          "chol",
          "chol",
          "chol",
          "chol",
          "chol",
          "chol",
          "chol",
          "chol",
          "chol",
          "chol",
          "chol",
          "chol",
          "chol",
          "chol",
          "chol",
          "chol",
          "chol",
          "chol",
          "chol",
          "chol",
          "chol",
          "chol",
          "chol",
          "chol",
          "chol",
          "chol",
          "chol",
          "chol",
          "chol",
          "chol",
          "chol",
          "chol",
          "chol",
          "chol",
          "chol",
          "chol",
          "chol",
          "chol",
          "chol",
          "chol",
          "chol",
          "chol",
          "chol",
          "chol",
          "chol",
          "chol",
          "chol",
          "chol",
          "chol",
          "chol",
          "chol",
          "chol",
          "chol",
          "chol",
          "chol",
          "chol",
          "chol",
          "chol",
          "chol",
          "chol",
          "chol",
          "chol",
          "chol",
          "chol",
          "chol",
          "chol",
          "chol",
          "chol",
          "chol",
          "chol",
          "chol",
          "chol",
          "chol",
          "chol",
          "chol",
          "chol",
          "chol",
          "chol",
          "chol",
          "chol",
          "chol",
          "chol",
          "chol",
          "chol",
          "chol",
          "chol",
          "chol",
          "chol",
          "chol",
          "chol",
          "chol",
          "chol",
          "chol",
          "chol",
          "chol",
          "chol",
          "chol",
          "chol",
          "chol",
          "chol",
          "chol",
          "chol",
          "chol",
          "chol",
          "chol",
          "chol",
          "chol",
          "chol",
          "chol",
          "chol",
          "chol",
          "chol",
          "chol",
          "chol",
          "chol",
          "chol",
          "chol",
          "chol",
          "chol",
          "chol",
          "chol",
          "chol",
          "chol",
          "chol",
          "chol",
          "chol",
          "chol",
          "chol",
          "chol",
          "chol",
          "chol",
          "chol",
          "chol",
          "chol",
          "chol",
          "chol",
          "chol",
          "chol",
          "chol",
          "chol",
          "chol",
          "chol",
          "chol",
          "chol",
          "chol",
          "chol",
          "chol",
          "chol",
          "chol",
          "chol",
          "thalach",
          "thalach",
          "thalach",
          "thalach",
          "thalach",
          "thalach",
          "thalach",
          "thalach",
          "thalach",
          "thalach",
          "thalach",
          "thalach",
          "thalach",
          "thalach",
          "thalach",
          "thalach",
          "thalach",
          "thalach",
          "thalach",
          "thalach",
          "thalach",
          "thalach",
          "thalach",
          "thalach",
          "thalach",
          "thalach",
          "thalach",
          "thalach",
          "thalach",
          "thalach",
          "thalach",
          "thalach",
          "thalach",
          "thalach",
          "thalach",
          "thalach",
          "thalach",
          "thalach",
          "thalach",
          "thalach",
          "thalach",
          "thalach",
          "thalach",
          "thalach",
          "thalach",
          "thalach",
          "thalach",
          "thalach",
          "thalach",
          "thalach",
          "thalach",
          "thalach",
          "thalach",
          "thalach",
          "thalach",
          "thalach",
          "thalach",
          "thalach",
          "thalach",
          "thalach",
          "thalach",
          "thalach",
          "thalach",
          "thalach",
          "thalach",
          "thalach",
          "thalach",
          "thalach",
          "thalach",
          "thalach",
          "thalach",
          "thalach",
          "thalach",
          "thalach",
          "thalach",
          "thalach",
          "thalach",
          "thalach",
          "thalach",
          "thalach",
          "thalach",
          "thalach",
          "thalach",
          "thalach",
          "thalach",
          "thalach",
          "thalach",
          "thalach",
          "thalach",
          "thalach",
          "thalach",
          "thalach",
          "thalach",
          "thalach",
          "thalach",
          "thalach",
          "thalach",
          "thalach",
          "thalach",
          "thalach",
          "thalach",
          "thalach",
          "thalach",
          "thalach",
          "thalach",
          "thalach",
          "thalach",
          "thalach",
          "thalach",
          "thalach",
          "thalach",
          "thalach",
          "thalach",
          "thalach",
          "thalach",
          "thalach",
          "thalach",
          "thalach",
          "thalach",
          "thalach",
          "thalach",
          "thalach",
          "thalach",
          "thalach",
          "thalach",
          "thalach",
          "thalach",
          "thalach",
          "thalach",
          "thalach",
          "thalach",
          "thalach",
          "thalach",
          "thalach",
          "thalach",
          "thalach",
          "thalach",
          "thalach",
          "thalach",
          "thalach",
          "thalach",
          "thalach",
          "thalach",
          "thalach",
          "thalach",
          "thalach",
          "thalach",
          "thalach",
          "thalach",
          "thalach",
          "thalach",
          "thalach",
          "thalach",
          "thalach",
          "thalach",
          "thalach",
          "thalach",
          "thalach",
          "thalach",
          "thalach",
          "thalach",
          "thalach",
          "thalach",
          "thalach",
          "thalach",
          "thalach",
          "thalach",
          "thalach",
          "thalach",
          "thalach",
          "thalach",
          "thalach",
          "thalach",
          "thalach",
          "thalach",
          "thalach",
          "thalach",
          "thalach",
          "thalach",
          "thalach",
          "thalach",
          "thalach",
          "thalach",
          "thalach",
          "thalach",
          "thalach",
          "thalach",
          "thalach",
          "thalach",
          "thalach",
          "thalach",
          "thalach",
          "thalach",
          "thalach",
          "thalach",
          "thalach",
          "thalach",
          "thalach",
          "thalach",
          "thalach",
          "thalach",
          "thalach",
          "thalach",
          "thalach",
          "thalach",
          "thalach",
          "thalach",
          "thalach",
          "thalach",
          "thalach",
          "thalach",
          "thalach",
          "thalach",
          "thalach",
          "thalach",
          "thalach",
          "thalach",
          "thalach",
          "thalach",
          "thalach",
          "thalach",
          "thalach",
          "thalach",
          "thalach",
          "thalach",
          "thalach",
          "thalach",
          "thalach",
          "thalach",
          "thalach",
          "thalach",
          "thalach",
          "thalach",
          "thalach",
          "thalach",
          "thalach",
          "thalach",
          "thalach",
          "thalach",
          "thalach",
          "thalach",
          "thalach",
          "thalach",
          "thalach",
          "thalach",
          "thalach",
          "thalach",
          "thalach",
          "thalach",
          "thalach",
          "thalach",
          "thalach",
          "thalach",
          "thalach",
          "thalach",
          "thalach",
          "thalach",
          "thalach",
          "thalach",
          "thalach",
          "thalach",
          "thalach",
          "thalach",
          "thalach",
          "thalach",
          "thalach",
          "thalach",
          "thalach",
          "thalach",
          "thalach",
          "thalach",
          "thalach",
          "thalach",
          "thalach",
          "thalach",
          "thalach",
          "thalach",
          "thalach",
          "thalach",
          "thalach",
          "thalach",
          "thalach",
          "thalach",
          "thalach",
          "thalach",
          "thalach",
          "thalach",
          "thalach",
          "thalach",
          "thalach",
          "thalach",
          "thalach",
          "thalach",
          "thalach",
          "thalach",
          "thalach",
          "thalach",
          "thalach",
          "thalach",
          "thalach",
          "thalach",
          "thalach",
          "thalach",
          "thalach",
          "thalach",
          "thalach",
          "thalach",
          "thalach",
          "thalach",
          "thalach",
          "thalach",
          "thalach",
          "thalach",
          "thalach",
          "thalach",
          "thalach",
          "thalach",
          "thalach",
          "thalach",
          "thalach",
          "thalach",
          "thalach",
          "thalach",
          "thalach",
          "thalach",
          "thalach",
          "thalach",
          "thalach",
          "thalach",
          "thalach",
          "thalach",
          "thalach",
          "thalach",
          "thalach",
          "thalach",
          "thalach",
          "thalach",
          "thalach",
          "thalach",
          "thalach",
          "thalach",
          "thalach",
          "thalach",
          "thalach",
          "thalach",
          "thalach",
          "thalach",
          "thalach",
          "thalach",
          "thalach",
          "thalach",
          "thalach",
          "thalach",
          "thalach",
          "thalach",
          "thalach",
          "thalach",
          "thalach",
          "thalach",
          "thalach",
          "thalach",
          "thalach",
          "thalach",
          "thalach",
          "thalach",
          "thalach",
          "thalach",
          "thalach",
          "thalach",
          "thalach",
          "thalach",
          "thalach",
          "thalach",
          "thalach",
          "thalach",
          "thalach",
          "thalach",
          "thalach",
          "thalach",
          "thalach",
          "thalach",
          "thalach",
          "thalach",
          "thalach",
          "thalach",
          "thalach",
          "thalach",
          "thalach",
          "thalach",
          "thalach",
          "thalach",
          "thalach",
          "thalach",
          "thalach",
          "thalach",
          "thalach",
          "thalach",
          "thalach",
          "thalach",
          "thalach",
          "thalach",
          "thalach",
          "thalach",
          "thalach",
          "thalach",
          "thalach",
          "thalach",
          "thalach",
          "thalach",
          "thalach",
          "thalach",
          "thalach",
          "thalach",
          "thalach",
          "thalach",
          "thalach",
          "thalach",
          "thalach",
          "thalach",
          "thalach",
          "thalach",
          "thalach",
          "thalach",
          "thalach",
          "thalach",
          "thalach",
          "thalach",
          "thalach",
          "thalach",
          "thalach",
          "thalach",
          "thalach",
          "thalach",
          "thalach",
          "thalach",
          "thalach",
          "thalach",
          "thalach",
          "thalach",
          "thalach",
          "thalach",
          "thalach",
          "thalach",
          "thalach",
          "thalach",
          "thalach",
          "thalach",
          "thalach",
          "thalach",
          "thalach",
          "thalach",
          "thalach",
          "thalach",
          "thalach",
          "thalach",
          "thalach",
          "thalach",
          "thalach",
          "thalach",
          "thalach",
          "thalach",
          "thalach",
          "thalach",
          "thalach",
          "thalach",
          "thalach",
          "thalach",
          "thalach",
          "thalach",
          "thalach",
          "thalach",
          "thalach",
          "thalach",
          "thalach",
          "thalach",
          "thalach",
          "thalach",
          "thalach",
          "thalach",
          "thalach",
          "thalach",
          "thalach",
          "thalach",
          "thalach",
          "thalach",
          "thalach",
          "thalach",
          "thalach",
          "thalach",
          "thalach",
          "thalach",
          "thalach",
          "thalach",
          "thalach",
          "thalach",
          "thalach",
          "thalach",
          "thalach",
          "thalach",
          "thalach",
          "thalach",
          "thalach",
          "thalach",
          "thalach",
          "thalach",
          "thalach",
          "thalach",
          "thalach",
          "thalach",
          "thalach",
          "thalach",
          "thalach",
          "thalach",
          "thalach",
          "thalach",
          "thalach",
          "thalach",
          "thalach",
          "thalach",
          "thalach",
          "thalach",
          "thalach",
          "thalach",
          "thalach",
          "thalach",
          "thalach",
          "thalach",
          "thalach",
          "thalach",
          "thalach",
          "thalach",
          "thalach",
          "thalach",
          "thalach",
          "thalach",
          "thalach",
          "thalach",
          "thalach",
          "thalach",
          "thalach",
          "thalach",
          "thalach",
          "thalach",
          "thalach",
          "thalach",
          "thalach",
          "thalach",
          "thalach",
          "thalach",
          "thalach",
          "thalach",
          "thalach",
          "thalach",
          "thalach",
          "thalach",
          "thalach",
          "thalach",
          "thalach",
          "thalach",
          "thalach",
          "thalach",
          "thalach",
          "thalach",
          "thalach",
          "thalach",
          "thalach",
          "thalach",
          "thalach",
          "thalach",
          "thalach",
          "thalach",
          "thalach",
          "thalach",
          "thalach",
          "thalach",
          "thalach",
          "thalach",
          "thalach",
          "thalach",
          "thalach",
          "thalach",
          "thalach",
          "thalach",
          "thalach",
          "thalach",
          "thalach",
          "thalach",
          "thalach",
          "thalach",
          "thalach",
          "thalach",
          "thalach",
          "thalach",
          "thalach",
          "thalach",
          "thalach",
          "thalach",
          "thalach",
          "thalach",
          "thalach",
          "thalach",
          "thalach",
          "thalach",
          "thalach",
          "thalach",
          "thalach",
          "thalach",
          "thalach",
          "thalach",
          "thalach",
          "thalach",
          "thalach",
          "thalach",
          "thalach",
          "thalach",
          "thalach",
          "thalach",
          "thalach",
          "thalach",
          "thalach",
          "thalach",
          "thalach",
          "thalach",
          "thalach",
          "thalach",
          "thalach",
          "thalach",
          "thalach",
          "thalach",
          "thalach",
          "thalach",
          "thalach",
          "thalach",
          "thalach",
          "thalach",
          "thalach",
          "thalach",
          "thalach",
          "thalach",
          "thalach",
          "thalach",
          "thalach",
          "thalach",
          "thalach",
          "thalach",
          "thalach",
          "thalach",
          "thalach",
          "thalach",
          "thalach",
          "thalach",
          "thalach",
          "thalach",
          "thalach",
          "thalach",
          "thalach",
          "thalach",
          "thalach",
          "thalach",
          "thalach",
          "thalach",
          "thalach",
          "thalach",
          "thalach",
          "thalach",
          "thalach",
          "thalach",
          "thalach",
          "thalach",
          "thalach",
          "thalach",
          "thalach",
          "thalach",
          "thalach",
          "thalach",
          "thalach",
          "thalach",
          "thalach",
          "thalach",
          "thalach",
          "thalach",
          "thalach",
          "thalach",
          "thalach",
          "thalach",
          "thalach",
          "thalach",
          "thalach",
          "thalach",
          "thalach",
          "thalach",
          "thalach",
          "thalach",
          "thalach",
          "thalach",
          "thalach",
          "thalach",
          "thalach",
          "thalach",
          "thalach",
          "thalach",
          "thalach",
          "thalach",
          "thalach",
          "thalach",
          "thalach",
          "thalach",
          "thalach",
          "thalach",
          "thalach",
          "thalach",
          "thalach",
          "thalach",
          "thalach",
          "thalach",
          "thalach",
          "thalach",
          "thalach",
          "thalach",
          "thalach",
          "thalach",
          "thalach",
          "thalach",
          "thalach",
          "thalach",
          "thalach",
          "thalach",
          "thalach",
          "thalach",
          "thalach",
          "thalach",
          "thalach",
          "thalach",
          "thalach",
          "thalach",
          "thalach",
          "thalach",
          "thalach",
          "thalach",
          "thalach",
          "thalach",
          "thalach",
          "thalach",
          "thalach",
          "thalach",
          "thalach",
          "thalach",
          "thalach",
          "thalach",
          "thalach",
          "thalach",
          "thalach",
          "thalach",
          "thalach",
          "thalach",
          "thalach",
          "thalach",
          "thalach",
          "thalach",
          "thalach",
          "thalach",
          "thalach",
          "thalach",
          "thalach",
          "thalach",
          "thalach",
          "thalach",
          "thalach",
          "thalach",
          "thalach",
          "thalach",
          "thalach",
          "thalach",
          "thalach",
          "thalach",
          "thalach",
          "thalach",
          "thalach",
          "thalach",
          "thalach",
          "thalach",
          "thalach",
          "thalach",
          "thalach",
          "thalach",
          "thalach",
          "thalach",
          "thalach",
          "thalach",
          "thalach",
          "thalach",
          "thalach",
          "thalach",
          "thalach",
          "thalach",
          "thalach",
          "thalach",
          "thalach",
          "thalach",
          "thalach",
          "thalach",
          "thalach",
          "thalach",
          "thalach",
          "thalach",
          "thalach",
          "thalach",
          "thalach",
          "thalach",
          "thalach",
          "thalach",
          "thalach",
          "thalach",
          "thalach",
          "thalach",
          "thalach",
          "thalach",
          "thalach",
          "thalach",
          "thalach",
          "thalach",
          "thalach",
          "thalach",
          "thalach",
          "thalach",
          "thalach",
          "thalach",
          "thalach",
          "thalach",
          "thalach",
          "thalach",
          "thalach",
          "thalach",
          "thalach",
          "thalach",
          "thalach",
          "thalach",
          "thalach",
          "thalach",
          "thalach",
          "thalach",
          "thalach",
          "thalach",
          "thalach",
          "thalach",
          "thalach",
          "thalach",
          "thalach",
          "thalach",
          "thalach",
          "thalach",
          "thalach",
          "thalach",
          "thalach",
          "thalach",
          "thalach",
          "thalach",
          "thalach",
          "thalach",
          "thalach",
          "thalach",
          "thalach",
          "thalach",
          "thalach",
          "thalach",
          "thalach",
          "thalach",
          "thalach",
          "thalach",
          "thalach",
          "thalach",
          "thalach",
          "thalach",
          "thalach",
          "thalach",
          "thalach",
          "thalach",
          "thalach",
          "thalach",
          "thalach",
          "thalach",
          "thalach",
          "thalach",
          "thalach",
          "thalach",
          "thalach",
          "thalach",
          "thalach",
          "thalach",
          "thalach",
          "thalach",
          "thalach",
          "thalach",
          "thalach",
          "thalach",
          "thalach",
          "thalach",
          "thalach",
          "thalach",
          "thalach",
          "thalach",
          "thalach",
          "thalach",
          "thalach",
          "thalach",
          "thalach",
          "thalach",
          "thalach",
          "thalach",
          "thalach",
          "thalach",
          "thalach",
          "thalach",
          "thalach",
          "oldpeak",
          "oldpeak",
          "oldpeak",
          "oldpeak",
          "oldpeak",
          "oldpeak",
          "oldpeak",
          "oldpeak",
          "oldpeak",
          "oldpeak",
          "oldpeak",
          "oldpeak",
          "oldpeak",
          "oldpeak",
          "oldpeak",
          "oldpeak",
          "oldpeak",
          "oldpeak",
          "oldpeak",
          "oldpeak",
          "oldpeak",
          "oldpeak",
          "oldpeak",
          "oldpeak",
          "oldpeak",
          "oldpeak",
          "oldpeak",
          "oldpeak",
          "oldpeak",
          "oldpeak",
          "oldpeak",
          "oldpeak",
          "oldpeak",
          "oldpeak",
          "oldpeak",
          "oldpeak",
          "oldpeak",
          "oldpeak",
          "oldpeak",
          "oldpeak",
          "oldpeak",
          "oldpeak",
          "oldpeak",
          "oldpeak",
          "oldpeak",
          "oldpeak",
          "oldpeak",
          "oldpeak",
          "oldpeak",
          "oldpeak",
          "oldpeak",
          "oldpeak",
          "oldpeak",
          "oldpeak",
          "oldpeak",
          "oldpeak",
          "oldpeak",
          "oldpeak",
          "oldpeak",
          "oldpeak",
          "oldpeak",
          "oldpeak",
          "oldpeak",
          "oldpeak",
          "oldpeak",
          "oldpeak",
          "oldpeak",
          "oldpeak",
          "oldpeak",
          "oldpeak",
          "oldpeak",
          "oldpeak",
          "oldpeak",
          "oldpeak",
          "oldpeak",
          "oldpeak",
          "oldpeak",
          "oldpeak",
          "oldpeak",
          "oldpeak",
          "oldpeak",
          "oldpeak",
          "oldpeak",
          "oldpeak",
          "oldpeak",
          "oldpeak",
          "oldpeak",
          "oldpeak",
          "oldpeak",
          "oldpeak",
          "oldpeak",
          "oldpeak",
          "oldpeak",
          "oldpeak",
          "oldpeak",
          "oldpeak",
          "oldpeak",
          "oldpeak",
          "oldpeak",
          "oldpeak",
          "oldpeak",
          "oldpeak",
          "oldpeak",
          "oldpeak",
          "oldpeak",
          "oldpeak",
          "oldpeak",
          "oldpeak",
          "oldpeak",
          "oldpeak",
          "oldpeak",
          "oldpeak",
          "oldpeak",
          "oldpeak",
          "oldpeak",
          "oldpeak",
          "oldpeak",
          "oldpeak",
          "oldpeak",
          "oldpeak",
          "oldpeak",
          "oldpeak",
          "oldpeak",
          "oldpeak",
          "oldpeak",
          "oldpeak",
          "oldpeak",
          "oldpeak",
          "oldpeak",
          "oldpeak",
          "oldpeak",
          "oldpeak",
          "oldpeak",
          "oldpeak",
          "oldpeak",
          "oldpeak",
          "oldpeak",
          "oldpeak",
          "oldpeak",
          "oldpeak",
          "oldpeak",
          "oldpeak",
          "oldpeak",
          "oldpeak",
          "oldpeak",
          "oldpeak",
          "oldpeak",
          "oldpeak",
          "oldpeak",
          "oldpeak",
          "oldpeak",
          "oldpeak",
          "oldpeak",
          "oldpeak",
          "oldpeak",
          "oldpeak",
          "oldpeak",
          "oldpeak",
          "oldpeak",
          "oldpeak",
          "oldpeak",
          "oldpeak",
          "oldpeak",
          "oldpeak",
          "oldpeak",
          "oldpeak",
          "oldpeak",
          "oldpeak",
          "oldpeak",
          "oldpeak",
          "oldpeak",
          "oldpeak",
          "oldpeak",
          "oldpeak",
          "oldpeak",
          "oldpeak",
          "oldpeak",
          "oldpeak",
          "oldpeak",
          "oldpeak",
          "oldpeak",
          "oldpeak",
          "oldpeak",
          "oldpeak",
          "oldpeak",
          "oldpeak",
          "oldpeak",
          "oldpeak",
          "oldpeak",
          "oldpeak",
          "oldpeak",
          "oldpeak",
          "oldpeak",
          "oldpeak",
          "oldpeak",
          "oldpeak",
          "oldpeak",
          "oldpeak",
          "oldpeak",
          "oldpeak",
          "oldpeak",
          "oldpeak",
          "oldpeak",
          "oldpeak",
          "oldpeak",
          "oldpeak",
          "oldpeak",
          "oldpeak",
          "oldpeak",
          "oldpeak",
          "oldpeak",
          "oldpeak",
          "oldpeak",
          "oldpeak",
          "oldpeak",
          "oldpeak",
          "oldpeak",
          "oldpeak",
          "oldpeak",
          "oldpeak",
          "oldpeak",
          "oldpeak",
          "oldpeak",
          "oldpeak",
          "oldpeak",
          "oldpeak",
          "oldpeak",
          "oldpeak",
          "oldpeak",
          "oldpeak",
          "oldpeak",
          "oldpeak",
          "oldpeak",
          "oldpeak",
          "oldpeak",
          "oldpeak",
          "oldpeak",
          "oldpeak",
          "oldpeak",
          "oldpeak",
          "oldpeak",
          "oldpeak",
          "oldpeak",
          "oldpeak",
          "oldpeak",
          "oldpeak",
          "oldpeak",
          "oldpeak",
          "oldpeak",
          "oldpeak",
          "oldpeak",
          "oldpeak",
          "oldpeak",
          "oldpeak",
          "oldpeak",
          "oldpeak",
          "oldpeak",
          "oldpeak",
          "oldpeak",
          "oldpeak",
          "oldpeak",
          "oldpeak",
          "oldpeak",
          "oldpeak",
          "oldpeak",
          "oldpeak",
          "oldpeak",
          "oldpeak",
          "oldpeak",
          "oldpeak",
          "oldpeak",
          "oldpeak",
          "oldpeak",
          "oldpeak",
          "oldpeak",
          "oldpeak",
          "oldpeak",
          "oldpeak",
          "oldpeak",
          "oldpeak",
          "oldpeak",
          "oldpeak",
          "oldpeak",
          "oldpeak",
          "oldpeak",
          "oldpeak",
          "oldpeak",
          "oldpeak",
          "oldpeak",
          "oldpeak",
          "oldpeak",
          "oldpeak",
          "oldpeak",
          "oldpeak",
          "oldpeak",
          "oldpeak",
          "oldpeak",
          "oldpeak",
          "oldpeak",
          "oldpeak",
          "oldpeak",
          "oldpeak",
          "oldpeak",
          "oldpeak",
          "oldpeak",
          "oldpeak",
          "oldpeak",
          "oldpeak",
          "oldpeak",
          "oldpeak",
          "oldpeak",
          "oldpeak",
          "oldpeak",
          "oldpeak",
          "oldpeak",
          "oldpeak",
          "oldpeak",
          "oldpeak",
          "oldpeak",
          "oldpeak",
          "oldpeak",
          "oldpeak",
          "oldpeak",
          "oldpeak",
          "oldpeak",
          "oldpeak",
          "oldpeak",
          "oldpeak",
          "oldpeak",
          "oldpeak",
          "oldpeak",
          "oldpeak",
          "oldpeak",
          "oldpeak",
          "oldpeak",
          "oldpeak",
          "oldpeak",
          "oldpeak",
          "oldpeak",
          "oldpeak",
          "oldpeak",
          "oldpeak",
          "oldpeak",
          "oldpeak",
          "oldpeak",
          "oldpeak",
          "oldpeak",
          "oldpeak",
          "oldpeak",
          "oldpeak",
          "oldpeak",
          "oldpeak",
          "oldpeak",
          "oldpeak",
          "oldpeak",
          "oldpeak",
          "oldpeak",
          "oldpeak",
          "oldpeak",
          "oldpeak",
          "oldpeak",
          "oldpeak",
          "oldpeak",
          "oldpeak",
          "oldpeak",
          "oldpeak",
          "oldpeak",
          "oldpeak",
          "oldpeak",
          "oldpeak",
          "oldpeak",
          "oldpeak",
          "oldpeak",
          "oldpeak",
          "oldpeak",
          "oldpeak",
          "oldpeak",
          "oldpeak",
          "oldpeak",
          "oldpeak",
          "oldpeak",
          "oldpeak",
          "oldpeak",
          "oldpeak",
          "oldpeak",
          "oldpeak",
          "oldpeak",
          "oldpeak",
          "oldpeak",
          "oldpeak",
          "oldpeak",
          "oldpeak",
          "oldpeak",
          "oldpeak",
          "oldpeak",
          "oldpeak",
          "oldpeak",
          "oldpeak",
          "oldpeak",
          "oldpeak",
          "oldpeak",
          "oldpeak",
          "oldpeak",
          "oldpeak",
          "oldpeak",
          "oldpeak",
          "oldpeak",
          "oldpeak",
          "oldpeak",
          "oldpeak",
          "oldpeak",
          "oldpeak",
          "oldpeak",
          "oldpeak",
          "oldpeak",
          "oldpeak",
          "oldpeak",
          "oldpeak",
          "oldpeak",
          "oldpeak",
          "oldpeak",
          "oldpeak",
          "oldpeak",
          "oldpeak",
          "oldpeak",
          "oldpeak",
          "oldpeak",
          "oldpeak",
          "oldpeak",
          "oldpeak",
          "oldpeak",
          "oldpeak",
          "oldpeak",
          "oldpeak",
          "oldpeak",
          "oldpeak",
          "oldpeak",
          "oldpeak",
          "oldpeak",
          "oldpeak",
          "oldpeak",
          "oldpeak",
          "oldpeak",
          "oldpeak",
          "oldpeak",
          "oldpeak",
          "oldpeak",
          "oldpeak",
          "oldpeak",
          "oldpeak",
          "oldpeak",
          "oldpeak",
          "oldpeak",
          "oldpeak",
          "oldpeak",
          "oldpeak",
          "oldpeak",
          "oldpeak",
          "oldpeak",
          "oldpeak",
          "oldpeak",
          "oldpeak",
          "oldpeak",
          "oldpeak",
          "oldpeak",
          "oldpeak",
          "oldpeak",
          "oldpeak",
          "oldpeak",
          "oldpeak",
          "oldpeak",
          "oldpeak",
          "oldpeak",
          "oldpeak",
          "oldpeak",
          "oldpeak",
          "oldpeak",
          "oldpeak",
          "oldpeak",
          "oldpeak",
          "oldpeak",
          "oldpeak",
          "oldpeak",
          "oldpeak",
          "oldpeak",
          "oldpeak",
          "oldpeak",
          "oldpeak",
          "oldpeak",
          "oldpeak",
          "oldpeak",
          "oldpeak",
          "oldpeak",
          "oldpeak",
          "oldpeak",
          "oldpeak",
          "oldpeak",
          "oldpeak",
          "oldpeak",
          "oldpeak",
          "oldpeak",
          "oldpeak",
          "oldpeak",
          "oldpeak",
          "oldpeak",
          "oldpeak",
          "oldpeak",
          "oldpeak",
          "oldpeak",
          "oldpeak",
          "oldpeak",
          "oldpeak",
          "oldpeak",
          "oldpeak",
          "oldpeak",
          "oldpeak",
          "oldpeak",
          "oldpeak",
          "oldpeak",
          "oldpeak",
          "oldpeak",
          "oldpeak",
          "oldpeak",
          "oldpeak",
          "oldpeak",
          "oldpeak",
          "oldpeak",
          "oldpeak",
          "oldpeak",
          "oldpeak",
          "oldpeak",
          "oldpeak",
          "oldpeak",
          "oldpeak",
          "oldpeak",
          "oldpeak",
          "oldpeak",
          "oldpeak",
          "oldpeak",
          "oldpeak",
          "oldpeak",
          "oldpeak",
          "oldpeak",
          "oldpeak",
          "oldpeak",
          "oldpeak",
          "oldpeak",
          "oldpeak",
          "oldpeak",
          "oldpeak",
          "oldpeak",
          "oldpeak",
          "oldpeak",
          "oldpeak",
          "oldpeak",
          "oldpeak",
          "oldpeak",
          "oldpeak",
          "oldpeak",
          "oldpeak",
          "oldpeak",
          "oldpeak",
          "oldpeak",
          "oldpeak",
          "oldpeak",
          "oldpeak",
          "oldpeak",
          "oldpeak",
          "oldpeak",
          "oldpeak",
          "oldpeak",
          "oldpeak",
          "oldpeak",
          "oldpeak",
          "oldpeak",
          "oldpeak",
          "oldpeak",
          "oldpeak",
          "oldpeak",
          "oldpeak",
          "oldpeak",
          "oldpeak",
          "oldpeak",
          "oldpeak",
          "oldpeak",
          "oldpeak",
          "oldpeak",
          "oldpeak",
          "oldpeak",
          "oldpeak",
          "oldpeak",
          "oldpeak",
          "oldpeak",
          "oldpeak",
          "oldpeak",
          "oldpeak",
          "oldpeak",
          "oldpeak",
          "oldpeak",
          "oldpeak",
          "oldpeak",
          "oldpeak",
          "oldpeak",
          "oldpeak",
          "oldpeak",
          "oldpeak",
          "oldpeak",
          "oldpeak",
          "oldpeak",
          "oldpeak",
          "oldpeak",
          "oldpeak",
          "oldpeak",
          "oldpeak",
          "oldpeak",
          "oldpeak",
          "oldpeak",
          "oldpeak",
          "oldpeak",
          "oldpeak",
          "oldpeak",
          "oldpeak",
          "oldpeak",
          "oldpeak",
          "oldpeak",
          "oldpeak",
          "oldpeak",
          "oldpeak",
          "oldpeak",
          "oldpeak",
          "oldpeak",
          "oldpeak",
          "oldpeak",
          "oldpeak",
          "oldpeak",
          "oldpeak",
          "oldpeak",
          "oldpeak",
          "oldpeak",
          "oldpeak",
          "oldpeak",
          "oldpeak",
          "oldpeak",
          "oldpeak",
          "oldpeak",
          "oldpeak",
          "oldpeak",
          "oldpeak",
          "oldpeak",
          "oldpeak",
          "oldpeak",
          "oldpeak",
          "oldpeak",
          "oldpeak",
          "oldpeak",
          "oldpeak",
          "oldpeak",
          "oldpeak",
          "oldpeak",
          "oldpeak",
          "oldpeak",
          "oldpeak",
          "oldpeak",
          "oldpeak",
          "oldpeak",
          "oldpeak",
          "oldpeak",
          "oldpeak",
          "oldpeak",
          "oldpeak",
          "oldpeak",
          "oldpeak",
          "oldpeak",
          "oldpeak",
          "oldpeak",
          "oldpeak",
          "oldpeak",
          "oldpeak",
          "oldpeak",
          "oldpeak",
          "oldpeak",
          "oldpeak",
          "oldpeak",
          "oldpeak",
          "oldpeak",
          "oldpeak",
          "oldpeak",
          "oldpeak",
          "oldpeak",
          "oldpeak",
          "oldpeak",
          "oldpeak",
          "oldpeak",
          "oldpeak",
          "oldpeak",
          "oldpeak",
          "oldpeak",
          "oldpeak",
          "oldpeak",
          "oldpeak",
          "oldpeak",
          "oldpeak",
          "oldpeak",
          "oldpeak",
          "oldpeak",
          "oldpeak",
          "oldpeak",
          "oldpeak",
          "oldpeak",
          "oldpeak",
          "oldpeak",
          "oldpeak",
          "oldpeak",
          "oldpeak",
          "oldpeak",
          "oldpeak",
          "oldpeak",
          "oldpeak",
          "oldpeak",
          "oldpeak",
          "oldpeak",
          "oldpeak",
          "oldpeak",
          "oldpeak",
          "oldpeak",
          "oldpeak",
          "oldpeak",
          "oldpeak",
          "oldpeak",
          "oldpeak",
          "oldpeak",
          "oldpeak",
          "oldpeak",
          "oldpeak",
          "oldpeak",
          "oldpeak",
          "oldpeak",
          "oldpeak",
          "oldpeak",
          "oldpeak",
          "oldpeak",
          "oldpeak",
          "oldpeak",
          "oldpeak",
          "oldpeak",
          "oldpeak",
          "oldpeak",
          "oldpeak",
          "oldpeak",
          "oldpeak",
          "oldpeak",
          "oldpeak",
          "oldpeak",
          "oldpeak",
          "oldpeak",
          "oldpeak",
          "oldpeak",
          "oldpeak",
          "oldpeak",
          "oldpeak",
          "oldpeak",
          "oldpeak",
          "oldpeak",
          "oldpeak",
          "oldpeak",
          "oldpeak",
          "oldpeak",
          "oldpeak",
          "oldpeak",
          "oldpeak",
          "oldpeak",
          "oldpeak",
          "oldpeak",
          "oldpeak",
          "oldpeak",
          "oldpeak",
          "oldpeak",
          "oldpeak",
          "oldpeak",
          "oldpeak",
          "oldpeak",
          "oldpeak",
          "oldpeak",
          "oldpeak",
          "oldpeak",
          "oldpeak",
          "oldpeak",
          "oldpeak",
          "oldpeak",
          "oldpeak",
          "oldpeak",
          "oldpeak",
          "oldpeak",
          "oldpeak",
          "oldpeak",
          "oldpeak",
          "oldpeak",
          "oldpeak",
          "oldpeak",
          "oldpeak",
          "oldpeak",
          "oldpeak",
          "oldpeak",
          "oldpeak",
          "oldpeak",
          "oldpeak",
          "oldpeak",
          "oldpeak",
          "oldpeak",
          "oldpeak",
          "oldpeak",
          "oldpeak",
          "oldpeak",
          "oldpeak",
          "oldpeak",
          "oldpeak",
          "oldpeak",
          "oldpeak",
          "oldpeak",
          "oldpeak",
          "oldpeak",
          "oldpeak",
          "oldpeak",
          "oldpeak",
          "oldpeak",
          "oldpeak",
          "oldpeak",
          "oldpeak",
          "oldpeak",
          "oldpeak",
          "oldpeak",
          "oldpeak",
          "oldpeak",
          "oldpeak",
          "oldpeak",
          "oldpeak",
          "oldpeak",
          "oldpeak",
          "oldpeak",
          "oldpeak",
          "oldpeak",
          "oldpeak",
          "oldpeak",
          "oldpeak",
          "oldpeak",
          "oldpeak",
          "oldpeak",
          "oldpeak",
          "oldpeak",
          "oldpeak",
          "oldpeak",
          "oldpeak",
          "oldpeak",
          "oldpeak",
          "oldpeak",
          "oldpeak",
          "oldpeak",
          "oldpeak",
          "oldpeak",
          "oldpeak",
          "oldpeak",
          "oldpeak",
          "oldpeak",
          "oldpeak",
          "oldpeak",
          "oldpeak",
          "oldpeak",
          "oldpeak",
          "oldpeak",
          "oldpeak",
          "oldpeak",
          "oldpeak",
          "oldpeak",
          "oldpeak",
          "oldpeak",
          "oldpeak",
          "oldpeak",
          "oldpeak",
          "oldpeak",
          "oldpeak",
          "oldpeak",
          "oldpeak",
          "oldpeak",
          "oldpeak",
          "oldpeak",
          "oldpeak",
          "oldpeak",
          "oldpeak",
          "oldpeak",
          "oldpeak",
          "oldpeak",
          "oldpeak",
          "oldpeak",
          "oldpeak",
          "oldpeak",
          "oldpeak",
          "oldpeak",
          "oldpeak",
          "oldpeak",
          "oldpeak",
          "oldpeak",
          "oldpeak",
          "oldpeak",
          "oldpeak",
          "oldpeak",
          "oldpeak",
          "oldpeak",
          "oldpeak",
          "oldpeak",
          "oldpeak",
          "oldpeak",
          "oldpeak",
          "oldpeak",
          "oldpeak"
         ],
         "x0": " ",
         "xaxis": "x",
         "y": {
          "bdata": "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",
          "dtype": "f8"
         },
         "y0": " ",
         "yaxis": "y"
        }
       ],
       "layout": {
        "boxmode": "group",
        "legend": {
         "tracegroupgap": 0
        },
        "template": {
         "data": {
          "bar": [
           {
            "error_x": {
             "color": "#2a3f5f"
            },
            "error_y": {
             "color": "#2a3f5f"
            },
            "marker": {
             "line": {
              "color": "#E5ECF6",
              "width": 0.5
             },
             "pattern": {
              "fillmode": "overlay",
              "size": 10,
              "solidity": 0.2
             }
            },
            "type": "bar"
           }
          ],
          "barpolar": [
           {
            "marker": {
             "line": {
              "color": "#E5ECF6",
              "width": 0.5
             },
             "pattern": {
              "fillmode": "overlay",
              "size": 10,
              "solidity": 0.2
             }
            },
            "type": "barpolar"
           }
          ],
          "carpet": [
           {
            "aaxis": {
             "endlinecolor": "#2a3f5f",
             "gridcolor": "white",
             "linecolor": "white",
             "minorgridcolor": "white",
             "startlinecolor": "#2a3f5f"
            },
            "baxis": {
             "endlinecolor": "#2a3f5f",
             "gridcolor": "white",
             "linecolor": "white",
             "minorgridcolor": "white",
             "startlinecolor": "#2a3f5f"
            },
            "type": "carpet"
           }
          ],
          "choropleth": [
           {
            "colorbar": {
             "outlinewidth": 0,
             "ticks": ""
            },
            "type": "choropleth"
           }
          ],
          "contour": [
           {
            "colorbar": {
             "outlinewidth": 0,
             "ticks": ""
            },
            "colorscale": [
             [
              0,
              "#0d0887"
             ],
             [
              0.1111111111111111,
              "#46039f"
             ],
             [
              0.2222222222222222,
              "#7201a8"
             ],
             [
              0.3333333333333333,
              "#9c179e"
             ],
             [
              0.4444444444444444,
              "#bd3786"
             ],
             [
              0.5555555555555556,
              "#d8576b"
             ],
             [
              0.6666666666666666,
              "#ed7953"
             ],
             [
              0.7777777777777778,
              "#fb9f3a"
             ],
             [
              0.8888888888888888,
              "#fdca26"
             ],
             [
              1,
              "#f0f921"
             ]
            ],
            "type": "contour"
           }
          ],
          "contourcarpet": [
           {
            "colorbar": {
             "outlinewidth": 0,
             "ticks": ""
            },
            "type": "contourcarpet"
           }
          ],
          "heatmap": [
           {
            "colorbar": {
             "outlinewidth": 0,
             "ticks": ""
            },
            "colorscale": [
             [
              0,
              "#0d0887"
             ],
             [
              0.1111111111111111,
              "#46039f"
             ],
             [
              0.2222222222222222,
              "#7201a8"
             ],
             [
              0.3333333333333333,
              "#9c179e"
             ],
             [
              0.4444444444444444,
              "#bd3786"
             ],
             [
              0.5555555555555556,
              "#d8576b"
             ],
             [
              0.6666666666666666,
              "#ed7953"
             ],
             [
              0.7777777777777778,
              "#fb9f3a"
             ],
             [
              0.8888888888888888,
              "#fdca26"
             ],
             [
              1,
              "#f0f921"
             ]
            ],
            "type": "heatmap"
           }
          ],
          "histogram": [
           {
            "marker": {
             "pattern": {
              "fillmode": "overlay",
              "size": 10,
              "solidity": 0.2
             }
            },
            "type": "histogram"
           }
          ],
          "histogram2d": [
           {
            "colorbar": {
             "outlinewidth": 0,
             "ticks": ""
            },
            "colorscale": [
             [
              0,
              "#0d0887"
             ],
             [
              0.1111111111111111,
              "#46039f"
             ],
             [
              0.2222222222222222,
              "#7201a8"
             ],
             [
              0.3333333333333333,
              "#9c179e"
             ],
             [
              0.4444444444444444,
              "#bd3786"
             ],
             [
              0.5555555555555556,
              "#d8576b"
             ],
             [
              0.6666666666666666,
              "#ed7953"
             ],
             [
              0.7777777777777778,
              "#fb9f3a"
             ],
             [
              0.8888888888888888,
              "#fdca26"
             ],
             [
              1,
              "#f0f921"
             ]
            ],
            "type": "histogram2d"
           }
          ],
          "histogram2dcontour": [
           {
            "colorbar": {
             "outlinewidth": 0,
             "ticks": ""
            },
            "colorscale": [
             [
              0,
              "#0d0887"
             ],
             [
              0.1111111111111111,
              "#46039f"
             ],
             [
              0.2222222222222222,
              "#7201a8"
             ],
             [
              0.3333333333333333,
              "#9c179e"
             ],
             [
              0.4444444444444444,
              "#bd3786"
             ],
             [
              0.5555555555555556,
              "#d8576b"
             ],
             [
              0.6666666666666666,
              "#ed7953"
             ],
             [
              0.7777777777777778,
              "#fb9f3a"
             ],
             [
              0.8888888888888888,
              "#fdca26"
             ],
             [
              1,
              "#f0f921"
             ]
            ],
            "type": "histogram2dcontour"
           }
          ],
          "mesh3d": [
           {
            "colorbar": {
             "outlinewidth": 0,
             "ticks": ""
            },
            "type": "mesh3d"
           }
          ],
          "parcoords": [
           {
            "line": {
             "colorbar": {
              "outlinewidth": 0,
              "ticks": ""
             }
            },
            "type": "parcoords"
           }
          ],
          "pie": [
           {
            "automargin": true,
            "type": "pie"
           }
          ],
          "scatter": [
           {
            "fillpattern": {
             "fillmode": "overlay",
             "size": 10,
             "solidity": 0.2
            },
            "type": "scatter"
           }
          ],
          "scatter3d": [
           {
            "line": {
             "colorbar": {
              "outlinewidth": 0,
              "ticks": ""
             }
            },
            "marker": {
             "colorbar": {
              "outlinewidth": 0,
              "ticks": ""
             }
            },
            "type": "scatter3d"
           }
          ],
          "scattercarpet": [
           {
            "marker": {
             "colorbar": {
              "outlinewidth": 0,
              "ticks": ""
             }
            },
            "type": "scattercarpet"
           }
          ],
          "scattergeo": [
           {
            "marker": {
             "colorbar": {
              "outlinewidth": 0,
              "ticks": ""
             }
            },
            "type": "scattergeo"
           }
          ],
          "scattergl": [
           {
            "marker": {
             "colorbar": {
              "outlinewidth": 0,
              "ticks": ""
             }
            },
            "type": "scattergl"
           }
          ],
          "scattermap": [
           {
            "marker": {
             "colorbar": {
              "outlinewidth": 0,
              "ticks": ""
             }
            },
            "type": "scattermap"
           }
          ],
          "scattermapbox": [
           {
            "marker": {
             "colorbar": {
              "outlinewidth": 0,
              "ticks": ""
             }
            },
            "type": "scattermapbox"
           }
          ],
          "scatterpolar": [
           {
            "marker": {
             "colorbar": {
              "outlinewidth": 0,
              "ticks": ""
             }
            },
            "type": "scatterpolar"
           }
          ],
          "scatterpolargl": [
           {
            "marker": {
             "colorbar": {
              "outlinewidth": 0,
              "ticks": ""
             }
            },
            "type": "scatterpolargl"
           }
          ],
          "scatterternary": [
           {
            "marker": {
             "colorbar": {
              "outlinewidth": 0,
              "ticks": ""
             }
            },
            "type": "scatterternary"
           }
          ],
          "surface": [
           {
            "colorbar": {
             "outlinewidth": 0,
             "ticks": ""
            },
            "colorscale": [
             [
              0,
              "#0d0887"
             ],
             [
              0.1111111111111111,
              "#46039f"
             ],
             [
              0.2222222222222222,
              "#7201a8"
             ],
             [
              0.3333333333333333,
              "#9c179e"
             ],
             [
              0.4444444444444444,
              "#bd3786"
             ],
             [
              0.5555555555555556,
              "#d8576b"
             ],
             [
              0.6666666666666666,
              "#ed7953"
             ],
             [
              0.7777777777777778,
              "#fb9f3a"
             ],
             [
              0.8888888888888888,
              "#fdca26"
             ],
             [
              1,
              "#f0f921"
             ]
            ],
            "type": "surface"
           }
          ],
          "table": [
           {
            "cells": {
             "fill": {
              "color": "#EBF0F8"
             },
             "line": {
              "color": "white"
             }
            },
            "header": {
             "fill": {
              "color": "#C8D4E3"
             },
             "line": {
              "color": "white"
             }
            },
            "type": "table"
           }
          ]
         },
         "layout": {
          "annotationdefaults": {
           "arrowcolor": "#2a3f5f",
           "arrowhead": 0,
           "arrowwidth": 1
          },
          "autotypenumbers": "strict",
          "coloraxis": {
           "colorbar": {
            "outlinewidth": 0,
            "ticks": ""
           }
          },
          "colorscale": {
           "diverging": [
            [
             0,
             "#8e0152"
            ],
            [
             0.1,
             "#c51b7d"
            ],
            [
             0.2,
             "#de77ae"
            ],
            [
             0.3,
             "#f1b6da"
            ],
            [
             0.4,
             "#fde0ef"
            ],
            [
             0.5,
             "#f7f7f7"
            ],
            [
             0.6,
             "#e6f5d0"
            ],
            [
             0.7,
             "#b8e186"
            ],
            [
             0.8,
             "#7fbc41"
            ],
            [
             0.9,
             "#4d9221"
            ],
            [
             1,
             "#276419"
            ]
           ],
           "sequential": [
            [
             0,
             "#0d0887"
            ],
            [
             0.1111111111111111,
             "#46039f"
            ],
            [
             0.2222222222222222,
             "#7201a8"
            ],
            [
             0.3333333333333333,
             "#9c179e"
            ],
            [
             0.4444444444444444,
             "#bd3786"
            ],
            [
             0.5555555555555556,
             "#d8576b"
            ],
            [
             0.6666666666666666,
             "#ed7953"
            ],
            [
             0.7777777777777778,
             "#fb9f3a"
            ],
            [
             0.8888888888888888,
             "#fdca26"
            ],
            [
             1,
             "#f0f921"
            ]
           ],
           "sequentialminus": [
            [
             0,
             "#0d0887"
            ],
            [
             0.1111111111111111,
             "#46039f"
            ],
            [
             0.2222222222222222,
             "#7201a8"
            ],
            [
             0.3333333333333333,
             "#9c179e"
            ],
            [
             0.4444444444444444,
             "#bd3786"
            ],
            [
             0.5555555555555556,
             "#d8576b"
            ],
            [
             0.6666666666666666,
             "#ed7953"
            ],
            [
             0.7777777777777778,
             "#fb9f3a"
            ],
            [
             0.8888888888888888,
             "#fdca26"
            ],
            [
             1,
             "#f0f921"
            ]
           ]
          },
          "colorway": [
           "#636efa",
           "#EF553B",
           "#00cc96",
           "#ab63fa",
           "#FFA15A",
           "#19d3f3",
           "#FF6692",
           "#B6E880",
           "#FF97FF",
           "#FECB52"
          ],
          "font": {
           "color": "#2a3f5f"
          },
          "geo": {
           "bgcolor": "white",
           "lakecolor": "white",
           "landcolor": "#E5ECF6",
           "showlakes": true,
           "showland": true,
           "subunitcolor": "white"
          },
          "hoverlabel": {
           "align": "left"
          },
          "hovermode": "closest",
          "mapbox": {
           "style": "light"
          },
          "paper_bgcolor": "white",
          "plot_bgcolor": "#E5ECF6",
          "polar": {
           "angularaxis": {
            "gridcolor": "white",
            "linecolor": "white",
            "ticks": ""
           },
           "bgcolor": "#E5ECF6",
           "radialaxis": {
            "gridcolor": "white",
            "linecolor": "white",
            "ticks": ""
           }
          },
          "scene": {
           "xaxis": {
            "backgroundcolor": "#E5ECF6",
            "gridcolor": "white",
            "gridwidth": 2,
            "linecolor": "white",
            "showbackground": true,
            "ticks": "",
            "zerolinecolor": "white"
           },
           "yaxis": {
            "backgroundcolor": "#E5ECF6",
            "gridcolor": "white",
            "gridwidth": 2,
            "linecolor": "white",
            "showbackground": true,
            "ticks": "",
            "zerolinecolor": "white"
           },
           "zaxis": {
            "backgroundcolor": "#E5ECF6",
            "gridcolor": "white",
            "gridwidth": 2,
            "linecolor": "white",
            "showbackground": true,
            "ticks": "",
            "zerolinecolor": "white"
           }
          },
          "shapedefaults": {
           "line": {
            "color": "#2a3f5f"
           }
          },
          "ternary": {
           "aaxis": {
            "gridcolor": "white",
            "linecolor": "white",
            "ticks": ""
           },
           "baxis": {
            "gridcolor": "white",
            "linecolor": "white",
            "ticks": ""
           },
           "bgcolor": "#E5ECF6",
           "caxis": {
            "gridcolor": "white",
            "linecolor": "white",
            "ticks": ""
           }
          },
          "title": {
           "x": 0.05
          },
          "xaxis": {
           "automargin": true,
           "gridcolor": "white",
           "linecolor": "white",
           "ticks": "",
           "title": {
            "standoff": 15
           },
           "zerolinecolor": "white",
           "zerolinewidth": 2
          },
          "yaxis": {
           "automargin": true,
           "gridcolor": "white",
           "linecolor": "white",
           "ticks": "",
           "title": {
            "standoff": 15
           },
           "zerolinecolor": "white",
           "zerolinewidth": 2
          }
         }
        },
        "title": {
         "text": "Box Plot of Continuous Variables Before MICE and KNN Imputation"
        },
        "xaxis": {
         "anchor": "y",
         "domain": [
          0,
          1
         ],
         "title": {
          "text": "Continuous Variable"
         }
        },
        "yaxis": {
         "anchor": "x",
         "domain": [
          0,
          1
         ],
         "range": [
          -25,
          null
         ],
         "title": {
          "text": "Value"
         }
        }
       }
      }
     },
     "metadata": {},
     "output_type": "display_data"
    }
   ],
   "source": [
    "plot_df = df_no_dup[[\"age\"]+continuous_cols].melt(var_name=\"variable\", value_name=\"value\")\n",
    "\n",
    "fig_box = px.box(plot_df, x=\"variable\", y=\"value\", \n",
    "                 title=\"Box Plot of Continuous Variables Before MICE Imputation\")\n",
    "\n",
    "fig_box.update_layout(xaxis_title=\"Continuous Variable\", yaxis_title=\"Value\",\n",
    "                      yaxis=dict(range=[-25, None]))\n",
    "\n",
    "fig_box.show()"
   ]
  },
  {
   "cell_type": "code",
   "execution_count": null,
   "id": "3960f58b",
   "metadata": {},
   "outputs": [
    {
     "data": {
      "application/vnd.plotly.v1+json": {
       "config": {
        "plotlyServerURL": "https://plot.ly"
       },
       "data": [
        {
         "alignmentgroup": "True",
         "hovertemplate": "variable=%{x}<br>value=%{y}<extra></extra>",
         "legendgroup": "",
         "marker": {
          "color": "#636efa"
         },
         "name": "",
         "notched": false,
         "offsetgroup": "",
         "orientation": "v",
         "showlegend": false,
         "type": "box",
         "x": [
          "age",
          "age",
          "age",
          "age",
          "age",
          "age",
          "age",
          "age",
          "age",
          "age",
          "age",
          "age",
          "age",
          "age",
          "age",
          "age",
          "age",
          "age",
          "age",
          "age",
          "age",
          "age",
          "age",
          "age",
          "age",
          "age",
          "age",
          "age",
          "age",
          "age",
          "age",
          "age",
          "age",
          "age",
          "age",
          "age",
          "age",
          "age",
          "age",
          "age",
          "age",
          "age",
          "age",
          "age",
          "age",
          "age",
          "age",
          "age",
          "age",
          "age",
          "age",
          "age",
          "age",
          "age",
          "age",
          "age",
          "age",
          "age",
          "age",
          "age",
          "age",
          "age",
          "age",
          "age",
          "age",
          "age",
          "age",
          "age",
          "age",
          "age",
          "age",
          "age",
          "age",
          "age",
          "age",
          "age",
          "age",
          "age",
          "age",
          "age",
          "age",
          "age",
          "age",
          "age",
          "age",
          "age",
          "age",
          "age",
          "age",
          "age",
          "age",
          "age",
          "age",
          "age",
          "age",
          "age",
          "age",
          "age",
          "age",
          "age",
          "age",
          "age",
          "age",
          "age",
          "age",
          "age",
          "age",
          "age",
          "age",
          "age",
          "age",
          "age",
          "age",
          "age",
          "age",
          "age",
          "age",
          "age",
          "age",
          "age",
          "age",
          "age",
          "age",
          "age",
          "age",
          "age",
          "age",
          "age",
          "age",
          "age",
          "age",
          "age",
          "age",
          "age",
          "age",
          "age",
          "age",
          "age",
          "age",
          "age",
          "age",
          "age",
          "age",
          "age",
          "age",
          "age",
          "age",
          "age",
          "age",
          "age",
          "age",
          "age",
          "age",
          "age",
          "age",
          "age",
          "age",
          "age",
          "age",
          "age",
          "age",
          "age",
          "age",
          "age",
          "age",
          "age",
          "age",
          "age",
          "age",
          "age",
          "age",
          "age",
          "age",
          "age",
          "age",
          "age",
          "age",
          "age",
          "age",
          "age",
          "age",
          "age",
          "age",
          "age",
          "age",
          "age",
          "age",
          "age",
          "age",
          "age",
          "age",
          "age",
          "age",
          "age",
          "age",
          "age",
          "age",
          "age",
          "age",
          "age",
          "age",
          "age",
          "age",
          "age",
          "age",
          "age",
          "age",
          "age",
          "age",
          "age",
          "age",
          "age",
          "age",
          "age",
          "age",
          "age",
          "age",
          "age",
          "age",
          "age",
          "age",
          "age",
          "age",
          "age",
          "age",
          "age",
          "age",
          "age",
          "age",
          "age",
          "age",
          "age",
          "age",
          "age",
          "age",
          "age",
          "age",
          "age",
          "age",
          "age",
          "age",
          "age",
          "age",
          "age",
          "age",
          "age",
          "age",
          "age",
          "age",
          "age",
          "age",
          "age",
          "age",
          "age",
          "age",
          "age",
          "age",
          "age",
          "age",
          "age",
          "age",
          "age",
          "age",
          "age",
          "age",
          "age",
          "age",
          "age",
          "age",
          "age",
          "age",
          "age",
          "age",
          "age",
          "age",
          "age",
          "age",
          "age",
          "age",
          "age",
          "age",
          "age",
          "age",
          "age",
          "age",
          "age",
          "age",
          "age",
          "age",
          "age",
          "age",
          "age",
          "age",
          "age",
          "age",
          "age",
          "age",
          "age",
          "age",
          "age",
          "age",
          "age",
          "age",
          "age",
          "age",
          "age",
          "age",
          "age",
          "age",
          "age",
          "age",
          "age",
          "age",
          "age",
          "age",
          "age",
          "age",
          "age",
          "age",
          "age",
          "age",
          "age",
          "age",
          "age",
          "age",
          "age",
          "age",
          "age",
          "age",
          "age",
          "age",
          "age",
          "age",
          "age",
          "age",
          "age",
          "age",
          "age",
          "age",
          "age",
          "age",
          "age",
          "age",
          "age",
          "age",
          "age",
          "age",
          "age",
          "age",
          "age",
          "age",
          "age",
          "age",
          "age",
          "age",
          "age",
          "age",
          "age",
          "age",
          "age",
          "age",
          "age",
          "age",
          "age",
          "age",
          "age",
          "age",
          "age",
          "age",
          "age",
          "age",
          "age",
          "age",
          "age",
          "age",
          "age",
          "age",
          "age",
          "age",
          "age",
          "age",
          "age",
          "age",
          "age",
          "age",
          "age",
          "age",
          "age",
          "age",
          "age",
          "age",
          "age",
          "age",
          "age",
          "age",
          "age",
          "age",
          "age",
          "age",
          "age",
          "age",
          "age",
          "age",
          "age",
          "age",
          "age",
          "age",
          "age",
          "age",
          "age",
          "age",
          "age",
          "age",
          "age",
          "age",
          "age",
          "age",
          "age",
          "age",
          "age",
          "age",
          "age",
          "age",
          "age",
          "age",
          "age",
          "age",
          "age",
          "age",
          "age",
          "age",
          "age",
          "age",
          "age",
          "age",
          "age",
          "age",
          "age",
          "age",
          "age",
          "age",
          "age",
          "age",
          "age",
          "age",
          "age",
          "age",
          "age",
          "age",
          "age",
          "age",
          "age",
          "age",
          "age",
          "age",
          "age",
          "age",
          "age",
          "age",
          "age",
          "age",
          "age",
          "age",
          "age",
          "age",
          "age",
          "age",
          "age",
          "age",
          "age",
          "age",
          "age",
          "age",
          "age",
          "age",
          "age",
          "age",
          "age",
          "age",
          "age",
          "age",
          "age",
          "age",
          "age",
          "age",
          "age",
          "age",
          "age",
          "age",
          "age",
          "age",
          "age",
          "age",
          "age",
          "age",
          "age",
          "age",
          "age",
          "age",
          "age",
          "age",
          "age",
          "age",
          "age",
          "age",
          "age",
          "age",
          "age",
          "age",
          "age",
          "age",
          "age",
          "age",
          "age",
          "age",
          "age",
          "age",
          "age",
          "age",
          "age",
          "age",
          "age",
          "age",
          "age",
          "age",
          "age",
          "age",
          "age",
          "age",
          "age",
          "age",
          "age",
          "age",
          "age",
          "age",
          "age",
          "age",
          "age",
          "age",
          "age",
          "age",
          "age",
          "age",
          "age",
          "age",
          "age",
          "age",
          "age",
          "age",
          "age",
          "age",
          "age",
          "age",
          "age",
          "age",
          "age",
          "age",
          "age",
          "age",
          "age",
          "age",
          "age",
          "age",
          "age",
          "age",
          "age",
          "age",
          "age",
          "age",
          "age",
          "age",
          "age",
          "age",
          "age",
          "age",
          "age",
          "age",
          "age",
          "age",
          "age",
          "age",
          "age",
          "age",
          "age",
          "age",
          "age",
          "age",
          "age",
          "age",
          "age",
          "age",
          "age",
          "age",
          "age",
          "age",
          "age",
          "age",
          "age",
          "age",
          "age",
          "age",
          "age",
          "age",
          "age",
          "age",
          "age",
          "age",
          "age",
          "age",
          "age",
          "age",
          "age",
          "age",
          "age",
          "age",
          "age",
          "age",
          "age",
          "age",
          "age",
          "age",
          "age",
          "age",
          "age",
          "age",
          "age",
          "age",
          "age",
          "age",
          "age",
          "age",
          "age",
          "age",
          "age",
          "age",
          "age",
          "age",
          "age",
          "age",
          "age",
          "age",
          "age",
          "age",
          "age",
          "age",
          "age",
          "age",
          "age",
          "age",
          "age",
          "age",
          "age",
          "age",
          "age",
          "age",
          "age",
          "age",
          "age",
          "age",
          "age",
          "age",
          "age",
          "age",
          "age",
          "age",
          "age",
          "age",
          "age",
          "age",
          "age",
          "age",
          "age",
          "age",
          "age",
          "age",
          "age",
          "age",
          "age",
          "age",
          "age",
          "age",
          "age",
          "age",
          "age",
          "age",
          "age",
          "age",
          "age",
          "age",
          "age",
          "age",
          "age",
          "age",
          "age",
          "age",
          "age",
          "age",
          "age",
          "age",
          "age",
          "age",
          "age",
          "age",
          "age",
          "age",
          "age",
          "age",
          "age",
          "age",
          "age",
          "age",
          "age",
          "age",
          "age",
          "age",
          "age",
          "age",
          "age",
          "age",
          "age",
          "age",
          "age",
          "age",
          "age",
          "age",
          "age",
          "age",
          "age",
          "age",
          "age",
          "age",
          "age",
          "age",
          "age",
          "age",
          "age",
          "age",
          "age",
          "age",
          "age",
          "age",
          "age",
          "age",
          "age",
          "age",
          "age",
          "age",
          "age",
          "age",
          "age",
          "age",
          "age",
          "age",
          "age",
          "age",
          "age",
          "age",
          "age",
          "age",
          "age",
          "age",
          "age",
          "age",
          "age",
          "age",
          "age",
          "age",
          "age",
          "age",
          "age",
          "age",
          "age",
          "age",
          "age",
          "age",
          "age",
          "age",
          "age",
          "age",
          "age",
          "age",
          "age",
          "age",
          "age",
          "age",
          "age",
          "age",
          "age",
          "age",
          "age",
          "age",
          "age",
          "age",
          "age",
          "age",
          "age",
          "age",
          "age",
          "age",
          "age",
          "age",
          "age",
          "age",
          "age",
          "age",
          "age",
          "age",
          "age",
          "age",
          "age",
          "age",
          "age",
          "age",
          "age",
          "age",
          "age",
          "age",
          "age",
          "age",
          "age",
          "age",
          "age",
          "age",
          "age",
          "age",
          "age",
          "age",
          "age",
          "age",
          "age",
          "age",
          "age",
          "age",
          "age",
          "age",
          "age",
          "age",
          "age",
          "age",
          "age",
          "age",
          "age",
          "age",
          "age",
          "age",
          "age",
          "age",
          "age",
          "age",
          "age",
          "age",
          "age",
          "age",
          "age",
          "age",
          "age",
          "age",
          "age",
          "age",
          "age",
          "age",
          "age",
          "age",
          "age",
          "age",
          "age",
          "age",
          "age",
          "age",
          "age",
          "age",
          "age",
          "age",
          "age",
          "age",
          "age",
          "age",
          "age",
          "age",
          "age",
          "age",
          "age",
          "age",
          "age",
          "age",
          "age",
          "age",
          "age",
          "age",
          "age",
          "age",
          "age",
          "age",
          "age",
          "age",
          "age",
          "age",
          "age",
          "age",
          "age",
          "age",
          "age",
          "age",
          "age",
          "age",
          "age",
          "age",
          "age",
          "age",
          "age",
          "age",
          "age",
          "age",
          "age",
          "trestbps",
          "trestbps",
          "trestbps",
          "trestbps",
          "trestbps",
          "trestbps",
          "trestbps",
          "trestbps",
          "trestbps",
          "trestbps",
          "trestbps",
          "trestbps",
          "trestbps",
          "trestbps",
          "trestbps",
          "trestbps",
          "trestbps",
          "trestbps",
          "trestbps",
          "trestbps",
          "trestbps",
          "trestbps",
          "trestbps",
          "trestbps",
          "trestbps",
          "trestbps",
          "trestbps",
          "trestbps",
          "trestbps",
          "trestbps",
          "trestbps",
          "trestbps",
          "trestbps",
          "trestbps",
          "trestbps",
          "trestbps",
          "trestbps",
          "trestbps",
          "trestbps",
          "trestbps",
          "trestbps",
          "trestbps",
          "trestbps",
          "trestbps",
          "trestbps",
          "trestbps",
          "trestbps",
          "trestbps",
          "trestbps",
          "trestbps",
          "trestbps",
          "trestbps",
          "trestbps",
          "trestbps",
          "trestbps",
          "trestbps",
          "trestbps",
          "trestbps",
          "trestbps",
          "trestbps",
          "trestbps",
          "trestbps",
          "trestbps",
          "trestbps",
          "trestbps",
          "trestbps",
          "trestbps",
          "trestbps",
          "trestbps",
          "trestbps",
          "trestbps",
          "trestbps",
          "trestbps",
          "trestbps",
          "trestbps",
          "trestbps",
          "trestbps",
          "trestbps",
          "trestbps",
          "trestbps",
          "trestbps",
          "trestbps",
          "trestbps",
          "trestbps",
          "trestbps",
          "trestbps",
          "trestbps",
          "trestbps",
          "trestbps",
          "trestbps",
          "trestbps",
          "trestbps",
          "trestbps",
          "trestbps",
          "trestbps",
          "trestbps",
          "trestbps",
          "trestbps",
          "trestbps",
          "trestbps",
          "trestbps",
          "trestbps",
          "trestbps",
          "trestbps",
          "trestbps",
          "trestbps",
          "trestbps",
          "trestbps",
          "trestbps",
          "trestbps",
          "trestbps",
          "trestbps",
          "trestbps",
          "trestbps",
          "trestbps",
          "trestbps",
          "trestbps",
          "trestbps",
          "trestbps",
          "trestbps",
          "trestbps",
          "trestbps",
          "trestbps",
          "trestbps",
          "trestbps",
          "trestbps",
          "trestbps",
          "trestbps",
          "trestbps",
          "trestbps",
          "trestbps",
          "trestbps",
          "trestbps",
          "trestbps",
          "trestbps",
          "trestbps",
          "trestbps",
          "trestbps",
          "trestbps",
          "trestbps",
          "trestbps",
          "trestbps",
          "trestbps",
          "trestbps",
          "trestbps",
          "trestbps",
          "trestbps",
          "trestbps",
          "trestbps",
          "trestbps",
          "trestbps",
          "trestbps",
          "trestbps",
          "trestbps",
          "trestbps",
          "trestbps",
          "trestbps",
          "trestbps",
          "trestbps",
          "trestbps",
          "trestbps",
          "trestbps",
          "trestbps",
          "trestbps",
          "trestbps",
          "trestbps",
          "trestbps",
          "trestbps",
          "trestbps",
          "trestbps",
          "trestbps",
          "trestbps",
          "trestbps",
          "trestbps",
          "trestbps",
          "trestbps",
          "trestbps",
          "trestbps",
          "trestbps",
          "trestbps",
          "trestbps",
          "trestbps",
          "trestbps",
          "trestbps",
          "trestbps",
          "trestbps",
          "trestbps",
          "trestbps",
          "trestbps",
          "trestbps",
          "trestbps",
          "trestbps",
          "trestbps",
          "trestbps",
          "trestbps",
          "trestbps",
          "trestbps",
          "trestbps",
          "trestbps",
          "trestbps",
          "trestbps",
          "trestbps",
          "trestbps",
          "trestbps",
          "trestbps",
          "trestbps",
          "trestbps",
          "trestbps",
          "trestbps",
          "trestbps",
          "trestbps",
          "trestbps",
          "trestbps",
          "trestbps",
          "trestbps",
          "trestbps",
          "trestbps",
          "trestbps",
          "trestbps",
          "trestbps",
          "trestbps",
          "trestbps",
          "trestbps",
          "trestbps",
          "trestbps",
          "trestbps",
          "trestbps",
          "trestbps",
          "trestbps",
          "trestbps",
          "trestbps",
          "trestbps",
          "trestbps",
          "trestbps",
          "trestbps",
          "trestbps",
          "trestbps",
          "trestbps",
          "trestbps",
          "trestbps",
          "trestbps",
          "trestbps",
          "trestbps",
          "trestbps",
          "trestbps",
          "trestbps",
          "trestbps",
          "trestbps",
          "trestbps",
          "trestbps",
          "trestbps",
          "trestbps",
          "trestbps",
          "trestbps",
          "trestbps",
          "trestbps",
          "trestbps",
          "trestbps",
          "trestbps",
          "trestbps",
          "trestbps",
          "trestbps",
          "trestbps",
          "trestbps",
          "trestbps",
          "trestbps",
          "trestbps",
          "trestbps",
          "trestbps",
          "trestbps",
          "trestbps",
          "trestbps",
          "trestbps",
          "trestbps",
          "trestbps",
          "trestbps",
          "trestbps",
          "trestbps",
          "trestbps",
          "trestbps",
          "trestbps",
          "trestbps",
          "trestbps",
          "trestbps",
          "trestbps",
          "trestbps",
          "trestbps",
          "trestbps",
          "trestbps",
          "trestbps",
          "trestbps",
          "trestbps",
          "trestbps",
          "trestbps",
          "trestbps",
          "trestbps",
          "trestbps",
          "trestbps",
          "trestbps",
          "trestbps",
          "trestbps",
          "trestbps",
          "trestbps",
          "trestbps",
          "trestbps",
          "trestbps",
          "trestbps",
          "trestbps",
          "trestbps",
          "trestbps",
          "trestbps",
          "trestbps",
          "trestbps",
          "trestbps",
          "trestbps",
          "trestbps",
          "trestbps",
          "trestbps",
          "trestbps",
          "trestbps",
          "trestbps",
          "trestbps",
          "trestbps",
          "trestbps",
          "trestbps",
          "trestbps",
          "trestbps",
          "trestbps",
          "trestbps",
          "trestbps",
          "trestbps",
          "trestbps",
          "trestbps",
          "trestbps",
          "trestbps",
          "trestbps",
          "trestbps",
          "trestbps",
          "trestbps",
          "trestbps",
          "trestbps",
          "trestbps",
          "trestbps",
          "trestbps",
          "trestbps",
          "trestbps",
          "trestbps",
          "trestbps",
          "trestbps",
          "trestbps",
          "trestbps",
          "trestbps",
          "trestbps",
          "trestbps",
          "trestbps",
          "trestbps",
          "trestbps",
          "trestbps",
          "trestbps",
          "trestbps",
          "trestbps",
          "trestbps",
          "trestbps",
          "trestbps",
          "trestbps",
          "trestbps",
          "trestbps",
          "trestbps",
          "trestbps",
          "trestbps",
          "trestbps",
          "trestbps",
          "trestbps",
          "trestbps",
          "trestbps",
          "trestbps",
          "trestbps",
          "trestbps",
          "trestbps",
          "trestbps",
          "trestbps",
          "trestbps",
          "trestbps",
          "trestbps",
          "trestbps",
          "trestbps",
          "trestbps",
          "trestbps",
          "trestbps",
          "trestbps",
          "trestbps",
          "trestbps",
          "trestbps",
          "trestbps",
          "trestbps",
          "trestbps",
          "trestbps",
          "trestbps",
          "trestbps",
          "trestbps",
          "trestbps",
          "trestbps",
          "trestbps",
          "trestbps",
          "trestbps",
          "trestbps",
          "trestbps",
          "trestbps",
          "trestbps",
          "trestbps",
          "trestbps",
          "trestbps",
          "trestbps",
          "trestbps",
          "trestbps",
          "trestbps",
          "trestbps",
          "trestbps",
          "trestbps",
          "trestbps",
          "trestbps",
          "trestbps",
          "trestbps",
          "trestbps",
          "trestbps",
          "trestbps",
          "trestbps",
          "trestbps",
          "trestbps",
          "trestbps",
          "trestbps",
          "trestbps",
          "trestbps",
          "trestbps",
          "trestbps",
          "trestbps",
          "trestbps",
          "trestbps",
          "trestbps",
          "trestbps",
          "trestbps",
          "trestbps",
          "trestbps",
          "trestbps",
          "trestbps",
          "trestbps",
          "trestbps",
          "trestbps",
          "trestbps",
          "trestbps",
          "trestbps",
          "trestbps",
          "trestbps",
          "trestbps",
          "trestbps",
          "trestbps",
          "trestbps",
          "trestbps",
          "trestbps",
          "trestbps",
          "trestbps",
          "trestbps",
          "trestbps",
          "trestbps",
          "trestbps",
          "trestbps",
          "trestbps",
          "trestbps",
          "trestbps",
          "trestbps",
          "trestbps",
          "trestbps",
          "trestbps",
          "trestbps",
          "trestbps",
          "trestbps",
          "trestbps",
          "trestbps",
          "trestbps",
          "trestbps",
          "trestbps",
          "trestbps",
          "trestbps",
          "trestbps",
          "trestbps",
          "trestbps",
          "trestbps",
          "trestbps",
          "trestbps",
          "trestbps",
          "trestbps",
          "trestbps",
          "trestbps",
          "trestbps",
          "trestbps",
          "trestbps",
          "trestbps",
          "trestbps",
          "trestbps",
          "trestbps",
          "trestbps",
          "trestbps",
          "trestbps",
          "trestbps",
          "trestbps",
          "trestbps",
          "trestbps",
          "trestbps",
          "trestbps",
          "trestbps",
          "trestbps",
          "trestbps",
          "trestbps",
          "trestbps",
          "trestbps",
          "trestbps",
          "trestbps",
          "trestbps",
          "trestbps",
          "trestbps",
          "trestbps",
          "trestbps",
          "trestbps",
          "trestbps",
          "trestbps",
          "trestbps",
          "trestbps",
          "trestbps",
          "trestbps",
          "trestbps",
          "trestbps",
          "trestbps",
          "trestbps",
          "trestbps",
          "trestbps",
          "trestbps",
          "trestbps",
          "trestbps",
          "trestbps",
          "trestbps",
          "trestbps",
          "trestbps",
          "trestbps",
          "trestbps",
          "trestbps",
          "trestbps",
          "trestbps",
          "trestbps",
          "trestbps",
          "trestbps",
          "trestbps",
          "trestbps",
          "trestbps",
          "trestbps",
          "trestbps",
          "trestbps",
          "trestbps",
          "trestbps",
          "trestbps",
          "trestbps",
          "trestbps",
          "trestbps",
          "trestbps",
          "trestbps",
          "trestbps",
          "trestbps",
          "trestbps",
          "trestbps",
          "trestbps",
          "trestbps",
          "trestbps",
          "trestbps",
          "trestbps",
          "trestbps",
          "trestbps",
          "trestbps",
          "trestbps",
          "trestbps",
          "trestbps",
          "trestbps",
          "trestbps",
          "trestbps",
          "trestbps",
          "trestbps",
          "trestbps",
          "trestbps",
          "trestbps",
          "trestbps",
          "trestbps",
          "trestbps",
          "trestbps",
          "trestbps",
          "trestbps",
          "trestbps",
          "trestbps",
          "trestbps",
          "trestbps",
          "trestbps",
          "trestbps",
          "trestbps",
          "trestbps",
          "trestbps",
          "trestbps",
          "trestbps",
          "trestbps",
          "trestbps",
          "trestbps",
          "trestbps",
          "trestbps",
          "trestbps",
          "trestbps",
          "trestbps",
          "trestbps",
          "trestbps",
          "trestbps",
          "trestbps",
          "trestbps",
          "trestbps",
          "trestbps",
          "trestbps",
          "trestbps",
          "trestbps",
          "trestbps",
          "trestbps",
          "trestbps",
          "trestbps",
          "trestbps",
          "trestbps",
          "trestbps",
          "trestbps",
          "trestbps",
          "trestbps",
          "trestbps",
          "trestbps",
          "trestbps",
          "trestbps",
          "trestbps",
          "trestbps",
          "trestbps",
          "trestbps",
          "trestbps",
          "trestbps",
          "trestbps",
          "trestbps",
          "trestbps",
          "trestbps",
          "trestbps",
          "trestbps",
          "trestbps",
          "trestbps",
          "trestbps",
          "trestbps",
          "trestbps",
          "trestbps",
          "trestbps",
          "trestbps",
          "trestbps",
          "trestbps",
          "trestbps",
          "trestbps",
          "trestbps",
          "trestbps",
          "trestbps",
          "trestbps",
          "trestbps",
          "trestbps",
          "trestbps",
          "trestbps",
          "trestbps",
          "trestbps",
          "trestbps",
          "trestbps",
          "trestbps",
          "trestbps",
          "trestbps",
          "trestbps",
          "trestbps",
          "trestbps",
          "trestbps",
          "trestbps",
          "trestbps",
          "trestbps",
          "trestbps",
          "trestbps",
          "trestbps",
          "trestbps",
          "trestbps",
          "trestbps",
          "trestbps",
          "trestbps",
          "trestbps",
          "trestbps",
          "trestbps",
          "trestbps",
          "trestbps",
          "trestbps",
          "trestbps",
          "trestbps",
          "trestbps",
          "trestbps",
          "trestbps",
          "trestbps",
          "trestbps",
          "trestbps",
          "trestbps",
          "trestbps",
          "trestbps",
          "trestbps",
          "trestbps",
          "trestbps",
          "trestbps",
          "trestbps",
          "trestbps",
          "trestbps",
          "trestbps",
          "trestbps",
          "trestbps",
          "trestbps",
          "trestbps",
          "trestbps",
          "trestbps",
          "trestbps",
          "trestbps",
          "trestbps",
          "trestbps",
          "trestbps",
          "trestbps",
          "trestbps",
          "trestbps",
          "trestbps",
          "trestbps",
          "trestbps",
          "trestbps",
          "trestbps",
          "trestbps",
          "trestbps",
          "trestbps",
          "trestbps",
          "trestbps",
          "trestbps",
          "trestbps",
          "trestbps",
          "trestbps",
          "trestbps",
          "trestbps",
          "trestbps",
          "trestbps",
          "trestbps",
          "trestbps",
          "trestbps",
          "trestbps",
          "trestbps",
          "trestbps",
          "trestbps",
          "trestbps",
          "trestbps",
          "trestbps",
          "trestbps",
          "trestbps",
          "trestbps",
          "trestbps",
          "trestbps",
          "trestbps",
          "trestbps",
          "trestbps",
          "trestbps",
          "trestbps",
          "trestbps",
          "trestbps",
          "trestbps",
          "trestbps",
          "trestbps",
          "trestbps",
          "trestbps",
          "trestbps",
          "trestbps",
          "trestbps",
          "trestbps",
          "trestbps",
          "trestbps",
          "trestbps",
          "trestbps",
          "trestbps",
          "trestbps",
          "trestbps",
          "trestbps",
          "trestbps",
          "trestbps",
          "trestbps",
          "trestbps",
          "trestbps",
          "trestbps",
          "trestbps",
          "trestbps",
          "trestbps",
          "trestbps",
          "trestbps",
          "trestbps",
          "trestbps",
          "trestbps",
          "trestbps",
          "trestbps",
          "trestbps",
          "trestbps",
          "trestbps",
          "trestbps",
          "trestbps",
          "trestbps",
          "trestbps",
          "trestbps",
          "trestbps",
          "trestbps",
          "trestbps",
          "trestbps",
          "trestbps",
          "trestbps",
          "trestbps",
          "trestbps",
          "trestbps",
          "trestbps",
          "trestbps",
          "trestbps",
          "trestbps",
          "trestbps",
          "trestbps",
          "trestbps",
          "trestbps",
          "trestbps",
          "trestbps",
          "trestbps",
          "trestbps",
          "trestbps",
          "trestbps",
          "trestbps",
          "trestbps",
          "trestbps",
          "trestbps",
          "trestbps",
          "trestbps",
          "trestbps",
          "trestbps",
          "trestbps",
          "trestbps",
          "trestbps",
          "trestbps",
          "trestbps",
          "trestbps",
          "trestbps",
          "trestbps",
          "trestbps",
          "trestbps",
          "trestbps",
          "trestbps",
          "trestbps",
          "trestbps",
          "trestbps",
          "trestbps",
          "trestbps",
          "trestbps",
          "trestbps",
          "trestbps",
          "trestbps",
          "trestbps",
          "trestbps",
          "trestbps",
          "trestbps",
          "trestbps",
          "trestbps",
          "trestbps",
          "trestbps",
          "trestbps",
          "trestbps",
          "trestbps",
          "trestbps",
          "trestbps",
          "trestbps",
          "trestbps",
          "trestbps",
          "trestbps",
          "trestbps",
          "trestbps",
          "trestbps",
          "trestbps",
          "trestbps",
          "trestbps",
          "trestbps",
          "trestbps",
          "trestbps",
          "trestbps",
          "trestbps",
          "trestbps",
          "trestbps",
          "trestbps",
          "trestbps",
          "trestbps",
          "trestbps",
          "trestbps",
          "trestbps",
          "trestbps",
          "trestbps",
          "trestbps",
          "trestbps",
          "trestbps",
          "trestbps",
          "trestbps",
          "trestbps",
          "trestbps",
          "trestbps",
          "trestbps",
          "trestbps",
          "trestbps",
          "trestbps",
          "trestbps",
          "trestbps",
          "chol",
          "chol",
          "chol",
          "chol",
          "chol",
          "chol",
          "chol",
          "chol",
          "chol",
          "chol",
          "chol",
          "chol",
          "chol",
          "chol",
          "chol",
          "chol",
          "chol",
          "chol",
          "chol",
          "chol",
          "chol",
          "chol",
          "chol",
          "chol",
          "chol",
          "chol",
          "chol",
          "chol",
          "chol",
          "chol",
          "chol",
          "chol",
          "chol",
          "chol",
          "chol",
          "chol",
          "chol",
          "chol",
          "chol",
          "chol",
          "chol",
          "chol",
          "chol",
          "chol",
          "chol",
          "chol",
          "chol",
          "chol",
          "chol",
          "chol",
          "chol",
          "chol",
          "chol",
          "chol",
          "chol",
          "chol",
          "chol",
          "chol",
          "chol",
          "chol",
          "chol",
          "chol",
          "chol",
          "chol",
          "chol",
          "chol",
          "chol",
          "chol",
          "chol",
          "chol",
          "chol",
          "chol",
          "chol",
          "chol",
          "chol",
          "chol",
          "chol",
          "chol",
          "chol",
          "chol",
          "chol",
          "chol",
          "chol",
          "chol",
          "chol",
          "chol",
          "chol",
          "chol",
          "chol",
          "chol",
          "chol",
          "chol",
          "chol",
          "chol",
          "chol",
          "chol",
          "chol",
          "chol",
          "chol",
          "chol",
          "chol",
          "chol",
          "chol",
          "chol",
          "chol",
          "chol",
          "chol",
          "chol",
          "chol",
          "chol",
          "chol",
          "chol",
          "chol",
          "chol",
          "chol",
          "chol",
          "chol",
          "chol",
          "chol",
          "chol",
          "chol",
          "chol",
          "chol",
          "chol",
          "chol",
          "chol",
          "chol",
          "chol",
          "chol",
          "chol",
          "chol",
          "chol",
          "chol",
          "chol",
          "chol",
          "chol",
          "chol",
          "chol",
          "chol",
          "chol",
          "chol",
          "chol",
          "chol",
          "chol",
          "chol",
          "chol",
          "chol",
          "chol",
          "chol",
          "chol",
          "chol",
          "chol",
          "chol",
          "chol",
          "chol",
          "chol",
          "chol",
          "chol",
          "chol",
          "chol",
          "chol",
          "chol",
          "chol",
          "chol",
          "chol",
          "chol",
          "chol",
          "chol",
          "chol",
          "chol",
          "chol",
          "chol",
          "chol",
          "chol",
          "chol",
          "chol",
          "chol",
          "chol",
          "chol",
          "chol",
          "chol",
          "chol",
          "chol",
          "chol",
          "chol",
          "chol",
          "chol",
          "chol",
          "chol",
          "chol",
          "chol",
          "chol",
          "chol",
          "chol",
          "chol",
          "chol",
          "chol",
          "chol",
          "chol",
          "chol",
          "chol",
          "chol",
          "chol",
          "chol",
          "chol",
          "chol",
          "chol",
          "chol",
          "chol",
          "chol",
          "chol",
          "chol",
          "chol",
          "chol",
          "chol",
          "chol",
          "chol",
          "chol",
          "chol",
          "chol",
          "chol",
          "chol",
          "chol",
          "chol",
          "chol",
          "chol",
          "chol",
          "chol",
          "chol",
          "chol",
          "chol",
          "chol",
          "chol",
          "chol",
          "chol",
          "chol",
          "chol",
          "chol",
          "chol",
          "chol",
          "chol",
          "chol",
          "chol",
          "chol",
          "chol",
          "chol",
          "chol",
          "chol",
          "chol",
          "chol",
          "chol",
          "chol",
          "chol",
          "chol",
          "chol",
          "chol",
          "chol",
          "chol",
          "chol",
          "chol",
          "chol",
          "chol",
          "chol",
          "chol",
          "chol",
          "chol",
          "chol",
          "chol",
          "chol",
          "chol",
          "chol",
          "chol",
          "chol",
          "chol",
          "chol",
          "chol",
          "chol",
          "chol",
          "chol",
          "chol",
          "chol",
          "chol",
          "chol",
          "chol",
          "chol",
          "chol",
          "chol",
          "chol",
          "chol",
          "chol",
          "chol",
          "chol",
          "chol",
          "chol",
          "chol",
          "chol",
          "chol",
          "chol",
          "chol",
          "chol",
          "chol",
          "chol",
          "chol",
          "chol",
          "chol",
          "chol",
          "chol",
          "chol",
          "chol",
          "chol",
          "chol",
          "chol",
          "chol",
          "chol",
          "chol",
          "chol",
          "chol",
          "chol",
          "chol",
          "chol",
          "chol",
          "chol",
          "chol",
          "chol",
          "chol",
          "chol",
          "chol",
          "chol",
          "chol",
          "chol",
          "chol",
          "chol",
          "chol",
          "chol",
          "chol",
          "chol",
          "chol",
          "chol",
          "chol",
          "chol",
          "chol",
          "chol",
          "chol",
          "chol",
          "chol",
          "chol",
          "chol",
          "chol",
          "chol",
          "chol",
          "chol",
          "chol",
          "chol",
          "chol",
          "chol",
          "chol",
          "chol",
          "chol",
          "chol",
          "chol",
          "chol",
          "chol",
          "chol",
          "chol",
          "chol",
          "chol",
          "chol",
          "chol",
          "chol",
          "chol",
          "chol",
          "chol",
          "chol",
          "chol",
          "chol",
          "chol",
          "chol",
          "chol",
          "chol",
          "chol",
          "chol",
          "chol",
          "chol",
          "chol",
          "chol",
          "chol",
          "chol",
          "chol",
          "chol",
          "chol",
          "chol",
          "chol",
          "chol",
          "chol",
          "chol",
          "chol",
          "chol",
          "chol",
          "chol",
          "chol",
          "chol",
          "chol",
          "chol",
          "chol",
          "chol",
          "chol",
          "chol",
          "chol",
          "chol",
          "chol",
          "chol",
          "chol",
          "chol",
          "chol",
          "chol",
          "chol",
          "chol",
          "chol",
          "chol",
          "chol",
          "chol",
          "chol",
          "chol",
          "chol",
          "chol",
          "chol",
          "chol",
          "chol",
          "chol",
          "chol",
          "chol",
          "chol",
          "chol",
          "chol",
          "chol",
          "chol",
          "chol",
          "chol",
          "chol",
          "chol",
          "chol",
          "chol",
          "chol",
          "chol",
          "chol",
          "chol",
          "chol",
          "chol",
          "chol",
          "chol",
          "chol",
          "chol",
          "chol",
          "chol",
          "chol",
          "chol",
          "chol",
          "chol",
          "chol",
          "chol",
          "chol",
          "chol",
          "chol",
          "chol",
          "chol",
          "chol",
          "chol",
          "chol",
          "chol",
          "chol",
          "chol",
          "chol",
          "chol",
          "chol",
          "chol",
          "chol",
          "chol",
          "chol",
          "chol",
          "chol",
          "chol",
          "chol",
          "chol",
          "chol",
          "chol",
          "chol",
          "chol",
          "chol",
          "chol",
          "chol",
          "chol",
          "chol",
          "chol",
          "chol",
          "chol",
          "chol",
          "chol",
          "chol",
          "chol",
          "chol",
          "chol",
          "chol",
          "chol",
          "chol",
          "chol",
          "chol",
          "chol",
          "chol",
          "chol",
          "chol",
          "chol",
          "chol",
          "chol",
          "chol",
          "chol",
          "chol",
          "chol",
          "chol",
          "chol",
          "chol",
          "chol",
          "chol",
          "chol",
          "chol",
          "chol",
          "chol",
          "chol",
          "chol",
          "chol",
          "chol",
          "chol",
          "chol",
          "chol",
          "chol",
          "chol",
          "chol",
          "chol",
          "chol",
          "chol",
          "chol",
          "chol",
          "chol",
          "chol",
          "chol",
          "chol",
          "chol",
          "chol",
          "chol",
          "chol",
          "chol",
          "chol",
          "chol",
          "chol",
          "chol",
          "chol",
          "chol",
          "chol",
          "chol",
          "chol",
          "chol",
          "chol",
          "chol",
          "chol",
          "chol",
          "chol",
          "chol",
          "chol",
          "chol",
          "chol",
          "chol",
          "chol",
          "chol",
          "chol",
          "chol",
          "chol",
          "chol",
          "chol",
          "chol",
          "chol",
          "chol",
          "chol",
          "chol",
          "chol",
          "chol",
          "chol",
          "chol",
          "chol",
          "chol",
          "chol",
          "chol",
          "chol",
          "chol",
          "chol",
          "chol",
          "chol",
          "chol",
          "chol",
          "chol",
          "chol",
          "chol",
          "chol",
          "chol",
          "chol",
          "chol",
          "chol",
          "chol",
          "chol",
          "chol",
          "chol",
          "chol",
          "chol",
          "chol",
          "chol",
          "chol",
          "chol",
          "chol",
          "chol",
          "chol",
          "chol",
          "chol",
          "chol",
          "chol",
          "chol",
          "chol",
          "chol",
          "chol",
          "chol",
          "chol",
          "chol",
          "chol",
          "chol",
          "chol",
          "chol",
          "chol",
          "chol",
          "chol",
          "chol",
          "chol",
          "chol",
          "chol",
          "chol",
          "chol",
          "chol",
          "chol",
          "chol",
          "chol",
          "chol",
          "chol",
          "chol",
          "chol",
          "chol",
          "chol",
          "chol",
          "chol",
          "chol",
          "chol",
          "chol",
          "chol",
          "chol",
          "chol",
          "chol",
          "chol",
          "chol",
          "chol",
          "chol",
          "chol",
          "chol",
          "chol",
          "chol",
          "chol",
          "chol",
          "chol",
          "chol",
          "chol",
          "chol",
          "chol",
          "chol",
          "chol",
          "chol",
          "chol",
          "chol",
          "chol",
          "chol",
          "chol",
          "chol",
          "chol",
          "chol",
          "chol",
          "chol",
          "chol",
          "chol",
          "chol",
          "chol",
          "chol",
          "chol",
          "chol",
          "chol",
          "chol",
          "chol",
          "chol",
          "chol",
          "chol",
          "chol",
          "chol",
          "chol",
          "chol",
          "chol",
          "chol",
          "chol",
          "chol",
          "chol",
          "chol",
          "chol",
          "chol",
          "chol",
          "chol",
          "chol",
          "chol",
          "chol",
          "chol",
          "chol",
          "chol",
          "chol",
          "chol",
          "chol",
          "chol",
          "chol",
          "chol",
          "chol",
          "chol",
          "chol",
          "chol",
          "chol",
          "chol",
          "chol",
          "chol",
          "chol",
          "chol",
          "chol",
          "chol",
          "chol",
          "chol",
          "chol",
          "chol",
          "chol",
          "chol",
          "chol",
          "chol",
          "chol",
          "chol",
          "chol",
          "chol",
          "chol",
          "chol",
          "chol",
          "chol",
          "chol",
          "chol",
          "chol",
          "chol",
          "chol",
          "chol",
          "chol",
          "chol",
          "chol",
          "chol",
          "chol",
          "chol",
          "chol",
          "chol",
          "chol",
          "chol",
          "chol",
          "chol",
          "chol",
          "chol",
          "chol",
          "chol",
          "chol",
          "chol",
          "chol",
          "chol",
          "chol",
          "chol",
          "chol",
          "chol",
          "chol",
          "chol",
          "chol",
          "chol",
          "chol",
          "chol",
          "chol",
          "chol",
          "chol",
          "chol",
          "chol",
          "chol",
          "chol",
          "chol",
          "chol",
          "chol",
          "chol",
          "chol",
          "chol",
          "chol",
          "chol",
          "chol",
          "chol",
          "chol",
          "chol",
          "chol",
          "chol",
          "chol",
          "chol",
          "chol",
          "chol",
          "chol",
          "chol",
          "chol",
          "chol",
          "chol",
          "chol",
          "chol",
          "chol",
          "chol",
          "chol",
          "chol",
          "chol",
          "chol",
          "chol",
          "chol",
          "chol",
          "chol",
          "chol",
          "chol",
          "chol",
          "chol",
          "chol",
          "chol",
          "chol",
          "chol",
          "chol",
          "chol",
          "chol",
          "chol",
          "chol",
          "chol",
          "chol",
          "chol",
          "chol",
          "chol",
          "chol",
          "chol",
          "chol",
          "chol",
          "chol",
          "chol",
          "chol",
          "chol",
          "chol",
          "chol",
          "chol",
          "chol",
          "chol",
          "chol",
          "chol",
          "chol",
          "chol",
          "chol",
          "chol",
          "chol",
          "chol",
          "chol",
          "chol",
          "chol",
          "chol",
          "chol",
          "chol",
          "chol",
          "chol",
          "chol",
          "chol",
          "chol",
          "chol",
          "chol",
          "chol",
          "chol",
          "chol",
          "chol",
          "chol",
          "chol",
          "chol",
          "chol",
          "chol",
          "chol",
          "chol",
          "chol",
          "chol",
          "chol",
          "chol",
          "chol",
          "chol",
          "chol",
          "chol",
          "chol",
          "chol",
          "chol",
          "chol",
          "chol",
          "chol",
          "chol",
          "chol",
          "chol",
          "thalach",
          "thalach",
          "thalach",
          "thalach",
          "thalach",
          "thalach",
          "thalach",
          "thalach",
          "thalach",
          "thalach",
          "thalach",
          "thalach",
          "thalach",
          "thalach",
          "thalach",
          "thalach",
          "thalach",
          "thalach",
          "thalach",
          "thalach",
          "thalach",
          "thalach",
          "thalach",
          "thalach",
          "thalach",
          "thalach",
          "thalach",
          "thalach",
          "thalach",
          "thalach",
          "thalach",
          "thalach",
          "thalach",
          "thalach",
          "thalach",
          "thalach",
          "thalach",
          "thalach",
          "thalach",
          "thalach",
          "thalach",
          "thalach",
          "thalach",
          "thalach",
          "thalach",
          "thalach",
          "thalach",
          "thalach",
          "thalach",
          "thalach",
          "thalach",
          "thalach",
          "thalach",
          "thalach",
          "thalach",
          "thalach",
          "thalach",
          "thalach",
          "thalach",
          "thalach",
          "thalach",
          "thalach",
          "thalach",
          "thalach",
          "thalach",
          "thalach",
          "thalach",
          "thalach",
          "thalach",
          "thalach",
          "thalach",
          "thalach",
          "thalach",
          "thalach",
          "thalach",
          "thalach",
          "thalach",
          "thalach",
          "thalach",
          "thalach",
          "thalach",
          "thalach",
          "thalach",
          "thalach",
          "thalach",
          "thalach",
          "thalach",
          "thalach",
          "thalach",
          "thalach",
          "thalach",
          "thalach",
          "thalach",
          "thalach",
          "thalach",
          "thalach",
          "thalach",
          "thalach",
          "thalach",
          "thalach",
          "thalach",
          "thalach",
          "thalach",
          "thalach",
          "thalach",
          "thalach",
          "thalach",
          "thalach",
          "thalach",
          "thalach",
          "thalach",
          "thalach",
          "thalach",
          "thalach",
          "thalach",
          "thalach",
          "thalach",
          "thalach",
          "thalach",
          "thalach",
          "thalach",
          "thalach",
          "thalach",
          "thalach",
          "thalach",
          "thalach",
          "thalach",
          "thalach",
          "thalach",
          "thalach",
          "thalach",
          "thalach",
          "thalach",
          "thalach",
          "thalach",
          "thalach",
          "thalach",
          "thalach",
          "thalach",
          "thalach",
          "thalach",
          "thalach",
          "thalach",
          "thalach",
          "thalach",
          "thalach",
          "thalach",
          "thalach",
          "thalach",
          "thalach",
          "thalach",
          "thalach",
          "thalach",
          "thalach",
          "thalach",
          "thalach",
          "thalach",
          "thalach",
          "thalach",
          "thalach",
          "thalach",
          "thalach",
          "thalach",
          "thalach",
          "thalach",
          "thalach",
          "thalach",
          "thalach",
          "thalach",
          "thalach",
          "thalach",
          "thalach",
          "thalach",
          "thalach",
          "thalach",
          "thalach",
          "thalach",
          "thalach",
          "thalach",
          "thalach",
          "thalach",
          "thalach",
          "thalach",
          "thalach",
          "thalach",
          "thalach",
          "thalach",
          "thalach",
          "thalach",
          "thalach",
          "thalach",
          "thalach",
          "thalach",
          "thalach",
          "thalach",
          "thalach",
          "thalach",
          "thalach",
          "thalach",
          "thalach",
          "thalach",
          "thalach",
          "thalach",
          "thalach",
          "thalach",
          "thalach",
          "thalach",
          "thalach",
          "thalach",
          "thalach",
          "thalach",
          "thalach",
          "thalach",
          "thalach",
          "thalach",
          "thalach",
          "thalach",
          "thalach",
          "thalach",
          "thalach",
          "thalach",
          "thalach",
          "thalach",
          "thalach",
          "thalach",
          "thalach",
          "thalach",
          "thalach",
          "thalach",
          "thalach",
          "thalach",
          "thalach",
          "thalach",
          "thalach",
          "thalach",
          "thalach",
          "thalach",
          "thalach",
          "thalach",
          "thalach",
          "thalach",
          "thalach",
          "thalach",
          "thalach",
          "thalach",
          "thalach",
          "thalach",
          "thalach",
          "thalach",
          "thalach",
          "thalach",
          "thalach",
          "thalach",
          "thalach",
          "thalach",
          "thalach",
          "thalach",
          "thalach",
          "thalach",
          "thalach",
          "thalach",
          "thalach",
          "thalach",
          "thalach",
          "thalach",
          "thalach",
          "thalach",
          "thalach",
          "thalach",
          "thalach",
          "thalach",
          "thalach",
          "thalach",
          "thalach",
          "thalach",
          "thalach",
          "thalach",
          "thalach",
          "thalach",
          "thalach",
          "thalach",
          "thalach",
          "thalach",
          "thalach",
          "thalach",
          "thalach",
          "thalach",
          "thalach",
          "thalach",
          "thalach",
          "thalach",
          "thalach",
          "thalach",
          "thalach",
          "thalach",
          "thalach",
          "thalach",
          "thalach",
          "thalach",
          "thalach",
          "thalach",
          "thalach",
          "thalach",
          "thalach",
          "thalach",
          "thalach",
          "thalach",
          "thalach",
          "thalach",
          "thalach",
          "thalach",
          "thalach",
          "thalach",
          "thalach",
          "thalach",
          "thalach",
          "thalach",
          "thalach",
          "thalach",
          "thalach",
          "thalach",
          "thalach",
          "thalach",
          "thalach",
          "thalach",
          "thalach",
          "thalach",
          "thalach",
          "thalach",
          "thalach",
          "thalach",
          "thalach",
          "thalach",
          "thalach",
          "thalach",
          "thalach",
          "thalach",
          "thalach",
          "thalach",
          "thalach",
          "thalach",
          "thalach",
          "thalach",
          "thalach",
          "thalach",
          "thalach",
          "thalach",
          "thalach",
          "thalach",
          "thalach",
          "thalach",
          "thalach",
          "thalach",
          "thalach",
          "thalach",
          "thalach",
          "thalach",
          "thalach",
          "thalach",
          "thalach",
          "thalach",
          "thalach",
          "thalach",
          "thalach",
          "thalach",
          "thalach",
          "thalach",
          "thalach",
          "thalach",
          "thalach",
          "thalach",
          "thalach",
          "thalach",
          "thalach",
          "thalach",
          "thalach",
          "thalach",
          "thalach",
          "thalach",
          "thalach",
          "thalach",
          "thalach",
          "thalach",
          "thalach",
          "thalach",
          "thalach",
          "thalach",
          "thalach",
          "thalach",
          "thalach",
          "thalach",
          "thalach",
          "thalach",
          "thalach",
          "thalach",
          "thalach",
          "thalach",
          "thalach",
          "thalach",
          "thalach",
          "thalach",
          "thalach",
          "thalach",
          "thalach",
          "thalach",
          "thalach",
          "thalach",
          "thalach",
          "thalach",
          "thalach",
          "thalach",
          "thalach",
          "thalach",
          "thalach",
          "thalach",
          "thalach",
          "thalach",
          "thalach",
          "thalach",
          "thalach",
          "thalach",
          "thalach",
          "thalach",
          "thalach",
          "thalach",
          "thalach",
          "thalach",
          "thalach",
          "thalach",
          "thalach",
          "thalach",
          "thalach",
          "thalach",
          "thalach",
          "thalach",
          "thalach",
          "thalach",
          "thalach",
          "thalach",
          "thalach",
          "thalach",
          "thalach",
          "thalach",
          "thalach",
          "thalach",
          "thalach",
          "thalach",
          "thalach",
          "thalach",
          "thalach",
          "thalach",
          "thalach",
          "thalach",
          "thalach",
          "thalach",
          "thalach",
          "thalach",
          "thalach",
          "thalach",
          "thalach",
          "thalach",
          "thalach",
          "thalach",
          "thalach",
          "thalach",
          "thalach",
          "thalach",
          "thalach",
          "thalach",
          "thalach",
          "thalach",
          "thalach",
          "thalach",
          "thalach",
          "thalach",
          "thalach",
          "thalach",
          "thalach",
          "thalach",
          "thalach",
          "thalach",
          "thalach",
          "thalach",
          "thalach",
          "thalach",
          "thalach",
          "thalach",
          "thalach",
          "thalach",
          "thalach",
          "thalach",
          "thalach",
          "thalach",
          "thalach",
          "thalach",
          "thalach",
          "thalach",
          "thalach",
          "thalach",
          "thalach",
          "thalach",
          "thalach",
          "thalach",
          "thalach",
          "thalach",
          "thalach",
          "thalach",
          "thalach",
          "thalach",
          "thalach",
          "thalach",
          "thalach",
          "thalach",
          "thalach",
          "thalach",
          "thalach",
          "thalach",
          "thalach",
          "thalach",
          "thalach",
          "thalach",
          "thalach",
          "thalach",
          "thalach",
          "thalach",
          "thalach",
          "thalach",
          "thalach",
          "thalach",
          "thalach",
          "thalach",
          "thalach",
          "thalach",
          "thalach",
          "thalach",
          "thalach",
          "thalach",
          "thalach",
          "thalach",
          "thalach",
          "thalach",
          "thalach",
          "thalach",
          "thalach",
          "thalach",
          "thalach",
          "thalach",
          "thalach",
          "thalach",
          "thalach",
          "thalach",
          "thalach",
          "thalach",
          "thalach",
          "thalach",
          "thalach",
          "thalach",
          "thalach",
          "thalach",
          "thalach",
          "thalach",
          "thalach",
          "thalach",
          "thalach",
          "thalach",
          "thalach",
          "thalach",
          "thalach",
          "thalach",
          "thalach",
          "thalach",
          "thalach",
          "thalach",
          "thalach",
          "thalach",
          "thalach",
          "thalach",
          "thalach",
          "thalach",
          "thalach",
          "thalach",
          "thalach",
          "thalach",
          "thalach",
          "thalach",
          "thalach",
          "thalach",
          "thalach",
          "thalach",
          "thalach",
          "thalach",
          "thalach",
          "thalach",
          "thalach",
          "thalach",
          "thalach",
          "thalach",
          "thalach",
          "thalach",
          "thalach",
          "thalach",
          "thalach",
          "thalach",
          "thalach",
          "thalach",
          "thalach",
          "thalach",
          "thalach",
          "thalach",
          "thalach",
          "thalach",
          "thalach",
          "thalach",
          "thalach",
          "thalach",
          "thalach",
          "thalach",
          "thalach",
          "thalach",
          "thalach",
          "thalach",
          "thalach",
          "thalach",
          "thalach",
          "thalach",
          "thalach",
          "thalach",
          "thalach",
          "thalach",
          "thalach",
          "thalach",
          "thalach",
          "thalach",
          "thalach",
          "thalach",
          "thalach",
          "thalach",
          "thalach",
          "thalach",
          "thalach",
          "thalach",
          "thalach",
          "thalach",
          "thalach",
          "thalach",
          "thalach",
          "thalach",
          "thalach",
          "thalach",
          "thalach",
          "thalach",
          "thalach",
          "thalach",
          "thalach",
          "thalach",
          "thalach",
          "thalach",
          "thalach",
          "thalach",
          "thalach",
          "thalach",
          "thalach",
          "thalach",
          "thalach",
          "thalach",
          "thalach",
          "thalach",
          "thalach",
          "thalach",
          "thalach",
          "thalach",
          "thalach",
          "thalach",
          "thalach",
          "thalach",
          "thalach",
          "thalach",
          "thalach",
          "thalach",
          "thalach",
          "thalach",
          "thalach",
          "thalach",
          "thalach",
          "thalach",
          "thalach",
          "thalach",
          "thalach",
          "thalach",
          "thalach",
          "thalach",
          "thalach",
          "thalach",
          "thalach",
          "thalach",
          "thalach",
          "thalach",
          "thalach",
          "thalach",
          "thalach",
          "thalach",
          "thalach",
          "thalach",
          "thalach",
          "thalach",
          "thalach",
          "thalach",
          "thalach",
          "thalach",
          "thalach",
          "thalach",
          "thalach",
          "thalach",
          "thalach",
          "thalach",
          "thalach",
          "thalach",
          "thalach",
          "thalach",
          "thalach",
          "thalach",
          "thalach",
          "thalach",
          "thalach",
          "thalach",
          "thalach",
          "thalach",
          "thalach",
          "thalach",
          "thalach",
          "thalach",
          "thalach",
          "thalach",
          "thalach",
          "thalach",
          "thalach",
          "thalach",
          "thalach",
          "thalach",
          "thalach",
          "thalach",
          "thalach",
          "thalach",
          "thalach",
          "thalach",
          "thalach",
          "thalach",
          "thalach",
          "thalach",
          "thalach",
          "thalach",
          "thalach",
          "thalach",
          "thalach",
          "thalach",
          "thalach",
          "thalach",
          "thalach",
          "thalach",
          "thalach",
          "thalach",
          "thalach",
          "thalach",
          "thalach",
          "thalach",
          "thalach",
          "thalach",
          "thalach",
          "thalach",
          "thalach",
          "thalach",
          "thalach",
          "thalach",
          "thalach",
          "thalach",
          "thalach",
          "thalach",
          "thalach",
          "thalach",
          "thalach",
          "thalach",
          "thalach",
          "thalach",
          "thalach",
          "thalach",
          "thalach",
          "thalach",
          "thalach",
          "thalach",
          "thalach",
          "thalach",
          "thalach",
          "thalach",
          "thalach",
          "thalach",
          "thalach",
          "thalach",
          "thalach",
          "thalach",
          "thalach",
          "thalach",
          "thalach",
          "thalach",
          "thalach",
          "thalach",
          "thalach",
          "thalach",
          "thalach",
          "thalach",
          "thalach",
          "thalach",
          "thalach",
          "thalach",
          "thalach",
          "thalach",
          "thalach",
          "thalach",
          "thalach",
          "thalach",
          "thalach",
          "thalach",
          "thalach",
          "thalach",
          "thalach",
          "thalach",
          "thalach",
          "thalach",
          "thalach",
          "thalach",
          "thalach",
          "thalach",
          "thalach",
          "thalach",
          "thalach",
          "thalach",
          "thalach",
          "thalach",
          "thalach",
          "thalach",
          "thalach",
          "thalach",
          "thalach",
          "thalach",
          "thalach",
          "thalach",
          "thalach",
          "thalach",
          "thalach",
          "thalach",
          "thalach",
          "thalach",
          "thalach",
          "thalach",
          "thalach",
          "thalach",
          "thalach",
          "thalach",
          "thalach",
          "thalach",
          "thalach",
          "thalach",
          "thalach",
          "thalach",
          "thalach",
          "thalach",
          "thalach",
          "thalach",
          "thalach",
          "thalach",
          "thalach",
          "thalach",
          "thalach",
          "thalach",
          "thalach",
          "thalach",
          "thalach",
          "thalach",
          "thalach",
          "thalach",
          "thalach",
          "thalach",
          "thalach",
          "thalach",
          "thalach",
          "thalach",
          "thalach",
          "thalach",
          "thalach",
          "thalach",
          "thalach",
          "thalach",
          "thalach",
          "thalach",
          "thalach",
          "thalach",
          "thalach",
          "thalach",
          "thalach",
          "thalach",
          "thalach",
          "thalach",
          "thalach",
          "thalach",
          "thalach",
          "thalach",
          "thalach",
          "thalach",
          "thalach",
          "thalach",
          "thalach",
          "thalach",
          "thalach",
          "thalach",
          "thalach",
          "oldpeak",
          "oldpeak",
          "oldpeak",
          "oldpeak",
          "oldpeak",
          "oldpeak",
          "oldpeak",
          "oldpeak",
          "oldpeak",
          "oldpeak",
          "oldpeak",
          "oldpeak",
          "oldpeak",
          "oldpeak",
          "oldpeak",
          "oldpeak",
          "oldpeak",
          "oldpeak",
          "oldpeak",
          "oldpeak",
          "oldpeak",
          "oldpeak",
          "oldpeak",
          "oldpeak",
          "oldpeak",
          "oldpeak",
          "oldpeak",
          "oldpeak",
          "oldpeak",
          "oldpeak",
          "oldpeak",
          "oldpeak",
          "oldpeak",
          "oldpeak",
          "oldpeak",
          "oldpeak",
          "oldpeak",
          "oldpeak",
          "oldpeak",
          "oldpeak",
          "oldpeak",
          "oldpeak",
          "oldpeak",
          "oldpeak",
          "oldpeak",
          "oldpeak",
          "oldpeak",
          "oldpeak",
          "oldpeak",
          "oldpeak",
          "oldpeak",
          "oldpeak",
          "oldpeak",
          "oldpeak",
          "oldpeak",
          "oldpeak",
          "oldpeak",
          "oldpeak",
          "oldpeak",
          "oldpeak",
          "oldpeak",
          "oldpeak",
          "oldpeak",
          "oldpeak",
          "oldpeak",
          "oldpeak",
          "oldpeak",
          "oldpeak",
          "oldpeak",
          "oldpeak",
          "oldpeak",
          "oldpeak",
          "oldpeak",
          "oldpeak",
          "oldpeak",
          "oldpeak",
          "oldpeak",
          "oldpeak",
          "oldpeak",
          "oldpeak",
          "oldpeak",
          "oldpeak",
          "oldpeak",
          "oldpeak",
          "oldpeak",
          "oldpeak",
          "oldpeak",
          "oldpeak",
          "oldpeak",
          "oldpeak",
          "oldpeak",
          "oldpeak",
          "oldpeak",
          "oldpeak",
          "oldpeak",
          "oldpeak",
          "oldpeak",
          "oldpeak",
          "oldpeak",
          "oldpeak",
          "oldpeak",
          "oldpeak",
          "oldpeak",
          "oldpeak",
          "oldpeak",
          "oldpeak",
          "oldpeak",
          "oldpeak",
          "oldpeak",
          "oldpeak",
          "oldpeak",
          "oldpeak",
          "oldpeak",
          "oldpeak",
          "oldpeak",
          "oldpeak",
          "oldpeak",
          "oldpeak",
          "oldpeak",
          "oldpeak",
          "oldpeak",
          "oldpeak",
          "oldpeak",
          "oldpeak",
          "oldpeak",
          "oldpeak",
          "oldpeak",
          "oldpeak",
          "oldpeak",
          "oldpeak",
          "oldpeak",
          "oldpeak",
          "oldpeak",
          "oldpeak",
          "oldpeak",
          "oldpeak",
          "oldpeak",
          "oldpeak",
          "oldpeak",
          "oldpeak",
          "oldpeak",
          "oldpeak",
          "oldpeak",
          "oldpeak",
          "oldpeak",
          "oldpeak",
          "oldpeak",
          "oldpeak",
          "oldpeak",
          "oldpeak",
          "oldpeak",
          "oldpeak",
          "oldpeak",
          "oldpeak",
          "oldpeak",
          "oldpeak",
          "oldpeak",
          "oldpeak",
          "oldpeak",
          "oldpeak",
          "oldpeak",
          "oldpeak",
          "oldpeak",
          "oldpeak",
          "oldpeak",
          "oldpeak",
          "oldpeak",
          "oldpeak",
          "oldpeak",
          "oldpeak",
          "oldpeak",
          "oldpeak",
          "oldpeak",
          "oldpeak",
          "oldpeak",
          "oldpeak",
          "oldpeak",
          "oldpeak",
          "oldpeak",
          "oldpeak",
          "oldpeak",
          "oldpeak",
          "oldpeak",
          "oldpeak",
          "oldpeak",
          "oldpeak",
          "oldpeak",
          "oldpeak",
          "oldpeak",
          "oldpeak",
          "oldpeak",
          "oldpeak",
          "oldpeak",
          "oldpeak",
          "oldpeak",
          "oldpeak",
          "oldpeak",
          "oldpeak",
          "oldpeak",
          "oldpeak",
          "oldpeak",
          "oldpeak",
          "oldpeak",
          "oldpeak",
          "oldpeak",
          "oldpeak",
          "oldpeak",
          "oldpeak",
          "oldpeak",
          "oldpeak",
          "oldpeak",
          "oldpeak",
          "oldpeak",
          "oldpeak",
          "oldpeak",
          "oldpeak",
          "oldpeak",
          "oldpeak",
          "oldpeak",
          "oldpeak",
          "oldpeak",
          "oldpeak",
          "oldpeak",
          "oldpeak",
          "oldpeak",
          "oldpeak",
          "oldpeak",
          "oldpeak",
          "oldpeak",
          "oldpeak",
          "oldpeak",
          "oldpeak",
          "oldpeak",
          "oldpeak",
          "oldpeak",
          "oldpeak",
          "oldpeak",
          "oldpeak",
          "oldpeak",
          "oldpeak",
          "oldpeak",
          "oldpeak",
          "oldpeak",
          "oldpeak",
          "oldpeak",
          "oldpeak",
          "oldpeak",
          "oldpeak",
          "oldpeak",
          "oldpeak",
          "oldpeak",
          "oldpeak",
          "oldpeak",
          "oldpeak",
          "oldpeak",
          "oldpeak",
          "oldpeak",
          "oldpeak",
          "oldpeak",
          "oldpeak",
          "oldpeak",
          "oldpeak",
          "oldpeak",
          "oldpeak",
          "oldpeak",
          "oldpeak",
          "oldpeak",
          "oldpeak",
          "oldpeak",
          "oldpeak",
          "oldpeak",
          "oldpeak",
          "oldpeak",
          "oldpeak",
          "oldpeak",
          "oldpeak",
          "oldpeak",
          "oldpeak",
          "oldpeak",
          "oldpeak",
          "oldpeak",
          "oldpeak",
          "oldpeak",
          "oldpeak",
          "oldpeak",
          "oldpeak",
          "oldpeak",
          "oldpeak",
          "oldpeak",
          "oldpeak",
          "oldpeak",
          "oldpeak",
          "oldpeak",
          "oldpeak",
          "oldpeak",
          "oldpeak",
          "oldpeak",
          "oldpeak",
          "oldpeak",
          "oldpeak",
          "oldpeak",
          "oldpeak",
          "oldpeak",
          "oldpeak",
          "oldpeak",
          "oldpeak",
          "oldpeak",
          "oldpeak",
          "oldpeak",
          "oldpeak",
          "oldpeak",
          "oldpeak",
          "oldpeak",
          "oldpeak",
          "oldpeak",
          "oldpeak",
          "oldpeak",
          "oldpeak",
          "oldpeak",
          "oldpeak",
          "oldpeak",
          "oldpeak",
          "oldpeak",
          "oldpeak",
          "oldpeak",
          "oldpeak",
          "oldpeak",
          "oldpeak",
          "oldpeak",
          "oldpeak",
          "oldpeak",
          "oldpeak",
          "oldpeak",
          "oldpeak",
          "oldpeak",
          "oldpeak",
          "oldpeak",
          "oldpeak",
          "oldpeak",
          "oldpeak",
          "oldpeak",
          "oldpeak",
          "oldpeak",
          "oldpeak",
          "oldpeak",
          "oldpeak",
          "oldpeak",
          "oldpeak",
          "oldpeak",
          "oldpeak",
          "oldpeak",
          "oldpeak",
          "oldpeak",
          "oldpeak",
          "oldpeak",
          "oldpeak",
          "oldpeak",
          "oldpeak",
          "oldpeak",
          "oldpeak",
          "oldpeak",
          "oldpeak",
          "oldpeak",
          "oldpeak",
          "oldpeak",
          "oldpeak",
          "oldpeak",
          "oldpeak",
          "oldpeak",
          "oldpeak",
          "oldpeak",
          "oldpeak",
          "oldpeak",
          "oldpeak",
          "oldpeak",
          "oldpeak",
          "oldpeak",
          "oldpeak",
          "oldpeak",
          "oldpeak",
          "oldpeak",
          "oldpeak",
          "oldpeak",
          "oldpeak",
          "oldpeak",
          "oldpeak",
          "oldpeak",
          "oldpeak",
          "oldpeak",
          "oldpeak",
          "oldpeak",
          "oldpeak",
          "oldpeak",
          "oldpeak",
          "oldpeak",
          "oldpeak",
          "oldpeak",
          "oldpeak",
          "oldpeak",
          "oldpeak",
          "oldpeak",
          "oldpeak",
          "oldpeak",
          "oldpeak",
          "oldpeak",
          "oldpeak",
          "oldpeak",
          "oldpeak",
          "oldpeak",
          "oldpeak",
          "oldpeak",
          "oldpeak",
          "oldpeak",
          "oldpeak",
          "oldpeak",
          "oldpeak",
          "oldpeak",
          "oldpeak",
          "oldpeak",
          "oldpeak",
          "oldpeak",
          "oldpeak",
          "oldpeak",
          "oldpeak",
          "oldpeak",
          "oldpeak",
          "oldpeak",
          "oldpeak",
          "oldpeak",
          "oldpeak",
          "oldpeak",
          "oldpeak",
          "oldpeak",
          "oldpeak",
          "oldpeak",
          "oldpeak",
          "oldpeak",
          "oldpeak",
          "oldpeak",
          "oldpeak",
          "oldpeak",
          "oldpeak",
          "oldpeak",
          "oldpeak",
          "oldpeak",
          "oldpeak",
          "oldpeak",
          "oldpeak",
          "oldpeak",
          "oldpeak",
          "oldpeak",
          "oldpeak",
          "oldpeak",
          "oldpeak",
          "oldpeak",
          "oldpeak",
          "oldpeak",
          "oldpeak",
          "oldpeak",
          "oldpeak",
          "oldpeak",
          "oldpeak",
          "oldpeak",
          "oldpeak",
          "oldpeak",
          "oldpeak",
          "oldpeak",
          "oldpeak",
          "oldpeak",
          "oldpeak",
          "oldpeak",
          "oldpeak",
          "oldpeak",
          "oldpeak",
          "oldpeak",
          "oldpeak",
          "oldpeak",
          "oldpeak",
          "oldpeak",
          "oldpeak",
          "oldpeak",
          "oldpeak",
          "oldpeak",
          "oldpeak",
          "oldpeak",
          "oldpeak",
          "oldpeak",
          "oldpeak",
          "oldpeak",
          "oldpeak",
          "oldpeak",
          "oldpeak",
          "oldpeak",
          "oldpeak",
          "oldpeak",
          "oldpeak",
          "oldpeak",
          "oldpeak",
          "oldpeak",
          "oldpeak",
          "oldpeak",
          "oldpeak",
          "oldpeak",
          "oldpeak",
          "oldpeak",
          "oldpeak",
          "oldpeak",
          "oldpeak",
          "oldpeak",
          "oldpeak",
          "oldpeak",
          "oldpeak",
          "oldpeak",
          "oldpeak",
          "oldpeak",
          "oldpeak",
          "oldpeak",
          "oldpeak",
          "oldpeak",
          "oldpeak",
          "oldpeak",
          "oldpeak",
          "oldpeak",
          "oldpeak",
          "oldpeak",
          "oldpeak",
          "oldpeak",
          "oldpeak",
          "oldpeak",
          "oldpeak",
          "oldpeak",
          "oldpeak",
          "oldpeak",
          "oldpeak",
          "oldpeak",
          "oldpeak",
          "oldpeak",
          "oldpeak",
          "oldpeak",
          "oldpeak",
          "oldpeak",
          "oldpeak",
          "oldpeak",
          "oldpeak",
          "oldpeak",
          "oldpeak",
          "oldpeak",
          "oldpeak",
          "oldpeak",
          "oldpeak",
          "oldpeak",
          "oldpeak",
          "oldpeak",
          "oldpeak",
          "oldpeak",
          "oldpeak",
          "oldpeak",
          "oldpeak",
          "oldpeak",
          "oldpeak",
          "oldpeak",
          "oldpeak",
          "oldpeak",
          "oldpeak",
          "oldpeak",
          "oldpeak",
          "oldpeak",
          "oldpeak",
          "oldpeak",
          "oldpeak",
          "oldpeak",
          "oldpeak",
          "oldpeak",
          "oldpeak",
          "oldpeak",
          "oldpeak",
          "oldpeak",
          "oldpeak",
          "oldpeak",
          "oldpeak",
          "oldpeak",
          "oldpeak",
          "oldpeak",
          "oldpeak",
          "oldpeak",
          "oldpeak",
          "oldpeak",
          "oldpeak",
          "oldpeak",
          "oldpeak",
          "oldpeak",
          "oldpeak",
          "oldpeak",
          "oldpeak",
          "oldpeak",
          "oldpeak",
          "oldpeak",
          "oldpeak",
          "oldpeak",
          "oldpeak",
          "oldpeak",
          "oldpeak",
          "oldpeak",
          "oldpeak",
          "oldpeak",
          "oldpeak",
          "oldpeak",
          "oldpeak",
          "oldpeak",
          "oldpeak",
          "oldpeak",
          "oldpeak",
          "oldpeak",
          "oldpeak",
          "oldpeak",
          "oldpeak",
          "oldpeak",
          "oldpeak",
          "oldpeak",
          "oldpeak",
          "oldpeak",
          "oldpeak",
          "oldpeak",
          "oldpeak",
          "oldpeak",
          "oldpeak",
          "oldpeak",
          "oldpeak",
          "oldpeak",
          "oldpeak",
          "oldpeak",
          "oldpeak",
          "oldpeak",
          "oldpeak",
          "oldpeak",
          "oldpeak",
          "oldpeak",
          "oldpeak",
          "oldpeak",
          "oldpeak",
          "oldpeak",
          "oldpeak",
          "oldpeak",
          "oldpeak",
          "oldpeak",
          "oldpeak",
          "oldpeak",
          "oldpeak",
          "oldpeak",
          "oldpeak",
          "oldpeak",
          "oldpeak",
          "oldpeak",
          "oldpeak",
          "oldpeak",
          "oldpeak",
          "oldpeak",
          "oldpeak",
          "oldpeak",
          "oldpeak",
          "oldpeak",
          "oldpeak",
          "oldpeak",
          "oldpeak",
          "oldpeak",
          "oldpeak",
          "oldpeak",
          "oldpeak",
          "oldpeak",
          "oldpeak",
          "oldpeak",
          "oldpeak",
          "oldpeak",
          "oldpeak",
          "oldpeak",
          "oldpeak",
          "oldpeak",
          "oldpeak",
          "oldpeak",
          "oldpeak",
          "oldpeak",
          "oldpeak",
          "oldpeak",
          "oldpeak",
          "oldpeak",
          "oldpeak",
          "oldpeak",
          "oldpeak",
          "oldpeak",
          "oldpeak",
          "oldpeak",
          "oldpeak",
          "oldpeak",
          "oldpeak",
          "oldpeak",
          "oldpeak",
          "oldpeak",
          "oldpeak",
          "oldpeak",
          "oldpeak",
          "oldpeak",
          "oldpeak",
          "oldpeak",
          "oldpeak",
          "oldpeak",
          "oldpeak",
          "oldpeak",
          "oldpeak",
          "oldpeak",
          "oldpeak",
          "oldpeak",
          "oldpeak",
          "oldpeak",
          "oldpeak",
          "oldpeak",
          "oldpeak",
          "oldpeak",
          "oldpeak",
          "oldpeak",
          "oldpeak",
          "oldpeak",
          "oldpeak",
          "oldpeak",
          "oldpeak",
          "oldpeak",
          "oldpeak",
          "oldpeak",
          "oldpeak",
          "oldpeak",
          "oldpeak",
          "oldpeak",
          "oldpeak",
          "oldpeak",
          "oldpeak",
          "oldpeak",
          "oldpeak",
          "oldpeak",
          "oldpeak",
          "oldpeak",
          "oldpeak",
          "oldpeak",
          "oldpeak",
          "oldpeak",
          "oldpeak",
          "oldpeak",
          "oldpeak",
          "oldpeak",
          "oldpeak",
          "oldpeak",
          "oldpeak",
          "oldpeak",
          "oldpeak",
          "oldpeak",
          "oldpeak",
          "oldpeak",
          "oldpeak",
          "oldpeak",
          "oldpeak",
          "oldpeak",
          "oldpeak",
          "oldpeak",
          "oldpeak",
          "oldpeak",
          "oldpeak",
          "oldpeak",
          "oldpeak",
          "oldpeak",
          "oldpeak",
          "oldpeak",
          "oldpeak",
          "oldpeak",
          "oldpeak",
          "oldpeak",
          "oldpeak",
          "oldpeak",
          "oldpeak",
          "oldpeak",
          "oldpeak",
          "oldpeak",
          "oldpeak",
          "oldpeak",
          "oldpeak",
          "oldpeak",
          "oldpeak",
          "oldpeak",
          "oldpeak",
          "oldpeak",
          "oldpeak",
          "oldpeak",
          "oldpeak",
          "oldpeak",
          "oldpeak",
          "oldpeak",
          "oldpeak",
          "oldpeak",
          "oldpeak",
          "oldpeak",
          "oldpeak",
          "oldpeak",
          "oldpeak",
          "oldpeak",
          "oldpeak",
          "oldpeak",
          "oldpeak",
          "oldpeak",
          "oldpeak",
          "oldpeak",
          "oldpeak",
          "oldpeak",
          "oldpeak",
          "oldpeak",
          "oldpeak",
          "oldpeak",
          "oldpeak",
          "oldpeak",
          "oldpeak",
          "oldpeak",
          "oldpeak",
          "oldpeak",
          "oldpeak",
          "oldpeak",
          "oldpeak",
          "oldpeak",
          "oldpeak",
          "oldpeak",
          "oldpeak",
          "oldpeak",
          "oldpeak",
          "oldpeak",
          "oldpeak",
          "oldpeak",
          "oldpeak",
          "oldpeak",
          "oldpeak",
          "oldpeak",
          "oldpeak",
          "oldpeak",
          "oldpeak",
          "oldpeak",
          "oldpeak",
          "oldpeak",
          "oldpeak",
          "oldpeak",
          "oldpeak",
          "oldpeak",
          "oldpeak",
          "oldpeak",
          "oldpeak",
          "oldpeak",
          "oldpeak",
          "oldpeak",
          "oldpeak",
          "oldpeak",
          "oldpeak",
          "oldpeak",
          "oldpeak",
          "oldpeak",
          "oldpeak",
          "oldpeak",
          "oldpeak",
          "oldpeak",
          "oldpeak",
          "oldpeak",
          "oldpeak",
          "oldpeak",
          "oldpeak",
          "oldpeak",
          "oldpeak",
          "oldpeak",
          "oldpeak",
          "oldpeak",
          "oldpeak",
          "oldpeak",
          "oldpeak",
          "oldpeak",
          "oldpeak",
          "oldpeak",
          "oldpeak",
          "oldpeak",
          "oldpeak",
          "oldpeak",
          "oldpeak",
          "oldpeak",
          "oldpeak",
          "oldpeak",
          "oldpeak",
          "oldpeak",
          "oldpeak",
          "oldpeak",
          "oldpeak",
          "oldpeak",
          "oldpeak",
          "oldpeak",
          "oldpeak",
          "oldpeak",
          "oldpeak",
          "oldpeak",
          "oldpeak",
          "oldpeak",
          "oldpeak",
          "oldpeak",
          "oldpeak",
          "oldpeak",
          "oldpeak",
          "oldpeak",
          "oldpeak",
          "oldpeak",
          "oldpeak",
          "oldpeak",
          "oldpeak",
          "oldpeak",
          "oldpeak",
          "oldpeak",
          "oldpeak"
         ],
         "x0": " ",
         "xaxis": "x",
         "y": {
          "bdata": "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",
          "dtype": "f8"
         },
         "y0": " ",
         "yaxis": "y"
        }
       ],
       "layout": {
        "boxmode": "group",
        "legend": {
         "tracegroupgap": 0
        },
        "template": {
         "data": {
          "bar": [
           {
            "error_x": {
             "color": "#2a3f5f"
            },
            "error_y": {
             "color": "#2a3f5f"
            },
            "marker": {
             "line": {
              "color": "#E5ECF6",
              "width": 0.5
             },
             "pattern": {
              "fillmode": "overlay",
              "size": 10,
              "solidity": 0.2
             }
            },
            "type": "bar"
           }
          ],
          "barpolar": [
           {
            "marker": {
             "line": {
              "color": "#E5ECF6",
              "width": 0.5
             },
             "pattern": {
              "fillmode": "overlay",
              "size": 10,
              "solidity": 0.2
             }
            },
            "type": "barpolar"
           }
          ],
          "carpet": [
           {
            "aaxis": {
             "endlinecolor": "#2a3f5f",
             "gridcolor": "white",
             "linecolor": "white",
             "minorgridcolor": "white",
             "startlinecolor": "#2a3f5f"
            },
            "baxis": {
             "endlinecolor": "#2a3f5f",
             "gridcolor": "white",
             "linecolor": "white",
             "minorgridcolor": "white",
             "startlinecolor": "#2a3f5f"
            },
            "type": "carpet"
           }
          ],
          "choropleth": [
           {
            "colorbar": {
             "outlinewidth": 0,
             "ticks": ""
            },
            "type": "choropleth"
           }
          ],
          "contour": [
           {
            "colorbar": {
             "outlinewidth": 0,
             "ticks": ""
            },
            "colorscale": [
             [
              0,
              "#0d0887"
             ],
             [
              0.1111111111111111,
              "#46039f"
             ],
             [
              0.2222222222222222,
              "#7201a8"
             ],
             [
              0.3333333333333333,
              "#9c179e"
             ],
             [
              0.4444444444444444,
              "#bd3786"
             ],
             [
              0.5555555555555556,
              "#d8576b"
             ],
             [
              0.6666666666666666,
              "#ed7953"
             ],
             [
              0.7777777777777778,
              "#fb9f3a"
             ],
             [
              0.8888888888888888,
              "#fdca26"
             ],
             [
              1,
              "#f0f921"
             ]
            ],
            "type": "contour"
           }
          ],
          "contourcarpet": [
           {
            "colorbar": {
             "outlinewidth": 0,
             "ticks": ""
            },
            "type": "contourcarpet"
           }
          ],
          "heatmap": [
           {
            "colorbar": {
             "outlinewidth": 0,
             "ticks": ""
            },
            "colorscale": [
             [
              0,
              "#0d0887"
             ],
             [
              0.1111111111111111,
              "#46039f"
             ],
             [
              0.2222222222222222,
              "#7201a8"
             ],
             [
              0.3333333333333333,
              "#9c179e"
             ],
             [
              0.4444444444444444,
              "#bd3786"
             ],
             [
              0.5555555555555556,
              "#d8576b"
             ],
             [
              0.6666666666666666,
              "#ed7953"
             ],
             [
              0.7777777777777778,
              "#fb9f3a"
             ],
             [
              0.8888888888888888,
              "#fdca26"
             ],
             [
              1,
              "#f0f921"
             ]
            ],
            "type": "heatmap"
           }
          ],
          "histogram": [
           {
            "marker": {
             "pattern": {
              "fillmode": "overlay",
              "size": 10,
              "solidity": 0.2
             }
            },
            "type": "histogram"
           }
          ],
          "histogram2d": [
           {
            "colorbar": {
             "outlinewidth": 0,
             "ticks": ""
            },
            "colorscale": [
             [
              0,
              "#0d0887"
             ],
             [
              0.1111111111111111,
              "#46039f"
             ],
             [
              0.2222222222222222,
              "#7201a8"
             ],
             [
              0.3333333333333333,
              "#9c179e"
             ],
             [
              0.4444444444444444,
              "#bd3786"
             ],
             [
              0.5555555555555556,
              "#d8576b"
             ],
             [
              0.6666666666666666,
              "#ed7953"
             ],
             [
              0.7777777777777778,
              "#fb9f3a"
             ],
             [
              0.8888888888888888,
              "#fdca26"
             ],
             [
              1,
              "#f0f921"
             ]
            ],
            "type": "histogram2d"
           }
          ],
          "histogram2dcontour": [
           {
            "colorbar": {
             "outlinewidth": 0,
             "ticks": ""
            },
            "colorscale": [
             [
              0,
              "#0d0887"
             ],
             [
              0.1111111111111111,
              "#46039f"
             ],
             [
              0.2222222222222222,
              "#7201a8"
             ],
             [
              0.3333333333333333,
              "#9c179e"
             ],
             [
              0.4444444444444444,
              "#bd3786"
             ],
             [
              0.5555555555555556,
              "#d8576b"
             ],
             [
              0.6666666666666666,
              "#ed7953"
             ],
             [
              0.7777777777777778,
              "#fb9f3a"
             ],
             [
              0.8888888888888888,
              "#fdca26"
             ],
             [
              1,
              "#f0f921"
             ]
            ],
            "type": "histogram2dcontour"
           }
          ],
          "mesh3d": [
           {
            "colorbar": {
             "outlinewidth": 0,
             "ticks": ""
            },
            "type": "mesh3d"
           }
          ],
          "parcoords": [
           {
            "line": {
             "colorbar": {
              "outlinewidth": 0,
              "ticks": ""
             }
            },
            "type": "parcoords"
           }
          ],
          "pie": [
           {
            "automargin": true,
            "type": "pie"
           }
          ],
          "scatter": [
           {
            "fillpattern": {
             "fillmode": "overlay",
             "size": 10,
             "solidity": 0.2
            },
            "type": "scatter"
           }
          ],
          "scatter3d": [
           {
            "line": {
             "colorbar": {
              "outlinewidth": 0,
              "ticks": ""
             }
            },
            "marker": {
             "colorbar": {
              "outlinewidth": 0,
              "ticks": ""
             }
            },
            "type": "scatter3d"
           }
          ],
          "scattercarpet": [
           {
            "marker": {
             "colorbar": {
              "outlinewidth": 0,
              "ticks": ""
             }
            },
            "type": "scattercarpet"
           }
          ],
          "scattergeo": [
           {
            "marker": {
             "colorbar": {
              "outlinewidth": 0,
              "ticks": ""
             }
            },
            "type": "scattergeo"
           }
          ],
          "scattergl": [
           {
            "marker": {
             "colorbar": {
              "outlinewidth": 0,
              "ticks": ""
             }
            },
            "type": "scattergl"
           }
          ],
          "scattermap": [
           {
            "marker": {
             "colorbar": {
              "outlinewidth": 0,
              "ticks": ""
             }
            },
            "type": "scattermap"
           }
          ],
          "scattermapbox": [
           {
            "marker": {
             "colorbar": {
              "outlinewidth": 0,
              "ticks": ""
             }
            },
            "type": "scattermapbox"
           }
          ],
          "scatterpolar": [
           {
            "marker": {
             "colorbar": {
              "outlinewidth": 0,
              "ticks": ""
             }
            },
            "type": "scatterpolar"
           }
          ],
          "scatterpolargl": [
           {
            "marker": {
             "colorbar": {
              "outlinewidth": 0,
              "ticks": ""
             }
            },
            "type": "scatterpolargl"
           }
          ],
          "scatterternary": [
           {
            "marker": {
             "colorbar": {
              "outlinewidth": 0,
              "ticks": ""
             }
            },
            "type": "scatterternary"
           }
          ],
          "surface": [
           {
            "colorbar": {
             "outlinewidth": 0,
             "ticks": ""
            },
            "colorscale": [
             [
              0,
              "#0d0887"
             ],
             [
              0.1111111111111111,
              "#46039f"
             ],
             [
              0.2222222222222222,
              "#7201a8"
             ],
             [
              0.3333333333333333,
              "#9c179e"
             ],
             [
              0.4444444444444444,
              "#bd3786"
             ],
             [
              0.5555555555555556,
              "#d8576b"
             ],
             [
              0.6666666666666666,
              "#ed7953"
             ],
             [
              0.7777777777777778,
              "#fb9f3a"
             ],
             [
              0.8888888888888888,
              "#fdca26"
             ],
             [
              1,
              "#f0f921"
             ]
            ],
            "type": "surface"
           }
          ],
          "table": [
           {
            "cells": {
             "fill": {
              "color": "#EBF0F8"
             },
             "line": {
              "color": "white"
             }
            },
            "header": {
             "fill": {
              "color": "#C8D4E3"
             },
             "line": {
              "color": "white"
             }
            },
            "type": "table"
           }
          ]
         },
         "layout": {
          "annotationdefaults": {
           "arrowcolor": "#2a3f5f",
           "arrowhead": 0,
           "arrowwidth": 1
          },
          "autotypenumbers": "strict",
          "coloraxis": {
           "colorbar": {
            "outlinewidth": 0,
            "ticks": ""
           }
          },
          "colorscale": {
           "diverging": [
            [
             0,
             "#8e0152"
            ],
            [
             0.1,
             "#c51b7d"
            ],
            [
             0.2,
             "#de77ae"
            ],
            [
             0.3,
             "#f1b6da"
            ],
            [
             0.4,
             "#fde0ef"
            ],
            [
             0.5,
             "#f7f7f7"
            ],
            [
             0.6,
             "#e6f5d0"
            ],
            [
             0.7,
             "#b8e186"
            ],
            [
             0.8,
             "#7fbc41"
            ],
            [
             0.9,
             "#4d9221"
            ],
            [
             1,
             "#276419"
            ]
           ],
           "sequential": [
            [
             0,
             "#0d0887"
            ],
            [
             0.1111111111111111,
             "#46039f"
            ],
            [
             0.2222222222222222,
             "#7201a8"
            ],
            [
             0.3333333333333333,
             "#9c179e"
            ],
            [
             0.4444444444444444,
             "#bd3786"
            ],
            [
             0.5555555555555556,
             "#d8576b"
            ],
            [
             0.6666666666666666,
             "#ed7953"
            ],
            [
             0.7777777777777778,
             "#fb9f3a"
            ],
            [
             0.8888888888888888,
             "#fdca26"
            ],
            [
             1,
             "#f0f921"
            ]
           ],
           "sequentialminus": [
            [
             0,
             "#0d0887"
            ],
            [
             0.1111111111111111,
             "#46039f"
            ],
            [
             0.2222222222222222,
             "#7201a8"
            ],
            [
             0.3333333333333333,
             "#9c179e"
            ],
            [
             0.4444444444444444,
             "#bd3786"
            ],
            [
             0.5555555555555556,
             "#d8576b"
            ],
            [
             0.6666666666666666,
             "#ed7953"
            ],
            [
             0.7777777777777778,
             "#fb9f3a"
            ],
            [
             0.8888888888888888,
             "#fdca26"
            ],
            [
             1,
             "#f0f921"
            ]
           ]
          },
          "colorway": [
           "#636efa",
           "#EF553B",
           "#00cc96",
           "#ab63fa",
           "#FFA15A",
           "#19d3f3",
           "#FF6692",
           "#B6E880",
           "#FF97FF",
           "#FECB52"
          ],
          "font": {
           "color": "#2a3f5f"
          },
          "geo": {
           "bgcolor": "white",
           "lakecolor": "white",
           "landcolor": "#E5ECF6",
           "showlakes": true,
           "showland": true,
           "subunitcolor": "white"
          },
          "hoverlabel": {
           "align": "left"
          },
          "hovermode": "closest",
          "mapbox": {
           "style": "light"
          },
          "paper_bgcolor": "white",
          "plot_bgcolor": "#E5ECF6",
          "polar": {
           "angularaxis": {
            "gridcolor": "white",
            "linecolor": "white",
            "ticks": ""
           },
           "bgcolor": "#E5ECF6",
           "radialaxis": {
            "gridcolor": "white",
            "linecolor": "white",
            "ticks": ""
           }
          },
          "scene": {
           "xaxis": {
            "backgroundcolor": "#E5ECF6",
            "gridcolor": "white",
            "gridwidth": 2,
            "linecolor": "white",
            "showbackground": true,
            "ticks": "",
            "zerolinecolor": "white"
           },
           "yaxis": {
            "backgroundcolor": "#E5ECF6",
            "gridcolor": "white",
            "gridwidth": 2,
            "linecolor": "white",
            "showbackground": true,
            "ticks": "",
            "zerolinecolor": "white"
           },
           "zaxis": {
            "backgroundcolor": "#E5ECF6",
            "gridcolor": "white",
            "gridwidth": 2,
            "linecolor": "white",
            "showbackground": true,
            "ticks": "",
            "zerolinecolor": "white"
           }
          },
          "shapedefaults": {
           "line": {
            "color": "#2a3f5f"
           }
          },
          "ternary": {
           "aaxis": {
            "gridcolor": "white",
            "linecolor": "white",
            "ticks": ""
           },
           "baxis": {
            "gridcolor": "white",
            "linecolor": "white",
            "ticks": ""
           },
           "bgcolor": "#E5ECF6",
           "caxis": {
            "gridcolor": "white",
            "linecolor": "white",
            "ticks": ""
           }
          },
          "title": {
           "x": 0.05
          },
          "xaxis": {
           "automargin": true,
           "gridcolor": "white",
           "linecolor": "white",
           "ticks": "",
           "title": {
            "standoff": 15
           },
           "zerolinecolor": "white",
           "zerolinewidth": 2
          },
          "yaxis": {
           "automargin": true,
           "gridcolor": "white",
           "linecolor": "white",
           "ticks": "",
           "title": {
            "standoff": 15
           },
           "zerolinecolor": "white",
           "zerolinewidth": 2
          }
         }
        },
        "title": {
         "text": "Box Plot of Continuous Variables After MICE and KNN Imputation"
        },
        "xaxis": {
         "anchor": "y",
         "domain": [
          0,
          1
         ],
         "title": {
          "text": "Continuous Variable"
         }
        },
        "yaxis": {
         "anchor": "x",
         "domain": [
          0,
          1
         ],
         "range": [
          -25,
          null
         ],
         "title": {
          "text": "Value"
         }
        }
       }
      }
     },
     "metadata": {},
     "output_type": "display_data"
    }
   ],
   "source": [
    "plot_df = df_clean[[\"age\"]+continuous_cols].melt(var_name=\"variable\", value_name=\"value\")\n",
    "\n",
    "fig_box = px.box(plot_df, x=\"variable\", y=\"value\", \n",
    "                 title=\"Box Plot of Continuous Variables After MICE Imputation\")\n",
    "\n",
    "fig_box.update_layout(xaxis_title=\"Continuous Variable\", yaxis_title=\"Value\",\n",
    "                      yaxis=dict(range=[-25, None]))\n",
    "\n",
    "fig_box.show()"
   ]
  },
  {
   "cell_type": "markdown",
   "id": "4b94eb56",
   "metadata": {},
   "source": [
    "## Visualizations"
   ]
  },
  {
   "cell_type": "code",
   "execution_count": 36,
   "id": "e3f99b24",
   "metadata": {},
   "outputs": [
    {
     "data": {
      "application/vnd.plotly.v1+json": {
       "config": {
        "plotlyServerURL": "https://plot.ly"
       },
       "data": [
        {
         "hovertemplate": "Stage: %{x}<br>Source: Cleveland<br>Count: %{y}<extra></extra>",
         "name": "Cleveland",
         "type": "bar",
         "x": [
          "0",
          "1",
          "2",
          "3",
          "4"
         ],
         "y": {
          "bdata": "owA3ACQAIwANAA==",
          "dtype": "i2"
         }
        },
        {
         "hovertemplate": "Stage: %{x}<br>Source: Hungary<br>Count: %{y}<extra></extra>",
         "name": "Hungary",
         "type": "bar",
         "x": [
          "0",
          "1",
          "2",
          "3",
          "4"
         ],
         "y": {
          "bdata": "ugAlABoAHAAPAA==",
          "dtype": "i2"
         }
        },
        {
         "hovertemplate": "Stage: %{x}<br>Source: Long Beach<br>Count: %{y}<extra></extra>",
         "name": "Long Beach",
         "type": "bar",
         "x": [
          "0",
          "1",
          "2",
          "3",
          "4"
         ],
         "y": {
          "bdata": "MzgnKgo=",
          "dtype": "i1"
         }
        },
        {
         "hovertemplate": "Stage: %{x}<br>Source: Switzerland<br>Count: %{y}<extra></extra>",
         "name": "Switzerland",
         "type": "bar",
         "x": [
          "0",
          "1",
          "2",
          "3",
          "4"
         ],
         "y": {
          "bdata": "CC8gHgU=",
          "dtype": "i1"
         }
        }
       ],
       "layout": {
        "legend": {
         "title": {
          "text": "Location"
         }
        },
        "template": {
         "data": {
          "bar": [
           {
            "error_x": {
             "color": "#2a3f5f"
            },
            "error_y": {
             "color": "#2a3f5f"
            },
            "marker": {
             "line": {
              "color": "#E5ECF6",
              "width": 0.5
             },
             "pattern": {
              "fillmode": "overlay",
              "size": 10,
              "solidity": 0.2
             }
            },
            "type": "bar"
           }
          ],
          "barpolar": [
           {
            "marker": {
             "line": {
              "color": "#E5ECF6",
              "width": 0.5
             },
             "pattern": {
              "fillmode": "overlay",
              "size": 10,
              "solidity": 0.2
             }
            },
            "type": "barpolar"
           }
          ],
          "carpet": [
           {
            "aaxis": {
             "endlinecolor": "#2a3f5f",
             "gridcolor": "white",
             "linecolor": "white",
             "minorgridcolor": "white",
             "startlinecolor": "#2a3f5f"
            },
            "baxis": {
             "endlinecolor": "#2a3f5f",
             "gridcolor": "white",
             "linecolor": "white",
             "minorgridcolor": "white",
             "startlinecolor": "#2a3f5f"
            },
            "type": "carpet"
           }
          ],
          "choropleth": [
           {
            "colorbar": {
             "outlinewidth": 0,
             "ticks": ""
            },
            "type": "choropleth"
           }
          ],
          "contour": [
           {
            "colorbar": {
             "outlinewidth": 0,
             "ticks": ""
            },
            "colorscale": [
             [
              0,
              "#0d0887"
             ],
             [
              0.1111111111111111,
              "#46039f"
             ],
             [
              0.2222222222222222,
              "#7201a8"
             ],
             [
              0.3333333333333333,
              "#9c179e"
             ],
             [
              0.4444444444444444,
              "#bd3786"
             ],
             [
              0.5555555555555556,
              "#d8576b"
             ],
             [
              0.6666666666666666,
              "#ed7953"
             ],
             [
              0.7777777777777778,
              "#fb9f3a"
             ],
             [
              0.8888888888888888,
              "#fdca26"
             ],
             [
              1,
              "#f0f921"
             ]
            ],
            "type": "contour"
           }
          ],
          "contourcarpet": [
           {
            "colorbar": {
             "outlinewidth": 0,
             "ticks": ""
            },
            "type": "contourcarpet"
           }
          ],
          "heatmap": [
           {
            "colorbar": {
             "outlinewidth": 0,
             "ticks": ""
            },
            "colorscale": [
             [
              0,
              "#0d0887"
             ],
             [
              0.1111111111111111,
              "#46039f"
             ],
             [
              0.2222222222222222,
              "#7201a8"
             ],
             [
              0.3333333333333333,
              "#9c179e"
             ],
             [
              0.4444444444444444,
              "#bd3786"
             ],
             [
              0.5555555555555556,
              "#d8576b"
             ],
             [
              0.6666666666666666,
              "#ed7953"
             ],
             [
              0.7777777777777778,
              "#fb9f3a"
             ],
             [
              0.8888888888888888,
              "#fdca26"
             ],
             [
              1,
              "#f0f921"
             ]
            ],
            "type": "heatmap"
           }
          ],
          "histogram": [
           {
            "marker": {
             "pattern": {
              "fillmode": "overlay",
              "size": 10,
              "solidity": 0.2
             }
            },
            "type": "histogram"
           }
          ],
          "histogram2d": [
           {
            "colorbar": {
             "outlinewidth": 0,
             "ticks": ""
            },
            "colorscale": [
             [
              0,
              "#0d0887"
             ],
             [
              0.1111111111111111,
              "#46039f"
             ],
             [
              0.2222222222222222,
              "#7201a8"
             ],
             [
              0.3333333333333333,
              "#9c179e"
             ],
             [
              0.4444444444444444,
              "#bd3786"
             ],
             [
              0.5555555555555556,
              "#d8576b"
             ],
             [
              0.6666666666666666,
              "#ed7953"
             ],
             [
              0.7777777777777778,
              "#fb9f3a"
             ],
             [
              0.8888888888888888,
              "#fdca26"
             ],
             [
              1,
              "#f0f921"
             ]
            ],
            "type": "histogram2d"
           }
          ],
          "histogram2dcontour": [
           {
            "colorbar": {
             "outlinewidth": 0,
             "ticks": ""
            },
            "colorscale": [
             [
              0,
              "#0d0887"
             ],
             [
              0.1111111111111111,
              "#46039f"
             ],
             [
              0.2222222222222222,
              "#7201a8"
             ],
             [
              0.3333333333333333,
              "#9c179e"
             ],
             [
              0.4444444444444444,
              "#bd3786"
             ],
             [
              0.5555555555555556,
              "#d8576b"
             ],
             [
              0.6666666666666666,
              "#ed7953"
             ],
             [
              0.7777777777777778,
              "#fb9f3a"
             ],
             [
              0.8888888888888888,
              "#fdca26"
             ],
             [
              1,
              "#f0f921"
             ]
            ],
            "type": "histogram2dcontour"
           }
          ],
          "mesh3d": [
           {
            "colorbar": {
             "outlinewidth": 0,
             "ticks": ""
            },
            "type": "mesh3d"
           }
          ],
          "parcoords": [
           {
            "line": {
             "colorbar": {
              "outlinewidth": 0,
              "ticks": ""
             }
            },
            "type": "parcoords"
           }
          ],
          "pie": [
           {
            "automargin": true,
            "type": "pie"
           }
          ],
          "scatter": [
           {
            "fillpattern": {
             "fillmode": "overlay",
             "size": 10,
             "solidity": 0.2
            },
            "type": "scatter"
           }
          ],
          "scatter3d": [
           {
            "line": {
             "colorbar": {
              "outlinewidth": 0,
              "ticks": ""
             }
            },
            "marker": {
             "colorbar": {
              "outlinewidth": 0,
              "ticks": ""
             }
            },
            "type": "scatter3d"
           }
          ],
          "scattercarpet": [
           {
            "marker": {
             "colorbar": {
              "outlinewidth": 0,
              "ticks": ""
             }
            },
            "type": "scattercarpet"
           }
          ],
          "scattergeo": [
           {
            "marker": {
             "colorbar": {
              "outlinewidth": 0,
              "ticks": ""
             }
            },
            "type": "scattergeo"
           }
          ],
          "scattergl": [
           {
            "marker": {
             "colorbar": {
              "outlinewidth": 0,
              "ticks": ""
             }
            },
            "type": "scattergl"
           }
          ],
          "scattermap": [
           {
            "marker": {
             "colorbar": {
              "outlinewidth": 0,
              "ticks": ""
             }
            },
            "type": "scattermap"
           }
          ],
          "scattermapbox": [
           {
            "marker": {
             "colorbar": {
              "outlinewidth": 0,
              "ticks": ""
             }
            },
            "type": "scattermapbox"
           }
          ],
          "scatterpolar": [
           {
            "marker": {
             "colorbar": {
              "outlinewidth": 0,
              "ticks": ""
             }
            },
            "type": "scatterpolar"
           }
          ],
          "scatterpolargl": [
           {
            "marker": {
             "colorbar": {
              "outlinewidth": 0,
              "ticks": ""
             }
            },
            "type": "scatterpolargl"
           }
          ],
          "scatterternary": [
           {
            "marker": {
             "colorbar": {
              "outlinewidth": 0,
              "ticks": ""
             }
            },
            "type": "scatterternary"
           }
          ],
          "surface": [
           {
            "colorbar": {
             "outlinewidth": 0,
             "ticks": ""
            },
            "colorscale": [
             [
              0,
              "#0d0887"
             ],
             [
              0.1111111111111111,
              "#46039f"
             ],
             [
              0.2222222222222222,
              "#7201a8"
             ],
             [
              0.3333333333333333,
              "#9c179e"
             ],
             [
              0.4444444444444444,
              "#bd3786"
             ],
             [
              0.5555555555555556,
              "#d8576b"
             ],
             [
              0.6666666666666666,
              "#ed7953"
             ],
             [
              0.7777777777777778,
              "#fb9f3a"
             ],
             [
              0.8888888888888888,
              "#fdca26"
             ],
             [
              1,
              "#f0f921"
             ]
            ],
            "type": "surface"
           }
          ],
          "table": [
           {
            "cells": {
             "fill": {
              "color": "#EBF0F8"
             },
             "line": {
              "color": "white"
             }
            },
            "header": {
             "fill": {
              "color": "#C8D4E3"
             },
             "line": {
              "color": "white"
             }
            },
            "type": "table"
           }
          ]
         },
         "layout": {
          "annotationdefaults": {
           "arrowcolor": "#2a3f5f",
           "arrowhead": 0,
           "arrowwidth": 1
          },
          "autotypenumbers": "strict",
          "coloraxis": {
           "colorbar": {
            "outlinewidth": 0,
            "ticks": ""
           }
          },
          "colorscale": {
           "diverging": [
            [
             0,
             "#8e0152"
            ],
            [
             0.1,
             "#c51b7d"
            ],
            [
             0.2,
             "#de77ae"
            ],
            [
             0.3,
             "#f1b6da"
            ],
            [
             0.4,
             "#fde0ef"
            ],
            [
             0.5,
             "#f7f7f7"
            ],
            [
             0.6,
             "#e6f5d0"
            ],
            [
             0.7,
             "#b8e186"
            ],
            [
             0.8,
             "#7fbc41"
            ],
            [
             0.9,
             "#4d9221"
            ],
            [
             1,
             "#276419"
            ]
           ],
           "sequential": [
            [
             0,
             "#0d0887"
            ],
            [
             0.1111111111111111,
             "#46039f"
            ],
            [
             0.2222222222222222,
             "#7201a8"
            ],
            [
             0.3333333333333333,
             "#9c179e"
            ],
            [
             0.4444444444444444,
             "#bd3786"
            ],
            [
             0.5555555555555556,
             "#d8576b"
            ],
            [
             0.6666666666666666,
             "#ed7953"
            ],
            [
             0.7777777777777778,
             "#fb9f3a"
            ],
            [
             0.8888888888888888,
             "#fdca26"
            ],
            [
             1,
             "#f0f921"
            ]
           ],
           "sequentialminus": [
            [
             0,
             "#0d0887"
            ],
            [
             0.1111111111111111,
             "#46039f"
            ],
            [
             0.2222222222222222,
             "#7201a8"
            ],
            [
             0.3333333333333333,
             "#9c179e"
            ],
            [
             0.4444444444444444,
             "#bd3786"
            ],
            [
             0.5555555555555556,
             "#d8576b"
            ],
            [
             0.6666666666666666,
             "#ed7953"
            ],
            [
             0.7777777777777778,
             "#fb9f3a"
            ],
            [
             0.8888888888888888,
             "#fdca26"
            ],
            [
             1,
             "#f0f921"
            ]
           ]
          },
          "colorway": [
           "#636efa",
           "#EF553B",
           "#00cc96",
           "#ab63fa",
           "#FFA15A",
           "#19d3f3",
           "#FF6692",
           "#B6E880",
           "#FF97FF",
           "#FECB52"
          ],
          "font": {
           "color": "#2a3f5f"
          },
          "geo": {
           "bgcolor": "white",
           "lakecolor": "white",
           "landcolor": "#E5ECF6",
           "showlakes": true,
           "showland": true,
           "subunitcolor": "white"
          },
          "hoverlabel": {
           "align": "left"
          },
          "hovermode": "closest",
          "mapbox": {
           "style": "light"
          },
          "paper_bgcolor": "white",
          "plot_bgcolor": "#E5ECF6",
          "polar": {
           "angularaxis": {
            "gridcolor": "white",
            "linecolor": "white",
            "ticks": ""
           },
           "bgcolor": "#E5ECF6",
           "radialaxis": {
            "gridcolor": "white",
            "linecolor": "white",
            "ticks": ""
           }
          },
          "scene": {
           "xaxis": {
            "backgroundcolor": "#E5ECF6",
            "gridcolor": "white",
            "gridwidth": 2,
            "linecolor": "white",
            "showbackground": true,
            "ticks": "",
            "zerolinecolor": "white"
           },
           "yaxis": {
            "backgroundcolor": "#E5ECF6",
            "gridcolor": "white",
            "gridwidth": 2,
            "linecolor": "white",
            "showbackground": true,
            "ticks": "",
            "zerolinecolor": "white"
           },
           "zaxis": {
            "backgroundcolor": "#E5ECF6",
            "gridcolor": "white",
            "gridwidth": 2,
            "linecolor": "white",
            "showbackground": true,
            "ticks": "",
            "zerolinecolor": "white"
           }
          },
          "shapedefaults": {
           "line": {
            "color": "#2a3f5f"
           }
          },
          "ternary": {
           "aaxis": {
            "gridcolor": "white",
            "linecolor": "white",
            "ticks": ""
           },
           "baxis": {
            "gridcolor": "white",
            "linecolor": "white",
            "ticks": ""
           },
           "bgcolor": "#E5ECF6",
           "caxis": {
            "gridcolor": "white",
            "linecolor": "white",
            "ticks": ""
           }
          },
          "title": {
           "x": 0.05
          },
          "xaxis": {
           "automargin": true,
           "gridcolor": "white",
           "linecolor": "white",
           "ticks": "",
           "title": {
            "standoff": 15
           },
           "zerolinecolor": "white",
           "zerolinewidth": 2
          },
          "yaxis": {
           "automargin": true,
           "gridcolor": "white",
           "linecolor": "white",
           "ticks": "",
           "title": {
            "standoff": 15
           },
           "zerolinecolor": "white",
           "zerolinewidth": 2
          }
         }
        },
        "title": {
         "text": "Distribution of Heart Disease Stage by Location"
        },
        "xaxis": {
         "title": {
          "text": "Heart Disease Stage"
         }
        },
        "yaxis": {
         "title": {
          "text": "Count"
         }
        }
       }
      }
     },
     "metadata": {},
     "output_type": "display_data"
    }
   ],
   "source": [
    "# Unique num values\n",
    "num_categories = sorted(df_clean[\"num\"].unique())\n",
    "\n",
    "# Count occurrences of each (num, location) pair\n",
    "counts = pd.crosstab(df_clean[\"num\"], df_clean[\"location\"]).reindex(index=num_categories)\n",
    "\n",
    "# Re-assign city names to previously encoded \"location\" variable in \"counts\" DataFrame\n",
    "location_dict = location_encode.to_dict()\n",
    "counts.rename(columns=dict(zip(location_dict[\"location_encoded\"].values(), location_dict[\"location_str\"].values())), \n",
    "              inplace=True)\n",
    "\n",
    "# Build grouped bar chart: x-axis = stages (num), separate bar trace for each source\n",
    "fig_bar_chart = go.Figure()\n",
    "for src_name in counts.columns:\n",
    "    fig_bar_chart.add_trace(go.Bar(\n",
    "        x=[str(i) for i in counts.index],\n",
    "        y=counts[src_name].values,\n",
    "        name=str(src_name),\n",
    "        hovertemplate=\"Stage: %{x}<br>Source: \" + str(src_name) + \"<br>Count: %{y}<extra></extra>\"\n",
    "    ))\n",
    "\n",
    "fig_bar_chart.update_layout(\n",
    "    title=\"Distribution of Heart Disease Stage by Location\",\n",
    "    xaxis_title=\"Heart Disease Stage\",\n",
    "    yaxis_title=\"Count\",\n",
    "    legend_title=\"Location\",\n",
    ")\n",
    "\n",
    "fig_bar_chart.show()"
   ]
  },
  {
   "cell_type": "code",
   "execution_count": 37,
   "id": "7f012193",
   "metadata": {},
   "outputs": [
    {
     "data": {
      "application/vnd.plotly.v1+json": {
       "config": {
        "plotlyServerURL": "https://plot.ly"
       },
       "data": [
        {
         "hovertemplate": "Age=%{x}<br>Max Heart Rate=%{y}<br>Disease Stage=%{marker.color}<extra></extra>",
         "legendgroup": "",
         "marker": {
          "color": {
           "bdata": "AgEAAAADAAIBAAACAAAAAQAAAAAAAQMEAAAAAAMAAgEAAAADAQMABAAAAAEEAAQAAAAAAgABAQEBAAACAAEAAgIBAAIBAAMBAQEAAQAAAwAAAAMAAAAAAAAAAwAAAAECAwAAAAAAAAMAAgECAwEBAAICAAAAAwIDBAADAQADAwAAAAAAAAAABAMBAAABAAEAAQQAAAAAAAAEAwEBAQIAAAQAAAAAAAABAAMAAQAEAQABAAADAgAAAQAAAgECAAMBAgADAAAAAQAAAAAAAwMDAAEABAADAQAAAAAAAAAAAwEAAAADAgACAQAAAwIBAAAAAAACAAICAQMAAAEAAAAAAAAAAQADAAAEAgICAQABAAIAAQAAAAEAAgADAAIEAgAAAAEAAgIBAAMBAQIDAQAAAgEAAAMAAwEAAQEBAQAEAQAAAgEDAAICAgEBAwMDAwMCAwIAAQADAQMABAIBAAIAAQACAAECAgMAAQACAQQCAgMBAQEAAgADAwECAwIBAAICAgQCAwABAQMAAwEAAwABAQABAwEBAAMBAQAAAwADAQEDAgIDAQIDAQABBAECAAABAwEAAwADAwACAAQCBAAAAAEDAwADAQECAgICAgEEAwMDAQMCAAIBAQADAQAABAIDAQEAAQEAAQMCAAAEAwECAQACAAEBAAMAAAAAAQAAAwADAAABAAEBAAAAAwAAAAAAAAMAAQMAAAEAAAAABAAAAwAAAAABAgQAAAAAAQEAAwAAAAEAAAAAAwABAAIAAgACAAABAAABAAIDAwACAAAAAAIAAgAAAAAEAAIBAQAAAAAAAAIAAAABAQEAAQMAAAQAAAAAAAAAAQMDAAEAAAIBBAQEAAMAAAAAAgAAAAAABAIAAwADBAAAAAMEAAAAAAAAAAQEAwAAAAEAAwAAAgABAAMAAAAAAAAAAAIAAAAAAAAAAAEAAQEBAAABAAIAAAACAQAAAAEAAQAAAAAAAAAABAMCAgACAwABAAICAgMEAQAAAwAAAAAAAAACAwEAAwACAAAAAQAAAAMCAAAABAAAAAAAAAAAAAAAAQMBAgEAAQIBAgIBAgMEAgABAQEDAgECAQMDAQIEAwIBAgICAgICAwABAQEEAgACAwEAAQQCAAICAQICAwEBAwIDAgEBBAEBAwIBAQEDAQMDAQMBAQMDAwECAgIBAQMCAQMBAgMDAQMBAQEDAAMBAwIDAQEDAQMAAQE=",
           "dtype": "i1"
          },
          "coloraxis": "coloraxis",
          "symbol": "circle"
         },
         "mode": "markers",
         "name": "",
         "orientation": "v",
         "showlegend": false,
         "type": "scatter",
         "x": {
          "bdata": "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",
          "dtype": "f8"
         },
         "xaxis": "x",
         "y": {
          "bdata": "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",
          "dtype": "f8"
         },
         "yaxis": "y"
        },
        {
         "hovertemplate": "<b>OLS trendline</b><br>thalach = -1.02836 * age + 191.896<br>R<sup>2</sup>=0.144540<br><br>Age=%{x}<br>Max Heart Rate=%{y} <b>(trend)</b><extra></extra>",
         "legendgroup": "",
         "marker": {
          "symbol": "circle"
         },
         "mode": "lines",
         "name": "",
         "showlegend": false,
         "type": "scatter",
         "x": {
          "bdata": "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",
          "dtype": "f8"
         },
         "xaxis": "x",
         "y": {
          "bdata": "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",
          "dtype": "f8"
         },
         "yaxis": "y"
        }
       ],
       "layout": {
        "coloraxis": {
         "colorbar": {
          "title": {
           "text": "Disease Stage"
          }
         },
         "colorscale": [
          [
           0,
           "#30123b"
          ],
          [
           0.07142857142857142,
           "#4145ab"
          ],
          [
           0.14285714285714285,
           "#4675ed"
          ],
          [
           0.21428571428571427,
           "#39a2fc"
          ],
          [
           0.2857142857142857,
           "#1bcfd4"
          ],
          [
           0.35714285714285715,
           "#24eca6"
          ],
          [
           0.42857142857142855,
           "#61fc6c"
          ],
          [
           0.5,
           "#a4fc3b"
          ],
          [
           0.5714285714285714,
           "#d1e834"
          ],
          [
           0.6428571428571429,
           "#f3c63a"
          ],
          [
           0.7142857142857143,
           "#fe9b2d"
          ],
          [
           0.7857142857142857,
           "#f36315"
          ],
          [
           0.8571428571428571,
           "#d93806"
          ],
          [
           0.9285714285714286,
           "#b11901"
          ],
          [
           1,
           "#7a0402"
          ]
         ]
        },
        "legend": {
         "tracegroupgap": 0
        },
        "template": {
         "data": {
          "bar": [
           {
            "error_x": {
             "color": "#2a3f5f"
            },
            "error_y": {
             "color": "#2a3f5f"
            },
            "marker": {
             "line": {
              "color": "#E5ECF6",
              "width": 0.5
             },
             "pattern": {
              "fillmode": "overlay",
              "size": 10,
              "solidity": 0.2
             }
            },
            "type": "bar"
           }
          ],
          "barpolar": [
           {
            "marker": {
             "line": {
              "color": "#E5ECF6",
              "width": 0.5
             },
             "pattern": {
              "fillmode": "overlay",
              "size": 10,
              "solidity": 0.2
             }
            },
            "type": "barpolar"
           }
          ],
          "carpet": [
           {
            "aaxis": {
             "endlinecolor": "#2a3f5f",
             "gridcolor": "white",
             "linecolor": "white",
             "minorgridcolor": "white",
             "startlinecolor": "#2a3f5f"
            },
            "baxis": {
             "endlinecolor": "#2a3f5f",
             "gridcolor": "white",
             "linecolor": "white",
             "minorgridcolor": "white",
             "startlinecolor": "#2a3f5f"
            },
            "type": "carpet"
           }
          ],
          "choropleth": [
           {
            "colorbar": {
             "outlinewidth": 0,
             "ticks": ""
            },
            "type": "choropleth"
           }
          ],
          "contour": [
           {
            "colorbar": {
             "outlinewidth": 0,
             "ticks": ""
            },
            "colorscale": [
             [
              0,
              "#0d0887"
             ],
             [
              0.1111111111111111,
              "#46039f"
             ],
             [
              0.2222222222222222,
              "#7201a8"
             ],
             [
              0.3333333333333333,
              "#9c179e"
             ],
             [
              0.4444444444444444,
              "#bd3786"
             ],
             [
              0.5555555555555556,
              "#d8576b"
             ],
             [
              0.6666666666666666,
              "#ed7953"
             ],
             [
              0.7777777777777778,
              "#fb9f3a"
             ],
             [
              0.8888888888888888,
              "#fdca26"
             ],
             [
              1,
              "#f0f921"
             ]
            ],
            "type": "contour"
           }
          ],
          "contourcarpet": [
           {
            "colorbar": {
             "outlinewidth": 0,
             "ticks": ""
            },
            "type": "contourcarpet"
           }
          ],
          "heatmap": [
           {
            "colorbar": {
             "outlinewidth": 0,
             "ticks": ""
            },
            "colorscale": [
             [
              0,
              "#0d0887"
             ],
             [
              0.1111111111111111,
              "#46039f"
             ],
             [
              0.2222222222222222,
              "#7201a8"
             ],
             [
              0.3333333333333333,
              "#9c179e"
             ],
             [
              0.4444444444444444,
              "#bd3786"
             ],
             [
              0.5555555555555556,
              "#d8576b"
             ],
             [
              0.6666666666666666,
              "#ed7953"
             ],
             [
              0.7777777777777778,
              "#fb9f3a"
             ],
             [
              0.8888888888888888,
              "#fdca26"
             ],
             [
              1,
              "#f0f921"
             ]
            ],
            "type": "heatmap"
           }
          ],
          "histogram": [
           {
            "marker": {
             "pattern": {
              "fillmode": "overlay",
              "size": 10,
              "solidity": 0.2
             }
            },
            "type": "histogram"
           }
          ],
          "histogram2d": [
           {
            "colorbar": {
             "outlinewidth": 0,
             "ticks": ""
            },
            "colorscale": [
             [
              0,
              "#0d0887"
             ],
             [
              0.1111111111111111,
              "#46039f"
             ],
             [
              0.2222222222222222,
              "#7201a8"
             ],
             [
              0.3333333333333333,
              "#9c179e"
             ],
             [
              0.4444444444444444,
              "#bd3786"
             ],
             [
              0.5555555555555556,
              "#d8576b"
             ],
             [
              0.6666666666666666,
              "#ed7953"
             ],
             [
              0.7777777777777778,
              "#fb9f3a"
             ],
             [
              0.8888888888888888,
              "#fdca26"
             ],
             [
              1,
              "#f0f921"
             ]
            ],
            "type": "histogram2d"
           }
          ],
          "histogram2dcontour": [
           {
            "colorbar": {
             "outlinewidth": 0,
             "ticks": ""
            },
            "colorscale": [
             [
              0,
              "#0d0887"
             ],
             [
              0.1111111111111111,
              "#46039f"
             ],
             [
              0.2222222222222222,
              "#7201a8"
             ],
             [
              0.3333333333333333,
              "#9c179e"
             ],
             [
              0.4444444444444444,
              "#bd3786"
             ],
             [
              0.5555555555555556,
              "#d8576b"
             ],
             [
              0.6666666666666666,
              "#ed7953"
             ],
             [
              0.7777777777777778,
              "#fb9f3a"
             ],
             [
              0.8888888888888888,
              "#fdca26"
             ],
             [
              1,
              "#f0f921"
             ]
            ],
            "type": "histogram2dcontour"
           }
          ],
          "mesh3d": [
           {
            "colorbar": {
             "outlinewidth": 0,
             "ticks": ""
            },
            "type": "mesh3d"
           }
          ],
          "parcoords": [
           {
            "line": {
             "colorbar": {
              "outlinewidth": 0,
              "ticks": ""
             }
            },
            "type": "parcoords"
           }
          ],
          "pie": [
           {
            "automargin": true,
            "type": "pie"
           }
          ],
          "scatter": [
           {
            "fillpattern": {
             "fillmode": "overlay",
             "size": 10,
             "solidity": 0.2
            },
            "type": "scatter"
           }
          ],
          "scatter3d": [
           {
            "line": {
             "colorbar": {
              "outlinewidth": 0,
              "ticks": ""
             }
            },
            "marker": {
             "colorbar": {
              "outlinewidth": 0,
              "ticks": ""
             }
            },
            "type": "scatter3d"
           }
          ],
          "scattercarpet": [
           {
            "marker": {
             "colorbar": {
              "outlinewidth": 0,
              "ticks": ""
             }
            },
            "type": "scattercarpet"
           }
          ],
          "scattergeo": [
           {
            "marker": {
             "colorbar": {
              "outlinewidth": 0,
              "ticks": ""
             }
            },
            "type": "scattergeo"
           }
          ],
          "scattergl": [
           {
            "marker": {
             "colorbar": {
              "outlinewidth": 0,
              "ticks": ""
             }
            },
            "type": "scattergl"
           }
          ],
          "scattermap": [
           {
            "marker": {
             "colorbar": {
              "outlinewidth": 0,
              "ticks": ""
             }
            },
            "type": "scattermap"
           }
          ],
          "scattermapbox": [
           {
            "marker": {
             "colorbar": {
              "outlinewidth": 0,
              "ticks": ""
             }
            },
            "type": "scattermapbox"
           }
          ],
          "scatterpolar": [
           {
            "marker": {
             "colorbar": {
              "outlinewidth": 0,
              "ticks": ""
             }
            },
            "type": "scatterpolar"
           }
          ],
          "scatterpolargl": [
           {
            "marker": {
             "colorbar": {
              "outlinewidth": 0,
              "ticks": ""
             }
            },
            "type": "scatterpolargl"
           }
          ],
          "scatterternary": [
           {
            "marker": {
             "colorbar": {
              "outlinewidth": 0,
              "ticks": ""
             }
            },
            "type": "scatterternary"
           }
          ],
          "surface": [
           {
            "colorbar": {
             "outlinewidth": 0,
             "ticks": ""
            },
            "colorscale": [
             [
              0,
              "#0d0887"
             ],
             [
              0.1111111111111111,
              "#46039f"
             ],
             [
              0.2222222222222222,
              "#7201a8"
             ],
             [
              0.3333333333333333,
              "#9c179e"
             ],
             [
              0.4444444444444444,
              "#bd3786"
             ],
             [
              0.5555555555555556,
              "#d8576b"
             ],
             [
              0.6666666666666666,
              "#ed7953"
             ],
             [
              0.7777777777777778,
              "#fb9f3a"
             ],
             [
              0.8888888888888888,
              "#fdca26"
             ],
             [
              1,
              "#f0f921"
             ]
            ],
            "type": "surface"
           }
          ],
          "table": [
           {
            "cells": {
             "fill": {
              "color": "#EBF0F8"
             },
             "line": {
              "color": "white"
             }
            },
            "header": {
             "fill": {
              "color": "#C8D4E3"
             },
             "line": {
              "color": "white"
             }
            },
            "type": "table"
           }
          ]
         },
         "layout": {
          "annotationdefaults": {
           "arrowcolor": "#2a3f5f",
           "arrowhead": 0,
           "arrowwidth": 1
          },
          "autotypenumbers": "strict",
          "coloraxis": {
           "colorbar": {
            "outlinewidth": 0,
            "ticks": ""
           }
          },
          "colorscale": {
           "diverging": [
            [
             0,
             "#8e0152"
            ],
            [
             0.1,
             "#c51b7d"
            ],
            [
             0.2,
             "#de77ae"
            ],
            [
             0.3,
             "#f1b6da"
            ],
            [
             0.4,
             "#fde0ef"
            ],
            [
             0.5,
             "#f7f7f7"
            ],
            [
             0.6,
             "#e6f5d0"
            ],
            [
             0.7,
             "#b8e186"
            ],
            [
             0.8,
             "#7fbc41"
            ],
            [
             0.9,
             "#4d9221"
            ],
            [
             1,
             "#276419"
            ]
           ],
           "sequential": [
            [
             0,
             "#0d0887"
            ],
            [
             0.1111111111111111,
             "#46039f"
            ],
            [
             0.2222222222222222,
             "#7201a8"
            ],
            [
             0.3333333333333333,
             "#9c179e"
            ],
            [
             0.4444444444444444,
             "#bd3786"
            ],
            [
             0.5555555555555556,
             "#d8576b"
            ],
            [
             0.6666666666666666,
             "#ed7953"
            ],
            [
             0.7777777777777778,
             "#fb9f3a"
            ],
            [
             0.8888888888888888,
             "#fdca26"
            ],
            [
             1,
             "#f0f921"
            ]
           ],
           "sequentialminus": [
            [
             0,
             "#0d0887"
            ],
            [
             0.1111111111111111,
             "#46039f"
            ],
            [
             0.2222222222222222,
             "#7201a8"
            ],
            [
             0.3333333333333333,
             "#9c179e"
            ],
            [
             0.4444444444444444,
             "#bd3786"
            ],
            [
             0.5555555555555556,
             "#d8576b"
            ],
            [
             0.6666666666666666,
             "#ed7953"
            ],
            [
             0.7777777777777778,
             "#fb9f3a"
            ],
            [
             0.8888888888888888,
             "#fdca26"
            ],
            [
             1,
             "#f0f921"
            ]
           ]
          },
          "colorway": [
           "#636efa",
           "#EF553B",
           "#00cc96",
           "#ab63fa",
           "#FFA15A",
           "#19d3f3",
           "#FF6692",
           "#B6E880",
           "#FF97FF",
           "#FECB52"
          ],
          "font": {
           "color": "#2a3f5f"
          },
          "geo": {
           "bgcolor": "white",
           "lakecolor": "white",
           "landcolor": "#E5ECF6",
           "showlakes": true,
           "showland": true,
           "subunitcolor": "white"
          },
          "hoverlabel": {
           "align": "left"
          },
          "hovermode": "closest",
          "mapbox": {
           "style": "light"
          },
          "paper_bgcolor": "white",
          "plot_bgcolor": "#E5ECF6",
          "polar": {
           "angularaxis": {
            "gridcolor": "white",
            "linecolor": "white",
            "ticks": ""
           },
           "bgcolor": "#E5ECF6",
           "radialaxis": {
            "gridcolor": "white",
            "linecolor": "white",
            "ticks": ""
           }
          },
          "scene": {
           "xaxis": {
            "backgroundcolor": "#E5ECF6",
            "gridcolor": "white",
            "gridwidth": 2,
            "linecolor": "white",
            "showbackground": true,
            "ticks": "",
            "zerolinecolor": "white"
           },
           "yaxis": {
            "backgroundcolor": "#E5ECF6",
            "gridcolor": "white",
            "gridwidth": 2,
            "linecolor": "white",
            "showbackground": true,
            "ticks": "",
            "zerolinecolor": "white"
           },
           "zaxis": {
            "backgroundcolor": "#E5ECF6",
            "gridcolor": "white",
            "gridwidth": 2,
            "linecolor": "white",
            "showbackground": true,
            "ticks": "",
            "zerolinecolor": "white"
           }
          },
          "shapedefaults": {
           "line": {
            "color": "#2a3f5f"
           }
          },
          "ternary": {
           "aaxis": {
            "gridcolor": "white",
            "linecolor": "white",
            "ticks": ""
           },
           "baxis": {
            "gridcolor": "white",
            "linecolor": "white",
            "ticks": ""
           },
           "bgcolor": "#E5ECF6",
           "caxis": {
            "gridcolor": "white",
            "linecolor": "white",
            "ticks": ""
           }
          },
          "title": {
           "x": 0.05
          },
          "xaxis": {
           "automargin": true,
           "gridcolor": "white",
           "linecolor": "white",
           "ticks": "",
           "title": {
            "standoff": 15
           },
           "zerolinecolor": "white",
           "zerolinewidth": 2
          },
          "yaxis": {
           "automargin": true,
           "gridcolor": "white",
           "linecolor": "white",
           "ticks": "",
           "title": {
            "standoff": 15
           },
           "zerolinecolor": "white",
           "zerolinewidth": 2
          }
         }
        },
        "title": {
         "text": "Scatter Plot of Age vs Maximum Heart Rate Achieved"
        },
        "xaxis": {
         "anchor": "y",
         "domain": [
          0,
          1
         ],
         "title": {
          "text": "Age"
         }
        },
        "yaxis": {
         "anchor": "x",
         "domain": [
          0,
          1
         ],
         "title": {
          "text": "Max Heart Rate"
         }
        }
       }
      }
     },
     "metadata": {},
     "output_type": "display_data"
    }
   ],
   "source": [
    "fig_scatter = px.scatter(df_clean, x=\"age\", y=\"thalach\", color=\"num\", trendline=\"ols\", \n",
    "                         color_continuous_scale=\"turbo\", \n",
    "                         labels={\"age\":\"Age\", \"thalach\":\"Max Heart Rate\", \"num\":\"Disease Stage\"}, \n",
    "                         title=\"Scatter Plot of Age vs Maximum Heart Rate Achieved\")\n",
    "fig_scatter.show()"
   ]
  },
  {
   "cell_type": "code",
   "execution_count": 38,
   "id": "2f808ce7",
   "metadata": {},
   "outputs": [
    {
     "data": {
      "application/vnd.plotly.v1+json": {
       "config": {
        "plotlyServerURL": "https://plot.ly"
       },
       "data": [
        {
         "alignmentgroup": "True",
         "box": {
          "visible": true
         },
         "hovertemplate": "Heart Disease Stage=%{x}<br>Oldpeak=%{y}<extra></extra>",
         "legendgroup": "",
         "marker": {
          "color": "#636efa"
         },
         "name": "",
         "offsetgroup": "",
         "orientation": "v",
         "points": "all",
         "scalegroup": "True",
         "showlegend": false,
         "type": "violin",
         "x": {
          "bdata": "AgEAAAADAAIBAAACAAAAAQAAAAAAAQMEAAAAAAMAAgEAAAADAQMABAAAAAEEAAQAAAAAAgABAQEBAAACAAEAAgIBAAIBAAMBAQEAAQAAAwAAAAMAAAAAAAAAAwAAAAECAwAAAAAAAAMAAgECAwEBAAICAAAAAwIDBAADAQADAwAAAAAAAAAABAMBAAABAAEAAQQAAAAAAAAEAwEBAQIAAAQAAAAAAAABAAMAAQAEAQABAAADAgAAAQAAAgECAAMBAgADAAAAAQAAAAAAAwMDAAEABAADAQAAAAAAAAAAAwEAAAADAgACAQAAAwIBAAAAAAACAAICAQMAAAEAAAAAAAAAAQADAAAEAgICAQABAAIAAQAAAAEAAgADAAIEAgAAAAEAAgIBAAMBAQIDAQAAAgEAAAMAAwEAAQEBAQAEAQAAAgEDAAICAgEBAwMDAwMCAwIAAQADAQMABAIBAAIAAQACAAECAgMAAQACAQQCAgMBAQEAAgADAwECAwIBAAICAgQCAwABAQMAAwEAAwABAQABAwEBAAMBAQAAAwADAQEDAgIDAQIDAQABBAECAAABAwEAAwADAwACAAQCBAAAAAEDAwADAQECAgICAgEEAwMDAQMCAAIBAQADAQAABAIDAQEAAQEAAQMCAAAEAwECAQACAAEBAAMAAAAAAQAAAwADAAABAAEBAAAAAwAAAAAAAAMAAQMAAAEAAAAABAAAAwAAAAABAgQAAAAAAQEAAwAAAAEAAAAAAwABAAIAAgACAAABAAABAAIDAwACAAAAAAIAAgAAAAAEAAIBAQAAAAAAAAIAAAABAQEAAQMAAAQAAAAAAAAAAQMDAAEAAAIBBAQEAAMAAAAAAgAAAAAABAIAAwADBAAAAAMEAAAAAAAAAAQEAwAAAAEAAwAAAgABAAMAAAAAAAAAAAIAAAAAAAAAAAEAAQEBAAABAAIAAAACAQAAAAEAAQAAAAAAAAAABAMCAgACAwABAAICAgMEAQAAAwAAAAAAAAACAwEAAwACAAAAAQAAAAMCAAAABAAAAAAAAAAAAAAAAQMBAgEAAQIBAgIBAgMEAgABAQEDAgECAQMDAQIEAwIBAgICAgICAwABAQEEAgACAwEAAQQCAAICAQICAwEBAwIDAgEBBAEBAwIBAQEDAQMDAQMBAQMDAwECAgIBAQMCAQMBAgMDAQMBAQEDAAMBAwIDAQEDAQMAAQE=",
          "dtype": "i1"
         },
         "x0": " ",
         "xaxis": "x",
         "y": {
          "bdata": "AAAAAAAA+D/NzMzMzMwEQP///////wtAZmZmZmZm9j+amZmZmZnpP87MzMzMzAxAMzMzMzMz4z9mZmZmZmb2P83MzMzMzAhAmpmZmZmZ2T/NzMzMzMz0PzMzMzMzM+M/AAAAAAAAAAAAAAAAAADgP5qZmZmZmfk/AAAAAAAA8D8zMzMzMzPzP5iZmZmZmck/MzMzMzMz4z/NzMzMzMz8PwAAAAAAAPA/zczMzMzM/D+amZmZmZkJQDQzMzMzMwNAmpmZmZmZ+T8AAAAAAAAAAM3MzMzMzARAAAAAAAAA+D8AAAAAAAAAQM3MzMzMzPw/ZmZmZmZm9j8AAAAAAAAAAAAAAAAAAOA/mpmZmZmZ2T8AAAAAAAAAAAAAAAAAAARAMzMzMzMz4z8zMzMzMzPzPwAAAAAAAPA/AAAAAAAA8D9mZmZmZmb2P5qZmZmZmdk/mpmZmZmZ+T8AAAAAAAAAAAAAAAAAAARAMzMzMzMz4z/NzMzMzMwEQJqZmZmZmek/MzMzMzMz8z8AAAAAAAAAAJqZmZmZmdk/AAAAAAAAAAAAAAAAAAAAAGZmZmZmZvY/mpmZmZmZAUAzMzMzMzPjPwAAAAAAAAAAAAAAAAAA4D9mZmZmZmb2PzMzMzMzM/M/ZmZmZmZm9j+amZmZmZkBQAAAAAAAAAAAZmZmZmZm9j9mZmZmZmYGQAAAAAAAAAhAmpmZmZmZ+T8zMzMzMzMLQM7MzMzMzAxAmpmZmZmZ6T+YmZmZmZnJP83MzMzMzPw/MzMzMzMz4z8AAAAAAAAAAJqZmZmZmek/ZmZmZmZmBkAAAAAAAAD4P5iZmZmZmck/mpmZmZmZ6T8AAAAAAAAIQJqZmZmZmdk/AAAAAAAAAACamZmZmZn5P5iZmZmZmck/AAAAAAAAAAAAAAAAAAAAAAAAAAAAAAAAAAAAAAAAAAAAAAAAAADgP5qZmZmZmdk/zszMzMzMGEDNzMzMzMz8PzMzMzMzM+M/AAAAAAAAAAAAAAAAAAAAADMzMzMzM/M/zczMzMzMBECamZmZmZnpPwAAAAAAAAAAAAAAAAAAAAAAAAAAAAAAAAAAAAAAAAAAAAAAAAAAAAAAAAAAAAAAQAAAAAAAAAAAAAAAAAAAAACamZmZmZnZP87MzMzMzAxAMzMzMzMz8z8AAAAAAADwPzMzMzMzM/M/AAAAAAAAAAAAAAAAAAAIQDMzMzMzM/M/AAAAAAAAAAAAAAAAAAAAAGZmZmZmZvY/zczMzMzM/D9mZmZmZmYGQAAAAAAAAAAAAAAAAAAAEEAzMzMzMzPzP2ZmZmZmZhZAZmZmZmZm9j8zMzMzMzPjPwAAAAAAABBAZmZmZmZmBkAAAAAAAAAAAAAAAAAAAAAAmpmZmZmZ2T8AAAAAAAAAAAAAAAAAAAAAAAAAAAAAAACYmZmZmZnJP2ZmZmZmZvY/zczMzMzMBEBmZmZmZmb2P5qZmZmZmfk/NDMzMzMzA0AAAAAAAAAAAJiZmZmZmck/AAAAAAAAAADNzMzMzMz8PzMzMzMzM+M/AAAAAAAAAAAAAAAAAADwPwAAAAAAAAAAAAAAAAAAAAAAAAAAAAAAADMzMzMzM/M/MzMzMzMz4z+amZmZmZn5P5qZmZmZmek/mpmZmZmZAUA0MzMzMzMDQJqZmZmZmfk/AAAAAAAAAAAzMzMzMzPzPwAAAAAAAPA/AAAAAAAAAAAAAAAAAAAAAJqZmZmZmfk/AAAAAAAA8D8AAAAAAAAAAAAAAAAAAAAAAAAAAAAAAAAAAAAAAAAAAAAAAAAAAAAAAAAAAAAAAAAzMzMzMzMHQAAAAAAAAAAAAAAAAAAAAAAzMzMzMzPzPwAAAAAAAABAMzMzMzMz8z+YmZmZmZm5P83MzMzMzABAZmZmZmZm/j8AAAAAAAAAAAAAAAAAAOA/ZmZmZmZm/j+amZmZmZnpP83MzMzMzBBAAAAAAAAAAAAAAAAAAAAAAJqZmZmZmek/AAAAAAAAAAAAAAAAAAAAAAAAAAAAAABAAAAAAAAAAADNzMzMzMwQQJiZmZmZmbk/ZmZmZmZm/j8AAAAAAAD4P83MzMzMzOw/mJmZmZmZuT+YmZmZmZnJP5qZmZmZmfE/AAAAAAAAAAAAAAAAAAAAAAAAAAAAAAAAmJmZmZmZyT+YmZmZmZnJPwAAAAAAAAAAAAAAAAAAAAAAAAAAAAAIQM3MzMzMzOw/AAAAAAAAAABmZmZmZmb2PwAAAAAAAAAAZmZmZmZmDkAAAAAAAAAAQAAAAAAAAPA/AAAAAAAAAABmZmZmZmb+PwAAAAAAAAAAAAAAAAAAAAAAAAAAAAAAQAAAAAAAAAAAAAAAAAAAAAAAAAAAAAAAAAAAAAAAAAAAAAAAAAAAAEDNzMzMzMz8P2ZmZmZmZuY/mJmZmZmZuT8AAAAAAAAAAAAAAAAAAAAAmJmZmZmZuT+YmZmZmZm5PzMzMzMzMwtAmpmZmZmZ6T+YmZmZmZnJPwAAAAAAAAAAmpmZmZmZCUCamZmZmZn5P5qZmZmZmek/AAAAAAAAAAAAAAAAAAAAAAAAAAAAAAAAAAAAAAAAAAAAAAAAAAAAAM3MzMzMzARAAAAAAAAAAAAAAAAAAADwP5iZmZmZmbk/AAAAAAAA8D8AAAAAAADwPwAAAAAAAAAAAAAAAAAA+D8AAAAAAAAAQJiZmZmZmck/MzMzMzMz4z8zMzMzMzPzPwAAAAAAAAAANDMzMzMz0z+amZmZmZnxPwAAAAAAAAAANDMzMzMz0z80MzMzMzPTPwAAAAAAAAAAzczMzMzM7D8AAAAAAAAAAM7MzMzMzAxAzczMzMzM/D8AAAAAAADwP5qZmZmZmQFAAAAAAAAAAAAAAAAAAAAAAGZmZmZmZv4/ZmZmZmZmAkDNzMzMzMz8P5qZmZmZmfk/mpmZmZmZ6T8zMzMzMzPjPwAAAAAAAAAAAAAAAAAAAAAAAAAAAAAAADMzMzMzM+M/AAAAAAAACEAAAAAAAAAAAAAAAAAAAABAAAAAAAAAAAAAAAAAAAAAAJqZmZmZmRFAZmZmZmZmBkCamZmZmZnZPwAAAAAAAAAAAAAAAAAAAACamZmZmZnpPzMzMzMzM/M/ZmZmZmZmBkAAAAAAAAAQQAAAAAAAAAAAAAAAAAAAAAAAAAAAAADwP5iZmZmZmck/MzMzMzMz8z8zMzMzMzMLQDMzMzMzM/M/AAAAAAAAAAAAAAAAAAAAAAAAAAAAAAAAAAAAAAAA+D8AAAAAAAAEQM3MzMzMzPQ/AAAAAAAA4L8AAAAAAAAAAAAAAAAAAPg/AAAAAAAAAEAAAAAAAADgPwAAAAAAAAAAAAAAAAAA8D8AAAAAAADgP1KWAUvEMuo/AAAAAAAA8D8AAAAAAAAAAAAAAAAAAARAAAAAAAAAAEAAAAAAAAD4PwAAAAAAAAAAAAAAAAAA8D8AAAAAAAAAQAAAAAAAAAAAYvE8yqN74z8AAAAAAAAIQAAAAAAAAPA/S3HcJ2N97z8AAAAAAADgPwAAAAAAAPg/lqVgnrMe9z/ofMCYyuT3PwAAAAAAAABAAAAAAAAA8D8AAAAAAAD4PwAAAAAAAABAAAAAAAAA8D/Hal9g3TL0PwAAAAAAAABANPjc/J7s5z8AAAAAAAD4PwAAAAAAAAAAAAAAAAAAAAAAAAAAAAD4PwAAAAAAAAAAd4UwB8C9/T8AAAAAAAAAAM3MzMzMzPQ/AAAAAAAAAAAAAAAAAAAAQAAAAAAAAAAAAAAAAAAABEC85tSZJM3SP5qZmZmZmfk/AAAAAAAAAEAAAAAAAAAAAAAAAAAAAAhAAAAAAAAA+D9Hnu9+rCz3P/IBE7XbJNQ/AAAAAAAAAAAEM564e23SPwAAAAAAAABAAAAAAAAAAEAAAAAAAAAEQAAAAAAAAABAAAAAAAAABEAAAAAAAAAEQAAAAAAAAPg/6TORTLqg7T8WZlJ7as3kPwhCSbON28M/AAAAAAAAAEBwLBnssl7TPwAAAAAAAAhAAAAAAAAA8D8AAAAAAAAAAAAAAAAAAAhAtpvFRnUi9j8AAAAAAAAEQAAAAAAAAPA/AAAAAAAA8D8AAAAAAAAIQAAAAAAAAAAAAAAAAAAA8D8AAAAAAAAQQAAAAAAAAABAAAAAAAAAAEDirFWzu8vRPwAAAAAAAAhA7tJQU2nM4z8AAAAAAAAIQAAAAAAAAAAAAAAAAAAA+D8AAAAAAAAAAPj9EIgjD+A/AAAAAAAAAEAAAMBiwUkUP5pFkkQOaPA/AAAAAAAA4D8AAAAAAAAIQAAAAAAAAAAAAAAAAAAA+D8AAAAAAADwPwAAAAAAAPA/AAAAAAAA4D8AAAAAAAAQQAAAAAAAAPA/AAAAAAAA8D8AAAAAAAAAANA/Df9i/8Q/TZBwSbmp+z8C246XvJrVP08VPjOJK/U/YgNLC4Eg8T9UUlbXGrHmP1vfPDP7v/k/AAAAAAAAAAAAAAAAAAAAQAAAAAAAAARAfGfgdtKY6T/I+4DIeBnxPwAAAAAAABBAAAAAAAAAAEAAAAAAAAAAANAR2bnAOOo/////////C0AAAAAAAAD4PwAAAAAAAAhAAAAAAAAAAAAguDQL993UPwAAAAAAAAAAAAAAAAAA+D8AAAAAAAD4P7zPsfaMx9A/AAAAAAAAAEAAAAAAAAAAACoA169jJPs/BlJZYzNg9z/AwjaYf2LUPwAAAAAAAAAAAAAAAAAAAEC36vcn4Mf7P4GElkvpBPI/AAAAAAAAEEAYf+GXG2fUPwBBB/kuFcw/AAAAAAAAAEAdOc7sKLTmPwAAAAAAAABAHud3g/1i+j8AAAAAAAD4PwAAAAAAAAAAAAAAAAAA+D8AAAAAAAAEQAAAAAAAAABAOvfR+zKr9D8AAAAAAADgPwAAAAAAAPg/G5diNDv09D9mwfR3qDjnPwAAAAAAAAhAvN65lO31+z8AAAAAAAAIQBlgq2eSB/s/FJUjtMsk6j8AAAAAAAD4PwAAAAAAAAAAqjIvfYrD4j9CTKioTrbzP5qZmZmZmek/AAAAAAAAAEAAAAAAAADwPwAAAAAAAABAAAAAAAAAAABQUkZ4LWDXPwAAAAAAAAAAAAAAAAAAAEAAAAAAAAAAAAAAAAAAAPA/AAAAAAAA4D8AAAAAAAAAAMSwi8WZxtQ/MzMzMzMz+z8AAAAAAAD4PwAAAAAAAPA/EntNQLix6T8AAAAAAAAAAAAAAAAAAPg/AAAAAAAAAAAAAAAAAADwPwAAAAAAAAhAAAAAAAAA+D8AAAAAAAAAAAAAAAAAAAAAAAAAAAAAAAA4Eaxq99TPPwAAAAAAAAAAu6rlTPdJ2z8AAAAAAAAAAAAAAAAAAPA/AAAAAAAAAAAAAAAAAAD4PwAAAAAAAAAAAAAAAAAAAAAAAAAAAAAAAAAAAAAAAAAAAAAAAAAA+D8AAAAAAAAAAAAAAAAAAAAAAAAAAAAAAEAAAAAAAAAAAAAAAAAAAPA/AAAAAAAAAAAAAAAAAAD4PwAAAAAAAAAAAAAAAAAAAAAAAAAAAADwPwAAAAAAAAhAAAAAAAAAAAAAAAAAAADwPwAAAAAAAAAAAAAAAAAACEAAAAAAAAAAAAAAAAAAAAAAAAAAAAAACEAAAAAAAAAAAAAAAAAAAAAAAAAAAAAAAAAAAAAAAAAAAAAAAAAAAAAAAAAAAAAAAEAAAAAAAAAAQAAAAAAAAAAAAAAAAAAAAAAAAAAAAAD4PwAAAAAAAAAAAAAAAAAAAAAAAAAAAADwPwAAAAAAAAAAAAAAAAAAAAAAAAAAAAAAAAAAAAAAAAAAAAAAAAAA8D8AAAAAAADwPwAAAAAAAAAAAAAAAAAAAAAAAAAAAADwPwAAAAAAAAAAAAAAAAAAAEAAAAAAAAAAQAAAAAAAAAAAAAAAAAAAAAAAAAAAAAD4PwAAAAAAAAAAAAAAAAAA+D8AAAAAAAAAAAAAAAAAAPA/AAAAAAAA8D8AAAAAAAAAAAAAAAAAAAAAAAAAAAAAAAAAAAAAAADwPwAAAAAAAAAAAAAAAAAAAAAAAAAAAAAAAAAAAAAAAAAAAAAAAAAAEEAAAAAAAAAAAAAAAAAAAPA/AAAAAAAAAAAAAAAAAAAAAAAAAAAAAAAAAAAAAAAA+D8AAAAAAAAAAAAAAAAAAAAAAAAAAAAAAAAAAAAAAAAAAAAAAAAAAAAAAAAAAAAAAAAAAAAAAAAAAAAAAAAAAAAAAAAAAAAAAAAAAAAAAADwPwAAAAAAAPA/AAAAAAAAAEAAAAAAAAAAQAAAAAAAAAAAAAAAAAAA4D8AAAAAAAAAAAAAAAAAAAAAAAAAAAAAAAAAAAAAAAD4PwAAAAAAAAAAAAAAAAAAAEAAAAAAAAAAAAAAAAAAAAAAAAAAAAAAAAAAAAAAAAAAAAAAAAAAAPA/AAAAAAAAAAAAAAAAAAAAQAAAAAAAAPA/AAAAAAAAAAAAAAAAAAAAAAAAAAAAAAAAAAAAAAAAAAAAAAAAAAAAAAAAAAAAAAAAAAAAAAAA8D8AAAAAAAAIQAAAAAAAAAAAAAAAAAAAAAAAAAAAAAAAAAAAAAAAAPA/AAAAAAAAAAAAAAAAAAD4PwAAAAAAAAAAAAAAAAAAAAAAAAAAAAAAAAAAAAAAAAAAAAAAAAAAAAAAAAAAAADwPwAAAAAAAAAAAAAAAAAAAAAAAAAAAAAAAAAAAAAAAABAAAAAAAAAAAAAAAAAAAD4PwAAAAAAAAAAAAAAAAAAAAAAAAAAAAAAQAAAAAAAAPg/AAAAAAAA8D8AAAAAAAAAAAAAAAAAAAAAAAAAAAAAAEAAAAAAAAAAAAAAAAAAAABAAAAAAAAABEAAAAAAAAAEQAAAAAAAAAhAAAAAAAAAAAAAAAAAAADwPwAAAAAAAAAAAAAAAAAAAAAAAAAAAAAAAAAAAAAAAAAAAAAAAAAA8D8AAAAAAAAAAAAAAAAAAAAAAAAAAAAAAAAAAAAAAAAAAAAAAAAAAAAAAAAAAAAACEAAAAAAAADwPwAAAAAAAAAAAAAAAAAAAEAAAAAAAADwPwAAAAAAAAAAAAAAAAAAAAAAAAAAAAAAAAAAAAAAAAAAAAAAAAAAAAAAAAAAAAAAQAAAAAAAABRAAAAAAAAAAAAAAAAAAAAAAAAAAAAAAAAAAAAAAAAAAAAAAAAAAAAAAAAAAAAAAAAAAAAAAAAAAAAAAAAAAAAAQAAAAAAAAABAAAAAAAAA+D8AAAAAAAAAAAAAAAAAAAAAAAAAAAAAAAAAAAAAAAAAQAAAAAAAAAAAAAAAAAAAAEAAAAAAAADwPwAAAAAAAAAAAAAAAAAAAAAAAAAAAAAAAAAAAAAAAPA/AAAAAAAA8D8AAAAAAAD4PwAAAAAAAAAAAAAAAAAAAAAAAAAAAAAAAAAAAAAAAAAAAAAAAAAAAAAAAAAAAAAAAAAAAAAAAPA/AAAAAAAAAAAAAAAAAAAAAAAAAAAAAPA/AAAAAAAAAAAAAAAAAAAAAAAAAAAAAAAAAAAAAAAAAAAAAAAAAAAAAAAAAAAAAAAAAAAAAAAAAAAAAAAAAAAAAAAAAAAAAAAAAAAAAAAAAAAAAAAAAAAAAAAAAAAAAAAAAAAAAAAA8D8AAAAAAAAAAAAAAAAAAPg/AAAAAAAAAAAAAAAAAAAAAAAAAAAAAAAAAAAAAAAAAAAAAAAAAAAAAAAAAAAAAAAAAAAAAAAA8D8AAAAAAAAAAAAAAAAAAAAAAAAAAAAAAAAAAAAAAAAAAAAAAAAAAAAAAAAAAAAABEAAAAAAAAAAAAAAAAAAAAAAAAAAAAAAAAAAAAAAAAAAAAAAAAAAAAAAAAAAAAAAAAAAAAAAAAAAAAAAAAAAAPA/AAAAAAAACEAAAAAAAAAAAAAAAAAAAABAAAAAAAAACEAAAAAAAAAAAAAAAAAAAABAAAAAAAAAAEAAAAAAAAAAAAAAAAAAAPA/AAAAAAAAAEAAAAAAAAD4PwAAAAAAAABAAAAAAAAA8D8AAAAAAADwPwAAAAAAAAAAAAAAAAAAAEAAAAAAAAAAAAAAAAAAAPA/AAAAAAAAAEAAAAAAAAAAAAAAAAAAAAAAAAAAAAAAAAAAAAAAAADgPwAAAAAAAAAAAAAAAAAAAAAAAAAAAADwPwAAAAAAAAAAAAAAAAAAAAAAAAAAAADwPwAAAAAAAAAAAAAAAAAA8D8AAAAAAAAAAAAAAAAAAPA/AAAAAAAAAEAAAAAAAAAAAAAAAAAAAAAAAAAAAAAACEAAAAAAAAAAAAAAAAAAAAAAAAAAAAAAAAAAAAAAAAAAQAAAAAAAAPg/mpmZmZmZ6T8AAAAAAAAAAAAAAAAAAAAAAAAAAAAAAEAAAAAAAAAAQAAAAAAAAAAAAAAAAAAAAAAAAAAAAAAAAAAAAAAAAAAAAAAAAAAAAAAAAAAAAAAAQAAAAAAAAAAAAAAAAAAAAAAAAAAAAADwPwAAAAAAAAAAmJmZmZmZyT/iAiiAbOLzPwAAAAAAAPA/ZmZmZmZmBkAAAAAAAAAAAJqZmZmZmfG/AAAAAAAAAAAAAAAAAAAAAGhluZLHlNQ/AAAAAAAAAACamZmZmZn5PwAAAAAAAPi/AAAAAAAAAAAAAAAAAAD4PwAAAAAAAABAAAAAAAAA4D+YmZmZmZm5v8/MzMzMzATAAAAAAAAA+D8AAAAAAAAAAAAAAAAAAPA/zczMzMzMAEAAAAAAAAAAAAAAAAAAAAAAAAAAAAAAAAAAAAAAAADgPwAAAAAAAAAAZmZmZmZm5j8AAAAAAAD4PwAAAAAAAAAAAAAAAAAAAABmZmZmZmbmvwAAAAAAAAAAAAAAAAAAAACamZmZmZkBQAAAAAAAAAAAAAAAAAAAAEAAAAAAAADwP/w6V7sz3ew/AAAAAAAAAABmZmZmZmbmPwAAAAAAAAAAAAAAAAAAAAAAAAAAAAAAAAAAAAAAAPg/AAAAAAAA8D8AAAAAAAAAQAAAAAAAAAAAAAAAAAAACEAAAAAAAAD4P5iZmZmZmck/mJmZmZmZuT80MzMzMzPTPwAAAAAAAAAAAAAAAAAAAAAAAAAAAAAAwAAAAAAAAAAAAAAAAAAA8L8AAAAAAADwvwAAAAAAAAAAAAAAAAAA8D/NzMzMzMz8PzQzMzMzM9M/ZmZmZmZm9j8AAAAAAAAAQAAAAAAAAAAAAAAAAAAAAEBmZmZmZmbmPwAAAAAAAOA/AAAAAAAA8D8AAAAAAAAAAM3MzMzMzARAAAAAAAAAAAAAAAAAAAAAAM3MzMzMzOw/AAAAAAAA8D80MzMzMzMDQJiZmZmZmbk/mpmZmZmZ8T8AAAAAAADgPwAAAAAAAOA/mpmZmZmZ2T8AAAAAAAAAAAAAAAAAAPg/ZmZmZmZm9j8AAAAAAAAAAAAAAAAAAAAAAAAAAAAABEAAAAAAAAAAAAAAAAAAAABAAAAAAAAA8D8AAAAAAAAAADMzMzMzM/s/mpmZmZmZ6b8AAAAAAAAAAAAAAAAAAARAAAAAAAAA4L8AAAAAAAAAQMzMzMzMzOy/AAAAAAAAAEAAAAAAAAAAQJqZmZmZmQ1AAAAAAAAAAAAAAAAAAADwP5qZmZmZmfE/zczMzMzM9D8AAAAAAAAAANSaSFeKmO4/AAAAAAAA8D9IWrHSQkrzPwAAAAAAAAAAAAAAAAAAAEAAAAAAAAAAAAAAAAAAAAAAzczMzMzM/D8AAAAAAAAAAHUm7udRuPk/AAAAAAAAAAAAAAAAAAAAQJqZmZmZmfk/AAAAAAAAAADNzMzMzMz0Pw==",
          "dtype": "f8"
         },
         "y0": " ",
         "yaxis": "y"
        }
       ],
       "layout": {
        "legend": {
         "tracegroupgap": 0
        },
        "template": {
         "data": {
          "bar": [
           {
            "error_x": {
             "color": "#2a3f5f"
            },
            "error_y": {
             "color": "#2a3f5f"
            },
            "marker": {
             "line": {
              "color": "#E5ECF6",
              "width": 0.5
             },
             "pattern": {
              "fillmode": "overlay",
              "size": 10,
              "solidity": 0.2
             }
            },
            "type": "bar"
           }
          ],
          "barpolar": [
           {
            "marker": {
             "line": {
              "color": "#E5ECF6",
              "width": 0.5
             },
             "pattern": {
              "fillmode": "overlay",
              "size": 10,
              "solidity": 0.2
             }
            },
            "type": "barpolar"
           }
          ],
          "carpet": [
           {
            "aaxis": {
             "endlinecolor": "#2a3f5f",
             "gridcolor": "white",
             "linecolor": "white",
             "minorgridcolor": "white",
             "startlinecolor": "#2a3f5f"
            },
            "baxis": {
             "endlinecolor": "#2a3f5f",
             "gridcolor": "white",
             "linecolor": "white",
             "minorgridcolor": "white",
             "startlinecolor": "#2a3f5f"
            },
            "type": "carpet"
           }
          ],
          "choropleth": [
           {
            "colorbar": {
             "outlinewidth": 0,
             "ticks": ""
            },
            "type": "choropleth"
           }
          ],
          "contour": [
           {
            "colorbar": {
             "outlinewidth": 0,
             "ticks": ""
            },
            "colorscale": [
             [
              0,
              "#0d0887"
             ],
             [
              0.1111111111111111,
              "#46039f"
             ],
             [
              0.2222222222222222,
              "#7201a8"
             ],
             [
              0.3333333333333333,
              "#9c179e"
             ],
             [
              0.4444444444444444,
              "#bd3786"
             ],
             [
              0.5555555555555556,
              "#d8576b"
             ],
             [
              0.6666666666666666,
              "#ed7953"
             ],
             [
              0.7777777777777778,
              "#fb9f3a"
             ],
             [
              0.8888888888888888,
              "#fdca26"
             ],
             [
              1,
              "#f0f921"
             ]
            ],
            "type": "contour"
           }
          ],
          "contourcarpet": [
           {
            "colorbar": {
             "outlinewidth": 0,
             "ticks": ""
            },
            "type": "contourcarpet"
           }
          ],
          "heatmap": [
           {
            "colorbar": {
             "outlinewidth": 0,
             "ticks": ""
            },
            "colorscale": [
             [
              0,
              "#0d0887"
             ],
             [
              0.1111111111111111,
              "#46039f"
             ],
             [
              0.2222222222222222,
              "#7201a8"
             ],
             [
              0.3333333333333333,
              "#9c179e"
             ],
             [
              0.4444444444444444,
              "#bd3786"
             ],
             [
              0.5555555555555556,
              "#d8576b"
             ],
             [
              0.6666666666666666,
              "#ed7953"
             ],
             [
              0.7777777777777778,
              "#fb9f3a"
             ],
             [
              0.8888888888888888,
              "#fdca26"
             ],
             [
              1,
              "#f0f921"
             ]
            ],
            "type": "heatmap"
           }
          ],
          "histogram": [
           {
            "marker": {
             "pattern": {
              "fillmode": "overlay",
              "size": 10,
              "solidity": 0.2
             }
            },
            "type": "histogram"
           }
          ],
          "histogram2d": [
           {
            "colorbar": {
             "outlinewidth": 0,
             "ticks": ""
            },
            "colorscale": [
             [
              0,
              "#0d0887"
             ],
             [
              0.1111111111111111,
              "#46039f"
             ],
             [
              0.2222222222222222,
              "#7201a8"
             ],
             [
              0.3333333333333333,
              "#9c179e"
             ],
             [
              0.4444444444444444,
              "#bd3786"
             ],
             [
              0.5555555555555556,
              "#d8576b"
             ],
             [
              0.6666666666666666,
              "#ed7953"
             ],
             [
              0.7777777777777778,
              "#fb9f3a"
             ],
             [
              0.8888888888888888,
              "#fdca26"
             ],
             [
              1,
              "#f0f921"
             ]
            ],
            "type": "histogram2d"
           }
          ],
          "histogram2dcontour": [
           {
            "colorbar": {
             "outlinewidth": 0,
             "ticks": ""
            },
            "colorscale": [
             [
              0,
              "#0d0887"
             ],
             [
              0.1111111111111111,
              "#46039f"
             ],
             [
              0.2222222222222222,
              "#7201a8"
             ],
             [
              0.3333333333333333,
              "#9c179e"
             ],
             [
              0.4444444444444444,
              "#bd3786"
             ],
             [
              0.5555555555555556,
              "#d8576b"
             ],
             [
              0.6666666666666666,
              "#ed7953"
             ],
             [
              0.7777777777777778,
              "#fb9f3a"
             ],
             [
              0.8888888888888888,
              "#fdca26"
             ],
             [
              1,
              "#f0f921"
             ]
            ],
            "type": "histogram2dcontour"
           }
          ],
          "mesh3d": [
           {
            "colorbar": {
             "outlinewidth": 0,
             "ticks": ""
            },
            "type": "mesh3d"
           }
          ],
          "parcoords": [
           {
            "line": {
             "colorbar": {
              "outlinewidth": 0,
              "ticks": ""
             }
            },
            "type": "parcoords"
           }
          ],
          "pie": [
           {
            "automargin": true,
            "type": "pie"
           }
          ],
          "scatter": [
           {
            "fillpattern": {
             "fillmode": "overlay",
             "size": 10,
             "solidity": 0.2
            },
            "type": "scatter"
           }
          ],
          "scatter3d": [
           {
            "line": {
             "colorbar": {
              "outlinewidth": 0,
              "ticks": ""
             }
            },
            "marker": {
             "colorbar": {
              "outlinewidth": 0,
              "ticks": ""
             }
            },
            "type": "scatter3d"
           }
          ],
          "scattercarpet": [
           {
            "marker": {
             "colorbar": {
              "outlinewidth": 0,
              "ticks": ""
             }
            },
            "type": "scattercarpet"
           }
          ],
          "scattergeo": [
           {
            "marker": {
             "colorbar": {
              "outlinewidth": 0,
              "ticks": ""
             }
            },
            "type": "scattergeo"
           }
          ],
          "scattergl": [
           {
            "marker": {
             "colorbar": {
              "outlinewidth": 0,
              "ticks": ""
             }
            },
            "type": "scattergl"
           }
          ],
          "scattermap": [
           {
            "marker": {
             "colorbar": {
              "outlinewidth": 0,
              "ticks": ""
             }
            },
            "type": "scattermap"
           }
          ],
          "scattermapbox": [
           {
            "marker": {
             "colorbar": {
              "outlinewidth": 0,
              "ticks": ""
             }
            },
            "type": "scattermapbox"
           }
          ],
          "scatterpolar": [
           {
            "marker": {
             "colorbar": {
              "outlinewidth": 0,
              "ticks": ""
             }
            },
            "type": "scatterpolar"
           }
          ],
          "scatterpolargl": [
           {
            "marker": {
             "colorbar": {
              "outlinewidth": 0,
              "ticks": ""
             }
            },
            "type": "scatterpolargl"
           }
          ],
          "scatterternary": [
           {
            "marker": {
             "colorbar": {
              "outlinewidth": 0,
              "ticks": ""
             }
            },
            "type": "scatterternary"
           }
          ],
          "surface": [
           {
            "colorbar": {
             "outlinewidth": 0,
             "ticks": ""
            },
            "colorscale": [
             [
              0,
              "#0d0887"
             ],
             [
              0.1111111111111111,
              "#46039f"
             ],
             [
              0.2222222222222222,
              "#7201a8"
             ],
             [
              0.3333333333333333,
              "#9c179e"
             ],
             [
              0.4444444444444444,
              "#bd3786"
             ],
             [
              0.5555555555555556,
              "#d8576b"
             ],
             [
              0.6666666666666666,
              "#ed7953"
             ],
             [
              0.7777777777777778,
              "#fb9f3a"
             ],
             [
              0.8888888888888888,
              "#fdca26"
             ],
             [
              1,
              "#f0f921"
             ]
            ],
            "type": "surface"
           }
          ],
          "table": [
           {
            "cells": {
             "fill": {
              "color": "#EBF0F8"
             },
             "line": {
              "color": "white"
             }
            },
            "header": {
             "fill": {
              "color": "#C8D4E3"
             },
             "line": {
              "color": "white"
             }
            },
            "type": "table"
           }
          ]
         },
         "layout": {
          "annotationdefaults": {
           "arrowcolor": "#2a3f5f",
           "arrowhead": 0,
           "arrowwidth": 1
          },
          "autotypenumbers": "strict",
          "coloraxis": {
           "colorbar": {
            "outlinewidth": 0,
            "ticks": ""
           }
          },
          "colorscale": {
           "diverging": [
            [
             0,
             "#8e0152"
            ],
            [
             0.1,
             "#c51b7d"
            ],
            [
             0.2,
             "#de77ae"
            ],
            [
             0.3,
             "#f1b6da"
            ],
            [
             0.4,
             "#fde0ef"
            ],
            [
             0.5,
             "#f7f7f7"
            ],
            [
             0.6,
             "#e6f5d0"
            ],
            [
             0.7,
             "#b8e186"
            ],
            [
             0.8,
             "#7fbc41"
            ],
            [
             0.9,
             "#4d9221"
            ],
            [
             1,
             "#276419"
            ]
           ],
           "sequential": [
            [
             0,
             "#0d0887"
            ],
            [
             0.1111111111111111,
             "#46039f"
            ],
            [
             0.2222222222222222,
             "#7201a8"
            ],
            [
             0.3333333333333333,
             "#9c179e"
            ],
            [
             0.4444444444444444,
             "#bd3786"
            ],
            [
             0.5555555555555556,
             "#d8576b"
            ],
            [
             0.6666666666666666,
             "#ed7953"
            ],
            [
             0.7777777777777778,
             "#fb9f3a"
            ],
            [
             0.8888888888888888,
             "#fdca26"
            ],
            [
             1,
             "#f0f921"
            ]
           ],
           "sequentialminus": [
            [
             0,
             "#0d0887"
            ],
            [
             0.1111111111111111,
             "#46039f"
            ],
            [
             0.2222222222222222,
             "#7201a8"
            ],
            [
             0.3333333333333333,
             "#9c179e"
            ],
            [
             0.4444444444444444,
             "#bd3786"
            ],
            [
             0.5555555555555556,
             "#d8576b"
            ],
            [
             0.6666666666666666,
             "#ed7953"
            ],
            [
             0.7777777777777778,
             "#fb9f3a"
            ],
            [
             0.8888888888888888,
             "#fdca26"
            ],
            [
             1,
             "#f0f921"
            ]
           ]
          },
          "colorway": [
           "#636efa",
           "#EF553B",
           "#00cc96",
           "#ab63fa",
           "#FFA15A",
           "#19d3f3",
           "#FF6692",
           "#B6E880",
           "#FF97FF",
           "#FECB52"
          ],
          "font": {
           "color": "#2a3f5f"
          },
          "geo": {
           "bgcolor": "white",
           "lakecolor": "white",
           "landcolor": "#E5ECF6",
           "showlakes": true,
           "showland": true,
           "subunitcolor": "white"
          },
          "hoverlabel": {
           "align": "left"
          },
          "hovermode": "closest",
          "mapbox": {
           "style": "light"
          },
          "paper_bgcolor": "white",
          "plot_bgcolor": "#E5ECF6",
          "polar": {
           "angularaxis": {
            "gridcolor": "white",
            "linecolor": "white",
            "ticks": ""
           },
           "bgcolor": "#E5ECF6",
           "radialaxis": {
            "gridcolor": "white",
            "linecolor": "white",
            "ticks": ""
           }
          },
          "scene": {
           "xaxis": {
            "backgroundcolor": "#E5ECF6",
            "gridcolor": "white",
            "gridwidth": 2,
            "linecolor": "white",
            "showbackground": true,
            "ticks": "",
            "zerolinecolor": "white"
           },
           "yaxis": {
            "backgroundcolor": "#E5ECF6",
            "gridcolor": "white",
            "gridwidth": 2,
            "linecolor": "white",
            "showbackground": true,
            "ticks": "",
            "zerolinecolor": "white"
           },
           "zaxis": {
            "backgroundcolor": "#E5ECF6",
            "gridcolor": "white",
            "gridwidth": 2,
            "linecolor": "white",
            "showbackground": true,
            "ticks": "",
            "zerolinecolor": "white"
           }
          },
          "shapedefaults": {
           "line": {
            "color": "#2a3f5f"
           }
          },
          "ternary": {
           "aaxis": {
            "gridcolor": "white",
            "linecolor": "white",
            "ticks": ""
           },
           "baxis": {
            "gridcolor": "white",
            "linecolor": "white",
            "ticks": ""
           },
           "bgcolor": "#E5ECF6",
           "caxis": {
            "gridcolor": "white",
            "linecolor": "white",
            "ticks": ""
           }
          },
          "title": {
           "x": 0.05
          },
          "xaxis": {
           "automargin": true,
           "gridcolor": "white",
           "linecolor": "white",
           "ticks": "",
           "title": {
            "standoff": 15
           },
           "zerolinecolor": "white",
           "zerolinewidth": 2
          },
          "yaxis": {
           "automargin": true,
           "gridcolor": "white",
           "linecolor": "white",
           "ticks": "",
           "title": {
            "standoff": 15
           },
           "zerolinecolor": "white",
           "zerolinewidth": 2
          }
         }
        },
        "title": {
         "text": "Violin Plot of Heart Disease Stage vs Blood Flow to Heart During Physical Exertion (Oldpeak)"
        },
        "violinmode": "group",
        "xaxis": {
         "anchor": "y",
         "domain": [
          0,
          1
         ],
         "title": {
          "text": "Heart Disease Stage"
         }
        },
        "yaxis": {
         "anchor": "x",
         "domain": [
          0,
          1
         ],
         "title": {
          "text": "Oldpeak"
         }
        }
       }
      }
     },
     "metadata": {},
     "output_type": "display_data"
    }
   ],
   "source": [
    "fig_violin = px.violin(df_clean, x=\"num\", y=\"oldpeak\", box=True, points=\"all\", \n",
    "                       labels={\"num\":\"Heart Disease Stage\", \"oldpeak\":\"Oldpeak\"}, \n",
    "                       title=\"Violin Plot of Heart Disease Stage vs Blood Flow to Heart During Physical Exertion (Oldpeak)\")\n",
    "fig_violin.show()"
   ]
  }
 ],
 "metadata": {
  "kernelspec": {
   "display_name": "base",
   "language": "python",
   "name": "python3"
  },
  "language_info": {
   "codemirror_mode": {
    "name": "ipython",
    "version": 3
   },
   "file_extension": ".py",
   "mimetype": "text/x-python",
   "name": "python",
   "nbconvert_exporter": "python",
   "pygments_lexer": "ipython3",
   "version": "3.11.0"
  }
 },
 "nbformat": 4,
 "nbformat_minor": 5
}
